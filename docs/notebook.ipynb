{
 "cells": [
  {
   "cell_type": "code",
   "execution_count": 1,
   "id": "1f2d5742",
   "metadata": {
    "slideshow": {
     "slide_type": "-"
    }
   },
   "outputs": [
    {
     "name": "stderr",
     "output_type": "stream",
     "text": [
      "/Users/daniel/opt/anaconda3/lib/python3.8/site-packages/pandas/core/computation/expressions.py:20: UserWarning: Pandas requires version '2.7.3' or newer of 'numexpr' (version '2.7.1' currently installed).\n",
      "  from pandas.core.computation.check import NUMEXPR_INSTALLED\n"
     ]
    },
    {
     "name": "stdout",
     "output_type": "stream",
     "text": [
      "\n"
     ]
    }
   ],
   "source": [
    "import plotly.graph_objs as go\n",
    "import plotly.express as px\n",
    "import pandas as pd\n",
    "import datetime\n",
    "import plotly.graph_objects as go\n",
    "import plotly.express as px\n",
    "from ipywidgets import widgets\n",
    "\n",
    "democracy = pd.read_csv('https://raw.githubusercontent.com/DanielStuiver/DEZEWERKT/master/vrijheid.csv', low_memory=False)\n",
    "happiness = pd.read_csv('https://raw.githubusercontent.com/DanielStuiver/DEZEWERKT/master/blijheid.csv', low_memory=False)\n",
    "\n",
    "minus_jaar_vrijheid = democracy[(democracy['ID_year'] >= 2013) & (democracy['ID_year'] <= 2020) & (democracy['ID_year'] != 2014)]\n",
    "\n",
    "minus_jaar_blijheid = happiness[(happiness['Year'] >= 2013) & (happiness['Year'] <= 2020)]\n",
    "\n",
    "merged_data = pd.merge(minus_jaar_blijheid, minus_jaar_vrijheid, left_on=['Year', 'Country'], right_on=['ID_year', 'ID_country_name'])\n",
    "\n",
    "df = merged_data.drop('ID_year', axis=1)\n",
    "df = merged_data.drop('ID_country_name', axis=1)\n",
    "\n",
    "#######################################################################################################################\n",
    "\n",
    "landcodes_df = pd.read_csv('https://raw.githubusercontent.com/lukes/ISO-3166-Countries-with-Regional-Codes/master/all/all.csv')\n",
    "gegevens_2020 = df[df['Year'] == 2020]\n",
    "gegevens_2013 = df[df['Year']== 2013]\n",
    "landcodes_df['name'] = landcodes_df['name'].replace({'United States of America' : 'United States',\n",
    "                                                   'Iran (Islamic Republic of)': 'Iran',\n",
    "                                                   'Moldova, Republic of':'Moldova',\n",
    "                                                    'Russian Federation': 'Russia',\n",
    "                                                    'Taiwan, Province of China': 'Taiwan',\n",
    "                                                    'Tanzania, United Republic of': 'Tanzania',\n",
    "                                                    'United Kingdom of Great Britain and Northern Ireland': 'United Kingdom',\n",
    "                                                    'Venezuela (Bolivarian Republic of)': 'Venezuela'})\n",
    "\n",
    "gegevens_2020_mix = pd.merge(gegevens_2020, landcodes_df, left_on='Country', right_on='name', how='left',indicator=True)\n",
    "gegevens_2013_mix = pd.merge(gegevens_2013, landcodes_df, left_on='Country', right_on='name', how='left',indicator=True)\n",
    "\n",
    "different_countries = gegevens_2020_mix[gegevens_2020_mix['_merge'] != 'both']\n",
    "\n",
    "#######################################################################################################################\n",
    "\n",
    "fig1 = go.Figure(data=go.Choropleth(\n",
    "    locations = gegevens_2020_mix['alpha-3'],\n",
    "    z = gegevens_2020_mix['Index'],\n",
    "    text = gegevens_2020_mix['Country'],\n",
    "    colorscale = 'Inferno',\n",
    "    autocolorscale=False,\n",
    "    reversescale=False,\n",
    "    marker_line_color='darkgray',\n",
    "    marker_line_width=0.5,\n",
    "    colorbar_title = 'Happiness'))\n",
    "\n",
    "fig2 = go.Figure(data=go.Choropleth(\n",
    "    locations = gegevens_2013_mix['alpha-3'],\n",
    "    z = gegevens_2013_mix['Index'],\n",
    "    text = gegevens_2013_mix['Country'],\n",
    "    colorscale = 'Inferno',\n",
    "    autocolorscale=False,\n",
    "    reversescale=False,\n",
    "    marker_line_color='darkgray',\n",
    "    marker_line_width=0.5,\n",
    "    colorbar_title = 'Happiness'))\n",
    "\n",
    "fig1.update_layout(title = 'Happiness-score landen 2020',\n",
    "                   annotations = [dict(xref='paper',\n",
    "                   yref='paper',\n",
    "                   x=0.5, y=-0.25,\n",
    "                   showarrow=False,\n",
    "                   text ='Deze kaart weergeeft de happiness index-score van de landen opgenomen in het onderzoek van de VN in 2020')])\n",
    "fig2.update_layout(title = 'Happiness-score landen 2013',\n",
    "                   annotations = [dict(xref='paper',\n",
    "                   yref='paper',\n",
    "                   x=0.5, y=-0.25,\n",
    "                   showarrow=False,\n",
    "                   text ='Deze kaart weergeeft de happiness index-score van de landen opgenomen in het onderzoek van de VN in 2013')])\n",
    "\n",
    "#######################################################################################################################\n",
    "\n",
    "data = {\n",
    "    'Years': ['2013', '2015', '2016', '2017', '2018', '2019', '2020'],\n",
    "    'Mid-range performing democracy': [54, 52, 49, 51, 55, 56, 52],\n",
    "    'Authoritarian Regime': [26, 28, 30, 31, 35, 34, 30],\n",
    "    'Weak democracy': [22, 23, 22, 21, 20, 19, 21],\n",
    "    'Hybrid Regime': [23, 21, 21, 22, 17, 18, 20],\n",
    "    'High performing democracy': [17, 18, 19, 18, 17, 16, 17]\n",
    "}\n",
    "\n",
    "df2 = pd.DataFrame(data)\n",
    "\n",
    "barplot = go.Figure()\n",
    "barplot.add_trace(go.Bar(x=df2['Years'], y=df2['High performing democracy'], name='High performing democracy', marker = dict(color = 'rgb(255, 255, 0)')))\n",
    "barplot.add_trace(go.Bar(x=df2['Years'], y=df2['Mid-range performing democracy'], name='Mid-range performing democracy', marker = dict(color='rgb(102,194,165)') )) \n",
    "barplot.add_trace(go.Bar(x=df2['Years'], y=df2['Weak democracy'], name='Weak democracy', marker = dict(color = 'rgb(141,160,203)')))\n",
    "barplot.add_trace(go.Bar(x=df2['Years'], y=df2['Hybrid Regime'], name='Hybrid Regime', marker = dict(color = 'rgb(255, 192, 203)')))\n",
    "barplot.add_trace(go.Bar(x=df2['Years'], y=df2['Authoritarian Regime'], name='Authoritarian Regime', marker = dict(color = 'rgb(252,141,98)')))\n",
    "\n",
    "layout = go.Layout(title='Verschillende voorkomende vormen van democratie in de wereld', \n",
    "                   xaxis_title = 'Jaren', \n",
    "                   yaxis_title = 'Aantal landen',\n",
    "                   annotations = [dict(xref='paper',\n",
    "                   yref='paper',\n",
    "                   x=0.5, y=-0.25,\n",
    "                   showarrow=False,\n",
    "                   text ='Deze grafiek visualiseert hoeveel landen deel uit maken van elke categorie van democratie')])\n",
    "\n",
    "# barplot.update_layout(layout)\n",
    "\n",
    "#######################################################################################################################\n",
    "\n",
    "countries = ['Iceland', 'Venezuela', 'Romania']\n",
    "\n",
    "country_dropdown = widgets.Dropdown(\n",
    "    description='Land:',\n",
    "    options=countries,\n",
    "    value=\"Iceland\")\n",
    "\n",
    "container = widgets.VBox(children=[country_dropdown])\n",
    "\n",
    "def update_plots(change):\n",
    "    selected_country = change.new\n",
    "    \n",
    "    fig_widget.data = []\n",
    "    \n",
    "    if selected_country == 'Iceland':\n",
    "        country_data = df[df['Country'] == 'Iceland'].copy()\n",
    "        country_data.loc[:, 'v_41_01'] = country_data['v_41_01'] * 10\n",
    "        country_data = country_data.rename(columns={'Index': 'Happiness index', 'v_41_01': 'Score stelling'})\n",
    "        fig = px.line(country_data, x='Year', y=['Happiness index', 'Score stelling'], markers=True)\n",
    "        for trace in fig.data:\n",
    "            fig_widget.add_trace(trace)\n",
    "    elif selected_country == 'Venezuela':\n",
    "        country_data = df[df['Country'] == 'Venezuela'].copy()\n",
    "        country_data.loc[:, 'v_41_01'] = country_data['v_41_01'] * 10\n",
    "        country_data = country_data.rename(columns={'Index': 'Happiness index', 'v_41_01': 'Score stelling'})\n",
    "        fig = px.line(country_data, x='Year', y=['Happiness index', 'Score stelling'], markers=True)\n",
    "        for trace in fig.data:\n",
    "            fig_widget.add_trace(trace)\n",
    "    elif selected_country == 'Romania':\n",
    "        country_data = df[df['Country'] == 'Romania'].copy()\n",
    "        country_data.loc[:, 'v_41_01'] = (country_data['v_41_01'] * 10)\n",
    "        country_data = country_data.rename(columns={'Index': 'Happiness index', 'v_41_01': 'Score stelling'})\n",
    "        fig = px.line(country_data, x='Year', y=['Happiness index', 'Score stelling'], markers=True)\n",
    "        for trace in fig.data:\n",
    "            fig_widget.add_trace(trace)\n",
    "\n",
    "country_dropdown.observe(update_plots, names='value')\n",
    "\n",
    "fig_widget = go.FigureWidget()\n",
    "\n",
    "fig_widget.update_layout(title = 'Hoe vaak verlenen werknemers in de publieke sector gunsten in ruil voor omkopingen of andere materiële wensen?',\n",
    "                          title_font_size=13,\n",
    "                          xaxis_title='Jaar',\n",
    "                          yaxis_title='Score',\n",
    "                          annotations = [dict(xref='paper',\n",
    "                                        yref='paper',\n",
    "                                        x=0.5, y=-0.25,\n",
    "                                        showarrow=False,\n",
    "                                        text ='Deze Grafiek toont de relatie aan tussen de happiness index en de algemene mate van corruptie in een land')])\n",
    "\n",
    "\n",
    "# display(container, fig_widget)\n",
    "\n",
    "#######################################################################################################################\n",
    "\n",
    "countries = ['Iceland', 'Venezuela', 'Romania']\n",
    "\n",
    "country_dropdown = widgets.Dropdown(\n",
    "    description='Land:',\n",
    "    options=countries)\n",
    "\n",
    "container2 = widgets.VBox(children=[country_dropdown])\n",
    "\n",
    "def update_plots(change):\n",
    "    selected_country = change.new\n",
    "    \n",
    "    fig_widget2.data = []\n",
    "    \n",
    "    if selected_country == 'Iceland':\n",
    "        country_data = df[df['Country'] == 'Iceland'].copy()\n",
    "        country_data.loc[:, 'v_23_01'] = country_data['v_23_01'] * 10\n",
    "        country_data = country_data.rename(columns={'Index': 'Happiness index', 'v_23_01': 'Score stelling'})\n",
    "        fig = px.line(country_data, x='Year', y=['Happiness index', 'Score stelling'], markers=True)\n",
    "        for trace in fig.data:\n",
    "            fig_widget2.add_trace(trace)\n",
    "    elif selected_country == 'Venezuela':\n",
    "        country_data = df[df['Country'] == 'Venezuela'].copy()\n",
    "        country_data.loc[:, 'v_23_01'] = country_data['v_23_01'] * 10\n",
    "        country_data = country_data.rename(columns={'Index': 'Happiness index', 'v_23_01': 'Score stelling'})\n",
    "        fig = px.line(country_data, x='Year', y=['Happiness index', 'Score stelling'], markers=True)\n",
    "        for trace in fig.data:\n",
    "            fig_widget2.add_trace(trace)\n",
    "    elif selected_country == 'Romania':\n",
    "        country_data = df[df['Country'] == 'Romania'].copy()\n",
    "        country_data.loc[:, 'v_23_01'] = (country_data['v_23_01'] * 10)\n",
    "        country_data = country_data.rename(columns={'Index': 'Happiness index', 'v_23_01': 'Score stelling'})\n",
    "        fig = px.line(country_data, x='Year', y=['Happiness index', 'Score stelling'], markers=True)\n",
    "        for trace in fig.data:\n",
    "            fig_widget2.add_trace(trace)\n",
    "\n",
    "country_dropdown.observe(update_plots, names='value')\n",
    "\n",
    "fig_widget2 = go.FigureWidget()\n",
    "\n",
    "fig_widget2.update_layout(title='Genieten arme mensen evenveel van burgerlijke vrijheden als rijke mensen?',\n",
    "                          title_font_size=13,\n",
    "                          xaxis_title='Jaar',\n",
    "                          yaxis_title='Score',\n",
    "                          annotations = [dict(xref='paper',\n",
    "                                        yref='paper',\n",
    "                                        x=0.5, y=-0.25,\n",
    "                                        showarrow=False,\n",
    "                                        text ='Deze Grafiek toont de relatie aan tussen de happiness index en de algemene mate van gelijkheid in een land')])\n",
    "\n",
    "# display(container2, fig_widget2)\n",
    "\n",
    "#######################################################################################################################\n",
    "\n",
    "countries = ['Iceland', 'Venezuela', 'Romania']\n",
    "\n",
    "country_dropdown = widgets.Dropdown(\n",
    "    description='Land:',\n",
    "    options=countries)\n",
    "\n",
    "container3 = widgets.VBox(children=[country_dropdown])\n",
    "\n",
    "def update_plots(change):\n",
    "    selected_country = change.new\n",
    "    \n",
    "    fig_widget3.data = []\n",
    "    \n",
    "    if selected_country == 'Iceland':\n",
    "        country_data = df[df['Country'] == 'Iceland'].copy()\n",
    "        country_data.loc[:, 'v_22_01'] = country_data['v_22_01'] * 10\n",
    "        country_data = country_data.rename(columns={'Index': 'Happiness index', 'v_22_01': 'Score stelling'})\n",
    "        fig = px.line(country_data, x='Year', y=['Happiness index', 'Score stelling'], markers=True)\n",
    "        for trace in fig.data:\n",
    "            fig_widget3.add_trace(trace)\n",
    "    elif selected_country == 'Venezuela':\n",
    "        country_data = df[df['Country'] == 'Venezuela'].copy()\n",
    "        country_data.loc[:, 'v_22_01'] = country_data['v_22_01'] * 10\n",
    "        country_data = country_data.rename(columns={'Index': 'Happiness index', 'v_22_01': 'Score stelling'})\n",
    "        fig = px.line(country_data, x='Year', y=['Happiness index', 'Score stelling'], markers=True)\n",
    "        for trace in fig.data:\n",
    "            fig_widget3.add_trace(trace)\n",
    "    elif selected_country == 'Romania':\n",
    "        country_data = df[df['Country'] == 'Romania'].copy()\n",
    "        country_data.loc[:, 'v_22_01'] = (country_data['v_22_01'] * 10)\n",
    "        country_data = country_data.rename(columns={'Index': 'Happiness index', 'v_22_01': 'Score stelling'})\n",
    "        fig = px.line(country_data, x='Year', y=['Happiness index', 'Score stelling'], markers=True)\n",
    "        for trace in fig.data:\n",
    "            fig_widget3.add_trace(trace)\n",
    "\n",
    "country_dropdown.observe(update_plots, names='value')\n",
    "\n",
    "fig_widget3 = go.FigureWidget()\n",
    "\n",
    "fig_widget3.update_layout(title='Probeert de regering op directe of indirecte wijze de gedrukte of uitzendmedia te censureren?',\n",
    "                          title_font_size=13,\n",
    "                          xaxis_title='Jaar',\n",
    "                          yaxis_title='Score',\n",
    "                          annotations = [dict(xref='paper',\n",
    "                                        yref='paper',\n",
    "                                        x=0.5, y=-0.25,\n",
    "                                        showarrow=False,\n",
    "                                        text ='Deze Grafiek toont de relatie aan tussen de happiness index en de algemene mate van censuur in een land')])\n",
    "\n",
    "#######################################################################################################################\n",
    "\n",
    "\n",
    "countries = ['Iceland', 'Venezuela', 'Romania']\n",
    "colors = ['rgb(100,40,255)', 'rgb(102,194,165)', 'rgb(252,141,98)']\n",
    "\n",
    "fig_widget4 = go.Figure()\n",
    "\n",
    "# Line for Iceland\n",
    "country_data_iceland = df[df['Country'] == 'Iceland'].copy()\n",
    "country_data_iceland = country_data_iceland.rename(columns={'Index': 'Happiness index'})\n",
    "fig_iceland = go.Scatter(\n",
    "    x=country_data_iceland['Year'],\n",
    "    y=country_data_iceland['Happiness index'],\n",
    "    mode='lines',\n",
    "    marker=dict(color=colors[0]),\n",
    "    name=countries[0]\n",
    ")\n",
    "fig_widget4.add_trace(fig_iceland)\n",
    "\n",
    "# Line for Venezuela\n",
    "country_data_venezuela = df[df['Country'] == 'Venezuela'].copy()\n",
    "country_data_venezuela = country_data_venezuela.rename(columns={'Index': 'Happiness index'})\n",
    "fig_venezuela = go.Scatter(\n",
    "    x=country_data_venezuela['Year'],\n",
    "    y=country_data_venezuela['Happiness index'],\n",
    "    mode='lines',\n",
    "    marker=dict(color=colors[1]),\n",
    "    name=countries[1]\n",
    ")\n",
    "fig_widget4.add_trace(fig_venezuela)\n",
    "\n",
    "# Line for Romania\n",
    "country_data_romania = df[df['Country'] == 'Romania'].copy()\n",
    "country_data_romania = country_data_romania.rename(columns={'Index': 'Happiness index'})\n",
    "fig_romania = go.Scatter(\n",
    "    x=country_data_romania['Year'],\n",
    "    y=country_data_romania['Happiness index'],\n",
    "    mode='lines',\n",
    "    marker=dict(color=colors[2]),\n",
    "    name=countries[2]\n",
    ")\n",
    "fig_widget4.add_trace(fig_romania)\n",
    "\n",
    "fig_widget4.update_layout(\n",
    "    title='Happiness index voor Ijsland, Venezuela en Roemenië',\n",
    "    title_font_size=13,\n",
    "    xaxis_title='Jaar',\n",
    "    yaxis_title='Happiness Index',\n",
    "    annotations=[dict(\n",
    "        xref='paper',\n",
    "        yref='paper',\n",
    "        x=0.5,\n",
    "        y=-0.25,\n",
    "        showarrow=False,\n",
    "        text='Deze Grafiek toont de happiness index aan voor de drie gekozen landen'\n",
    "    )]\n",
    ")\n",
    "\n",
    "print()\n",
    "# display(container3, fig_widget3)"
   ]
  },
  {
   "attachments": {},
   "cell_type": "markdown",
   "id": "8ca01090",
   "metadata": {},
   "source": [
    "# Inleiding \n",
    "\n",
    "\n",
    "In een wereld waarin democratie en geluk beide belangrijke maatschappelijke doelen vertegenwoordigen, is het interessant om te onderzoeken hoe deze twee concepten met elkaar verbonden zijn. Democratie wordt vaak gezien als een middel om het welzijn en de vrijheid van mensen te bevorderen, terwijl geluk wordt beschouwd als een ultieme indicator van persoonlijk welzijn en tevredenheid. Deze datastory, heeft als doel de democracy index en de happiness index te visualiseren, om zo inzicht te bieden in de mogelijke relatie tussen democratie en geluk.\n",
    "\n",
    "Het voornaamste doel van dit project is het creëren van visuele representaties van de democracy index en de happiness index. De democracy index is een bekende maatstaf voor de staat van de democratie in landen over de hele wereld, terwijl de happiness index meet hoe tevreden en gelukkig mensen zich voelen in verschillende landen. Door deze twee indexen te combineren en te visualiseren, hopen we een beter begrip te krijgen van de mogelijke verbanden en patronen tussen democratie en geluk. De vraag die we stellen is dan ook: bevordert democratie voor geluk?\n",
    "\n",
    "Deze vraag zal beantwoord worden door de datasets samen te voegen en op een verkennende manier te onderzoeken. Wellicht wordt er een link gevonden tussen de vrijheid van een land en de tevredenheid van haar burgers, maar het tegendeel zou ook ondervonden kunnen worden, waaruit blijkt dat mensen gelukkig of ongelukkig kunnen zijn onafhankelijk van de staat waarin hun overheid zich verkeert."
   ]
  },
  {
   "attachments": {},
   "cell_type": "markdown",
   "id": "5905fa64",
   "metadata": {},
   "source": [
    "## Datasets and preprocessing - Happiness index\n",
    "\n",
    "De happiness index is een maatstaf die bedacht is voor de World Happiness Report, een rapportage die vanaf 2012 regelmatig door de Sustainable Development Solutions Network, een initiatief van de Verenigde Naties, wordt geschreven. Het initiële doel van het rapportage was om het perspectief van mensen over hun eigen geluk te meten, sindsdien wordt het rapportage elk jaar opnieuw uitgebracht. De happiness index is een vrij eenvoudige maatstaf die bepaald wordt door een gemiddelde van antwoorden geworven van mensen middels het onderzoeksbureau Gallup. Mensen worden gevraagd om een ladder voor te stellen, waarin een 0 het slechtst mogelijke leven voorstelt, en een 10 het best mogelijke leven, daarna worden de mensen gevraagd waar ze zichzelf op deze ladder zetten.\n",
    "\n",
    "De dataset die gebruikt zal worden voor dit onderzoek is als volgt:\n",
    "\n",
    "https://www.kaggle.com/datasets/simonaasm/world-happiness-index-by-reports-2013-2023\n",
    "\n",
    "Deze dataset bevat de happiness index voor 167 landen voor de periode van 2013 tot en met 2023. Het eerste rapportage uit 2012 is niet opgenomen in deze dataset, ook ontbreken er waardes voor 2014, aangezien er geen rapportage werd opgesteld in dat jaar. Naast de naam van elk land en het jaar van het datapunt zijn er in de dataset nog twee variabelen; dit zijn de happiness index met maximaal 3 decimalen na de punt, en de rang van het land in dat jaar vergeleken met de andere landen."
   ]
  },
  {
   "cell_type": "code",
   "execution_count": 2,
   "id": "a86bcb54",
   "metadata": {
    "scrolled": true
   },
   "outputs": [
    {
     "data": {
      "application/vnd.plotly.v1+json": {
       "config": {
        "plotlyServerURL": "https://plot.ly"
       },
       "data": [
        {
         "autocolorscale": false,
         "colorbar": {
          "title": {
           "text": "Happiness"
          }
         },
         "colorscale": [
          [
           0,
           "#000004"
          ],
          [
           0.1111111111111111,
           "#1b0c41"
          ],
          [
           0.2222222222222222,
           "#4a0c6b"
          ],
          [
           0.3333333333333333,
           "#781c6d"
          ],
          [
           0.4444444444444444,
           "#a52c60"
          ],
          [
           0.5555555555555556,
           "#cf4446"
          ],
          [
           0.6666666666666666,
           "#ed6925"
          ],
          [
           0.7777777777777778,
           "#fb9b06"
          ],
          [
           0.8888888888888888,
           "#f7d13d"
          ],
          [
           1,
           "#fcffa4"
          ]
         ],
         "locations": [
          "AFG",
          "ALB",
          "DZA",
          "AGO",
          "ARG",
          "ARM",
          "AUS",
          "AUT",
          "AZE",
          "BHR",
          "BGD",
          "BLR",
          "BEL",
          "BEN",
          null,
          "BIH",
          "BWA",
          "BRA",
          "BGR",
          "BFA",
          "BDI",
          "KHM",
          "CMR",
          "CAN",
          "CAF",
          "TCD",
          "CHL",
          "CHN",
          "COL",
          "CRI",
          "HRV",
          "CYP",
          "CZE",
          "DNK",
          "DOM",
          "ECU",
          "EGY",
          "SLV",
          "EST",
          "ETH",
          "FIN",
          "FRA",
          "GAB",
          "GEO",
          "DEU",
          "GHA",
          "GRC",
          "GTM",
          "GIN",
          "HTI",
          "HND",
          "HUN",
          "ISL",
          "IND",
          "IDN",
          "IRN",
          "IRQ",
          "IRL",
          "ISR",
          "ITA",
          "JAM",
          "JPN",
          "JOR",
          "KAZ",
          "KEN",
          null,
          "KWT",
          "KGZ",
          null,
          "LVA",
          "LBN",
          "LSO",
          "LBR",
          "LBY",
          "LTU",
          "LUX",
          "MDG",
          "MWI",
          "MYS",
          "MLI",
          "MRT",
          "MUS",
          "MEX",
          "MDA",
          "MNG",
          "MNE",
          "MAR",
          "MOZ",
          "MMR",
          "NPL",
          "NLD",
          "NZL",
          "NIC",
          "NER",
          "NGA",
          "MKD",
          "NOR",
          "OMN",
          "PAK",
          "PAN",
          "PRY",
          "PER",
          "PHL",
          "POL",
          "PRT",
          "QAT",
          "ROU",
          "RUS",
          "RWA",
          "SAU",
          "SEN",
          "SRB",
          "SLE",
          "SGP",
          "SVK",
          "SVN",
          "ZAF",
          "ESP",
          "LKA",
          "SDN",
          "SWE",
          "CHE",
          null,
          "TWN",
          "TJK",
          "TZA",
          "THA",
          "TGO",
          "TTO",
          "TUN",
          "TKM",
          "UGA",
          "UKR",
          "ARE",
          "GBR",
          "USA",
          "URY",
          "UZB",
          "VEN",
          "YEM",
          "ZMB",
          "ZWE"
         ],
         "marker": {
          "line": {
           "color": "darkgray",
           "width": 0.5
          }
         },
         "reversescale": false,
         "text": [
          "Afghanistan",
          "Albania",
          "Algeria",
          "Angola",
          "Argentina",
          "Armenia",
          "Australia",
          "Austria",
          "Azerbaijan",
          "Bahrain",
          "Bangladesh",
          "Belarus",
          "Belgium",
          "Benin",
          "Bolivia",
          "Bosnia and Herzegovina",
          "Botswana",
          "Brazil",
          "Bulgaria",
          "Burkina Faso",
          "Burundi",
          "Cambodia",
          "Cameroon",
          "Canada",
          "Central African Republic",
          "Chad",
          "Chile",
          "China",
          "Colombia",
          "Costa Rica",
          "Croatia",
          "Cyprus",
          "Czechia",
          "Denmark",
          "Dominican Republic",
          "Ecuador",
          "Egypt",
          "El Salvador",
          "Estonia",
          "Ethiopia",
          "Finland",
          "France",
          "Gabon",
          "Georgia",
          "Germany",
          "Ghana",
          "Greece",
          "Guatemala",
          "Guinea",
          "Haiti",
          "Honduras",
          "Hungary",
          "Iceland",
          "India",
          "Indonesia",
          "Iran",
          "Iraq",
          "Ireland",
          "Israel",
          "Italy",
          "Jamaica",
          "Japan",
          "Jordan",
          "Kazakhstan",
          "Kenya",
          "Kosovo",
          "Kuwait",
          "Kyrgyzstan",
          "Laos",
          "Latvia",
          "Lebanon",
          "Lesotho",
          "Liberia",
          "Libya",
          "Lithuania",
          "Luxembourg",
          "Madagascar",
          "Malawi",
          "Malaysia",
          "Mali",
          "Mauritania",
          "Mauritius",
          "Mexico",
          "Moldova",
          "Mongolia",
          "Montenegro",
          "Morocco",
          "Mozambique",
          "Myanmar",
          "Nepal",
          "Netherlands",
          "New Zealand",
          "Nicaragua",
          "Niger",
          "Nigeria",
          "North Macedonia",
          "Norway",
          "Oman",
          "Pakistan",
          "Panama",
          "Paraguay",
          "Peru",
          "Philippines",
          "Poland",
          "Portugal",
          "Qatar",
          "Romania",
          "Russia",
          "Rwanda",
          "Saudi Arabia",
          "Senegal",
          "Serbia",
          "Sierra Leone",
          "Singapore",
          "Slovakia",
          "Slovenia",
          "South Africa",
          "Spain",
          "Sri Lanka",
          "Sudan",
          "Sweden",
          "Switzerland",
          "Syria",
          "Taiwan",
          "Tajikistan",
          "Tanzania",
          "Thailand",
          "Togo",
          "Trinidad and Tobago",
          "Tunisia",
          "Turkmenistan",
          "Uganda",
          "Ukraine",
          "United Arab Emirates",
          "United Kingdom",
          "United States",
          "Uruguay",
          "Uzbekistan",
          "Venezuela",
          "Yemen",
          "Zambia",
          "Zimbabwe"
         ],
         "type": "choropleth",
         "z": [
          4.04,
          5.55,
          5.422,
          5.589,
          6.562,
          4.316,
          7.35,
          7.369,
          4.604,
          5.312,
          4.804,
          5.504,
          6.967,
          3.528,
          5.857,
          4.813,
          3.97,
          6.849,
          3.981,
          4.259,
          3.706,
          4.067,
          4.42,
          7.477,
          3.623,
          4.056,
          6.587,
          4.978,
          6.416,
          7.257,
          5.661,
          6.466,
          6.29,
          7.693,
          4.963,
          5.865,
          4.273,
          5.809,
          5.426,
          4.561,
          7.389,
          6.764,
          4.114,
          4.187,
          6.672,
          5.091,
          5.435,
          5.965,
          3.847,
          4.341,
          5.142,
          4.775,
          7.355,
          4.772,
          5.348,
          4.643,
          4.817,
          7.076,
          7.301,
          6.021,
          5.374,
          6.064,
          5.414,
          5.671,
          4.403,
          5.222,
          6.515,
          5.042,
          4.787,
          5.046,
          4.931,
          4.898,
          4.196,
          5.34,
          5.426,
          7.054,
          3.966,
          4.113,
          5.76,
          4.247,
          4.758,
          5.477,
          7.088,
          5.791,
          4.834,
          5.299,
          4.885,
          4.971,
          4.439,
          4.156,
          7.512,
          7.221,
          5.507,
          4.152,
          5.248,
          4.574,
          7.655,
          6.853,
          5.292,
          7.143,
          5.779,
          5.776,
          4.985,
          5.822,
          5.101,
          6.666,
          5.033,
          5.464,
          3.715,
          6.48,
          3.959,
          4.813,
          4.318,
          6.546,
          5.969,
          6.06,
          4.963,
          6.322,
          4.151,
          4.401,
          7.48,
          7.65,
          3.892,
          6.221,
          4.38,
          3.77,
          6.371,
          2.936,
          6.519,
          4.826,
          5.628,
          4.443,
          5.057,
          7.144,
          6.883,
          7.082,
          6.355,
          5.623,
          7.039,
          4.054,
          5.006,
          4.827
         ]
        }
       ],
       "layout": {
        "annotations": [
         {
          "showarrow": false,
          "text": "Deze kaart weergeeft de happiness index-score van de landen opgenomen in het onderzoek van de VN in 2013",
          "x": 0.5,
          "xref": "paper",
          "y": -0.25,
          "yref": "paper"
         }
        ],
        "template": {
         "data": {
          "bar": [
           {
            "error_x": {
             "color": "#2a3f5f"
            },
            "error_y": {
             "color": "#2a3f5f"
            },
            "marker": {
             "line": {
              "color": "#E5ECF6",
              "width": 0.5
             },
             "pattern": {
              "fillmode": "overlay",
              "size": 10,
              "solidity": 0.2
             }
            },
            "type": "bar"
           }
          ],
          "barpolar": [
           {
            "marker": {
             "line": {
              "color": "#E5ECF6",
              "width": 0.5
             },
             "pattern": {
              "fillmode": "overlay",
              "size": 10,
              "solidity": 0.2
             }
            },
            "type": "barpolar"
           }
          ],
          "carpet": [
           {
            "aaxis": {
             "endlinecolor": "#2a3f5f",
             "gridcolor": "white",
             "linecolor": "white",
             "minorgridcolor": "white",
             "startlinecolor": "#2a3f5f"
            },
            "baxis": {
             "endlinecolor": "#2a3f5f",
             "gridcolor": "white",
             "linecolor": "white",
             "minorgridcolor": "white",
             "startlinecolor": "#2a3f5f"
            },
            "type": "carpet"
           }
          ],
          "choropleth": [
           {
            "colorbar": {
             "outlinewidth": 0,
             "ticks": ""
            },
            "type": "choropleth"
           }
          ],
          "contour": [
           {
            "colorbar": {
             "outlinewidth": 0,
             "ticks": ""
            },
            "colorscale": [
             [
              0,
              "#0d0887"
             ],
             [
              0.1111111111111111,
              "#46039f"
             ],
             [
              0.2222222222222222,
              "#7201a8"
             ],
             [
              0.3333333333333333,
              "#9c179e"
             ],
             [
              0.4444444444444444,
              "#bd3786"
             ],
             [
              0.5555555555555556,
              "#d8576b"
             ],
             [
              0.6666666666666666,
              "#ed7953"
             ],
             [
              0.7777777777777778,
              "#fb9f3a"
             ],
             [
              0.8888888888888888,
              "#fdca26"
             ],
             [
              1,
              "#f0f921"
             ]
            ],
            "type": "contour"
           }
          ],
          "contourcarpet": [
           {
            "colorbar": {
             "outlinewidth": 0,
             "ticks": ""
            },
            "type": "contourcarpet"
           }
          ],
          "heatmap": [
           {
            "colorbar": {
             "outlinewidth": 0,
             "ticks": ""
            },
            "colorscale": [
             [
              0,
              "#0d0887"
             ],
             [
              0.1111111111111111,
              "#46039f"
             ],
             [
              0.2222222222222222,
              "#7201a8"
             ],
             [
              0.3333333333333333,
              "#9c179e"
             ],
             [
              0.4444444444444444,
              "#bd3786"
             ],
             [
              0.5555555555555556,
              "#d8576b"
             ],
             [
              0.6666666666666666,
              "#ed7953"
             ],
             [
              0.7777777777777778,
              "#fb9f3a"
             ],
             [
              0.8888888888888888,
              "#fdca26"
             ],
             [
              1,
              "#f0f921"
             ]
            ],
            "type": "heatmap"
           }
          ],
          "heatmapgl": [
           {
            "colorbar": {
             "outlinewidth": 0,
             "ticks": ""
            },
            "colorscale": [
             [
              0,
              "#0d0887"
             ],
             [
              0.1111111111111111,
              "#46039f"
             ],
             [
              0.2222222222222222,
              "#7201a8"
             ],
             [
              0.3333333333333333,
              "#9c179e"
             ],
             [
              0.4444444444444444,
              "#bd3786"
             ],
             [
              0.5555555555555556,
              "#d8576b"
             ],
             [
              0.6666666666666666,
              "#ed7953"
             ],
             [
              0.7777777777777778,
              "#fb9f3a"
             ],
             [
              0.8888888888888888,
              "#fdca26"
             ],
             [
              1,
              "#f0f921"
             ]
            ],
            "type": "heatmapgl"
           }
          ],
          "histogram": [
           {
            "marker": {
             "pattern": {
              "fillmode": "overlay",
              "size": 10,
              "solidity": 0.2
             }
            },
            "type": "histogram"
           }
          ],
          "histogram2d": [
           {
            "colorbar": {
             "outlinewidth": 0,
             "ticks": ""
            },
            "colorscale": [
             [
              0,
              "#0d0887"
             ],
             [
              0.1111111111111111,
              "#46039f"
             ],
             [
              0.2222222222222222,
              "#7201a8"
             ],
             [
              0.3333333333333333,
              "#9c179e"
             ],
             [
              0.4444444444444444,
              "#bd3786"
             ],
             [
              0.5555555555555556,
              "#d8576b"
             ],
             [
              0.6666666666666666,
              "#ed7953"
             ],
             [
              0.7777777777777778,
              "#fb9f3a"
             ],
             [
              0.8888888888888888,
              "#fdca26"
             ],
             [
              1,
              "#f0f921"
             ]
            ],
            "type": "histogram2d"
           }
          ],
          "histogram2dcontour": [
           {
            "colorbar": {
             "outlinewidth": 0,
             "ticks": ""
            },
            "colorscale": [
             [
              0,
              "#0d0887"
             ],
             [
              0.1111111111111111,
              "#46039f"
             ],
             [
              0.2222222222222222,
              "#7201a8"
             ],
             [
              0.3333333333333333,
              "#9c179e"
             ],
             [
              0.4444444444444444,
              "#bd3786"
             ],
             [
              0.5555555555555556,
              "#d8576b"
             ],
             [
              0.6666666666666666,
              "#ed7953"
             ],
             [
              0.7777777777777778,
              "#fb9f3a"
             ],
             [
              0.8888888888888888,
              "#fdca26"
             ],
             [
              1,
              "#f0f921"
             ]
            ],
            "type": "histogram2dcontour"
           }
          ],
          "mesh3d": [
           {
            "colorbar": {
             "outlinewidth": 0,
             "ticks": ""
            },
            "type": "mesh3d"
           }
          ],
          "parcoords": [
           {
            "line": {
             "colorbar": {
              "outlinewidth": 0,
              "ticks": ""
             }
            },
            "type": "parcoords"
           }
          ],
          "pie": [
           {
            "automargin": true,
            "type": "pie"
           }
          ],
          "scatter": [
           {
            "fillpattern": {
             "fillmode": "overlay",
             "size": 10,
             "solidity": 0.2
            },
            "type": "scatter"
           }
          ],
          "scatter3d": [
           {
            "line": {
             "colorbar": {
              "outlinewidth": 0,
              "ticks": ""
             }
            },
            "marker": {
             "colorbar": {
              "outlinewidth": 0,
              "ticks": ""
             }
            },
            "type": "scatter3d"
           }
          ],
          "scattercarpet": [
           {
            "marker": {
             "colorbar": {
              "outlinewidth": 0,
              "ticks": ""
             }
            },
            "type": "scattercarpet"
           }
          ],
          "scattergeo": [
           {
            "marker": {
             "colorbar": {
              "outlinewidth": 0,
              "ticks": ""
             }
            },
            "type": "scattergeo"
           }
          ],
          "scattergl": [
           {
            "marker": {
             "colorbar": {
              "outlinewidth": 0,
              "ticks": ""
             }
            },
            "type": "scattergl"
           }
          ],
          "scattermapbox": [
           {
            "marker": {
             "colorbar": {
              "outlinewidth": 0,
              "ticks": ""
             }
            },
            "type": "scattermapbox"
           }
          ],
          "scatterpolar": [
           {
            "marker": {
             "colorbar": {
              "outlinewidth": 0,
              "ticks": ""
             }
            },
            "type": "scatterpolar"
           }
          ],
          "scatterpolargl": [
           {
            "marker": {
             "colorbar": {
              "outlinewidth": 0,
              "ticks": ""
             }
            },
            "type": "scatterpolargl"
           }
          ],
          "scatterternary": [
           {
            "marker": {
             "colorbar": {
              "outlinewidth": 0,
              "ticks": ""
             }
            },
            "type": "scatterternary"
           }
          ],
          "surface": [
           {
            "colorbar": {
             "outlinewidth": 0,
             "ticks": ""
            },
            "colorscale": [
             [
              0,
              "#0d0887"
             ],
             [
              0.1111111111111111,
              "#46039f"
             ],
             [
              0.2222222222222222,
              "#7201a8"
             ],
             [
              0.3333333333333333,
              "#9c179e"
             ],
             [
              0.4444444444444444,
              "#bd3786"
             ],
             [
              0.5555555555555556,
              "#d8576b"
             ],
             [
              0.6666666666666666,
              "#ed7953"
             ],
             [
              0.7777777777777778,
              "#fb9f3a"
             ],
             [
              0.8888888888888888,
              "#fdca26"
             ],
             [
              1,
              "#f0f921"
             ]
            ],
            "type": "surface"
           }
          ],
          "table": [
           {
            "cells": {
             "fill": {
              "color": "#EBF0F8"
             },
             "line": {
              "color": "white"
             }
            },
            "header": {
             "fill": {
              "color": "#C8D4E3"
             },
             "line": {
              "color": "white"
             }
            },
            "type": "table"
           }
          ]
         },
         "layout": {
          "annotationdefaults": {
           "arrowcolor": "#2a3f5f",
           "arrowhead": 0,
           "arrowwidth": 1
          },
          "autotypenumbers": "strict",
          "coloraxis": {
           "colorbar": {
            "outlinewidth": 0,
            "ticks": ""
           }
          },
          "colorscale": {
           "diverging": [
            [
             0,
             "#8e0152"
            ],
            [
             0.1,
             "#c51b7d"
            ],
            [
             0.2,
             "#de77ae"
            ],
            [
             0.3,
             "#f1b6da"
            ],
            [
             0.4,
             "#fde0ef"
            ],
            [
             0.5,
             "#f7f7f7"
            ],
            [
             0.6,
             "#e6f5d0"
            ],
            [
             0.7,
             "#b8e186"
            ],
            [
             0.8,
             "#7fbc41"
            ],
            [
             0.9,
             "#4d9221"
            ],
            [
             1,
             "#276419"
            ]
           ],
           "sequential": [
            [
             0,
             "#0d0887"
            ],
            [
             0.1111111111111111,
             "#46039f"
            ],
            [
             0.2222222222222222,
             "#7201a8"
            ],
            [
             0.3333333333333333,
             "#9c179e"
            ],
            [
             0.4444444444444444,
             "#bd3786"
            ],
            [
             0.5555555555555556,
             "#d8576b"
            ],
            [
             0.6666666666666666,
             "#ed7953"
            ],
            [
             0.7777777777777778,
             "#fb9f3a"
            ],
            [
             0.8888888888888888,
             "#fdca26"
            ],
            [
             1,
             "#f0f921"
            ]
           ],
           "sequentialminus": [
            [
             0,
             "#0d0887"
            ],
            [
             0.1111111111111111,
             "#46039f"
            ],
            [
             0.2222222222222222,
             "#7201a8"
            ],
            [
             0.3333333333333333,
             "#9c179e"
            ],
            [
             0.4444444444444444,
             "#bd3786"
            ],
            [
             0.5555555555555556,
             "#d8576b"
            ],
            [
             0.6666666666666666,
             "#ed7953"
            ],
            [
             0.7777777777777778,
             "#fb9f3a"
            ],
            [
             0.8888888888888888,
             "#fdca26"
            ],
            [
             1,
             "#f0f921"
            ]
           ]
          },
          "colorway": [
           "#636efa",
           "#EF553B",
           "#00cc96",
           "#ab63fa",
           "#FFA15A",
           "#19d3f3",
           "#FF6692",
           "#B6E880",
           "#FF97FF",
           "#FECB52"
          ],
          "font": {
           "color": "#2a3f5f"
          },
          "geo": {
           "bgcolor": "white",
           "lakecolor": "white",
           "landcolor": "#E5ECF6",
           "showlakes": true,
           "showland": true,
           "subunitcolor": "white"
          },
          "hoverlabel": {
           "align": "left"
          },
          "hovermode": "closest",
          "mapbox": {
           "style": "light"
          },
          "paper_bgcolor": "white",
          "plot_bgcolor": "#E5ECF6",
          "polar": {
           "angularaxis": {
            "gridcolor": "white",
            "linecolor": "white",
            "ticks": ""
           },
           "bgcolor": "#E5ECF6",
           "radialaxis": {
            "gridcolor": "white",
            "linecolor": "white",
            "ticks": ""
           }
          },
          "scene": {
           "xaxis": {
            "backgroundcolor": "#E5ECF6",
            "gridcolor": "white",
            "gridwidth": 2,
            "linecolor": "white",
            "showbackground": true,
            "ticks": "",
            "zerolinecolor": "white"
           },
           "yaxis": {
            "backgroundcolor": "#E5ECF6",
            "gridcolor": "white",
            "gridwidth": 2,
            "linecolor": "white",
            "showbackground": true,
            "ticks": "",
            "zerolinecolor": "white"
           },
           "zaxis": {
            "backgroundcolor": "#E5ECF6",
            "gridcolor": "white",
            "gridwidth": 2,
            "linecolor": "white",
            "showbackground": true,
            "ticks": "",
            "zerolinecolor": "white"
           }
          },
          "shapedefaults": {
           "line": {
            "color": "#2a3f5f"
           }
          },
          "ternary": {
           "aaxis": {
            "gridcolor": "white",
            "linecolor": "white",
            "ticks": ""
           },
           "baxis": {
            "gridcolor": "white",
            "linecolor": "white",
            "ticks": ""
           },
           "bgcolor": "#E5ECF6",
           "caxis": {
            "gridcolor": "white",
            "linecolor": "white",
            "ticks": ""
           }
          },
          "title": {
           "x": 0.05
          },
          "xaxis": {
           "automargin": true,
           "gridcolor": "white",
           "linecolor": "white",
           "ticks": "",
           "title": {
            "standoff": 15
           },
           "zerolinecolor": "white",
           "zerolinewidth": 2
          },
          "yaxis": {
           "automargin": true,
           "gridcolor": "white",
           "linecolor": "white",
           "ticks": "",
           "title": {
            "standoff": 15
           },
           "zerolinecolor": "white",
           "zerolinewidth": 2
          }
         }
        },
        "title": {
         "text": "Happiness-score landen 2013"
        }
       }
      }
     },
     "metadata": {},
     "output_type": "display_data"
    }
   ],
   "source": [
    "fig2.show()\n",
    "#In de onderstaande afbeelding is per land te zien wat de gemiddelde happiness score is in 2013."
   ]
  },
  {
   "cell_type": "code",
   "execution_count": 3,
   "id": "539c4ab2",
   "metadata": {},
   "outputs": [
    {
     "data": {
      "application/vnd.plotly.v1+json": {
       "config": {
        "plotlyServerURL": "https://plot.ly"
       },
       "data": [
        {
         "autocolorscale": false,
         "colorbar": {
          "title": {
           "text": "Happiness"
          }
         },
         "colorscale": [
          [
           0,
           "#000004"
          ],
          [
           0.1111111111111111,
           "#1b0c41"
          ],
          [
           0.2222222222222222,
           "#4a0c6b"
          ],
          [
           0.3333333333333333,
           "#781c6d"
          ],
          [
           0.4444444444444444,
           "#a52c60"
          ],
          [
           0.5555555555555556,
           "#cf4446"
          ],
          [
           0.6666666666666666,
           "#ed6925"
          ],
          [
           0.7777777777777778,
           "#fb9b06"
          ],
          [
           0.8888888888888888,
           "#f7d13d"
          ],
          [
           1,
           "#fcffa4"
          ]
         ],
         "locations": [
          "AFG",
          "ALB",
          "DZA",
          "ARG",
          "ARM",
          "AUS",
          "AUT",
          "AZE",
          "BHR",
          "BGD",
          "BLR",
          "BEL",
          "BEN",
          null,
          "BIH",
          "BWA",
          "BRA",
          "BGR",
          "BFA",
          "BDI",
          "KHM",
          "CMR",
          "CAN",
          "CAF",
          "TCD",
          "CHL",
          "CHN",
          "COL",
          "CRI",
          "HRV",
          "CYP",
          "CZE",
          "DNK",
          "DOM",
          "ECU",
          "EGY",
          "SLV",
          "EST",
          "ETH",
          "FIN",
          "FRA",
          "GAB",
          "GMB",
          "GEO",
          "DEU",
          "GHA",
          "GRC",
          "GTM",
          "GIN",
          "HTI",
          "HND",
          "HUN",
          "ISL",
          "IND",
          "IDN",
          "IRN",
          "IRQ",
          "IRL",
          "ISR",
          "ITA",
          "JAM",
          "JPN",
          "JOR",
          "KAZ",
          "KEN",
          null,
          "KWT",
          "KGZ",
          null,
          "LVA",
          "LBN",
          "LSO",
          "LBR",
          "LBY",
          "LTU",
          "LUX",
          "MDG",
          "MWI",
          "MYS",
          "MLI",
          "MRT",
          "MUS",
          "MEX",
          "MDA",
          "MNG",
          "MNE",
          "MAR",
          "MOZ",
          "MMR",
          "NAM",
          "NPL",
          "NLD",
          "NZL",
          "NIC",
          "NER",
          "NGA",
          "MKD",
          "NOR",
          "PAK",
          "PAN",
          "PRY",
          "PER",
          "PHL",
          "POL",
          "PRT",
          "ROU",
          "RUS",
          "RWA",
          "SAU",
          "SEN",
          "SRB",
          "SLE",
          "SGP",
          "SVK",
          "SVN",
          "ZAF",
          "SSD",
          "ESP",
          "LKA",
          "SWE",
          "CHE",
          "TWN",
          "TJK",
          "TZA",
          "THA",
          "TGO",
          "TTO",
          "TUN",
          "TKM",
          "UGA",
          "UKR",
          "ARE",
          "GBR",
          "USA",
          "URY",
          "UZB",
          "VEN",
          "YEM",
          "ZMB",
          "ZWE"
         ],
         "marker": {
          "line": {
           "color": "darkgray",
           "width": 0.5
          }
         },
         "reversescale": false,
         "text": [
          "Afghanistan",
          "Albania",
          "Algeria",
          "Argentina",
          "Armenia",
          "Australia",
          "Austria",
          "Azerbaijan",
          "Bahrain",
          "Bangladesh",
          "Belarus",
          "Belgium",
          "Benin",
          "Bolivia",
          "Bosnia and Herzegovina",
          "Botswana",
          "Brazil",
          "Bulgaria",
          "Burkina Faso",
          "Burundi",
          "Cambodia",
          "Cameroon",
          "Canada",
          "Central African Republic",
          "Chad",
          "Chile",
          "China",
          "Colombia",
          "Costa Rica",
          "Croatia",
          "Cyprus",
          "Czechia",
          "Denmark",
          "Dominican Republic",
          "Ecuador",
          "Egypt",
          "El Salvador",
          "Estonia",
          "Ethiopia",
          "Finland",
          "France",
          "Gabon",
          "Gambia",
          "Georgia",
          "Germany",
          "Ghana",
          "Greece",
          "Guatemala",
          "Guinea",
          "Haiti",
          "Honduras",
          "Hungary",
          "Iceland",
          "India",
          "Indonesia",
          "Iran",
          "Iraq",
          "Ireland",
          "Israel",
          "Italy",
          "Jamaica",
          "Japan",
          "Jordan",
          "Kazakhstan",
          "Kenya",
          "Kosovo",
          "Kuwait",
          "Kyrgyzstan",
          "Laos",
          "Latvia",
          "Lebanon",
          "Lesotho",
          "Liberia",
          "Libya",
          "Lithuania",
          "Luxembourg",
          "Madagascar",
          "Malawi",
          "Malaysia",
          "Mali",
          "Mauritania",
          "Mauritius",
          "Mexico",
          "Moldova",
          "Mongolia",
          "Montenegro",
          "Morocco",
          "Mozambique",
          "Myanmar",
          "Namibia",
          "Nepal",
          "Netherlands",
          "New Zealand",
          "Nicaragua",
          "Niger",
          "Nigeria",
          "North Macedonia",
          "Norway",
          "Pakistan",
          "Panama",
          "Paraguay",
          "Peru",
          "Philippines",
          "Poland",
          "Portugal",
          "Romania",
          "Russia",
          "Rwanda",
          "Saudi Arabia",
          "Senegal",
          "Serbia",
          "Sierra Leone",
          "Singapore",
          "Slovakia",
          "Slovenia",
          "South Africa",
          "South Sudan",
          "Spain",
          "Sri Lanka",
          "Sweden",
          "Switzerland",
          "Taiwan",
          "Tajikistan",
          "Tanzania",
          "Thailand",
          "Togo",
          "Trinidad and Tobago",
          "Tunisia",
          "Turkmenistan",
          "Uganda",
          "Ukraine",
          "United Arab Emirates",
          "United Kingdom",
          "United States",
          "Uruguay",
          "Uzbekistan",
          "Venezuela",
          "Yemen",
          "Zambia",
          "Zimbabwe"
         ],
         "type": "choropleth",
         "z": [
          2.567,
          4.883,
          5.005,
          5.975,
          4.677,
          7.223,
          7.294,
          5.165,
          6.227,
          4.833,
          5.54,
          6.864,
          5.216,
          5.747,
          5.674,
          3.479,
          6.376,
          5.102,
          4.769,
          3.775,
          4.848,
          5.085,
          7.232,
          3.476,
          4.423,
          6.228,
          5.124,
          6.163,
          7.121,
          5.505,
          6.159,
          6.911,
          7.646,
          5.689,
          5.925,
          4.151,
          6.348,
          6.022,
          4.186,
          7.809,
          6.664,
          4.829,
          4.751,
          4.673,
          7.076,
          5.148,
          5.515,
          6.399,
          4.949,
          3.721,
          5.953,
          6,
          7.504,
          3.573,
          5.286,
          4.672,
          4.785,
          7.094,
          7.129,
          6.387,
          5.89,
          5.871,
          4.633,
          6.058,
          4.583,
          6.325,
          6.102,
          5.542,
          4.889,
          5.95,
          4.772,
          3.653,
          4.558,
          5.489,
          6.215,
          7.238,
          4.166,
          3.538,
          5.384,
          4.729,
          4.375,
          6.101,
          6.465,
          5.608,
          5.456,
          5.546,
          5.095,
          4.624,
          4.308,
          4.571,
          5.137,
          7.449,
          7.3,
          6.137,
          4.91,
          4.724,
          5.16,
          7.488,
          5.693,
          6.305,
          5.692,
          5.797,
          6.006,
          6.186,
          5.911,
          6.124,
          5.546,
          3.312,
          6.406,
          4.981,
          5.778,
          3.926,
          6.377,
          6.281,
          6.363,
          4.814,
          2.817,
          6.401,
          4.327,
          7.353,
          7.56,
          6.455,
          5.556,
          3.476,
          5.999,
          4.187,
          6.192,
          4.392,
          5.119,
          4.432,
          4.561,
          6.791,
          7.165,
          6.94,
          6.44,
          6.258,
          5.053,
          3.527,
          3.759,
          3.299
         ]
        }
       ],
       "layout": {
        "annotations": [
         {
          "showarrow": false,
          "text": "Deze kaart weergeeft de happiness index-score van de landen opgenomen in het onderzoek van de VN in 2020",
          "x": 0.5,
          "xref": "paper",
          "y": -0.25,
          "yref": "paper"
         }
        ],
        "template": {
         "data": {
          "bar": [
           {
            "error_x": {
             "color": "#2a3f5f"
            },
            "error_y": {
             "color": "#2a3f5f"
            },
            "marker": {
             "line": {
              "color": "#E5ECF6",
              "width": 0.5
             },
             "pattern": {
              "fillmode": "overlay",
              "size": 10,
              "solidity": 0.2
             }
            },
            "type": "bar"
           }
          ],
          "barpolar": [
           {
            "marker": {
             "line": {
              "color": "#E5ECF6",
              "width": 0.5
             },
             "pattern": {
              "fillmode": "overlay",
              "size": 10,
              "solidity": 0.2
             }
            },
            "type": "barpolar"
           }
          ],
          "carpet": [
           {
            "aaxis": {
             "endlinecolor": "#2a3f5f",
             "gridcolor": "white",
             "linecolor": "white",
             "minorgridcolor": "white",
             "startlinecolor": "#2a3f5f"
            },
            "baxis": {
             "endlinecolor": "#2a3f5f",
             "gridcolor": "white",
             "linecolor": "white",
             "minorgridcolor": "white",
             "startlinecolor": "#2a3f5f"
            },
            "type": "carpet"
           }
          ],
          "choropleth": [
           {
            "colorbar": {
             "outlinewidth": 0,
             "ticks": ""
            },
            "type": "choropleth"
           }
          ],
          "contour": [
           {
            "colorbar": {
             "outlinewidth": 0,
             "ticks": ""
            },
            "colorscale": [
             [
              0,
              "#0d0887"
             ],
             [
              0.1111111111111111,
              "#46039f"
             ],
             [
              0.2222222222222222,
              "#7201a8"
             ],
             [
              0.3333333333333333,
              "#9c179e"
             ],
             [
              0.4444444444444444,
              "#bd3786"
             ],
             [
              0.5555555555555556,
              "#d8576b"
             ],
             [
              0.6666666666666666,
              "#ed7953"
             ],
             [
              0.7777777777777778,
              "#fb9f3a"
             ],
             [
              0.8888888888888888,
              "#fdca26"
             ],
             [
              1,
              "#f0f921"
             ]
            ],
            "type": "contour"
           }
          ],
          "contourcarpet": [
           {
            "colorbar": {
             "outlinewidth": 0,
             "ticks": ""
            },
            "type": "contourcarpet"
           }
          ],
          "heatmap": [
           {
            "colorbar": {
             "outlinewidth": 0,
             "ticks": ""
            },
            "colorscale": [
             [
              0,
              "#0d0887"
             ],
             [
              0.1111111111111111,
              "#46039f"
             ],
             [
              0.2222222222222222,
              "#7201a8"
             ],
             [
              0.3333333333333333,
              "#9c179e"
             ],
             [
              0.4444444444444444,
              "#bd3786"
             ],
             [
              0.5555555555555556,
              "#d8576b"
             ],
             [
              0.6666666666666666,
              "#ed7953"
             ],
             [
              0.7777777777777778,
              "#fb9f3a"
             ],
             [
              0.8888888888888888,
              "#fdca26"
             ],
             [
              1,
              "#f0f921"
             ]
            ],
            "type": "heatmap"
           }
          ],
          "heatmapgl": [
           {
            "colorbar": {
             "outlinewidth": 0,
             "ticks": ""
            },
            "colorscale": [
             [
              0,
              "#0d0887"
             ],
             [
              0.1111111111111111,
              "#46039f"
             ],
             [
              0.2222222222222222,
              "#7201a8"
             ],
             [
              0.3333333333333333,
              "#9c179e"
             ],
             [
              0.4444444444444444,
              "#bd3786"
             ],
             [
              0.5555555555555556,
              "#d8576b"
             ],
             [
              0.6666666666666666,
              "#ed7953"
             ],
             [
              0.7777777777777778,
              "#fb9f3a"
             ],
             [
              0.8888888888888888,
              "#fdca26"
             ],
             [
              1,
              "#f0f921"
             ]
            ],
            "type": "heatmapgl"
           }
          ],
          "histogram": [
           {
            "marker": {
             "pattern": {
              "fillmode": "overlay",
              "size": 10,
              "solidity": 0.2
             }
            },
            "type": "histogram"
           }
          ],
          "histogram2d": [
           {
            "colorbar": {
             "outlinewidth": 0,
             "ticks": ""
            },
            "colorscale": [
             [
              0,
              "#0d0887"
             ],
             [
              0.1111111111111111,
              "#46039f"
             ],
             [
              0.2222222222222222,
              "#7201a8"
             ],
             [
              0.3333333333333333,
              "#9c179e"
             ],
             [
              0.4444444444444444,
              "#bd3786"
             ],
             [
              0.5555555555555556,
              "#d8576b"
             ],
             [
              0.6666666666666666,
              "#ed7953"
             ],
             [
              0.7777777777777778,
              "#fb9f3a"
             ],
             [
              0.8888888888888888,
              "#fdca26"
             ],
             [
              1,
              "#f0f921"
             ]
            ],
            "type": "histogram2d"
           }
          ],
          "histogram2dcontour": [
           {
            "colorbar": {
             "outlinewidth": 0,
             "ticks": ""
            },
            "colorscale": [
             [
              0,
              "#0d0887"
             ],
             [
              0.1111111111111111,
              "#46039f"
             ],
             [
              0.2222222222222222,
              "#7201a8"
             ],
             [
              0.3333333333333333,
              "#9c179e"
             ],
             [
              0.4444444444444444,
              "#bd3786"
             ],
             [
              0.5555555555555556,
              "#d8576b"
             ],
             [
              0.6666666666666666,
              "#ed7953"
             ],
             [
              0.7777777777777778,
              "#fb9f3a"
             ],
             [
              0.8888888888888888,
              "#fdca26"
             ],
             [
              1,
              "#f0f921"
             ]
            ],
            "type": "histogram2dcontour"
           }
          ],
          "mesh3d": [
           {
            "colorbar": {
             "outlinewidth": 0,
             "ticks": ""
            },
            "type": "mesh3d"
           }
          ],
          "parcoords": [
           {
            "line": {
             "colorbar": {
              "outlinewidth": 0,
              "ticks": ""
             }
            },
            "type": "parcoords"
           }
          ],
          "pie": [
           {
            "automargin": true,
            "type": "pie"
           }
          ],
          "scatter": [
           {
            "fillpattern": {
             "fillmode": "overlay",
             "size": 10,
             "solidity": 0.2
            },
            "type": "scatter"
           }
          ],
          "scatter3d": [
           {
            "line": {
             "colorbar": {
              "outlinewidth": 0,
              "ticks": ""
             }
            },
            "marker": {
             "colorbar": {
              "outlinewidth": 0,
              "ticks": ""
             }
            },
            "type": "scatter3d"
           }
          ],
          "scattercarpet": [
           {
            "marker": {
             "colorbar": {
              "outlinewidth": 0,
              "ticks": ""
             }
            },
            "type": "scattercarpet"
           }
          ],
          "scattergeo": [
           {
            "marker": {
             "colorbar": {
              "outlinewidth": 0,
              "ticks": ""
             }
            },
            "type": "scattergeo"
           }
          ],
          "scattergl": [
           {
            "marker": {
             "colorbar": {
              "outlinewidth": 0,
              "ticks": ""
             }
            },
            "type": "scattergl"
           }
          ],
          "scattermapbox": [
           {
            "marker": {
             "colorbar": {
              "outlinewidth": 0,
              "ticks": ""
             }
            },
            "type": "scattermapbox"
           }
          ],
          "scatterpolar": [
           {
            "marker": {
             "colorbar": {
              "outlinewidth": 0,
              "ticks": ""
             }
            },
            "type": "scatterpolar"
           }
          ],
          "scatterpolargl": [
           {
            "marker": {
             "colorbar": {
              "outlinewidth": 0,
              "ticks": ""
             }
            },
            "type": "scatterpolargl"
           }
          ],
          "scatterternary": [
           {
            "marker": {
             "colorbar": {
              "outlinewidth": 0,
              "ticks": ""
             }
            },
            "type": "scatterternary"
           }
          ],
          "surface": [
           {
            "colorbar": {
             "outlinewidth": 0,
             "ticks": ""
            },
            "colorscale": [
             [
              0,
              "#0d0887"
             ],
             [
              0.1111111111111111,
              "#46039f"
             ],
             [
              0.2222222222222222,
              "#7201a8"
             ],
             [
              0.3333333333333333,
              "#9c179e"
             ],
             [
              0.4444444444444444,
              "#bd3786"
             ],
             [
              0.5555555555555556,
              "#d8576b"
             ],
             [
              0.6666666666666666,
              "#ed7953"
             ],
             [
              0.7777777777777778,
              "#fb9f3a"
             ],
             [
              0.8888888888888888,
              "#fdca26"
             ],
             [
              1,
              "#f0f921"
             ]
            ],
            "type": "surface"
           }
          ],
          "table": [
           {
            "cells": {
             "fill": {
              "color": "#EBF0F8"
             },
             "line": {
              "color": "white"
             }
            },
            "header": {
             "fill": {
              "color": "#C8D4E3"
             },
             "line": {
              "color": "white"
             }
            },
            "type": "table"
           }
          ]
         },
         "layout": {
          "annotationdefaults": {
           "arrowcolor": "#2a3f5f",
           "arrowhead": 0,
           "arrowwidth": 1
          },
          "autotypenumbers": "strict",
          "coloraxis": {
           "colorbar": {
            "outlinewidth": 0,
            "ticks": ""
           }
          },
          "colorscale": {
           "diverging": [
            [
             0,
             "#8e0152"
            ],
            [
             0.1,
             "#c51b7d"
            ],
            [
             0.2,
             "#de77ae"
            ],
            [
             0.3,
             "#f1b6da"
            ],
            [
             0.4,
             "#fde0ef"
            ],
            [
             0.5,
             "#f7f7f7"
            ],
            [
             0.6,
             "#e6f5d0"
            ],
            [
             0.7,
             "#b8e186"
            ],
            [
             0.8,
             "#7fbc41"
            ],
            [
             0.9,
             "#4d9221"
            ],
            [
             1,
             "#276419"
            ]
           ],
           "sequential": [
            [
             0,
             "#0d0887"
            ],
            [
             0.1111111111111111,
             "#46039f"
            ],
            [
             0.2222222222222222,
             "#7201a8"
            ],
            [
             0.3333333333333333,
             "#9c179e"
            ],
            [
             0.4444444444444444,
             "#bd3786"
            ],
            [
             0.5555555555555556,
             "#d8576b"
            ],
            [
             0.6666666666666666,
             "#ed7953"
            ],
            [
             0.7777777777777778,
             "#fb9f3a"
            ],
            [
             0.8888888888888888,
             "#fdca26"
            ],
            [
             1,
             "#f0f921"
            ]
           ],
           "sequentialminus": [
            [
             0,
             "#0d0887"
            ],
            [
             0.1111111111111111,
             "#46039f"
            ],
            [
             0.2222222222222222,
             "#7201a8"
            ],
            [
             0.3333333333333333,
             "#9c179e"
            ],
            [
             0.4444444444444444,
             "#bd3786"
            ],
            [
             0.5555555555555556,
             "#d8576b"
            ],
            [
             0.6666666666666666,
             "#ed7953"
            ],
            [
             0.7777777777777778,
             "#fb9f3a"
            ],
            [
             0.8888888888888888,
             "#fdca26"
            ],
            [
             1,
             "#f0f921"
            ]
           ]
          },
          "colorway": [
           "#636efa",
           "#EF553B",
           "#00cc96",
           "#ab63fa",
           "#FFA15A",
           "#19d3f3",
           "#FF6692",
           "#B6E880",
           "#FF97FF",
           "#FECB52"
          ],
          "font": {
           "color": "#2a3f5f"
          },
          "geo": {
           "bgcolor": "white",
           "lakecolor": "white",
           "landcolor": "#E5ECF6",
           "showlakes": true,
           "showland": true,
           "subunitcolor": "white"
          },
          "hoverlabel": {
           "align": "left"
          },
          "hovermode": "closest",
          "mapbox": {
           "style": "light"
          },
          "paper_bgcolor": "white",
          "plot_bgcolor": "#E5ECF6",
          "polar": {
           "angularaxis": {
            "gridcolor": "white",
            "linecolor": "white",
            "ticks": ""
           },
           "bgcolor": "#E5ECF6",
           "radialaxis": {
            "gridcolor": "white",
            "linecolor": "white",
            "ticks": ""
           }
          },
          "scene": {
           "xaxis": {
            "backgroundcolor": "#E5ECF6",
            "gridcolor": "white",
            "gridwidth": 2,
            "linecolor": "white",
            "showbackground": true,
            "ticks": "",
            "zerolinecolor": "white"
           },
           "yaxis": {
            "backgroundcolor": "#E5ECF6",
            "gridcolor": "white",
            "gridwidth": 2,
            "linecolor": "white",
            "showbackground": true,
            "ticks": "",
            "zerolinecolor": "white"
           },
           "zaxis": {
            "backgroundcolor": "#E5ECF6",
            "gridcolor": "white",
            "gridwidth": 2,
            "linecolor": "white",
            "showbackground": true,
            "ticks": "",
            "zerolinecolor": "white"
           }
          },
          "shapedefaults": {
           "line": {
            "color": "#2a3f5f"
           }
          },
          "ternary": {
           "aaxis": {
            "gridcolor": "white",
            "linecolor": "white",
            "ticks": ""
           },
           "baxis": {
            "gridcolor": "white",
            "linecolor": "white",
            "ticks": ""
           },
           "bgcolor": "#E5ECF6",
           "caxis": {
            "gridcolor": "white",
            "linecolor": "white",
            "ticks": ""
           }
          },
          "title": {
           "x": 0.05
          },
          "xaxis": {
           "automargin": true,
           "gridcolor": "white",
           "linecolor": "white",
           "ticks": "",
           "title": {
            "standoff": 15
           },
           "zerolinecolor": "white",
           "zerolinewidth": 2
          },
          "yaxis": {
           "automargin": true,
           "gridcolor": "white",
           "linecolor": "white",
           "ticks": "",
           "title": {
            "standoff": 15
           },
           "zerolinecolor": "white",
           "zerolinewidth": 2
          }
         }
        },
        "title": {
         "text": "Happiness-score landen 2020"
        }
       }
      }
     },
     "metadata": {},
     "output_type": "display_data"
    }
   ],
   "source": [
    "fig1.show()\n",
    "#In de onderstaande afbeelding is per land te zien wat de gemiddelde happiness score is in 2020."
   ]
  },
  {
   "attachments": {},
   "cell_type": "markdown",
   "id": "b2361e45",
   "metadata": {},
   "source": [
    "## Datasets and Preprocessing - The Global State of Democracy Indices\n",
    "\n",
    "\n",
    "The Global State of Democracy Indices is een uitgebreide evaluatie van verschillende factoren die de mate van democratie in een land proberen te meten, opgesteld door het International Institute for Democracy and Electoral Assistance. Doordat een definitie van democratie niet universeel en ook niet gemakkelijk te bepalen is, bestaat het rapportage uit veel verschillende onderwerpen, waarbij de 174 gemeten landen een score krijgen voor elk van deze onderwerpen tussen 0 en 1, met 0 het meest negatief, en 1 het meest positief. Deze scores worden gemeten aan de hand van onderzoek, de ervaringen van burgers en de meningen van journalisten.\n",
    "\n",
    "De dataset die gebruikt zal worden voor ons onderzoek is als volgt:\n",
    "\n",
    "https://www.kaggle.com/datasets/aliaamiri/the-global-state-of-democracy-indices\n",
    "\n",
    "Deze dataset geeft de scores voor elk land in elk van de 157 kwesties tussen 1975 en 2020, deze kwesties zijn de observeerbare variabelen in deze dataset. De namen van de variabelen worden gebruikt om elke kwestie te categoriseren, de uitleg voor elke kwestie staat in een pdf bestand dat meegeleverd werd met de dataset. Elke kwestie beslaat een vraag of stelling die een indicator kan zijn van de mate van democratie in een land. Kwesties kunnen onderwerpen aanslaan als gelijke rechten, persvrijheid, en censuur."
   ]
  },
  {
   "cell_type": "code",
   "execution_count": 4,
   "id": "412d26c5",
   "metadata": {},
   "outputs": [
    {
     "data": {
      "application/vnd.plotly.v1+json": {
       "config": {
        "plotlyServerURL": "https://plot.ly"
       },
       "data": [
        {
         "marker": {
          "color": "rgb(255, 255, 0)"
         },
         "name": "High performing democracy",
         "type": "bar",
         "x": [
          "2013",
          "2015",
          "2016",
          "2017",
          "2018",
          "2019",
          "2020"
         ],
         "y": [
          17,
          18,
          19,
          18,
          17,
          16,
          17
         ]
        },
        {
         "marker": {
          "color": "rgb(102,194,165)"
         },
         "name": "Mid-range performing democracy",
         "type": "bar",
         "x": [
          "2013",
          "2015",
          "2016",
          "2017",
          "2018",
          "2019",
          "2020"
         ],
         "y": [
          54,
          52,
          49,
          51,
          55,
          56,
          52
         ]
        },
        {
         "marker": {
          "color": "rgb(141,160,203)"
         },
         "name": "Weak democracy",
         "type": "bar",
         "x": [
          "2013",
          "2015",
          "2016",
          "2017",
          "2018",
          "2019",
          "2020"
         ],
         "y": [
          22,
          23,
          22,
          21,
          20,
          19,
          21
         ]
        },
        {
         "marker": {
          "color": "rgb(255, 192, 203)"
         },
         "name": "Hybrid Regime",
         "type": "bar",
         "x": [
          "2013",
          "2015",
          "2016",
          "2017",
          "2018",
          "2019",
          "2020"
         ],
         "y": [
          23,
          21,
          21,
          22,
          17,
          18,
          20
         ]
        },
        {
         "marker": {
          "color": "rgb(252,141,98)"
         },
         "name": "Authoritarian Regime",
         "type": "bar",
         "x": [
          "2013",
          "2015",
          "2016",
          "2017",
          "2018",
          "2019",
          "2020"
         ],
         "y": [
          26,
          28,
          30,
          31,
          35,
          34,
          30
         ]
        }
       ],
       "layout": {
        "annotations": [
         {
          "showarrow": false,
          "text": "Deze grafiek visualiseert hoeveel landen deel uit maken van elke categorie van democratie",
          "x": 0.5,
          "xref": "paper",
          "y": -0.25,
          "yref": "paper"
         }
        ],
        "template": {
         "data": {
          "bar": [
           {
            "error_x": {
             "color": "#2a3f5f"
            },
            "error_y": {
             "color": "#2a3f5f"
            },
            "marker": {
             "line": {
              "color": "#E5ECF6",
              "width": 0.5
             },
             "pattern": {
              "fillmode": "overlay",
              "size": 10,
              "solidity": 0.2
             }
            },
            "type": "bar"
           }
          ],
          "barpolar": [
           {
            "marker": {
             "line": {
              "color": "#E5ECF6",
              "width": 0.5
             },
             "pattern": {
              "fillmode": "overlay",
              "size": 10,
              "solidity": 0.2
             }
            },
            "type": "barpolar"
           }
          ],
          "carpet": [
           {
            "aaxis": {
             "endlinecolor": "#2a3f5f",
             "gridcolor": "white",
             "linecolor": "white",
             "minorgridcolor": "white",
             "startlinecolor": "#2a3f5f"
            },
            "baxis": {
             "endlinecolor": "#2a3f5f",
             "gridcolor": "white",
             "linecolor": "white",
             "minorgridcolor": "white",
             "startlinecolor": "#2a3f5f"
            },
            "type": "carpet"
           }
          ],
          "choropleth": [
           {
            "colorbar": {
             "outlinewidth": 0,
             "ticks": ""
            },
            "type": "choropleth"
           }
          ],
          "contour": [
           {
            "colorbar": {
             "outlinewidth": 0,
             "ticks": ""
            },
            "colorscale": [
             [
              0,
              "#0d0887"
             ],
             [
              0.1111111111111111,
              "#46039f"
             ],
             [
              0.2222222222222222,
              "#7201a8"
             ],
             [
              0.3333333333333333,
              "#9c179e"
             ],
             [
              0.4444444444444444,
              "#bd3786"
             ],
             [
              0.5555555555555556,
              "#d8576b"
             ],
             [
              0.6666666666666666,
              "#ed7953"
             ],
             [
              0.7777777777777778,
              "#fb9f3a"
             ],
             [
              0.8888888888888888,
              "#fdca26"
             ],
             [
              1,
              "#f0f921"
             ]
            ],
            "type": "contour"
           }
          ],
          "contourcarpet": [
           {
            "colorbar": {
             "outlinewidth": 0,
             "ticks": ""
            },
            "type": "contourcarpet"
           }
          ],
          "heatmap": [
           {
            "colorbar": {
             "outlinewidth": 0,
             "ticks": ""
            },
            "colorscale": [
             [
              0,
              "#0d0887"
             ],
             [
              0.1111111111111111,
              "#46039f"
             ],
             [
              0.2222222222222222,
              "#7201a8"
             ],
             [
              0.3333333333333333,
              "#9c179e"
             ],
             [
              0.4444444444444444,
              "#bd3786"
             ],
             [
              0.5555555555555556,
              "#d8576b"
             ],
             [
              0.6666666666666666,
              "#ed7953"
             ],
             [
              0.7777777777777778,
              "#fb9f3a"
             ],
             [
              0.8888888888888888,
              "#fdca26"
             ],
             [
              1,
              "#f0f921"
             ]
            ],
            "type": "heatmap"
           }
          ],
          "heatmapgl": [
           {
            "colorbar": {
             "outlinewidth": 0,
             "ticks": ""
            },
            "colorscale": [
             [
              0,
              "#0d0887"
             ],
             [
              0.1111111111111111,
              "#46039f"
             ],
             [
              0.2222222222222222,
              "#7201a8"
             ],
             [
              0.3333333333333333,
              "#9c179e"
             ],
             [
              0.4444444444444444,
              "#bd3786"
             ],
             [
              0.5555555555555556,
              "#d8576b"
             ],
             [
              0.6666666666666666,
              "#ed7953"
             ],
             [
              0.7777777777777778,
              "#fb9f3a"
             ],
             [
              0.8888888888888888,
              "#fdca26"
             ],
             [
              1,
              "#f0f921"
             ]
            ],
            "type": "heatmapgl"
           }
          ],
          "histogram": [
           {
            "marker": {
             "pattern": {
              "fillmode": "overlay",
              "size": 10,
              "solidity": 0.2
             }
            },
            "type": "histogram"
           }
          ],
          "histogram2d": [
           {
            "colorbar": {
             "outlinewidth": 0,
             "ticks": ""
            },
            "colorscale": [
             [
              0,
              "#0d0887"
             ],
             [
              0.1111111111111111,
              "#46039f"
             ],
             [
              0.2222222222222222,
              "#7201a8"
             ],
             [
              0.3333333333333333,
              "#9c179e"
             ],
             [
              0.4444444444444444,
              "#bd3786"
             ],
             [
              0.5555555555555556,
              "#d8576b"
             ],
             [
              0.6666666666666666,
              "#ed7953"
             ],
             [
              0.7777777777777778,
              "#fb9f3a"
             ],
             [
              0.8888888888888888,
              "#fdca26"
             ],
             [
              1,
              "#f0f921"
             ]
            ],
            "type": "histogram2d"
           }
          ],
          "histogram2dcontour": [
           {
            "colorbar": {
             "outlinewidth": 0,
             "ticks": ""
            },
            "colorscale": [
             [
              0,
              "#0d0887"
             ],
             [
              0.1111111111111111,
              "#46039f"
             ],
             [
              0.2222222222222222,
              "#7201a8"
             ],
             [
              0.3333333333333333,
              "#9c179e"
             ],
             [
              0.4444444444444444,
              "#bd3786"
             ],
             [
              0.5555555555555556,
              "#d8576b"
             ],
             [
              0.6666666666666666,
              "#ed7953"
             ],
             [
              0.7777777777777778,
              "#fb9f3a"
             ],
             [
              0.8888888888888888,
              "#fdca26"
             ],
             [
              1,
              "#f0f921"
             ]
            ],
            "type": "histogram2dcontour"
           }
          ],
          "mesh3d": [
           {
            "colorbar": {
             "outlinewidth": 0,
             "ticks": ""
            },
            "type": "mesh3d"
           }
          ],
          "parcoords": [
           {
            "line": {
             "colorbar": {
              "outlinewidth": 0,
              "ticks": ""
             }
            },
            "type": "parcoords"
           }
          ],
          "pie": [
           {
            "automargin": true,
            "type": "pie"
           }
          ],
          "scatter": [
           {
            "fillpattern": {
             "fillmode": "overlay",
             "size": 10,
             "solidity": 0.2
            },
            "type": "scatter"
           }
          ],
          "scatter3d": [
           {
            "line": {
             "colorbar": {
              "outlinewidth": 0,
              "ticks": ""
             }
            },
            "marker": {
             "colorbar": {
              "outlinewidth": 0,
              "ticks": ""
             }
            },
            "type": "scatter3d"
           }
          ],
          "scattercarpet": [
           {
            "marker": {
             "colorbar": {
              "outlinewidth": 0,
              "ticks": ""
             }
            },
            "type": "scattercarpet"
           }
          ],
          "scattergeo": [
           {
            "marker": {
             "colorbar": {
              "outlinewidth": 0,
              "ticks": ""
             }
            },
            "type": "scattergeo"
           }
          ],
          "scattergl": [
           {
            "marker": {
             "colorbar": {
              "outlinewidth": 0,
              "ticks": ""
             }
            },
            "type": "scattergl"
           }
          ],
          "scattermapbox": [
           {
            "marker": {
             "colorbar": {
              "outlinewidth": 0,
              "ticks": ""
             }
            },
            "type": "scattermapbox"
           }
          ],
          "scatterpolar": [
           {
            "marker": {
             "colorbar": {
              "outlinewidth": 0,
              "ticks": ""
             }
            },
            "type": "scatterpolar"
           }
          ],
          "scatterpolargl": [
           {
            "marker": {
             "colorbar": {
              "outlinewidth": 0,
              "ticks": ""
             }
            },
            "type": "scatterpolargl"
           }
          ],
          "scatterternary": [
           {
            "marker": {
             "colorbar": {
              "outlinewidth": 0,
              "ticks": ""
             }
            },
            "type": "scatterternary"
           }
          ],
          "surface": [
           {
            "colorbar": {
             "outlinewidth": 0,
             "ticks": ""
            },
            "colorscale": [
             [
              0,
              "#0d0887"
             ],
             [
              0.1111111111111111,
              "#46039f"
             ],
             [
              0.2222222222222222,
              "#7201a8"
             ],
             [
              0.3333333333333333,
              "#9c179e"
             ],
             [
              0.4444444444444444,
              "#bd3786"
             ],
             [
              0.5555555555555556,
              "#d8576b"
             ],
             [
              0.6666666666666666,
              "#ed7953"
             ],
             [
              0.7777777777777778,
              "#fb9f3a"
             ],
             [
              0.8888888888888888,
              "#fdca26"
             ],
             [
              1,
              "#f0f921"
             ]
            ],
            "type": "surface"
           }
          ],
          "table": [
           {
            "cells": {
             "fill": {
              "color": "#EBF0F8"
             },
             "line": {
              "color": "white"
             }
            },
            "header": {
             "fill": {
              "color": "#C8D4E3"
             },
             "line": {
              "color": "white"
             }
            },
            "type": "table"
           }
          ]
         },
         "layout": {
          "annotationdefaults": {
           "arrowcolor": "#2a3f5f",
           "arrowhead": 0,
           "arrowwidth": 1
          },
          "autotypenumbers": "strict",
          "coloraxis": {
           "colorbar": {
            "outlinewidth": 0,
            "ticks": ""
           }
          },
          "colorscale": {
           "diverging": [
            [
             0,
             "#8e0152"
            ],
            [
             0.1,
             "#c51b7d"
            ],
            [
             0.2,
             "#de77ae"
            ],
            [
             0.3,
             "#f1b6da"
            ],
            [
             0.4,
             "#fde0ef"
            ],
            [
             0.5,
             "#f7f7f7"
            ],
            [
             0.6,
             "#e6f5d0"
            ],
            [
             0.7,
             "#b8e186"
            ],
            [
             0.8,
             "#7fbc41"
            ],
            [
             0.9,
             "#4d9221"
            ],
            [
             1,
             "#276419"
            ]
           ],
           "sequential": [
            [
             0,
             "#0d0887"
            ],
            [
             0.1111111111111111,
             "#46039f"
            ],
            [
             0.2222222222222222,
             "#7201a8"
            ],
            [
             0.3333333333333333,
             "#9c179e"
            ],
            [
             0.4444444444444444,
             "#bd3786"
            ],
            [
             0.5555555555555556,
             "#d8576b"
            ],
            [
             0.6666666666666666,
             "#ed7953"
            ],
            [
             0.7777777777777778,
             "#fb9f3a"
            ],
            [
             0.8888888888888888,
             "#fdca26"
            ],
            [
             1,
             "#f0f921"
            ]
           ],
           "sequentialminus": [
            [
             0,
             "#0d0887"
            ],
            [
             0.1111111111111111,
             "#46039f"
            ],
            [
             0.2222222222222222,
             "#7201a8"
            ],
            [
             0.3333333333333333,
             "#9c179e"
            ],
            [
             0.4444444444444444,
             "#bd3786"
            ],
            [
             0.5555555555555556,
             "#d8576b"
            ],
            [
             0.6666666666666666,
             "#ed7953"
            ],
            [
             0.7777777777777778,
             "#fb9f3a"
            ],
            [
             0.8888888888888888,
             "#fdca26"
            ],
            [
             1,
             "#f0f921"
            ]
           ]
          },
          "colorway": [
           "#636efa",
           "#EF553B",
           "#00cc96",
           "#ab63fa",
           "#FFA15A",
           "#19d3f3",
           "#FF6692",
           "#B6E880",
           "#FF97FF",
           "#FECB52"
          ],
          "font": {
           "color": "#2a3f5f"
          },
          "geo": {
           "bgcolor": "white",
           "lakecolor": "white",
           "landcolor": "#E5ECF6",
           "showlakes": true,
           "showland": true,
           "subunitcolor": "white"
          },
          "hoverlabel": {
           "align": "left"
          },
          "hovermode": "closest",
          "mapbox": {
           "style": "light"
          },
          "paper_bgcolor": "white",
          "plot_bgcolor": "#E5ECF6",
          "polar": {
           "angularaxis": {
            "gridcolor": "white",
            "linecolor": "white",
            "ticks": ""
           },
           "bgcolor": "#E5ECF6",
           "radialaxis": {
            "gridcolor": "white",
            "linecolor": "white",
            "ticks": ""
           }
          },
          "scene": {
           "xaxis": {
            "backgroundcolor": "#E5ECF6",
            "gridcolor": "white",
            "gridwidth": 2,
            "linecolor": "white",
            "showbackground": true,
            "ticks": "",
            "zerolinecolor": "white"
           },
           "yaxis": {
            "backgroundcolor": "#E5ECF6",
            "gridcolor": "white",
            "gridwidth": 2,
            "linecolor": "white",
            "showbackground": true,
            "ticks": "",
            "zerolinecolor": "white"
           },
           "zaxis": {
            "backgroundcolor": "#E5ECF6",
            "gridcolor": "white",
            "gridwidth": 2,
            "linecolor": "white",
            "showbackground": true,
            "ticks": "",
            "zerolinecolor": "white"
           }
          },
          "shapedefaults": {
           "line": {
            "color": "#2a3f5f"
           }
          },
          "ternary": {
           "aaxis": {
            "gridcolor": "white",
            "linecolor": "white",
            "ticks": ""
           },
           "baxis": {
            "gridcolor": "white",
            "linecolor": "white",
            "ticks": ""
           },
           "bgcolor": "#E5ECF6",
           "caxis": {
            "gridcolor": "white",
            "linecolor": "white",
            "ticks": ""
           }
          },
          "title": {
           "x": 0.05
          },
          "xaxis": {
           "automargin": true,
           "gridcolor": "white",
           "linecolor": "white",
           "ticks": "",
           "title": {
            "standoff": 15
           },
           "zerolinecolor": "white",
           "zerolinewidth": 2
          },
          "yaxis": {
           "automargin": true,
           "gridcolor": "white",
           "linecolor": "white",
           "ticks": "",
           "title": {
            "standoff": 15
           },
           "zerolinecolor": "white",
           "zerolinewidth": 2
          }
         }
        },
        "title": {
         "text": "Verschillende voorkomende vormen van democratie in de wereld"
        },
        "xaxis": {
         "title": {
          "text": "Jaren"
         }
        },
        "yaxis": {
         "title": {
          "text": "Aantal landen"
         }
        }
       }
      }
     },
     "metadata": {},
     "output_type": "display_data"
    }
   ],
   "source": [
    "barplot.update_layout(layout)\n",
    "##In de onderstaande afbeelding zijn de voorkomnde vormen van democratie in de wereld weergeven in aantallen. "
   ]
  },
  {
   "attachments": {},
   "cell_type": "markdown",
   "id": "4652b062",
   "metadata": {},
   "source": [
    "### Creëren van de uiteindelijke dataset\n",
    "\n",
    "Om een dataset te krijgen die de gegevens van de twee gevonden datasets combineert, moesten de variabelen op elkaar aan kunnen sluiten, dit is gedaan middels de merge functie van Pandas. Eerst werd de gecombineerde dataset opgesteld door de twee datasets samen te voegen op jaartal, waardoor de uiteindelijke dataset gegevens zou hebben van 2013 tot en met 2020 (m.u.v 2014). Daarnaast werden de datasets gecombineerd op land, aangezien beide datasets niet evenveel landen bevatten. Hiervoor moesten tevens de namen van een aantal landen aangepast worden, zodat deze universeel waren."
   ]
  },
  {
   "attachments": {},
   "cell_type": "markdown",
   "id": "82ee2c89",
   "metadata": {},
   "source": [
    "# Perspectieven\n",
    "\n",
    "Voor dit onderzoek zal er vanuit twee tegenovergestelde perspectieven bekeken worden naar de kwestie of er een verband bestaat tussen de mate van democratie en het algemene niveau van geluk binnen een land.\n",
    "\n",
    "Het eerste perspectief zal beargumenteren dat een hogere mate van democratie, ook zal leiden tot een hogere ervaring van geluk, met als hoofdargument dat democratie vanzelfsprekend positief is, en daardoor haar burgers positieve gevoelens mee te brengen door middel van de mogelijkheid van bevolkingsparticipatie en het gevoel dat de overheid naar haar burgers luistert.\n",
    "\n",
    "Het andere perspectief zal beargumenteren dat, los van de discussie of democratie een positieve of negatieve kracht is, geen primaire bron van geluk is voor de inwoners van een land. Het voornaamste argument voor dit perspectief zal zijn dat er veel dingen zijn die mensen geluk bezorgen, maar de mate van democratie niet één van de grootste is, en daardoor weinig overeen zal komen met metingen van geluk."
   ]
  },
  {
   "attachments": {},
   "cell_type": "markdown",
   "id": "a69d6373",
   "metadata": {},
   "source": [
    "# Observaties\n",
    "\n",
    "Om te ondervinden of er een correlatie bestaat tussen de mate van democratie en de mate van geluk in een land, is het belangrijk om te weten wat er geobserveerd moet worden. Om het onderzoek een schaal te geven die behandelbaar was, is er voor gekozen 3 metingen van democratie te selecteren. Voor elk van deze drie metingen wordt er gekeken naar drie landen. \n",
    "\n",
    "De Global State of Democracy Indices dataset bevat meer dan 160 verschillende metingen van democratie, deze metingen spannen over meerdere onderwerpen die bij elkaar een basis vormen die toe staat te monitoren hoe het met de democratie gesteld is in een land. Elke meting in de dataset is één voor één bekeken, en de bredere metingen met potentie werden genoteerd. Uiteindelijk zijn er drie geselecteerd die de hoofdonderwerpen goed vertegenwoordigen:\n",
    "\n",
    "<b>Origineel</b>: How routinely do public sector employees grant favours in exchange for bribes or other material inducements?\n",
    "<br><b>Nederlands</b>: Hoe vaak verlenen werknemers in de publieke sector gunsten in ruil voor omkopingen of andere materiële wensen?\n",
    "<br><b>Variabele</b>: V_41_01\n",
    "<br><b>Hoofdonderwerp</b>: Corruptie\n",
    "\n",
    "<b>Origineel</b>: Do poor people enjoy the same level of civil liberties as rich people do?\n",
    "<br><b>Nederlands</b>: Genieten arme mensen evenveel van burgerlijke vrijheden als rijke mensen?\n",
    "<br><b>Variabele</b>: V_23_01\n",
    "<br><b>Hoofdonderwerp</b>: Gelijkheid\n",
    "\n",
    "<b>Origineel</b>: Does the government directly or indirectly attempt to censor the print or broadcast media?\n",
    "<br><b>Nederlands</b>: Probeert de regering op directe of indirecte wijze de gedrukte of uitzendmedia te censureren?\n",
    "<br><b>Variabele</b>:V_22_01\n",
    "<br><b>Hoofdonderwerp</b>: Censuur\n",
    "\n",
    "De drie gekozen landen zijn gekozen om ieders twee verschillende variabelen te representeren; de mate van welvaart en de verandering van de happiness index. \n",
    "\n",
    "Ijsland is gekozen als centrumland met een stabiele happiness index\n",
    "\n",
    "Roemenië is gekozen als semi-periferisch land met een stijgende happiness index\n",
    "\n",
    "Venezuela is gekozen als periferisch land met een dalende happiness index"
   ]
  },
  {
   "cell_type": "code",
   "execution_count": 5,
   "id": "7455d8fa",
   "metadata": {},
   "outputs": [
    {
     "data": {
      "application/vnd.plotly.v1+json": {
       "config": {
        "plotlyServerURL": "https://plot.ly"
       },
       "data": [
        {
         "marker": {
          "color": "rgb(100,40,255)"
         },
         "mode": "lines",
         "name": "Iceland",
         "type": "scatter",
         "x": [
          2013,
          2015,
          2016,
          2017,
          2018,
          2019,
          2020
         ],
         "y": [
          7.355,
          7.561,
          7.501,
          7.504,
          7.494,
          7.554,
          7.504
         ]
        },
        {
         "marker": {
          "color": "rgb(102,194,165)"
         },
         "mode": "lines",
         "name": "Venezuela",
         "type": "scatter",
         "x": [
          2013,
          2015,
          2016,
          2017,
          2018,
          2019,
          2020
         ],
         "y": [
          7.039,
          6.81,
          6.084,
          5.25,
          4.806,
          4.707,
          5.053
         ]
        },
        {
         "marker": {
          "color": "rgb(252,141,98)"
         },
         "mode": "lines",
         "name": "Romania",
         "type": "scatter",
         "x": [
          2013,
          2015,
          2016,
          2017,
          2018,
          2019,
          2020
         ],
         "y": [
          5.033,
          5.124,
          5.528,
          5.825,
          5.945,
          6.07,
          6.124
         ]
        }
       ],
       "layout": {
        "annotations": [
         {
          "showarrow": false,
          "text": "Deze Grafiek toont de happiness index aan voor de drie gekozen landen",
          "x": 0.5,
          "xref": "paper",
          "y": -0.25,
          "yref": "paper"
         }
        ],
        "template": {
         "data": {
          "bar": [
           {
            "error_x": {
             "color": "#2a3f5f"
            },
            "error_y": {
             "color": "#2a3f5f"
            },
            "marker": {
             "line": {
              "color": "#E5ECF6",
              "width": 0.5
             },
             "pattern": {
              "fillmode": "overlay",
              "size": 10,
              "solidity": 0.2
             }
            },
            "type": "bar"
           }
          ],
          "barpolar": [
           {
            "marker": {
             "line": {
              "color": "#E5ECF6",
              "width": 0.5
             },
             "pattern": {
              "fillmode": "overlay",
              "size": 10,
              "solidity": 0.2
             }
            },
            "type": "barpolar"
           }
          ],
          "carpet": [
           {
            "aaxis": {
             "endlinecolor": "#2a3f5f",
             "gridcolor": "white",
             "linecolor": "white",
             "minorgridcolor": "white",
             "startlinecolor": "#2a3f5f"
            },
            "baxis": {
             "endlinecolor": "#2a3f5f",
             "gridcolor": "white",
             "linecolor": "white",
             "minorgridcolor": "white",
             "startlinecolor": "#2a3f5f"
            },
            "type": "carpet"
           }
          ],
          "choropleth": [
           {
            "colorbar": {
             "outlinewidth": 0,
             "ticks": ""
            },
            "type": "choropleth"
           }
          ],
          "contour": [
           {
            "colorbar": {
             "outlinewidth": 0,
             "ticks": ""
            },
            "colorscale": [
             [
              0,
              "#0d0887"
             ],
             [
              0.1111111111111111,
              "#46039f"
             ],
             [
              0.2222222222222222,
              "#7201a8"
             ],
             [
              0.3333333333333333,
              "#9c179e"
             ],
             [
              0.4444444444444444,
              "#bd3786"
             ],
             [
              0.5555555555555556,
              "#d8576b"
             ],
             [
              0.6666666666666666,
              "#ed7953"
             ],
             [
              0.7777777777777778,
              "#fb9f3a"
             ],
             [
              0.8888888888888888,
              "#fdca26"
             ],
             [
              1,
              "#f0f921"
             ]
            ],
            "type": "contour"
           }
          ],
          "contourcarpet": [
           {
            "colorbar": {
             "outlinewidth": 0,
             "ticks": ""
            },
            "type": "contourcarpet"
           }
          ],
          "heatmap": [
           {
            "colorbar": {
             "outlinewidth": 0,
             "ticks": ""
            },
            "colorscale": [
             [
              0,
              "#0d0887"
             ],
             [
              0.1111111111111111,
              "#46039f"
             ],
             [
              0.2222222222222222,
              "#7201a8"
             ],
             [
              0.3333333333333333,
              "#9c179e"
             ],
             [
              0.4444444444444444,
              "#bd3786"
             ],
             [
              0.5555555555555556,
              "#d8576b"
             ],
             [
              0.6666666666666666,
              "#ed7953"
             ],
             [
              0.7777777777777778,
              "#fb9f3a"
             ],
             [
              0.8888888888888888,
              "#fdca26"
             ],
             [
              1,
              "#f0f921"
             ]
            ],
            "type": "heatmap"
           }
          ],
          "heatmapgl": [
           {
            "colorbar": {
             "outlinewidth": 0,
             "ticks": ""
            },
            "colorscale": [
             [
              0,
              "#0d0887"
             ],
             [
              0.1111111111111111,
              "#46039f"
             ],
             [
              0.2222222222222222,
              "#7201a8"
             ],
             [
              0.3333333333333333,
              "#9c179e"
             ],
             [
              0.4444444444444444,
              "#bd3786"
             ],
             [
              0.5555555555555556,
              "#d8576b"
             ],
             [
              0.6666666666666666,
              "#ed7953"
             ],
             [
              0.7777777777777778,
              "#fb9f3a"
             ],
             [
              0.8888888888888888,
              "#fdca26"
             ],
             [
              1,
              "#f0f921"
             ]
            ],
            "type": "heatmapgl"
           }
          ],
          "histogram": [
           {
            "marker": {
             "pattern": {
              "fillmode": "overlay",
              "size": 10,
              "solidity": 0.2
             }
            },
            "type": "histogram"
           }
          ],
          "histogram2d": [
           {
            "colorbar": {
             "outlinewidth": 0,
             "ticks": ""
            },
            "colorscale": [
             [
              0,
              "#0d0887"
             ],
             [
              0.1111111111111111,
              "#46039f"
             ],
             [
              0.2222222222222222,
              "#7201a8"
             ],
             [
              0.3333333333333333,
              "#9c179e"
             ],
             [
              0.4444444444444444,
              "#bd3786"
             ],
             [
              0.5555555555555556,
              "#d8576b"
             ],
             [
              0.6666666666666666,
              "#ed7953"
             ],
             [
              0.7777777777777778,
              "#fb9f3a"
             ],
             [
              0.8888888888888888,
              "#fdca26"
             ],
             [
              1,
              "#f0f921"
             ]
            ],
            "type": "histogram2d"
           }
          ],
          "histogram2dcontour": [
           {
            "colorbar": {
             "outlinewidth": 0,
             "ticks": ""
            },
            "colorscale": [
             [
              0,
              "#0d0887"
             ],
             [
              0.1111111111111111,
              "#46039f"
             ],
             [
              0.2222222222222222,
              "#7201a8"
             ],
             [
              0.3333333333333333,
              "#9c179e"
             ],
             [
              0.4444444444444444,
              "#bd3786"
             ],
             [
              0.5555555555555556,
              "#d8576b"
             ],
             [
              0.6666666666666666,
              "#ed7953"
             ],
             [
              0.7777777777777778,
              "#fb9f3a"
             ],
             [
              0.8888888888888888,
              "#fdca26"
             ],
             [
              1,
              "#f0f921"
             ]
            ],
            "type": "histogram2dcontour"
           }
          ],
          "mesh3d": [
           {
            "colorbar": {
             "outlinewidth": 0,
             "ticks": ""
            },
            "type": "mesh3d"
           }
          ],
          "parcoords": [
           {
            "line": {
             "colorbar": {
              "outlinewidth": 0,
              "ticks": ""
             }
            },
            "type": "parcoords"
           }
          ],
          "pie": [
           {
            "automargin": true,
            "type": "pie"
           }
          ],
          "scatter": [
           {
            "fillpattern": {
             "fillmode": "overlay",
             "size": 10,
             "solidity": 0.2
            },
            "type": "scatter"
           }
          ],
          "scatter3d": [
           {
            "line": {
             "colorbar": {
              "outlinewidth": 0,
              "ticks": ""
             }
            },
            "marker": {
             "colorbar": {
              "outlinewidth": 0,
              "ticks": ""
             }
            },
            "type": "scatter3d"
           }
          ],
          "scattercarpet": [
           {
            "marker": {
             "colorbar": {
              "outlinewidth": 0,
              "ticks": ""
             }
            },
            "type": "scattercarpet"
           }
          ],
          "scattergeo": [
           {
            "marker": {
             "colorbar": {
              "outlinewidth": 0,
              "ticks": ""
             }
            },
            "type": "scattergeo"
           }
          ],
          "scattergl": [
           {
            "marker": {
             "colorbar": {
              "outlinewidth": 0,
              "ticks": ""
             }
            },
            "type": "scattergl"
           }
          ],
          "scattermapbox": [
           {
            "marker": {
             "colorbar": {
              "outlinewidth": 0,
              "ticks": ""
             }
            },
            "type": "scattermapbox"
           }
          ],
          "scatterpolar": [
           {
            "marker": {
             "colorbar": {
              "outlinewidth": 0,
              "ticks": ""
             }
            },
            "type": "scatterpolar"
           }
          ],
          "scatterpolargl": [
           {
            "marker": {
             "colorbar": {
              "outlinewidth": 0,
              "ticks": ""
             }
            },
            "type": "scatterpolargl"
           }
          ],
          "scatterternary": [
           {
            "marker": {
             "colorbar": {
              "outlinewidth": 0,
              "ticks": ""
             }
            },
            "type": "scatterternary"
           }
          ],
          "surface": [
           {
            "colorbar": {
             "outlinewidth": 0,
             "ticks": ""
            },
            "colorscale": [
             [
              0,
              "#0d0887"
             ],
             [
              0.1111111111111111,
              "#46039f"
             ],
             [
              0.2222222222222222,
              "#7201a8"
             ],
             [
              0.3333333333333333,
              "#9c179e"
             ],
             [
              0.4444444444444444,
              "#bd3786"
             ],
             [
              0.5555555555555556,
              "#d8576b"
             ],
             [
              0.6666666666666666,
              "#ed7953"
             ],
             [
              0.7777777777777778,
              "#fb9f3a"
             ],
             [
              0.8888888888888888,
              "#fdca26"
             ],
             [
              1,
              "#f0f921"
             ]
            ],
            "type": "surface"
           }
          ],
          "table": [
           {
            "cells": {
             "fill": {
              "color": "#EBF0F8"
             },
             "line": {
              "color": "white"
             }
            },
            "header": {
             "fill": {
              "color": "#C8D4E3"
             },
             "line": {
              "color": "white"
             }
            },
            "type": "table"
           }
          ]
         },
         "layout": {
          "annotationdefaults": {
           "arrowcolor": "#2a3f5f",
           "arrowhead": 0,
           "arrowwidth": 1
          },
          "autotypenumbers": "strict",
          "coloraxis": {
           "colorbar": {
            "outlinewidth": 0,
            "ticks": ""
           }
          },
          "colorscale": {
           "diverging": [
            [
             0,
             "#8e0152"
            ],
            [
             0.1,
             "#c51b7d"
            ],
            [
             0.2,
             "#de77ae"
            ],
            [
             0.3,
             "#f1b6da"
            ],
            [
             0.4,
             "#fde0ef"
            ],
            [
             0.5,
             "#f7f7f7"
            ],
            [
             0.6,
             "#e6f5d0"
            ],
            [
             0.7,
             "#b8e186"
            ],
            [
             0.8,
             "#7fbc41"
            ],
            [
             0.9,
             "#4d9221"
            ],
            [
             1,
             "#276419"
            ]
           ],
           "sequential": [
            [
             0,
             "#0d0887"
            ],
            [
             0.1111111111111111,
             "#46039f"
            ],
            [
             0.2222222222222222,
             "#7201a8"
            ],
            [
             0.3333333333333333,
             "#9c179e"
            ],
            [
             0.4444444444444444,
             "#bd3786"
            ],
            [
             0.5555555555555556,
             "#d8576b"
            ],
            [
             0.6666666666666666,
             "#ed7953"
            ],
            [
             0.7777777777777778,
             "#fb9f3a"
            ],
            [
             0.8888888888888888,
             "#fdca26"
            ],
            [
             1,
             "#f0f921"
            ]
           ],
           "sequentialminus": [
            [
             0,
             "#0d0887"
            ],
            [
             0.1111111111111111,
             "#46039f"
            ],
            [
             0.2222222222222222,
             "#7201a8"
            ],
            [
             0.3333333333333333,
             "#9c179e"
            ],
            [
             0.4444444444444444,
             "#bd3786"
            ],
            [
             0.5555555555555556,
             "#d8576b"
            ],
            [
             0.6666666666666666,
             "#ed7953"
            ],
            [
             0.7777777777777778,
             "#fb9f3a"
            ],
            [
             0.8888888888888888,
             "#fdca26"
            ],
            [
             1,
             "#f0f921"
            ]
           ]
          },
          "colorway": [
           "#636efa",
           "#EF553B",
           "#00cc96",
           "#ab63fa",
           "#FFA15A",
           "#19d3f3",
           "#FF6692",
           "#B6E880",
           "#FF97FF",
           "#FECB52"
          ],
          "font": {
           "color": "#2a3f5f"
          },
          "geo": {
           "bgcolor": "white",
           "lakecolor": "white",
           "landcolor": "#E5ECF6",
           "showlakes": true,
           "showland": true,
           "subunitcolor": "white"
          },
          "hoverlabel": {
           "align": "left"
          },
          "hovermode": "closest",
          "mapbox": {
           "style": "light"
          },
          "paper_bgcolor": "white",
          "plot_bgcolor": "#E5ECF6",
          "polar": {
           "angularaxis": {
            "gridcolor": "white",
            "linecolor": "white",
            "ticks": ""
           },
           "bgcolor": "#E5ECF6",
           "radialaxis": {
            "gridcolor": "white",
            "linecolor": "white",
            "ticks": ""
           }
          },
          "scene": {
           "xaxis": {
            "backgroundcolor": "#E5ECF6",
            "gridcolor": "white",
            "gridwidth": 2,
            "linecolor": "white",
            "showbackground": true,
            "ticks": "",
            "zerolinecolor": "white"
           },
           "yaxis": {
            "backgroundcolor": "#E5ECF6",
            "gridcolor": "white",
            "gridwidth": 2,
            "linecolor": "white",
            "showbackground": true,
            "ticks": "",
            "zerolinecolor": "white"
           },
           "zaxis": {
            "backgroundcolor": "#E5ECF6",
            "gridcolor": "white",
            "gridwidth": 2,
            "linecolor": "white",
            "showbackground": true,
            "ticks": "",
            "zerolinecolor": "white"
           }
          },
          "shapedefaults": {
           "line": {
            "color": "#2a3f5f"
           }
          },
          "ternary": {
           "aaxis": {
            "gridcolor": "white",
            "linecolor": "white",
            "ticks": ""
           },
           "baxis": {
            "gridcolor": "white",
            "linecolor": "white",
            "ticks": ""
           },
           "bgcolor": "#E5ECF6",
           "caxis": {
            "gridcolor": "white",
            "linecolor": "white",
            "ticks": ""
           }
          },
          "title": {
           "x": 0.05
          },
          "xaxis": {
           "automargin": true,
           "gridcolor": "white",
           "linecolor": "white",
           "ticks": "",
           "title": {
            "standoff": 15
           },
           "zerolinecolor": "white",
           "zerolinewidth": 2
          },
          "yaxis": {
           "automargin": true,
           "gridcolor": "white",
           "linecolor": "white",
           "ticks": "",
           "title": {
            "standoff": 15
           },
           "zerolinecolor": "white",
           "zerolinewidth": 2
          }
         }
        },
        "title": {
         "font": {
          "size": 13
         },
         "text": "Happiness index voor Ijsland, Venezuela en Roemenië"
        },
        "xaxis": {
         "title": {
          "text": "Jaar"
         }
        },
        "yaxis": {
         "title": {
          "text": "Happiness Index"
         }
        }
       }
      }
     },
     "metadata": {},
     "output_type": "display_data"
    }
   ],
   "source": [
    "fig_widget4.show()"
   ]
  },
  {
   "attachments": {},
   "cell_type": "markdown",
   "id": "5300333e",
   "metadata": {},
   "source": [
    "### Belangrijke opmerkingen met betrekking tot de verwerkte data\n",
    "\n",
    "Er is geen data voor het jaar 2014, dit is vanwege het feit dat er in dat jaar geen World Happiness Report is geschreven door de VN. \n",
    "\n",
    "De score voor de Democracy Indices is op een schaal van 0 tot 1, met 0 als slechtst mogelijke situatie, en 1 de best mogelijke situatie. De score van de happiness index staan op een schaal van 0 tot 10, met 0 als slechtst mogelijke situatie en 10 als best mogelijke situatie. Om de scores makkelijk te kunnen vergelijken zijn de waardes van de democracy indices vermedigvuldigt met een factor van 10."
   ]
  },
  {
   "cell_type": "code",
   "execution_count": 6,
   "id": "61085e0d",
   "metadata": {},
   "outputs": [
    {
     "data": {
      "application/vnd.jupyter.widget-view+json": {
       "model_id": "d0bf4bb847454f18879bf71c63c73152",
       "version_major": 2,
       "version_minor": 0
      },
      "text/plain": [
       "VBox(children=(Dropdown(description='Land:', options=('Iceland', 'Venezuela', 'Romania'), value='Iceland'),))"
      ]
     },
     "metadata": {},
     "output_type": "display_data"
    },
    {
     "data": {
      "application/vnd.jupyter.widget-view+json": {
       "model_id": "ff3fc53af6454f399564f5fd7f689063",
       "version_major": 2,
       "version_minor": 0
      },
      "text/plain": [
       "FigureWidget({\n",
       "    'data': [],\n",
       "    'layout': {'annotations': [{'showarrow': False,\n",
       "                                'text': ('Deze Grafiek toont de relatie ' ... 'mate van corruptie in een land'),\n",
       "                                'x': 0.5,\n",
       "                                'xref': 'paper',\n",
       "                                'y': -0.25,\n",
       "                                'yref': 'paper'}],\n",
       "               'template': '...',\n",
       "               'title': {'font': {'size': 13},\n",
       "                         'text': ('Hoe vaak verlenen werknemers i' ... 'en of andere materiële wensen?')},\n",
       "               'xaxis': {'title': {'text': 'Jaar'}},\n",
       "               'yaxis': {'title': {'text': 'Score'}}}\n",
       "})"
      ]
     },
     "metadata": {},
     "output_type": "display_data"
    }
   ],
   "source": [
    "display(container, fig_widget)\n"
   ]
  },
  {
   "attachments": {},
   "cell_type": "markdown",
   "id": "11e41de2",
   "metadata": {},
   "source": [
    "## Analyse van stelling: Corruptie\n",
    "\n",
    "Bovenstaande grafiek visualiseert de happiness index met de stelling: 'Hoe vaak verlenen werknemers in de publieke sector gunsten in ruil voor omkopingen of andere materiële wensen?'. IJsland scoort relatief erg hoog met betrekking tot de stelling. Werknemers worden dus relatief weinig omgekocht, dit heeft een positieve invloed op de democracy index. Ook is te zien dat de score van IJsland niet fluctueert, waaruit ook blijkt dat het land een sterke democratie is. De happiness index van IJsland is ook relatief sterk, deze schommelt rond de 7.5. \n",
    "\n",
    "Venezuela toont een geheel andere grafiek. De score m.b.t. de stelling is extreem laag. In 2013 scoort het land nog rond de 1, maar dit zakt al snel af richting 0.2. Dit gebeurt in 2015. In datzelfde jaar neemt ook de happiness index af. De Pearson Correlation Coefficient (PCC) tussen de twee scores is 0.788. Er is dus een correlatie. \n",
    "\n",
    "Roemenië heeft een stijgende happiness index. Het land wordt gedurende de jaren blijer. Van 2016-2017 is er een flinke daling te zien in de score m.b.t. de stelling. De lage PCC van 0.180 zegt echter dat er geen verband is tussen de twee."
   ]
  },
  {
   "cell_type": "code",
   "execution_count": 7,
   "id": "68a651f6",
   "metadata": {},
   "outputs": [
    {
     "data": {
      "application/vnd.jupyter.widget-view+json": {
       "model_id": "0b82411701474350a15775a41e1e189f",
       "version_major": 2,
       "version_minor": 0
      },
      "text/plain": [
       "VBox(children=(Dropdown(description='Land:', options=('Iceland', 'Venezuela', 'Romania'), value='Iceland'),))"
      ]
     },
     "metadata": {},
     "output_type": "display_data"
    },
    {
     "data": {
      "application/vnd.jupyter.widget-view+json": {
       "model_id": "fe4d4df98ad445c4a5dc2ba3bb95f245",
       "version_major": 2,
       "version_minor": 0
      },
      "text/plain": [
       "FigureWidget({\n",
       "    'data': [],\n",
       "    'layout': {'annotations': [{'showarrow': False,\n",
       "                                'text': ('Deze Grafiek toont de relatie ' ... 'ate van gelijkheid in een land'),\n",
       "                                'x': 0.5,\n",
       "                                'xref': 'paper',\n",
       "                                'y': -0.25,\n",
       "                                'yref': 'paper'}],\n",
       "               'template': '...',\n",
       "               'title': {'font': {'size': 13},\n",
       "                         'text': 'Genieten arme mensen evenveel van burgerlijke vrijheden als rijke mensen?'},\n",
       "               'xaxis': {'title': {'text': 'Jaar'}},\n",
       "               'yaxis': {'title': {'text': 'Score'}}}\n",
       "})"
      ]
     },
     "metadata": {},
     "output_type": "display_data"
    }
   ],
   "source": [
    "display(container2, fig_widget2)\n"
   ]
  },
  {
   "attachments": {},
   "cell_type": "markdown",
   "id": "7aab7a6b",
   "metadata": {},
   "source": [
    "## Analyse van stelling: Gelijkheid\n",
    "\n",
    "De tweede stelling luidt: 'Genieten arme mensen evenveel van burgerlijke vrijheden als rijke mensen?'. IJsland weergeeft direct een interessante visualisatie. De score m.b.t. tot de stelling daalt aanzienlijk. Dit heeft dan weer geen gevolg op de happiness index. Dit blijkt echter niet uit de PCC van -0.77. \n",
    "\n",
    "De score m.b.t. de stelling van Venezuela fluctueert lichtelijk. De lichte daling loopt relatief gelijk met de sterkere daling van de happiness index van een 7 naar een 5. Dit blijkt ook uit de PCC van 0.83. \n",
    "\n",
    "Roemenië scoort relatief hoog m.b.t. de stelling, rond de 7.6. Vanaf 2017 gaat deze echter fluctueren. Er vindt een daling plaats, waarna deze weer redelijk wordt gecorrigeerd. De happiness index stijgt vanaf 2015."
   ]
  },
  {
   "cell_type": "code",
   "execution_count": 8,
   "id": "09b6ed4f",
   "metadata": {},
   "outputs": [
    {
     "data": {
      "application/vnd.jupyter.widget-view+json": {
       "model_id": "b1de756ffde94aa78d328c76f537ddd4",
       "version_major": 2,
       "version_minor": 0
      },
      "text/plain": [
       "VBox(children=(Dropdown(description='Land:', options=('Iceland', 'Venezuela', 'Romania'), value='Iceland'),))"
      ]
     },
     "metadata": {},
     "output_type": "display_data"
    },
    {
     "data": {
      "application/vnd.jupyter.widget-view+json": {
       "model_id": "22cb99a7ced14e5ca00c6a52dd57df5c",
       "version_major": 2,
       "version_minor": 0
      },
      "text/plain": [
       "FigureWidget({\n",
       "    'data': [],\n",
       "    'layout': {'annotations': [{'showarrow': False,\n",
       "                                'text': ('Deze Grafiek toont de relatie ' ... 'e mate van censuur in een land'),\n",
       "                                'x': 0.5,\n",
       "                                'xref': 'paper',\n",
       "                                'y': -0.25,\n",
       "                                'yref': 'paper'}],\n",
       "               'template': '...',\n",
       "               'title': {'font': {'size': 13},\n",
       "                         'text': ('Probeert de regering op direct' ... 'of uitzendmedia te censureren?')},\n",
       "               'xaxis': {'title': {'text': 'Jaar'}},\n",
       "               'yaxis': {'title': {'text': 'Score'}}}\n",
       "})"
      ]
     },
     "metadata": {},
     "output_type": "display_data"
    }
   ],
   "source": [
    "display(container3, fig_widget3)\n"
   ]
  },
  {
   "attachments": {},
   "cell_type": "markdown",
   "id": "1acf7631",
   "metadata": {},
   "source": [
    "## Analyse van stelling: Censuur\n",
    "\n",
    "De derde stelling luidt: 'Probeert de regering op directe of indirecte wijze de gedrukte of uitzendmedia te censureren?' In IJsland zien we een forse stijging in 2016-2017, los van deze stijging blijft de score stabiel. De happiness index wordt hier vrijwel niet door beinvloedt, wat ook blijkt uit de lage PCC van 0.33. \n",
    "\n",
    "Venezuela scoort relatief laag m.b.t. de stelling. Media in het land wordt dus veel gecensureerd. De score daalt gedurende de jaren, net als de happiness index. De PCC is dan ook 0.83. \n",
    "\n",
    "De score van Romenië fluctueert het meest. De scores wijken uit van 8.2 tot 5.5. De happiness index wordt hierdoor niet beïnvloed. Deze toont een gelijdelijke stijging."
   ]
  },
  {
   "attachments": {},
   "cell_type": "markdown",
   "id": "8cd98d93",
   "metadata": {},
   "source": [
    "# Conclusies\n",
    "\n",
    "### Verband Aanwezig\n",
    "\n",
    "Als we kijken naar de data over Venezuela, zouden we kunnen zeggen dat er zeker een verband is tussen de mate van democratie en ervaring van geluk. Als de happiness index afneemt, nemen de scores voor de drie stellingen onder de streep ook af. Soms vindt er nog een lichte stijging plaats, maar uiteindelijk eindigt deze altijd lager. De drie PCC’s m.b.t. Venezuela zeggen hetzelfde. Deze liggen alledrie rond de 0.80, wat zegt dat er een grote correlatie is tussen de twee datasets. In Venezuela gebeurt in het land de afgelopen tijd veel. Er is veel corruptie en inflatie. Dit heeft natuurlijk ook invloed op zowel de mate van democratie als de ervaring van geluk. Hierdoor wordt de conclusie dus nog meer bevestigd en hierdoor is deze data het meest waardevol voor dit perspectief.\n",
    "\n",
    "\n",
    "### Verband Afwezig\n",
    "\n",
    "Toch zou je ook kunnen stellen dat er geen verband is tussen de democracy index en de happiness index. Geluk en democratie zijn beide ingewikkelde, subjectieve maatstaven die lastig te meten zijn. Daarnaast kunnen er andere variabelen en invloeden zijn die van invloed zijn op geluk en democratie, maar niet in de gebruikte data zijn weergegeven. Sociale, economische, culturele en historische factoren kunnen allemaal een rol spelen bij het bepalen van het niveau van geluk en de staat van democratie in een land."
   ]
  },
  {
   "attachments": {},
   "cell_type": "markdown",
   "id": "d0b0a63d",
   "metadata": {},
   "source": [
    "## Reflectie  \n",
    "\n",
    "De feedback die we hebben ontvangen was een beetje verwarrend, voornamelijk omdat we op dat moment nog niet klaar waren met onze Draft. Daarom kon het groepje dat ons feedback gaf, ook geen volledig nauwkeurige feedback geven. Echter kregen we wel een aantal positieve aspecten over onze conceptversie te horen van zowel het groepje als de TA. De TA adviseerde ons verder om minder algemene visualisaties te gebruiken en meer onderbouwende visualisaties te presenteren (omtrent de voor en tegen argumenten). We hebben geprobeerd dit advies te reflecteren in de grafieken die hierboven staan."
   ]
  },
  {
   "attachments": {},
   "cell_type": "markdown",
   "id": "a3d26173",
   "metadata": {},
   "source": [
    "## Werkverdeling\n",
    "\n",
    "Bryan: Meeste van het coderen gedaan om dingen werkend te krijgen, heeft het fundament van de uiteindelijke code grotendeels geschreven. Kwam met het idee voor een wereldkaart als visualisatie en heeft deze zelf werkend gekregen, Schreef ook de reflectie.\n",
    "\n",
    "Mike: Verantwoordelijk geweest voor het vinden van de uiteindelijk datasets, heeft de Democracy Indices dataset zelfstandig geanalyseerd en de stellingen gevonden voor analyse. Verantwoordelijk geweest voor het samenvoegen van de uiteindelijke onderdelen tot de ingeleverde Notebook. Schreef “Datasets and preprocessing”, “Creëren van de uiteindelijke dataset”, “Perspectieven” en “Observaties”.\n",
    "\n",
    "Daniel: Mijn bijdrage aan onze data story is het helpen met vinden van onze datasets, het schrijven van de inleiding, het schrijven van de omschrijvingen van de figuren van de stellingen, en het schrijven van de conclusie. Ook hebben we met z’n drieeën veel gespard over onze datasets, observaties, en conclusies. In een werkcollege heb ik met behulp van een TA onze GitHub link werkend gekregen."
   ]
  }
 ],
 "metadata": {
  "celltoolbar": "Raw-celnotatie",
  "hide_input": false,
  "kernelspec": {
   "display_name": "Python 3 (ipykernel)",
   "language": "python",
   "name": "python3"
  },
  "language_info": {
   "codemirror_mode": {
    "name": "ipython",
    "version": 3
   },
   "file_extension": ".py",
   "mimetype": "text/x-python",
   "name": "python",
   "nbconvert_exporter": "python",
   "pygments_lexer": "ipython3",
   "version": "3.8.5"
  }
 },
 "nbformat": 4,
 "nbformat_minor": 5
}
