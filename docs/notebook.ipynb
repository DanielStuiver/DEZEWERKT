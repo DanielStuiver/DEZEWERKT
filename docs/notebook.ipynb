{
 "cells": [
  {
   "cell_type": "code",
   "execution_count": 1,
   "id": "0c9db57a",
   "metadata": {},
   "outputs": [
    {
     "name": "stdout",
     "output_type": "stream",
     "text": [
      "Requirement already satisfied: jupyter_contrib_nbextensions in c:\\users\\mike\\anaconda3\\lib\\site-packages (0.7.0)\n",
      "Requirement already satisfied: jupyter_nbextensions_configurator in c:\\users\\mike\\anaconda3\\lib\\site-packages (0.6.3)\n",
      "Requirement already satisfied: jupyter-contrib-core>=0.3.3 in c:\\users\\mike\\anaconda3\\lib\\site-packages (from jupyter_contrib_nbextensions) (0.4.2)\n",
      "Requirement already satisfied: jupyter-highlight-selected-word>=0.1.1 in c:\\users\\mike\\anaconda3\\lib\\site-packages (from jupyter_contrib_nbextensions) (0.2.0)\n",
      "Requirement already satisfied: ipython-genutils in c:\\users\\mike\\anaconda3\\lib\\site-packages (from jupyter_contrib_nbextensions) (0.2.0)\n",
      "Requirement already satisfied: nbconvert>=6.0 in c:\\users\\mike\\anaconda3\\lib\\site-packages (from jupyter_contrib_nbextensions) (6.4.4)\n",
      "Requirement already satisfied: tornado in c:\\users\\mike\\anaconda3\\lib\\site-packages (from jupyter_contrib_nbextensions) (6.1)\n",
      "Requirement already satisfied: traitlets>=4.1 in c:\\users\\mike\\anaconda3\\lib\\site-packages (from jupyter_contrib_nbextensions) (5.1.1)\n",
      "Requirement already satisfied: lxml in c:\\users\\mike\\anaconda3\\lib\\site-packages (from jupyter_contrib_nbextensions) (4.9.1)\n",
      "Requirement already satisfied: jupyter-core in c:\\users\\mike\\anaconda3\\lib\\site-packages (from jupyter_contrib_nbextensions) (4.11.1)\n",
      "Requirement already satisfied: notebook>=6.0 in c:\\users\\mike\\anaconda3\\lib\\site-packages (from jupyter_contrib_nbextensions) (6.4.12)\n",
      "Requirement already satisfied: pyyaml in c:\\users\\mike\\anaconda3\\lib\\site-packages (from jupyter_nbextensions_configurator) (6.0)\n",
      "Requirement already satisfied: setuptools in c:\\users\\mike\\anaconda3\\lib\\site-packages (from jupyter-contrib-core>=0.3.3->jupyter_contrib_nbextensions) (63.4.1)\n",
      "Requirement already satisfied: nbformat>=4.4 in c:\\users\\mike\\anaconda3\\lib\\site-packages (from nbconvert>=6.0->jupyter_contrib_nbextensions) (5.5.0)\n",
      "Requirement already satisfied: nbclient<0.6.0,>=0.5.0 in c:\\users\\mike\\anaconda3\\lib\\site-packages (from nbconvert>=6.0->jupyter_contrib_nbextensions) (0.5.13)\n",
      "Requirement already satisfied: mistune<2,>=0.8.1 in c:\\users\\mike\\anaconda3\\lib\\site-packages (from nbconvert>=6.0->jupyter_contrib_nbextensions) (0.8.4)\n",
      "Requirement already satisfied: bleach in c:\\users\\mike\\anaconda3\\lib\\site-packages (from nbconvert>=6.0->jupyter_contrib_nbextensions) (4.1.0)\n",
      "Requirement already satisfied: defusedxml in c:\\users\\mike\\anaconda3\\lib\\site-packages (from nbconvert>=6.0->jupyter_contrib_nbextensions) (0.7.1)\n",
      "Requirement already satisfied: jinja2>=2.4 in c:\\users\\mike\\anaconda3\\lib\\site-packages (from nbconvert>=6.0->jupyter_contrib_nbextensions) (2.11.3)\n",
      "Requirement already satisfied: entrypoints>=0.2.2 in c:\\users\\mike\\anaconda3\\lib\\site-packages (from nbconvert>=6.0->jupyter_contrib_nbextensions) (0.4)\n",
      "Requirement already satisfied: testpath in c:\\users\\mike\\anaconda3\\lib\\site-packages (from nbconvert>=6.0->jupyter_contrib_nbextensions) (0.6.0)\n",
      "Requirement already satisfied: jupyterlab-pygments in c:\\users\\mike\\anaconda3\\lib\\site-packages (from nbconvert>=6.0->jupyter_contrib_nbextensions) (0.1.2)\n",
      "Requirement already satisfied: beautifulsoup4 in c:\\users\\mike\\anaconda3\\lib\\site-packages (from nbconvert>=6.0->jupyter_contrib_nbextensions) (4.11.1)\n",
      "Requirement already satisfied: pandocfilters>=1.4.1 in c:\\users\\mike\\anaconda3\\lib\\site-packages (from nbconvert>=6.0->jupyter_contrib_nbextensions) (1.5.0)\n",
      "Requirement already satisfied: pygments>=2.4.1 in c:\\users\\mike\\anaconda3\\lib\\site-packages (from nbconvert>=6.0->jupyter_contrib_nbextensions) (2.11.2)\n",
      "Requirement already satisfied: jupyter-client>=5.3.4 in c:\\users\\mike\\anaconda3\\lib\\site-packages (from notebook>=6.0->jupyter_contrib_nbextensions) (7.3.4)\n",
      "Requirement already satisfied: terminado>=0.8.3 in c:\\users\\mike\\anaconda3\\lib\\site-packages (from notebook>=6.0->jupyter_contrib_nbextensions) (0.13.1)\n",
      "Requirement already satisfied: pyzmq>=17 in c:\\users\\mike\\anaconda3\\lib\\site-packages (from notebook>=6.0->jupyter_contrib_nbextensions) (23.2.0)\n",
      "Requirement already satisfied: argon2-cffi in c:\\users\\mike\\anaconda3\\lib\\site-packages (from notebook>=6.0->jupyter_contrib_nbextensions) (21.3.0)\n",
      "Requirement already satisfied: ipykernel in c:\\users\\mike\\anaconda3\\lib\\site-packages (from notebook>=6.0->jupyter_contrib_nbextensions) (6.15.2)\n",
      "Requirement already satisfied: prometheus-client in c:\\users\\mike\\anaconda3\\lib\\site-packages (from notebook>=6.0->jupyter_contrib_nbextensions) (0.14.1)\n",
      "Requirement already satisfied: Send2Trash>=1.8.0 in c:\\users\\mike\\anaconda3\\lib\\site-packages (from notebook>=6.0->jupyter_contrib_nbextensions) (1.8.0)\n",
      "Requirement already satisfied: nest-asyncio>=1.5 in c:\\users\\mike\\anaconda3\\lib\\site-packages (from notebook>=6.0->jupyter_contrib_nbextensions) (1.5.5)\n",
      "Requirement already satisfied: pywin32>=1.0 in c:\\users\\mike\\anaconda3\\lib\\site-packages (from jupyter-core->jupyter_contrib_nbextensions) (302)\n",
      "Requirement already satisfied: MarkupSafe>=0.23 in c:\\users\\mike\\anaconda3\\lib\\site-packages (from jinja2>=2.4->nbconvert>=6.0->jupyter_contrib_nbextensions) (2.0.1)\n",
      "Requirement already satisfied: python-dateutil>=2.8.2 in c:\\users\\mike\\anaconda3\\lib\\site-packages (from jupyter-client>=5.3.4->notebook>=6.0->jupyter_contrib_nbextensions) (2.8.2)\n",
      "Requirement already satisfied: jsonschema>=2.6 in c:\\users\\mike\\anaconda3\\lib\\site-packages (from nbformat>=4.4->nbconvert>=6.0->jupyter_contrib_nbextensions) (4.16.0)\n",
      "Requirement already satisfied: fastjsonschema in c:\\users\\mike\\anaconda3\\lib\\site-packages (from nbformat>=4.4->nbconvert>=6.0->jupyter_contrib_nbextensions) (2.16.2)\n",
      "Requirement already satisfied: pywinpty>=1.1.0 in c:\\users\\mike\\anaconda3\\lib\\site-packages (from terminado>=0.8.3->notebook>=6.0->jupyter_contrib_nbextensions) (2.0.2)\n",
      "Requirement already satisfied: argon2-cffi-bindings in c:\\users\\mike\\anaconda3\\lib\\site-packages (from argon2-cffi->notebook>=6.0->jupyter_contrib_nbextensions) (21.2.0)\n",
      "Requirement already satisfied: soupsieve>1.2 in c:\\users\\mike\\anaconda3\\lib\\site-packages (from beautifulsoup4->nbconvert>=6.0->jupyter_contrib_nbextensions) (2.3.1)\n",
      "Requirement already satisfied: six>=1.9.0 in c:\\users\\mike\\anaconda3\\lib\\site-packages (from bleach->nbconvert>=6.0->jupyter_contrib_nbextensions) (1.16.0)\n",
      "Requirement already satisfied: webencodings in c:\\users\\mike\\anaconda3\\lib\\site-packages (from bleach->nbconvert>=6.0->jupyter_contrib_nbextensions) (0.5.1)\n",
      "Requirement already satisfied: packaging in c:\\users\\mike\\anaconda3\\lib\\site-packages (from bleach->nbconvert>=6.0->jupyter_contrib_nbextensions) (21.3)\n",
      "Requirement already satisfied: ipython>=7.23.1 in c:\\users\\mike\\anaconda3\\lib\\site-packages (from ipykernel->notebook>=6.0->jupyter_contrib_nbextensions) (7.31.1)\n",
      "Requirement already satisfied: debugpy>=1.0 in c:\\users\\mike\\anaconda3\\lib\\site-packages (from ipykernel->notebook>=6.0->jupyter_contrib_nbextensions) (1.5.1)\n",
      "Requirement already satisfied: matplotlib-inline>=0.1 in c:\\users\\mike\\anaconda3\\lib\\site-packages (from ipykernel->notebook>=6.0->jupyter_contrib_nbextensions) (0.1.6)\n",
      "Requirement already satisfied: psutil in c:\\users\\mike\\anaconda3\\lib\\site-packages (from ipykernel->notebook>=6.0->jupyter_contrib_nbextensions) (5.9.0)\n",
      "Requirement already satisfied: decorator in c:\\users\\mike\\anaconda3\\lib\\site-packages (from ipython>=7.23.1->ipykernel->notebook>=6.0->jupyter_contrib_nbextensions) (5.1.1)\n",
      "Requirement already satisfied: pickleshare in c:\\users\\mike\\anaconda3\\lib\\site-packages (from ipython>=7.23.1->ipykernel->notebook>=6.0->jupyter_contrib_nbextensions) (0.7.5)\n",
      "Requirement already satisfied: colorama in c:\\users\\mike\\anaconda3\\lib\\site-packages (from ipython>=7.23.1->ipykernel->notebook>=6.0->jupyter_contrib_nbextensions) (0.4.5)\n",
      "Requirement already satisfied: backcall in c:\\users\\mike\\anaconda3\\lib\\site-packages (from ipython>=7.23.1->ipykernel->notebook>=6.0->jupyter_contrib_nbextensions) (0.2.0)\n",
      "Requirement already satisfied: jedi>=0.16 in c:\\users\\mike\\anaconda3\\lib\\site-packages (from ipython>=7.23.1->ipykernel->notebook>=6.0->jupyter_contrib_nbextensions) (0.18.1)\n",
      "Requirement already satisfied: prompt-toolkit!=3.0.0,!=3.0.1,<3.1.0,>=2.0.0 in c:\\users\\mike\\anaconda3\\lib\\site-packages (from ipython>=7.23.1->ipykernel->notebook>=6.0->jupyter_contrib_nbextensions) (3.0.20)\n",
      "Requirement already satisfied: attrs>=17.4.0 in c:\\users\\mike\\anaconda3\\lib\\site-packages (from jsonschema>=2.6->nbformat>=4.4->nbconvert>=6.0->jupyter_contrib_nbextensions) (21.4.0)\n",
      "Requirement already satisfied: pyrsistent!=0.17.0,!=0.17.1,!=0.17.2,>=0.14.0 in c:\\users\\mike\\anaconda3\\lib\\site-packages (from jsonschema>=2.6->nbformat>=4.4->nbconvert>=6.0->jupyter_contrib_nbextensions) (0.18.0)\n",
      "Requirement already satisfied: cffi>=1.0.1 in c:\\users\\mike\\anaconda3\\lib\\site-packages (from argon2-cffi-bindings->argon2-cffi->notebook>=6.0->jupyter_contrib_nbextensions) (1.15.1)\n",
      "Requirement already satisfied: pyparsing!=3.0.5,>=2.0.2 in c:\\users\\mike\\anaconda3\\lib\\site-packages (from packaging->bleach->nbconvert>=6.0->jupyter_contrib_nbextensions) (3.0.9)\n",
      "Requirement already satisfied: pycparser in c:\\users\\mike\\anaconda3\\lib\\site-packages (from cffi>=1.0.1->argon2-cffi-bindings->argon2-cffi->notebook>=6.0->jupyter_contrib_nbextensions) (2.21)\n",
      "Requirement already satisfied: parso<0.9.0,>=0.8.0 in c:\\users\\mike\\anaconda3\\lib\\site-packages (from jedi>=0.16->ipython>=7.23.1->ipykernel->notebook>=6.0->jupyter_contrib_nbextensions) (0.8.3)\n",
      "Requirement already satisfied: wcwidth in c:\\users\\mike\\anaconda3\\lib\\site-packages (from prompt-toolkit!=3.0.0,!=3.0.1,<3.1.0,>=2.0.0->ipython>=7.23.1->ipykernel->notebook>=6.0->jupyter_contrib_nbextensions) (0.2.5)\n"
     ]
    },
    {
     "name": "stderr",
     "output_type": "stream",
     "text": [
      "[I 16:33:10 InstallContribNbextensionsApp] jupyter contrib nbextension install --user\n",
      "[I 16:33:10 InstallContribNbextensionsApp] Installing jupyter_contrib_nbextensions nbextension files to jupyter data directory\n",
      "[I 16:33:10 InstallContribNbextensionsApp] Installing C:\\Users\\Mike\\anaconda3\\lib\\site-packages\\jupyter_contrib_nbextensions\\nbextensions\\addbefore -> addbefore\n",
      "[I 16:33:10 InstallContribNbextensionsApp] Up to date: C:\\Users\\Mike\\AppData\\Roaming\\jupyter\\nbextensions\\addbefore\\addbefore.yaml\n",
      "[I 16:33:10 InstallContribNbextensionsApp] Up to date: C:\\Users\\Mike\\AppData\\Roaming\\jupyter\\nbextensions\\addbefore\\icon.png\n",
      "[I 16:33:10 InstallContribNbextensionsApp] Up to date: C:\\Users\\Mike\\AppData\\Roaming\\jupyter\\nbextensions\\addbefore\\main.js\n",
      "[I 16:33:10 InstallContribNbextensionsApp] Up to date: C:\\Users\\Mike\\AppData\\Roaming\\jupyter\\nbextensions\\addbefore\\readme.md\n",
      "[I 16:33:10 InstallContribNbextensionsApp] - Validating: ok\n",
      "[I 16:33:10 InstallContribNbextensionsApp] Installing C:\\Users\\Mike\\anaconda3\\lib\\site-packages\\jupyter_contrib_nbextensions\\nbextensions\\autosavetime -> autosavetime\n",
      "[I 16:33:10 InstallContribNbextensionsApp] Up to date: C:\\Users\\Mike\\AppData\\Roaming\\jupyter\\nbextensions\\autosavetime\\autosavetime.yaml\n",
      "[I 16:33:10 InstallContribNbextensionsApp] Up to date: C:\\Users\\Mike\\AppData\\Roaming\\jupyter\\nbextensions\\autosavetime\\icon.png\n",
      "[I 16:33:10 InstallContribNbextensionsApp] Up to date: C:\\Users\\Mike\\AppData\\Roaming\\jupyter\\nbextensions\\autosavetime\\main.js\n",
      "[I 16:33:10 InstallContribNbextensionsApp] Up to date: C:\\Users\\Mike\\AppData\\Roaming\\jupyter\\nbextensions\\autosavetime\\README.md\n",
      "[I 16:33:10 InstallContribNbextensionsApp] - Validating: ok\n",
      "[I 16:33:10 InstallContribNbextensionsApp] Installing C:\\Users\\Mike\\anaconda3\\lib\\site-packages\\jupyter_contrib_nbextensions\\nbextensions\\autoscroll -> autoscroll\n",
      "[I 16:33:10 InstallContribNbextensionsApp] Up to date: C:\\Users\\Mike\\AppData\\Roaming\\jupyter\\nbextensions\\autoscroll\\autoscroll.yaml\n",
      "[I 16:33:10 InstallContribNbextensionsApp] Up to date: C:\\Users\\Mike\\AppData\\Roaming\\jupyter\\nbextensions\\autoscroll\\icon.png\n",
      "[I 16:33:10 InstallContribNbextensionsApp] Up to date: C:\\Users\\Mike\\AppData\\Roaming\\jupyter\\nbextensions\\autoscroll\\main.js\n",
      "[I 16:33:10 InstallContribNbextensionsApp] Up to date: C:\\Users\\Mike\\AppData\\Roaming\\jupyter\\nbextensions\\autoscroll\\README.md\n",
      "[I 16:33:10 InstallContribNbextensionsApp] - Validating: ok\n",
      "[I 16:33:10 InstallContribNbextensionsApp] Installing C:\\Users\\Mike\\anaconda3\\lib\\site-packages\\jupyter_contrib_nbextensions\\nbextensions\\cell_filter -> cell_filter\n",
      "[I 16:33:10 InstallContribNbextensionsApp] Up to date: C:\\Users\\Mike\\AppData\\Roaming\\jupyter\\nbextensions\\cell_filter\\cell_filter.js\n",
      "[I 16:33:10 InstallContribNbextensionsApp] Up to date: C:\\Users\\Mike\\AppData\\Roaming\\jupyter\\nbextensions\\cell_filter\\cell_filter.yml\n",
      "[I 16:33:10 InstallContribNbextensionsApp] Up to date: C:\\Users\\Mike\\AppData\\Roaming\\jupyter\\nbextensions\\cell_filter\\README.md\n",
      "[I 16:33:10 InstallContribNbextensionsApp] - Validating: ok\n",
      "[I 16:33:10 InstallContribNbextensionsApp] Installing C:\\Users\\Mike\\anaconda3\\lib\\site-packages\\jupyter_contrib_nbextensions\\nbextensions\\codefolding -> codefolding\n",
      "[I 16:33:10 InstallContribNbextensionsApp] Up to date: C:\\Users\\Mike\\AppData\\Roaming\\jupyter\\nbextensions\\codefolding\\blockcomment-fold.js\n",
      "[I 16:33:10 InstallContribNbextensionsApp] Up to date: C:\\Users\\Mike\\AppData\\Roaming\\jupyter\\nbextensions\\codefolding\\codefolding.yaml\n",
      "[I 16:33:10 InstallContribNbextensionsApp] Up to date: C:\\Users\\Mike\\AppData\\Roaming\\jupyter\\nbextensions\\codefolding\\codefolding_editor.png\n",
      "[I 16:33:10 InstallContribNbextensionsApp] Up to date: C:\\Users\\Mike\\AppData\\Roaming\\jupyter\\nbextensions\\codefolding\\codefolding_editor.yaml\n",
      "[I 16:33:10 InstallContribNbextensionsApp] Up to date: C:\\Users\\Mike\\AppData\\Roaming\\jupyter\\nbextensions\\codefolding\\codefolding_firstline_folded.png\n",
      "[I 16:33:10 InstallContribNbextensionsApp] Up to date: C:\\Users\\Mike\\AppData\\Roaming\\jupyter\\nbextensions\\codefolding\\codefolding_firstline_unfolded.png\n",
      "[I 16:33:10 InstallContribNbextensionsApp] Up to date: C:\\Users\\Mike\\AppData\\Roaming\\jupyter\\nbextensions\\codefolding\\codefolding_indent_folded_1.png\n",
      "[I 16:33:10 InstallContribNbextensionsApp] Up to date: C:\\Users\\Mike\\AppData\\Roaming\\jupyter\\nbextensions\\codefolding\\codefolding_indent_folded_2.png\n",
      "[I 16:33:10 InstallContribNbextensionsApp] Up to date: C:\\Users\\Mike\\AppData\\Roaming\\jupyter\\nbextensions\\codefolding\\codefolding_indent_unfolded.png\n",
      "[I 16:33:10 InstallContribNbextensionsApp] Up to date: C:\\Users\\Mike\\AppData\\Roaming\\jupyter\\nbextensions\\codefolding\\edit.js\n",
      "[I 16:33:10 InstallContribNbextensionsApp] Up to date: C:\\Users\\Mike\\AppData\\Roaming\\jupyter\\nbextensions\\codefolding\\firstline-fold.js\n",
      "[I 16:33:10 InstallContribNbextensionsApp] Up to date: C:\\Users\\Mike\\AppData\\Roaming\\jupyter\\nbextensions\\codefolding\\foldgutter.css\n",
      "[I 16:33:10 InstallContribNbextensionsApp] Up to date: C:\\Users\\Mike\\AppData\\Roaming\\jupyter\\nbextensions\\codefolding\\icon.png\n",
      "[I 16:33:10 InstallContribNbextensionsApp] Up to date: C:\\Users\\Mike\\AppData\\Roaming\\jupyter\\nbextensions\\codefolding\\magic-fold.js\n",
      "[I 16:33:10 InstallContribNbextensionsApp] Up to date: C:\\Users\\Mike\\AppData\\Roaming\\jupyter\\nbextensions\\codefolding\\magic-folded.png\n",
      "[I 16:33:10 InstallContribNbextensionsApp] Up to date: C:\\Users\\Mike\\AppData\\Roaming\\jupyter\\nbextensions\\codefolding\\magic-unfolded.png\n",
      "[I 16:33:10 InstallContribNbextensionsApp] Up to date: C:\\Users\\Mike\\AppData\\Roaming\\jupyter\\nbextensions\\codefolding\\main.js\n",
      "[I 16:33:10 InstallContribNbextensionsApp] Up to date: C:\\Users\\Mike\\AppData\\Roaming\\jupyter\\nbextensions\\codefolding\\readme.md\n",
      "[I 16:33:10 InstallContribNbextensionsApp] - Validating: ok\n",
      "[I 16:33:10 InstallContribNbextensionsApp] Installing C:\\Users\\Mike\\anaconda3\\lib\\site-packages\\jupyter_contrib_nbextensions\\nbextensions\\codefolding -> codefolding\n",
      "[I 16:33:10 InstallContribNbextensionsApp] Up to date: C:\\Users\\Mike\\AppData\\Roaming\\jupyter\\nbextensions\\codefolding\\blockcomment-fold.js\n",
      "[I 16:33:10 InstallContribNbextensionsApp] Up to date: C:\\Users\\Mike\\AppData\\Roaming\\jupyter\\nbextensions\\codefolding\\codefolding.yaml\n",
      "[I 16:33:10 InstallContribNbextensionsApp] Up to date: C:\\Users\\Mike\\AppData\\Roaming\\jupyter\\nbextensions\\codefolding\\codefolding_editor.png\n",
      "[I 16:33:10 InstallContribNbextensionsApp] Up to date: C:\\Users\\Mike\\AppData\\Roaming\\jupyter\\nbextensions\\codefolding\\codefolding_editor.yaml\n",
      "[I 16:33:10 InstallContribNbextensionsApp] Up to date: C:\\Users\\Mike\\AppData\\Roaming\\jupyter\\nbextensions\\codefolding\\codefolding_firstline_folded.png\n",
      "[I 16:33:10 InstallContribNbextensionsApp] Up to date: C:\\Users\\Mike\\AppData\\Roaming\\jupyter\\nbextensions\\codefolding\\codefolding_firstline_unfolded.png\n",
      "[I 16:33:10 InstallContribNbextensionsApp] Up to date: C:\\Users\\Mike\\AppData\\Roaming\\jupyter\\nbextensions\\codefolding\\codefolding_indent_folded_1.png\n",
      "[I 16:33:10 InstallContribNbextensionsApp] Up to date: C:\\Users\\Mike\\AppData\\Roaming\\jupyter\\nbextensions\\codefolding\\codefolding_indent_folded_2.png\n",
      "[I 16:33:10 InstallContribNbextensionsApp] Up to date: C:\\Users\\Mike\\AppData\\Roaming\\jupyter\\nbextensions\\codefolding\\codefolding_indent_unfolded.png\n",
      "[I 16:33:10 InstallContribNbextensionsApp] Up to date: C:\\Users\\Mike\\AppData\\Roaming\\jupyter\\nbextensions\\codefolding\\edit.js\n",
      "[I 16:33:10 InstallContribNbextensionsApp] Up to date: C:\\Users\\Mike\\AppData\\Roaming\\jupyter\\nbextensions\\codefolding\\firstline-fold.js\n",
      "[I 16:33:10 InstallContribNbextensionsApp] Up to date: C:\\Users\\Mike\\AppData\\Roaming\\jupyter\\nbextensions\\codefolding\\foldgutter.css\n",
      "[I 16:33:10 InstallContribNbextensionsApp] Up to date: C:\\Users\\Mike\\AppData\\Roaming\\jupyter\\nbextensions\\codefolding\\icon.png\n",
      "[I 16:33:10 InstallContribNbextensionsApp] Up to date: C:\\Users\\Mike\\AppData\\Roaming\\jupyter\\nbextensions\\codefolding\\magic-fold.js\n",
      "[I 16:33:10 InstallContribNbextensionsApp] Up to date: C:\\Users\\Mike\\AppData\\Roaming\\jupyter\\nbextensions\\codefolding\\magic-folded.png\n",
      "[I 16:33:10 InstallContribNbextensionsApp] Up to date: C:\\Users\\Mike\\AppData\\Roaming\\jupyter\\nbextensions\\codefolding\\magic-unfolded.png\n",
      "[I 16:33:10 InstallContribNbextensionsApp] Up to date: C:\\Users\\Mike\\AppData\\Roaming\\jupyter\\nbextensions\\codefolding\\main.js\n",
      "[I 16:33:10 InstallContribNbextensionsApp] Up to date: C:\\Users\\Mike\\AppData\\Roaming\\jupyter\\nbextensions\\codefolding\\readme.md\n",
      "[I 16:33:10 InstallContribNbextensionsApp] - Validating: ok\n",
      "[I 16:33:10 InstallContribNbextensionsApp] Installing C:\\Users\\Mike\\anaconda3\\lib\\site-packages\\jupyter_contrib_nbextensions\\nbextensions\\codemirror_mode_extensions -> codemirror_mode_extensions\n",
      "[I 16:33:10 InstallContribNbextensionsApp] Up to date: C:\\Users\\Mike\\AppData\\Roaming\\jupyter\\nbextensions\\codemirror_mode_extensions\\codemirror_mode_extensions.yaml\n",
      "[I 16:33:10 InstallContribNbextensionsApp] Up to date: C:\\Users\\Mike\\AppData\\Roaming\\jupyter\\nbextensions\\codemirror_mode_extensions\\main.js\n",
      "[I 16:33:10 InstallContribNbextensionsApp] - Validating: ok\n",
      "[I 16:33:10 InstallContribNbextensionsApp] Installing C:\\Users\\Mike\\anaconda3\\lib\\site-packages\\jupyter_contrib_nbextensions\\nbextensions\\code_font_size -> code_font_size\n",
      "[I 16:33:10 InstallContribNbextensionsApp] Up to date: C:\\Users\\Mike\\AppData\\Roaming\\jupyter\\nbextensions\\code_font_size\\code_font_size.js\n",
      "[I 16:33:10 InstallContribNbextensionsApp] Up to date: C:\\Users\\Mike\\AppData\\Roaming\\jupyter\\nbextensions\\code_font_size\\code_font_size.yaml\n",
      "[I 16:33:10 InstallContribNbextensionsApp] Up to date: C:\\Users\\Mike\\AppData\\Roaming\\jupyter\\nbextensions\\code_font_size\\README.md\n",
      "[I 16:33:10 InstallContribNbextensionsApp] - Validating: ok\n",
      "[I 16:33:10 InstallContribNbextensionsApp] Installing C:\\Users\\Mike\\anaconda3\\lib\\site-packages\\jupyter_contrib_nbextensions\\nbextensions\\code_prettify -> code_prettify\n",
      "[I 16:33:10 InstallContribNbextensionsApp] Up to date: C:\\Users\\Mike\\AppData\\Roaming\\jupyter\\nbextensions\\code_prettify\\2to3.js\n",
      "[I 16:33:10 InstallContribNbextensionsApp] Up to date: C:\\Users\\Mike\\AppData\\Roaming\\jupyter\\nbextensions\\code_prettify\\2to3.yaml\n",
      "[I 16:33:10 InstallContribNbextensionsApp] Up to date: C:\\Users\\Mike\\AppData\\Roaming\\jupyter\\nbextensions\\code_prettify\\autopep8.js\n",
      "[I 16:33:10 InstallContribNbextensionsApp] Up to date: C:\\Users\\Mike\\AppData\\Roaming\\jupyter\\nbextensions\\code_prettify\\autopep8.yaml\n",
      "[I 16:33:10 InstallContribNbextensionsApp] Up to date: C:\\Users\\Mike\\AppData\\Roaming\\jupyter\\nbextensions\\code_prettify\\code_prettify.js\n",
      "[I 16:33:10 InstallContribNbextensionsApp] Up to date: C:\\Users\\Mike\\AppData\\Roaming\\jupyter\\nbextensions\\code_prettify\\code_prettify.yaml\n",
      "[I 16:33:10 InstallContribNbextensionsApp] Up to date: C:\\Users\\Mike\\AppData\\Roaming\\jupyter\\nbextensions\\code_prettify\\demo-jv.gif\n",
      "[I 16:33:10 InstallContribNbextensionsApp] Up to date: C:\\Users\\Mike\\AppData\\Roaming\\jupyter\\nbextensions\\code_prettify\\demo-py.gif\n",
      "[I 16:33:10 InstallContribNbextensionsApp] Up to date: C:\\Users\\Mike\\AppData\\Roaming\\jupyter\\nbextensions\\code_prettify\\demo-R.gif\n",
      "[I 16:33:10 InstallContribNbextensionsApp] Up to date: C:\\Users\\Mike\\AppData\\Roaming\\jupyter\\nbextensions\\code_prettify\\demo_2to3.gif\n",
      "[I 16:33:10 InstallContribNbextensionsApp] Up to date: C:\\Users\\Mike\\AppData\\Roaming\\jupyter\\nbextensions\\code_prettify\\isort.js\n",
      "[I 16:33:10 InstallContribNbextensionsApp] Up to date: C:\\Users\\Mike\\AppData\\Roaming\\jupyter\\nbextensions\\code_prettify\\isort.yaml\n",
      "[I 16:33:10 InstallContribNbextensionsApp] Up to date: C:\\Users\\Mike\\AppData\\Roaming\\jupyter\\nbextensions\\code_prettify\\kernel_exec_on_cell.js\n",
      "[I 16:33:10 InstallContribNbextensionsApp] Up to date: C:\\Users\\Mike\\AppData\\Roaming\\jupyter\\nbextensions\\code_prettify\\README.md\n",
      "[I 16:33:10 InstallContribNbextensionsApp] Up to date: C:\\Users\\Mike\\AppData\\Roaming\\jupyter\\nbextensions\\code_prettify\\README_2to3.md\n",
      "[I 16:33:10 InstallContribNbextensionsApp] Up to date: C:\\Users\\Mike\\AppData\\Roaming\\jupyter\\nbextensions\\code_prettify\\README_autopep8.md\n",
      "[I 16:33:10 InstallContribNbextensionsApp] Up to date: C:\\Users\\Mike\\AppData\\Roaming\\jupyter\\nbextensions\\code_prettify\\README_code_prettify.md\n",
      "[I 16:33:10 InstallContribNbextensionsApp] Up to date: C:\\Users\\Mike\\AppData\\Roaming\\jupyter\\nbextensions\\code_prettify\\README_isort.md\n",
      "[I 16:33:10 InstallContribNbextensionsApp] - Validating: ok\n",
      "[I 16:33:10 InstallContribNbextensionsApp] Installing C:\\Users\\Mike\\anaconda3\\lib\\site-packages\\jupyter_contrib_nbextensions\\nbextensions\\code_prettify -> code_prettify\n",
      "[I 16:33:10 InstallContribNbextensionsApp] Up to date: C:\\Users\\Mike\\AppData\\Roaming\\jupyter\\nbextensions\\code_prettify\\2to3.js\n",
      "[I 16:33:10 InstallContribNbextensionsApp] Up to date: C:\\Users\\Mike\\AppData\\Roaming\\jupyter\\nbextensions\\code_prettify\\2to3.yaml\n",
      "[I 16:33:10 InstallContribNbextensionsApp] Up to date: C:\\Users\\Mike\\AppData\\Roaming\\jupyter\\nbextensions\\code_prettify\\autopep8.js\n",
      "[I 16:33:10 InstallContribNbextensionsApp] Up to date: C:\\Users\\Mike\\AppData\\Roaming\\jupyter\\nbextensions\\code_prettify\\autopep8.yaml\n",
      "[I 16:33:10 InstallContribNbextensionsApp] Up to date: C:\\Users\\Mike\\AppData\\Roaming\\jupyter\\nbextensions\\code_prettify\\code_prettify.js\n",
      "[I 16:33:10 InstallContribNbextensionsApp] Up to date: C:\\Users\\Mike\\AppData\\Roaming\\jupyter\\nbextensions\\code_prettify\\code_prettify.yaml\n",
      "[I 16:33:10 InstallContribNbextensionsApp] Up to date: C:\\Users\\Mike\\AppData\\Roaming\\jupyter\\nbextensions\\code_prettify\\demo-jv.gif\n",
      "[I 16:33:10 InstallContribNbextensionsApp] Up to date: C:\\Users\\Mike\\AppData\\Roaming\\jupyter\\nbextensions\\code_prettify\\demo-py.gif\n",
      "[I 16:33:10 InstallContribNbextensionsApp] Up to date: C:\\Users\\Mike\\AppData\\Roaming\\jupyter\\nbextensions\\code_prettify\\demo-R.gif\n",
      "[I 16:33:10 InstallContribNbextensionsApp] Up to date: C:\\Users\\Mike\\AppData\\Roaming\\jupyter\\nbextensions\\code_prettify\\demo_2to3.gif\n",
      "[I 16:33:10 InstallContribNbextensionsApp] Up to date: C:\\Users\\Mike\\AppData\\Roaming\\jupyter\\nbextensions\\code_prettify\\isort.js\n",
      "[I 16:33:10 InstallContribNbextensionsApp] Up to date: C:\\Users\\Mike\\AppData\\Roaming\\jupyter\\nbextensions\\code_prettify\\isort.yaml\n",
      "[I 16:33:10 InstallContribNbextensionsApp] Up to date: C:\\Users\\Mike\\AppData\\Roaming\\jupyter\\nbextensions\\code_prettify\\kernel_exec_on_cell.js\n",
      "[I 16:33:10 InstallContribNbextensionsApp] Up to date: C:\\Users\\Mike\\AppData\\Roaming\\jupyter\\nbextensions\\code_prettify\\README.md\n",
      "[I 16:33:10 InstallContribNbextensionsApp] Up to date: C:\\Users\\Mike\\AppData\\Roaming\\jupyter\\nbextensions\\code_prettify\\README_2to3.md\n",
      "[I 16:33:10 InstallContribNbextensionsApp] Up to date: C:\\Users\\Mike\\AppData\\Roaming\\jupyter\\nbextensions\\code_prettify\\README_autopep8.md\n",
      "[I 16:33:10 InstallContribNbextensionsApp] Up to date: C:\\Users\\Mike\\AppData\\Roaming\\jupyter\\nbextensions\\code_prettify\\README_code_prettify.md\n",
      "[I 16:33:10 InstallContribNbextensionsApp] Up to date: C:\\Users\\Mike\\AppData\\Roaming\\jupyter\\nbextensions\\code_prettify\\README_isort.md\n",
      "[I 16:33:10 InstallContribNbextensionsApp] - Validating: ok\n",
      "[I 16:33:10 InstallContribNbextensionsApp] Installing C:\\Users\\Mike\\anaconda3\\lib\\site-packages\\jupyter_contrib_nbextensions\\nbextensions\\code_prettify -> code_prettify\n",
      "[I 16:33:10 InstallContribNbextensionsApp] Up to date: C:\\Users\\Mike\\AppData\\Roaming\\jupyter\\nbextensions\\code_prettify\\2to3.js\n",
      "[I 16:33:10 InstallContribNbextensionsApp] Up to date: C:\\Users\\Mike\\AppData\\Roaming\\jupyter\\nbextensions\\code_prettify\\2to3.yaml\n",
      "[I 16:33:10 InstallContribNbextensionsApp] Up to date: C:\\Users\\Mike\\AppData\\Roaming\\jupyter\\nbextensions\\code_prettify\\autopep8.js\n",
      "[I 16:33:10 InstallContribNbextensionsApp] Up to date: C:\\Users\\Mike\\AppData\\Roaming\\jupyter\\nbextensions\\code_prettify\\autopep8.yaml\n",
      "[I 16:33:10 InstallContribNbextensionsApp] Up to date: C:\\Users\\Mike\\AppData\\Roaming\\jupyter\\nbextensions\\code_prettify\\code_prettify.js\n",
      "[I 16:33:10 InstallContribNbextensionsApp] Up to date: C:\\Users\\Mike\\AppData\\Roaming\\jupyter\\nbextensions\\code_prettify\\code_prettify.yaml\n",
      "[I 16:33:10 InstallContribNbextensionsApp] Up to date: C:\\Users\\Mike\\AppData\\Roaming\\jupyter\\nbextensions\\code_prettify\\demo-jv.gif\n",
      "[I 16:33:10 InstallContribNbextensionsApp] Up to date: C:\\Users\\Mike\\AppData\\Roaming\\jupyter\\nbextensions\\code_prettify\\demo-py.gif\n",
      "[I 16:33:10 InstallContribNbextensionsApp] Up to date: C:\\Users\\Mike\\AppData\\Roaming\\jupyter\\nbextensions\\code_prettify\\demo-R.gif\n",
      "[I 16:33:10 InstallContribNbextensionsApp] Up to date: C:\\Users\\Mike\\AppData\\Roaming\\jupyter\\nbextensions\\code_prettify\\demo_2to3.gif\n",
      "[I 16:33:10 InstallContribNbextensionsApp] Up to date: C:\\Users\\Mike\\AppData\\Roaming\\jupyter\\nbextensions\\code_prettify\\isort.js\n",
      "[I 16:33:10 InstallContribNbextensionsApp] Up to date: C:\\Users\\Mike\\AppData\\Roaming\\jupyter\\nbextensions\\code_prettify\\isort.yaml\n",
      "[I 16:33:10 InstallContribNbextensionsApp] Up to date: C:\\Users\\Mike\\AppData\\Roaming\\jupyter\\nbextensions\\code_prettify\\kernel_exec_on_cell.js\n",
      "[I 16:33:10 InstallContribNbextensionsApp] Up to date: C:\\Users\\Mike\\AppData\\Roaming\\jupyter\\nbextensions\\code_prettify\\README.md\n",
      "[I 16:33:10 InstallContribNbextensionsApp] Up to date: C:\\Users\\Mike\\AppData\\Roaming\\jupyter\\nbextensions\\code_prettify\\README_2to3.md\n",
      "[I 16:33:10 InstallContribNbextensionsApp] Up to date: C:\\Users\\Mike\\AppData\\Roaming\\jupyter\\nbextensions\\code_prettify\\README_autopep8.md\n",
      "[I 16:33:10 InstallContribNbextensionsApp] Up to date: C:\\Users\\Mike\\AppData\\Roaming\\jupyter\\nbextensions\\code_prettify\\README_code_prettify.md\n",
      "[I 16:33:10 InstallContribNbextensionsApp] Up to date: C:\\Users\\Mike\\AppData\\Roaming\\jupyter\\nbextensions\\code_prettify\\README_isort.md\n",
      "[I 16:33:10 InstallContribNbextensionsApp] - Validating: ok\n",
      "[I 16:33:10 InstallContribNbextensionsApp] Installing C:\\Users\\Mike\\anaconda3\\lib\\site-packages\\jupyter_contrib_nbextensions\\nbextensions\\code_prettify -> code_prettify\n",
      "[I 16:33:10 InstallContribNbextensionsApp] Up to date: C:\\Users\\Mike\\AppData\\Roaming\\jupyter\\nbextensions\\code_prettify\\2to3.js\n",
      "[I 16:33:10 InstallContribNbextensionsApp] Up to date: C:\\Users\\Mike\\AppData\\Roaming\\jupyter\\nbextensions\\code_prettify\\2to3.yaml\n",
      "[I 16:33:10 InstallContribNbextensionsApp] Up to date: C:\\Users\\Mike\\AppData\\Roaming\\jupyter\\nbextensions\\code_prettify\\autopep8.js\n",
      "[I 16:33:10 InstallContribNbextensionsApp] Up to date: C:\\Users\\Mike\\AppData\\Roaming\\jupyter\\nbextensions\\code_prettify\\autopep8.yaml\n",
      "[I 16:33:10 InstallContribNbextensionsApp] Up to date: C:\\Users\\Mike\\AppData\\Roaming\\jupyter\\nbextensions\\code_prettify\\code_prettify.js\n",
      "[I 16:33:10 InstallContribNbextensionsApp] Up to date: C:\\Users\\Mike\\AppData\\Roaming\\jupyter\\nbextensions\\code_prettify\\code_prettify.yaml\n",
      "[I 16:33:10 InstallContribNbextensionsApp] Up to date: C:\\Users\\Mike\\AppData\\Roaming\\jupyter\\nbextensions\\code_prettify\\demo-jv.gif\n",
      "[I 16:33:10 InstallContribNbextensionsApp] Up to date: C:\\Users\\Mike\\AppData\\Roaming\\jupyter\\nbextensions\\code_prettify\\demo-py.gif\n",
      "[I 16:33:10 InstallContribNbextensionsApp] Up to date: C:\\Users\\Mike\\AppData\\Roaming\\jupyter\\nbextensions\\code_prettify\\demo-R.gif\n",
      "[I 16:33:10 InstallContribNbextensionsApp] Up to date: C:\\Users\\Mike\\AppData\\Roaming\\jupyter\\nbextensions\\code_prettify\\demo_2to3.gif\n",
      "[I 16:33:10 InstallContribNbextensionsApp] Up to date: C:\\Users\\Mike\\AppData\\Roaming\\jupyter\\nbextensions\\code_prettify\\isort.js\n",
      "[I 16:33:10 InstallContribNbextensionsApp] Up to date: C:\\Users\\Mike\\AppData\\Roaming\\jupyter\\nbextensions\\code_prettify\\isort.yaml\n",
      "[I 16:33:10 InstallContribNbextensionsApp] Up to date: C:\\Users\\Mike\\AppData\\Roaming\\jupyter\\nbextensions\\code_prettify\\kernel_exec_on_cell.js\n",
      "[I 16:33:10 InstallContribNbextensionsApp] Up to date: C:\\Users\\Mike\\AppData\\Roaming\\jupyter\\nbextensions\\code_prettify\\README.md\n",
      "[I 16:33:10 InstallContribNbextensionsApp] Up to date: C:\\Users\\Mike\\AppData\\Roaming\\jupyter\\nbextensions\\code_prettify\\README_2to3.md\n",
      "[I 16:33:10 InstallContribNbextensionsApp] Up to date: C:\\Users\\Mike\\AppData\\Roaming\\jupyter\\nbextensions\\code_prettify\\README_autopep8.md\n",
      "[I 16:33:10 InstallContribNbextensionsApp] Up to date: C:\\Users\\Mike\\AppData\\Roaming\\jupyter\\nbextensions\\code_prettify\\README_code_prettify.md\n",
      "[I 16:33:10 InstallContribNbextensionsApp] Up to date: C:\\Users\\Mike\\AppData\\Roaming\\jupyter\\nbextensions\\code_prettify\\README_isort.md\n",
      "[I 16:33:10 InstallContribNbextensionsApp] - Validating: ok\n",
      "[I 16:33:10 InstallContribNbextensionsApp] Installing C:\\Users\\Mike\\anaconda3\\lib\\site-packages\\jupyter_contrib_nbextensions\\nbextensions\\collapsible_headings -> collapsible_headings\n",
      "[I 16:33:10 InstallContribNbextensionsApp] Up to date: C:\\Users\\Mike\\AppData\\Roaming\\jupyter\\nbextensions\\collapsible_headings\\collapsible_headings.yaml\n",
      "[I 16:33:10 InstallContribNbextensionsApp] Up to date: C:\\Users\\Mike\\AppData\\Roaming\\jupyter\\nbextensions\\collapsible_headings\\icon.png\n",
      "[I 16:33:10 InstallContribNbextensionsApp] Up to date: C:\\Users\\Mike\\AppData\\Roaming\\jupyter\\nbextensions\\collapsible_headings\\main.css\n",
      "[I 16:33:10 InstallContribNbextensionsApp] Up to date: C:\\Users\\Mike\\AppData\\Roaming\\jupyter\\nbextensions\\collapsible_headings\\main.js\n",
      "[I 16:33:10 InstallContribNbextensionsApp] Up to date: C:\\Users\\Mike\\AppData\\Roaming\\jupyter\\nbextensions\\collapsible_headings\\readme.md\n",
      "[I 16:33:10 InstallContribNbextensionsApp] Up to date: C:\\Users\\Mike\\AppData\\Roaming\\jupyter\\nbextensions\\collapsible_headings\\screenshot.png\n",
      "[I 16:33:10 InstallContribNbextensionsApp] - Validating: ok\n",
      "[I 16:33:10 InstallContribNbextensionsApp] Installing C:\\Users\\Mike\\anaconda3\\lib\\site-packages\\jupyter_contrib_nbextensions\\nbextensions\\comment-uncomment -> comment-uncomment\n",
      "[I 16:33:10 InstallContribNbextensionsApp] Up to date: C:\\Users\\Mike\\AppData\\Roaming\\jupyter\\nbextensions\\comment-uncomment\\comment-uncomment.yaml\n",
      "[I 16:33:10 InstallContribNbextensionsApp] Up to date: C:\\Users\\Mike\\AppData\\Roaming\\jupyter\\nbextensions\\comment-uncomment\\icon.png\n",
      "[I 16:33:10 InstallContribNbextensionsApp] Up to date: C:\\Users\\Mike\\AppData\\Roaming\\jupyter\\nbextensions\\comment-uncomment\\main.js\n",
      "[I 16:33:10 InstallContribNbextensionsApp] Up to date: C:\\Users\\Mike\\AppData\\Roaming\\jupyter\\nbextensions\\comment-uncomment\\readme.md\n",
      "[I 16:33:10 InstallContribNbextensionsApp] - Validating: ok\n",
      "[I 16:33:10 InstallContribNbextensionsApp] Installing C:\\Users\\Mike\\anaconda3\\lib\\site-packages\\jupyter_contrib_nbextensions\\nbextensions\\contrib_nbextensions_help_item -> contrib_nbextensions_help_item\n",
      "[I 16:33:10 InstallContribNbextensionsApp] Up to date: C:\\Users\\Mike\\AppData\\Roaming\\jupyter\\nbextensions\\contrib_nbextensions_help_item\\contrib_nbextensions_help_item.yaml\n",
      "[I 16:33:10 InstallContribNbextensionsApp] Up to date: C:\\Users\\Mike\\AppData\\Roaming\\jupyter\\nbextensions\\contrib_nbextensions_help_item\\main.js\n",
      "[I 16:33:10 InstallContribNbextensionsApp] Up to date: C:\\Users\\Mike\\AppData\\Roaming\\jupyter\\nbextensions\\contrib_nbextensions_help_item\\README.md\n",
      "[I 16:33:10 InstallContribNbextensionsApp] - Validating: ok\n",
      "[I 16:33:10 InstallContribNbextensionsApp] Installing C:\\Users\\Mike\\anaconda3\\lib\\site-packages\\jupyter_contrib_nbextensions\\nbextensions\\datestamper -> datestamper\n",
      "[I 16:33:10 InstallContribNbextensionsApp] Up to date: C:\\Users\\Mike\\AppData\\Roaming\\jupyter\\nbextensions\\datestamper\\icon.png\n",
      "[I 16:33:10 InstallContribNbextensionsApp] Up to date: C:\\Users\\Mike\\AppData\\Roaming\\jupyter\\nbextensions\\datestamper\\main.js\n",
      "[I 16:33:10 InstallContribNbextensionsApp] Up to date: C:\\Users\\Mike\\AppData\\Roaming\\jupyter\\nbextensions\\datestamper\\main.yaml\n",
      "[I 16:33:10 InstallContribNbextensionsApp] Up to date: C:\\Users\\Mike\\AppData\\Roaming\\jupyter\\nbextensions\\datestamper\\readme.md\n",
      "[I 16:33:10 InstallContribNbextensionsApp] - Validating: ok\n",
      "[I 16:33:10 InstallContribNbextensionsApp] Installing C:\\Users\\Mike\\anaconda3\\lib\\site-packages\\jupyter_contrib_nbextensions\\nbextensions\\equation-numbering -> equation-numbering\n",
      "[I 16:33:10 InstallContribNbextensionsApp] Up to date: C:\\Users\\Mike\\AppData\\Roaming\\jupyter\\nbextensions\\equation-numbering\\button.png\n",
      "[I 16:33:10 InstallContribNbextensionsApp] Up to date: C:\\Users\\Mike\\AppData\\Roaming\\jupyter\\nbextensions\\equation-numbering\\icon.png\n",
      "[I 16:33:10 InstallContribNbextensionsApp] Up to date: C:\\Users\\Mike\\AppData\\Roaming\\jupyter\\nbextensions\\equation-numbering\\info.yaml\n",
      "[I 16:33:10 InstallContribNbextensionsApp] Up to date: C:\\Users\\Mike\\AppData\\Roaming\\jupyter\\nbextensions\\equation-numbering\\main.js\n",
      "[I 16:33:10 InstallContribNbextensionsApp] Up to date: C:\\Users\\Mike\\AppData\\Roaming\\jupyter\\nbextensions\\equation-numbering\\readme.md\n",
      "[I 16:33:10 InstallContribNbextensionsApp] - Validating: ok\n",
      "[I 16:33:10 InstallContribNbextensionsApp] Installing C:\\Users\\Mike\\anaconda3\\lib\\site-packages\\jupyter_contrib_nbextensions\\nbextensions\\execute_time -> execute_time\n",
      "[I 16:33:10 InstallContribNbextensionsApp] Up to date: C:\\Users\\Mike\\AppData\\Roaming\\jupyter\\nbextensions\\execute_time\\ExecuteTime.css\n",
      "[I 16:33:10 InstallContribNbextensionsApp] Up to date: C:\\Users\\Mike\\AppData\\Roaming\\jupyter\\nbextensions\\execute_time\\ExecuteTime.js\n",
      "[I 16:33:10 InstallContribNbextensionsApp] Up to date: C:\\Users\\Mike\\AppData\\Roaming\\jupyter\\nbextensions\\execute_time\\ExecuteTime.yaml\n",
      "[I 16:33:10 InstallContribNbextensionsApp] Up to date: C:\\Users\\Mike\\AppData\\Roaming\\jupyter\\nbextensions\\execute_time\\execution-timings-box.png\n",
      "[I 16:33:10 InstallContribNbextensionsApp] Up to date: C:\\Users\\Mike\\AppData\\Roaming\\jupyter\\nbextensions\\execute_time\\execution-timings-menu.png\n",
      "[I 16:33:10 InstallContribNbextensionsApp] Up to date: C:\\Users\\Mike\\AppData\\Roaming\\jupyter\\nbextensions\\execute_time\\icon.png\n",
      "[I 16:33:10 InstallContribNbextensionsApp] Up to date: C:\\Users\\Mike\\AppData\\Roaming\\jupyter\\nbextensions\\execute_time\\readme.md\n",
      "[I 16:33:10 InstallContribNbextensionsApp] - Validating: ok\n",
      "[I 16:33:10 InstallContribNbextensionsApp] Installing C:\\Users\\Mike\\anaconda3\\lib\\site-packages\\jupyter_contrib_nbextensions\\nbextensions\\execution_dependencies -> execution_dependencies\n",
      "[I 16:33:10 InstallContribNbextensionsApp] Up to date: C:\\Users\\Mike\\AppData\\Roaming\\jupyter\\nbextensions\\execution_dependencies\\execution_dependencies.js\n",
      "[I 16:33:10 InstallContribNbextensionsApp] Up to date: C:\\Users\\Mike\\AppData\\Roaming\\jupyter\\nbextensions\\execution_dependencies\\execution_dependencies.yml\n",
      "[I 16:33:10 InstallContribNbextensionsApp] Up to date: C:\\Users\\Mike\\AppData\\Roaming\\jupyter\\nbextensions\\execution_dependencies\\README.md\n",
      "[I 16:33:10 InstallContribNbextensionsApp] - Validating: ok\n",
      "[I 16:33:10 InstallContribNbextensionsApp] Installing C:\\Users\\Mike\\anaconda3\\lib\\site-packages\\jupyter_contrib_nbextensions\\nbextensions\\exercise -> exercise\n",
      "[I 16:33:10 InstallContribNbextensionsApp] Up to date: C:\\Users\\Mike\\AppData\\Roaming\\jupyter\\nbextensions\\exercise\\exercise.yaml\n",
      "[I 16:33:10 InstallContribNbextensionsApp] Up to date: C:\\Users\\Mike\\AppData\\Roaming\\jupyter\\nbextensions\\exercise\\history.md\n",
      "[I 16:33:10 InstallContribNbextensionsApp] Up to date: C:\\Users\\Mike\\AppData\\Roaming\\jupyter\\nbextensions\\exercise\\icon.png\n",
      "[I 16:33:10 InstallContribNbextensionsApp] Up to date: C:\\Users\\Mike\\AppData\\Roaming\\jupyter\\nbextensions\\exercise\\image.gif\n",
      "[I 16:33:10 InstallContribNbextensionsApp] Up to date: C:\\Users\\Mike\\AppData\\Roaming\\jupyter\\nbextensions\\exercise\\main.css\n",
      "[I 16:33:10 InstallContribNbextensionsApp] Up to date: C:\\Users\\Mike\\AppData\\Roaming\\jupyter\\nbextensions\\exercise\\main.js\n",
      "[I 16:33:10 InstallContribNbextensionsApp] Up to date: C:\\Users\\Mike\\AppData\\Roaming\\jupyter\\nbextensions\\exercise\\readme.md\n",
      "[I 16:33:10 InstallContribNbextensionsApp] - Validating: ok\n",
      "[I 16:33:10 InstallContribNbextensionsApp] Installing C:\\Users\\Mike\\anaconda3\\lib\\site-packages\\jupyter_contrib_nbextensions\\nbextensions\\exercise2 -> exercise2\n",
      "[I 16:33:10 InstallContribNbextensionsApp] Up to date: C:\\Users\\Mike\\AppData\\Roaming\\jupyter\\nbextensions\\exercise2\\exercise2.yaml\n",
      "[I 16:33:10 InstallContribNbextensionsApp] Up to date: C:\\Users\\Mike\\AppData\\Roaming\\jupyter\\nbextensions\\exercise2\\icon.png\n",
      "[I 16:33:10 InstallContribNbextensionsApp] Up to date: C:\\Users\\Mike\\AppData\\Roaming\\jupyter\\nbextensions\\exercise2\\image.gif\n",
      "[I 16:33:10 InstallContribNbextensionsApp] Up to date: C:\\Users\\Mike\\AppData\\Roaming\\jupyter\\nbextensions\\exercise2\\main.css\n",
      "[I 16:33:10 InstallContribNbextensionsApp] Up to date: C:\\Users\\Mike\\AppData\\Roaming\\jupyter\\nbextensions\\exercise2\\main.js\n",
      "[I 16:33:10 InstallContribNbextensionsApp] Up to date: C:\\Users\\Mike\\AppData\\Roaming\\jupyter\\nbextensions\\exercise2\\readme.md\n",
      "[I 16:33:10 InstallContribNbextensionsApp] - Validating: ok\n",
      "[I 16:33:10 InstallContribNbextensionsApp] Installing C:\\Users\\Mike\\anaconda3\\lib\\site-packages\\jupyter_contrib_nbextensions\\nbextensions\\export_embedded -> export_embedded\n",
      "[I 16:33:10 InstallContribNbextensionsApp] Up to date: C:\\Users\\Mike\\AppData\\Roaming\\jupyter\\nbextensions\\export_embedded\\export_embedded.yaml\n",
      "[I 16:33:10 InstallContribNbextensionsApp] Up to date: C:\\Users\\Mike\\AppData\\Roaming\\jupyter\\nbextensions\\export_embedded\\icon.png\n",
      "[I 16:33:10 InstallContribNbextensionsApp] Up to date: C:\\Users\\Mike\\AppData\\Roaming\\jupyter\\nbextensions\\export_embedded\\main.js\n",
      "[I 16:33:10 InstallContribNbextensionsApp] Up to date: C:\\Users\\Mike\\AppData\\Roaming\\jupyter\\nbextensions\\export_embedded\\readme.md\n",
      "[I 16:33:10 InstallContribNbextensionsApp] - Validating: ok\n",
      "[I 16:33:10 InstallContribNbextensionsApp] Installing C:\\Users\\Mike\\anaconda3\\lib\\site-packages\\jupyter_contrib_nbextensions\\nbextensions\\freeze -> freeze\n",
      "[I 16:33:10 InstallContribNbextensionsApp] Up to date: C:\\Users\\Mike\\AppData\\Roaming\\jupyter\\nbextensions\\freeze\\config.yaml\n",
      "[I 16:33:10 InstallContribNbextensionsApp] Up to date: C:\\Users\\Mike\\AppData\\Roaming\\jupyter\\nbextensions\\freeze\\icon.png\n",
      "[I 16:33:10 InstallContribNbextensionsApp] Up to date: C:\\Users\\Mike\\AppData\\Roaming\\jupyter\\nbextensions\\freeze\\main.js\n",
      "[I 16:33:10 InstallContribNbextensionsApp] Up to date: C:\\Users\\Mike\\AppData\\Roaming\\jupyter\\nbextensions\\freeze\\readme.md\n",
      "[I 16:33:10 InstallContribNbextensionsApp] - Validating: ok\n",
      "[I 16:33:10 InstallContribNbextensionsApp] Installing C:\\Users\\Mike\\anaconda3\\lib\\site-packages\\jupyter_contrib_nbextensions\\nbextensions\\gist_it -> gist_it\n",
      "[I 16:33:10 InstallContribNbextensionsApp] Up to date: C:\\Users\\Mike\\AppData\\Roaming\\jupyter\\nbextensions\\gist_it\\gist_it.yaml\n",
      "[I 16:33:10 InstallContribNbextensionsApp] Up to date: C:\\Users\\Mike\\AppData\\Roaming\\jupyter\\nbextensions\\gist_it\\icon.png\n",
      "[I 16:33:10 InstallContribNbextensionsApp] Up to date: C:\\Users\\Mike\\AppData\\Roaming\\jupyter\\nbextensions\\gist_it\\main.js\n",
      "[I 16:33:10 InstallContribNbextensionsApp] Up to date: C:\\Users\\Mike\\AppData\\Roaming\\jupyter\\nbextensions\\gist_it\\readme.md\n",
      "[I 16:33:10 InstallContribNbextensionsApp] - Validating: ok\n",
      "[I 16:33:10 InstallContribNbextensionsApp] Installing C:\\Users\\Mike\\anaconda3\\lib\\site-packages\\jupyter_contrib_nbextensions\\nbextensions\\go_to_current_running_cell -> go_to_current_running_cell\n",
      "[I 16:33:10 InstallContribNbextensionsApp] Up to date: C:\\Users\\Mike\\AppData\\Roaming\\jupyter\\nbextensions\\go_to_current_running_cell\\anchor.png\n",
      "[I 16:33:10 InstallContribNbextensionsApp] Up to date: C:\\Users\\Mike\\AppData\\Roaming\\jupyter\\nbextensions\\go_to_current_running_cell\\auto_focus.gif\n",
      "[I 16:33:10 InstallContribNbextensionsApp] Up to date: C:\\Users\\Mike\\AppData\\Roaming\\jupyter\\nbextensions\\go_to_current_running_cell\\eye.png\n",
      "[I 16:33:10 InstallContribNbextensionsApp] Up to date: C:\\Users\\Mike\\AppData\\Roaming\\jupyter\\nbextensions\\go_to_current_running_cell\\go_to_current_running_cell.yaml\n",
      "[I 16:33:10 InstallContribNbextensionsApp] Up to date: C:\\Users\\Mike\\AppData\\Roaming\\jupyter\\nbextensions\\go_to_current_running_cell\\jump_to_cell.gif\n",
      "[I 16:33:10 InstallContribNbextensionsApp] Up to date: C:\\Users\\Mike\\AppData\\Roaming\\jupyter\\nbextensions\\go_to_current_running_cell\\main.js\n",
      "[I 16:33:10 InstallContribNbextensionsApp] Up to date: C:\\Users\\Mike\\AppData\\Roaming\\jupyter\\nbextensions\\go_to_current_running_cell\\README.md\n",
      "[I 16:33:10 InstallContribNbextensionsApp] - Validating: ok\n",
      "[I 16:33:10 InstallContribNbextensionsApp] Installing C:\\Users\\Mike\\anaconda3\\lib\\site-packages\\jupyter_contrib_nbextensions\\nbextensions\\help_panel -> help_panel\n",
      "[I 16:33:10 InstallContribNbextensionsApp] Up to date: C:\\Users\\Mike\\AppData\\Roaming\\jupyter\\nbextensions\\help_panel\\help_panel.css\n",
      "[I 16:33:10 InstallContribNbextensionsApp] Up to date: C:\\Users\\Mike\\AppData\\Roaming\\jupyter\\nbextensions\\help_panel\\help_panel.js\n",
      "[I 16:33:10 InstallContribNbextensionsApp] Up to date: C:\\Users\\Mike\\AppData\\Roaming\\jupyter\\nbextensions\\help_panel\\help_panel.yaml\n",
      "[I 16:33:10 InstallContribNbextensionsApp] Up to date: C:\\Users\\Mike\\AppData\\Roaming\\jupyter\\nbextensions\\help_panel\\help_panel_ext.png\n",
      "[I 16:33:10 InstallContribNbextensionsApp] Up to date: C:\\Users\\Mike\\AppData\\Roaming\\jupyter\\nbextensions\\help_panel\\help_panel_ext_fullscreen.png\n",
      "[I 16:33:10 InstallContribNbextensionsApp] Up to date: C:\\Users\\Mike\\AppData\\Roaming\\jupyter\\nbextensions\\help_panel\\icon.png\n",
      "[I 16:33:10 InstallContribNbextensionsApp] Up to date: C:\\Users\\Mike\\AppData\\Roaming\\jupyter\\nbextensions\\help_panel\\readme.md\n",
      "[I 16:33:10 InstallContribNbextensionsApp] Up to date: C:\\Users\\Mike\\AppData\\Roaming\\jupyter\\nbextensions\\help_panel\\img\\handle-v.png\n",
      "[I 16:33:10 InstallContribNbextensionsApp] - Validating: ok\n",
      "[I 16:33:10 InstallContribNbextensionsApp] Installing C:\\Users\\Mike\\anaconda3\\lib\\site-packages\\jupyter_contrib_nbextensions\\nbextensions\\hide_header -> hide_header\n",
      "[I 16:33:10 InstallContribNbextensionsApp] Up to date: C:\\Users\\Mike\\AppData\\Roaming\\jupyter\\nbextensions\\hide_header\\hide_header.yaml\n",
      "[I 16:33:10 InstallContribNbextensionsApp] Up to date: C:\\Users\\Mike\\AppData\\Roaming\\jupyter\\nbextensions\\hide_header\\main.js\n",
      "[I 16:33:10 InstallContribNbextensionsApp] Up to date: C:\\Users\\Mike\\AppData\\Roaming\\jupyter\\nbextensions\\hide_header\\README.md\n",
      "[I 16:33:10 InstallContribNbextensionsApp] - Validating: ok\n",
      "[I 16:33:10 InstallContribNbextensionsApp] Installing C:\\Users\\Mike\\anaconda3\\lib\\site-packages\\jupyter_contrib_nbextensions\\nbextensions\\hide_input -> hide_input\n",
      "[I 16:33:10 InstallContribNbextensionsApp] Up to date: C:\\Users\\Mike\\AppData\\Roaming\\jupyter\\nbextensions\\hide_input\\hide-input.yaml\n",
      "[I 16:33:10 InstallContribNbextensionsApp] Up to date: C:\\Users\\Mike\\AppData\\Roaming\\jupyter\\nbextensions\\hide_input\\icon.png\n",
      "[I 16:33:10 InstallContribNbextensionsApp] Up to date: C:\\Users\\Mike\\AppData\\Roaming\\jupyter\\nbextensions\\hide_input\\main.js\n",
      "[I 16:33:10 InstallContribNbextensionsApp] Up to date: C:\\Users\\Mike\\AppData\\Roaming\\jupyter\\nbextensions\\hide_input\\readme.md\n",
      "[I 16:33:10 InstallContribNbextensionsApp] - Validating: ok\n",
      "[I 16:33:10 InstallContribNbextensionsApp] Installing C:\\Users\\Mike\\anaconda3\\lib\\site-packages\\jupyter_contrib_nbextensions\\nbextensions\\hide_input_all -> hide_input_all\n",
      "[I 16:33:10 InstallContribNbextensionsApp] Up to date: C:\\Users\\Mike\\AppData\\Roaming\\jupyter\\nbextensions\\hide_input_all\\hide_input_all.yaml\n",
      "[I 16:33:10 InstallContribNbextensionsApp] Up to date: C:\\Users\\Mike\\AppData\\Roaming\\jupyter\\nbextensions\\hide_input_all\\hide_input_all_hide.png\n",
      "[I 16:33:10 InstallContribNbextensionsApp] Up to date: C:\\Users\\Mike\\AppData\\Roaming\\jupyter\\nbextensions\\hide_input_all\\hide_input_all_show.png\n",
      "[I 16:33:10 InstallContribNbextensionsApp] Up to date: C:\\Users\\Mike\\AppData\\Roaming\\jupyter\\nbextensions\\hide_input_all\\icon.png\n",
      "[I 16:33:10 InstallContribNbextensionsApp] Up to date: C:\\Users\\Mike\\AppData\\Roaming\\jupyter\\nbextensions\\hide_input_all\\main.js\n",
      "[I 16:33:10 InstallContribNbextensionsApp] Up to date: C:\\Users\\Mike\\AppData\\Roaming\\jupyter\\nbextensions\\hide_input_all\\readme.md\n",
      "[I 16:33:10 InstallContribNbextensionsApp] - Validating: ok\n",
      "[I 16:33:10 InstallContribNbextensionsApp] Installing C:\\Users\\Mike\\anaconda3\\lib\\site-packages\\jupyter_contrib_nbextensions\\nbextensions\\highlighter -> highlighter\n",
      "[I 16:33:10 InstallContribNbextensionsApp] Up to date: C:\\Users\\Mike\\AppData\\Roaming\\jupyter\\nbextensions\\highlighter\\demo_highlighter.html\n",
      "[I 16:33:10 InstallContribNbextensionsApp] Up to date: C:\\Users\\Mike\\AppData\\Roaming\\jupyter\\nbextensions\\highlighter\\demo_highlighter.ipynb\n",
      "[I 16:33:10 InstallContribNbextensionsApp] Up to date: C:\\Users\\Mike\\AppData\\Roaming\\jupyter\\nbextensions\\highlighter\\export_highlights.html\n",
      "[I 16:33:10 InstallContribNbextensionsApp] Up to date: C:\\Users\\Mike\\AppData\\Roaming\\jupyter\\nbextensions\\highlighter\\export_highlights.ipynb\n",
      "[I 16:33:10 InstallContribNbextensionsApp] Up to date: C:\\Users\\Mike\\AppData\\Roaming\\jupyter\\nbextensions\\highlighter\\export_highlights.pdf\n",
      "[I 16:33:10 InstallContribNbextensionsApp] Up to date: C:\\Users\\Mike\\AppData\\Roaming\\jupyter\\nbextensions\\highlighter\\export_highlights.tex\n",
      "[I 16:33:10 InstallContribNbextensionsApp] Up to date: C:\\Users\\Mike\\AppData\\Roaming\\jupyter\\nbextensions\\highlighter\\highlighter.css\n",
      "[I 16:33:10 InstallContribNbextensionsApp] Up to date: C:\\Users\\Mike\\AppData\\Roaming\\jupyter\\nbextensions\\highlighter\\highlighter.js\n",
      "[I 16:33:10 InstallContribNbextensionsApp] Up to date: C:\\Users\\Mike\\AppData\\Roaming\\jupyter\\nbextensions\\highlighter\\highlighter.yaml\n",
      "[I 16:33:10 InstallContribNbextensionsApp] Up to date: C:\\Users\\Mike\\AppData\\Roaming\\jupyter\\nbextensions\\highlighter\\icon.png\n",
      "[I 16:33:10 InstallContribNbextensionsApp] Up to date: C:\\Users\\Mike\\AppData\\Roaming\\jupyter\\nbextensions\\highlighter\\image.gif\n",
      "[I 16:33:10 InstallContribNbextensionsApp] Up to date: C:\\Users\\Mike\\AppData\\Roaming\\jupyter\\nbextensions\\highlighter\\readme.md\n",
      "[I 16:33:10 InstallContribNbextensionsApp] Up to date: C:\\Users\\Mike\\AppData\\Roaming\\jupyter\\nbextensions\\highlighter\\tst_highlights.html\n",
      "[I 16:33:10 InstallContribNbextensionsApp] Up to date: C:\\Users\\Mike\\AppData\\Roaming\\jupyter\\nbextensions\\highlighter\\tst_highlights.ipynb\n",
      "[I 16:33:10 InstallContribNbextensionsApp] Up to date: C:\\Users\\Mike\\AppData\\Roaming\\jupyter\\nbextensions\\highlighter\\tst_highlights.pdf\n",
      "[I 16:33:10 InstallContribNbextensionsApp] Up to date: C:\\Users\\Mike\\AppData\\Roaming\\jupyter\\nbextensions\\highlighter\\tst_highlights.tex\n",
      "[I 16:33:10 InstallContribNbextensionsApp] - Validating: ok\n",
      "[I 16:33:10 InstallContribNbextensionsApp] Installing C:\\Users\\Mike\\anaconda3\\lib\\site-packages\\jupyter_contrib_nbextensions\\nbextensions\\hinterland -> hinterland\n",
      "[I 16:33:10 InstallContribNbextensionsApp] Up to date: C:\\Users\\Mike\\AppData\\Roaming\\jupyter\\nbextensions\\hinterland\\hinterland.js\n",
      "[I 16:33:10 InstallContribNbextensionsApp] Up to date: C:\\Users\\Mike\\AppData\\Roaming\\jupyter\\nbextensions\\hinterland\\hinterland.yaml\n",
      "[I 16:33:10 InstallContribNbextensionsApp] Up to date: C:\\Users\\Mike\\AppData\\Roaming\\jupyter\\nbextensions\\hinterland\\README.md\n",
      "[I 16:33:10 InstallContribNbextensionsApp] - Validating: ok\n",
      "[I 16:33:10 InstallContribNbextensionsApp] Installing C:\\Users\\Mike\\anaconda3\\lib\\site-packages\\jupyter_contrib_nbextensions\\nbextensions\\init_cell -> init_cell\n",
      "[I 16:33:10 InstallContribNbextensionsApp] Up to date: C:\\Users\\Mike\\AppData\\Roaming\\jupyter\\nbextensions\\init_cell\\cell_toolbar_menu.png\n",
      "[I 16:33:10 InstallContribNbextensionsApp] Up to date: C:\\Users\\Mike\\AppData\\Roaming\\jupyter\\nbextensions\\init_cell\\icon.png\n",
      "[I 16:33:10 InstallContribNbextensionsApp] Up to date: C:\\Users\\Mike\\AppData\\Roaming\\jupyter\\nbextensions\\init_cell\\init_cell.yaml\n",
      "[I 16:33:10 InstallContribNbextensionsApp] Up to date: C:\\Users\\Mike\\AppData\\Roaming\\jupyter\\nbextensions\\init_cell\\main.js\n",
      "[I 16:33:10 InstallContribNbextensionsApp] Up to date: C:\\Users\\Mike\\AppData\\Roaming\\jupyter\\nbextensions\\init_cell\\README.md\n",
      "[I 16:33:10 InstallContribNbextensionsApp] - Validating: ok\n",
      "[I 16:33:10 InstallContribNbextensionsApp] Installing C:\\Users\\Mike\\anaconda3\\lib\\site-packages\\jupyter_contrib_nbextensions\\nbextensions\\keyboard_shortcut_editor -> keyboard_shortcut_editor\n",
      "[I 16:33:10 InstallContribNbextensionsApp] Up to date: C:\\Users\\Mike\\AppData\\Roaming\\jupyter\\nbextensions\\keyboard_shortcut_editor\\icon.png\n",
      "[I 16:33:10 InstallContribNbextensionsApp] Up to date: C:\\Users\\Mike\\AppData\\Roaming\\jupyter\\nbextensions\\keyboard_shortcut_editor\\keyboard_shortcut_editor.yaml\n",
      "[I 16:33:10 InstallContribNbextensionsApp] Up to date: C:\\Users\\Mike\\AppData\\Roaming\\jupyter\\nbextensions\\keyboard_shortcut_editor\\kse_components.js\n",
      "[I 16:33:10 InstallContribNbextensionsApp] Up to date: C:\\Users\\Mike\\AppData\\Roaming\\jupyter\\nbextensions\\keyboard_shortcut_editor\\main.css\n",
      "[I 16:33:10 InstallContribNbextensionsApp] Up to date: C:\\Users\\Mike\\AppData\\Roaming\\jupyter\\nbextensions\\keyboard_shortcut_editor\\main.js\n",
      "[I 16:33:10 InstallContribNbextensionsApp] Up to date: C:\\Users\\Mike\\AppData\\Roaming\\jupyter\\nbextensions\\keyboard_shortcut_editor\\quickhelp_shim.js\n",
      "[I 16:33:10 InstallContribNbextensionsApp] Up to date: C:\\Users\\Mike\\AppData\\Roaming\\jupyter\\nbextensions\\keyboard_shortcut_editor\\README.md\n",
      "[I 16:33:10 InstallContribNbextensionsApp] Up to date: C:\\Users\\Mike\\AppData\\Roaming\\jupyter\\nbextensions\\keyboard_shortcut_editor\\readme_add_new_link.png\n",
      "[I 16:33:10 InstallContribNbextensionsApp] Up to date: C:\\Users\\Mike\\AppData\\Roaming\\jupyter\\nbextensions\\keyboard_shortcut_editor\\readme_add_new_select_action.png\n",
      "[I 16:33:10 InstallContribNbextensionsApp] Up to date: C:\\Users\\Mike\\AppData\\Roaming\\jupyter\\nbextensions\\keyboard_shortcut_editor\\readme_comma.png\n",
      "[I 16:33:10 InstallContribNbextensionsApp] Up to date: C:\\Users\\Mike\\AppData\\Roaming\\jupyter\\nbextensions\\keyboard_shortcut_editor\\readme_conflict.png\n",
      "[I 16:33:10 InstallContribNbextensionsApp] Up to date: C:\\Users\\Mike\\AppData\\Roaming\\jupyter\\nbextensions\\keyboard_shortcut_editor\\readme_dropdown.png\n",
      "[I 16:33:10 InstallContribNbextensionsApp] Up to date: C:\\Users\\Mike\\AppData\\Roaming\\jupyter\\nbextensions\\keyboard_shortcut_editor\\readme_menu_item.png\n",
      "[I 16:33:10 InstallContribNbextensionsApp] Up to date: C:\\Users\\Mike\\AppData\\Roaming\\jupyter\\nbextensions\\keyboard_shortcut_editor\\readme_reset_disabled.png\n",
      "[I 16:33:10 InstallContribNbextensionsApp] Up to date: C:\\Users\\Mike\\AppData\\Roaming\\jupyter\\nbextensions\\keyboard_shortcut_editor\\readme_shortcut_editor_blank.png\n",
      "[I 16:33:10 InstallContribNbextensionsApp] Up to date: C:\\Users\\Mike\\AppData\\Roaming\\jupyter\\nbextensions\\keyboard_shortcut_editor\\readme_shortcut_editor_success.png\n",
      "[I 16:33:10 InstallContribNbextensionsApp] Up to date: C:\\Users\\Mike\\AppData\\Roaming\\jupyter\\nbextensions\\keyboard_shortcut_editor\\readme_undefined_key.png\n",
      "[I 16:33:10 InstallContribNbextensionsApp] - Validating: ok\n",
      "[I 16:33:10 InstallContribNbextensionsApp] Installing C:\\Users\\Mike\\anaconda3\\lib\\site-packages\\jupyter_contrib_nbextensions\\nbextensions\\limit_output -> limit_output\n",
      "[I 16:33:10 InstallContribNbextensionsApp] Up to date: C:\\Users\\Mike\\AppData\\Roaming\\jupyter\\nbextensions\\limit_output\\icon.png\n",
      "[I 16:33:10 InstallContribNbextensionsApp] Up to date: C:\\Users\\Mike\\AppData\\Roaming\\jupyter\\nbextensions\\limit_output\\limit-output.yaml\n",
      "[I 16:33:10 InstallContribNbextensionsApp] Up to date: C:\\Users\\Mike\\AppData\\Roaming\\jupyter\\nbextensions\\limit_output\\main.js\n",
      "[I 16:33:10 InstallContribNbextensionsApp] Up to date: C:\\Users\\Mike\\AppData\\Roaming\\jupyter\\nbextensions\\limit_output\\readme.md\n",
      "[I 16:33:10 InstallContribNbextensionsApp] - Validating: ok\n",
      "[I 16:33:10 InstallContribNbextensionsApp] Installing C:\\Users\\Mike\\anaconda3\\lib\\site-packages\\jupyter_contrib_nbextensions\\nbextensions\\livemdpreview -> livemdpreview\n",
      "[I 16:33:10 InstallContribNbextensionsApp] Up to date: C:\\Users\\Mike\\AppData\\Roaming\\jupyter\\nbextensions\\livemdpreview\\livemdpreview.js\n",
      "[I 16:33:10 InstallContribNbextensionsApp] Up to date: C:\\Users\\Mike\\AppData\\Roaming\\jupyter\\nbextensions\\livemdpreview\\livemdpreview.yml\n",
      "[I 16:33:10 InstallContribNbextensionsApp] - Validating: ok\n",
      "[I 16:33:10 InstallContribNbextensionsApp] Installing C:\\Users\\Mike\\anaconda3\\lib\\site-packages\\jupyter_contrib_nbextensions\\nbextensions\\load_tex_macros -> load_tex_macros\n",
      "[I 16:33:10 InstallContribNbextensionsApp] Up to date: C:\\Users\\Mike\\AppData\\Roaming\\jupyter\\nbextensions\\load_tex_macros\\icon.png\n",
      "[I 16:33:10 InstallContribNbextensionsApp] Up to date: C:\\Users\\Mike\\AppData\\Roaming\\jupyter\\nbextensions\\load_tex_macros\\load_tex_macros.yaml\n",
      "[I 16:33:11 InstallContribNbextensionsApp] Up to date: C:\\Users\\Mike\\AppData\\Roaming\\jupyter\\nbextensions\\load_tex_macros\\main.js\n",
      "[I 16:33:11 InstallContribNbextensionsApp] Up to date: C:\\Users\\Mike\\AppData\\Roaming\\jupyter\\nbextensions\\load_tex_macros\\readme.md\n",
      "[I 16:33:11 InstallContribNbextensionsApp] - Validating: ok\n",
      "[I 16:33:11 InstallContribNbextensionsApp] Installing C:\\Users\\Mike\\anaconda3\\lib\\site-packages\\jupyter_contrib_nbextensions\\nbextensions\\move_selected_cells -> move_selected_cells\n",
      "[I 16:33:11 InstallContribNbextensionsApp] Up to date: C:\\Users\\Mike\\AppData\\Roaming\\jupyter\\nbextensions\\move_selected_cells\\main.js\n",
      "[I 16:33:11 InstallContribNbextensionsApp] Up to date: C:\\Users\\Mike\\AppData\\Roaming\\jupyter\\nbextensions\\move_selected_cells\\move_selected_cells.yaml\n",
      "[I 16:33:11 InstallContribNbextensionsApp] Up to date: C:\\Users\\Mike\\AppData\\Roaming\\jupyter\\nbextensions\\move_selected_cells\\README.md\n",
      "[I 16:33:11 InstallContribNbextensionsApp] - Validating: ok\n",
      "[I 16:33:11 InstallContribNbextensionsApp] Installing C:\\Users\\Mike\\anaconda3\\lib\\site-packages\\jupyter_contrib_nbextensions\\nbextensions\\navigation-hotkeys -> navigation-hotkeys\n",
      "[I 16:33:11 InstallContribNbextensionsApp] Up to date: C:\\Users\\Mike\\AppData\\Roaming\\jupyter\\nbextensions\\navigation-hotkeys\\hotkeys.yaml\n",
      "[I 16:33:11 InstallContribNbextensionsApp] Up to date: C:\\Users\\Mike\\AppData\\Roaming\\jupyter\\nbextensions\\navigation-hotkeys\\icon.png\n",
      "[I 16:33:11 InstallContribNbextensionsApp] Up to date: C:\\Users\\Mike\\AppData\\Roaming\\jupyter\\nbextensions\\navigation-hotkeys\\main.js\n",
      "[I 16:33:11 InstallContribNbextensionsApp] Up to date: C:\\Users\\Mike\\AppData\\Roaming\\jupyter\\nbextensions\\navigation-hotkeys\\readme.md\n",
      "[I 16:33:11 InstallContribNbextensionsApp] - Validating: ok\n",
      "[I 16:33:11 InstallContribNbextensionsApp] Installing C:\\Users\\Mike\\anaconda3\\lib\\site-packages\\jupyter_contrib_nbextensions\\nbextensions\\nbTranslate -> nbTranslate\n",
      "[I 16:33:11 InstallContribNbextensionsApp] Up to date: C:\\Users\\Mike\\AppData\\Roaming\\jupyter\\nbextensions\\nbTranslate\\demo1.gif\n",
      "[I 16:33:11 InstallContribNbextensionsApp] Up to date: C:\\Users\\Mike\\AppData\\Roaming\\jupyter\\nbextensions\\nbTranslate\\demo2.gif\n",
      "[I 16:33:11 InstallContribNbextensionsApp] Up to date: C:\\Users\\Mike\\AppData\\Roaming\\jupyter\\nbextensions\\nbTranslate\\languages.js\n",
      "[I 16:33:11 InstallContribNbextensionsApp] Up to date: C:\\Users\\Mike\\AppData\\Roaming\\jupyter\\nbextensions\\nbTranslate\\main.js\n",
      "[I 16:33:11 InstallContribNbextensionsApp] Up to date: C:\\Users\\Mike\\AppData\\Roaming\\jupyter\\nbextensions\\nbTranslate\\mutils.js\n",
      "[I 16:33:11 InstallContribNbextensionsApp] Up to date: C:\\Users\\Mike\\AppData\\Roaming\\jupyter\\nbextensions\\nbTranslate\\nbTranslate.js\n",
      "[I 16:33:11 InstallContribNbextensionsApp] Up to date: C:\\Users\\Mike\\AppData\\Roaming\\jupyter\\nbextensions\\nbTranslate\\nbTranslate.yaml\n",
      "[I 16:33:11 InstallContribNbextensionsApp] Up to date: C:\\Users\\Mike\\AppData\\Roaming\\jupyter\\nbextensions\\nbTranslate\\README.md\n",
      "[I 16:33:11 InstallContribNbextensionsApp] - Validating: ok\n",
      "[I 16:33:11 InstallContribNbextensionsApp] Installing C:\\Users\\Mike\\anaconda3\\lib\\site-packages\\jupyter_contrib_nbextensions\\nbextensions\\notify -> notify\n",
      "[I 16:33:11 InstallContribNbextensionsApp] Up to date: C:\\Users\\Mike\\AppData\\Roaming\\jupyter\\nbextensions\\notify\\notification.png\n",
      "[I 16:33:11 InstallContribNbextensionsApp] Up to date: C:\\Users\\Mike\\AppData\\Roaming\\jupyter\\nbextensions\\notify\\notify.js\n",
      "[I 16:33:11 InstallContribNbextensionsApp] Up to date: C:\\Users\\Mike\\AppData\\Roaming\\jupyter\\nbextensions\\notify\\notify.mp3\n",
      "[I 16:33:11 InstallContribNbextensionsApp] Up to date: C:\\Users\\Mike\\AppData\\Roaming\\jupyter\\nbextensions\\notify\\notify.yaml\n",
      "[I 16:33:11 InstallContribNbextensionsApp] Up to date: C:\\Users\\Mike\\AppData\\Roaming\\jupyter\\nbextensions\\notify\\readme.md\n",
      "[I 16:33:11 InstallContribNbextensionsApp] - Validating: ok\n",
      "[I 16:33:11 InstallContribNbextensionsApp] Installing C:\\Users\\Mike\\anaconda3\\lib\\site-packages\\jupyter_contrib_nbextensions\\nbextensions\\printview -> printview\n",
      "[I 16:33:11 InstallContribNbextensionsApp] Up to date: C:\\Users\\Mike\\AppData\\Roaming\\jupyter\\nbextensions\\printview\\icon.png\n",
      "[I 16:33:11 InstallContribNbextensionsApp] Up to date: C:\\Users\\Mike\\AppData\\Roaming\\jupyter\\nbextensions\\printview\\main.js\n",
      "[I 16:33:11 InstallContribNbextensionsApp] Up to date: C:\\Users\\Mike\\AppData\\Roaming\\jupyter\\nbextensions\\printview\\printview-button.png\n",
      "[I 16:33:11 InstallContribNbextensionsApp] Up to date: C:\\Users\\Mike\\AppData\\Roaming\\jupyter\\nbextensions\\printview\\printview.yaml\n",
      "[I 16:33:11 InstallContribNbextensionsApp] Up to date: C:\\Users\\Mike\\AppData\\Roaming\\jupyter\\nbextensions\\printview\\readme.md\n",
      "[I 16:33:11 InstallContribNbextensionsApp] - Validating: ok\n",
      "[I 16:33:11 InstallContribNbextensionsApp] Installing C:\\Users\\Mike\\anaconda3\\lib\\site-packages\\jupyter_contrib_nbextensions\\nbextensions\\python-markdown -> python-markdown\n",
      "[I 16:33:11 InstallContribNbextensionsApp] Up to date: C:\\Users\\Mike\\AppData\\Roaming\\jupyter\\nbextensions\\python-markdown\\main.css\n",
      "[I 16:33:11 InstallContribNbextensionsApp] Up to date: C:\\Users\\Mike\\AppData\\Roaming\\jupyter\\nbextensions\\python-markdown\\main.js\n",
      "[I 16:33:11 InstallContribNbextensionsApp] Up to date: C:\\Users\\Mike\\AppData\\Roaming\\jupyter\\nbextensions\\python-markdown\\python-markdown-post.png\n",
      "[I 16:33:11 InstallContribNbextensionsApp] Up to date: C:\\Users\\Mike\\AppData\\Roaming\\jupyter\\nbextensions\\python-markdown\\python-markdown-pre.png\n",
      "[I 16:33:11 InstallContribNbextensionsApp] Up to date: C:\\Users\\Mike\\AppData\\Roaming\\jupyter\\nbextensions\\python-markdown\\python-markdown.png\n",
      "[I 16:33:11 InstallContribNbextensionsApp] Up to date: C:\\Users\\Mike\\AppData\\Roaming\\jupyter\\nbextensions\\python-markdown\\python-markdown.yaml\n",
      "[I 16:33:11 InstallContribNbextensionsApp] Up to date: C:\\Users\\Mike\\AppData\\Roaming\\jupyter\\nbextensions\\python-markdown\\readme.md\n",
      "[I 16:33:11 InstallContribNbextensionsApp] Up to date: C:\\Users\\Mike\\AppData\\Roaming\\jupyter\\nbextensions\\python-markdown\\trusted.png\n",
      "[I 16:33:11 InstallContribNbextensionsApp] Up to date: C:\\Users\\Mike\\AppData\\Roaming\\jupyter\\nbextensions\\python-markdown\\untrusted.png\n",
      "[I 16:33:11 InstallContribNbextensionsApp] - Validating: ok\n",
      "[I 16:33:11 InstallContribNbextensionsApp] Installing C:\\Users\\Mike\\anaconda3\\lib\\site-packages\\jupyter_contrib_nbextensions\\nbextensions\\qtconsole -> qtconsole\n",
      "[I 16:33:11 InstallContribNbextensionsApp] Up to date: C:\\Users\\Mike\\AppData\\Roaming\\jupyter\\nbextensions\\qtconsole\\qtconsole.js\n",
      "[I 16:33:11 InstallContribNbextensionsApp] Up to date: C:\\Users\\Mike\\AppData\\Roaming\\jupyter\\nbextensions\\qtconsole\\qtconsole.yaml\n",
      "[I 16:33:11 InstallContribNbextensionsApp] Up to date: C:\\Users\\Mike\\AppData\\Roaming\\jupyter\\nbextensions\\qtconsole\\README.md\n",
      "[I 16:33:11 InstallContribNbextensionsApp] - Validating: ok\n",
      "[I 16:33:11 InstallContribNbextensionsApp] Installing C:\\Users\\Mike\\anaconda3\\lib\\site-packages\\jupyter_contrib_nbextensions\\nbextensions\\rubberband -> rubberband\n",
      "[I 16:33:11 InstallContribNbextensionsApp] Up to date: C:\\Users\\Mike\\AppData\\Roaming\\jupyter\\nbextensions\\rubberband\\icon.png\n",
      "[I 16:33:11 InstallContribNbextensionsApp] Up to date: C:\\Users\\Mike\\AppData\\Roaming\\jupyter\\nbextensions\\rubberband\\main.css\n",
      "[I 16:33:11 InstallContribNbextensionsApp] Up to date: C:\\Users\\Mike\\AppData\\Roaming\\jupyter\\nbextensions\\rubberband\\main.js\n",
      "[I 16:33:11 InstallContribNbextensionsApp] Up to date: C:\\Users\\Mike\\AppData\\Roaming\\jupyter\\nbextensions\\rubberband\\readme.md\n",
      "[I 16:33:11 InstallContribNbextensionsApp] Up to date: C:\\Users\\Mike\\AppData\\Roaming\\jupyter\\nbextensions\\rubberband\\rubberband.yaml\n",
      "[I 16:33:11 InstallContribNbextensionsApp] - Validating: ok\n",
      "[I 16:33:11 InstallContribNbextensionsApp] Installing C:\\Users\\Mike\\anaconda3\\lib\\site-packages\\jupyter_contrib_nbextensions\\nbextensions\\ruler -> ruler\n",
      "[I 16:33:11 InstallContribNbextensionsApp] Up to date: C:\\Users\\Mike\\AppData\\Roaming\\jupyter\\nbextensions\\ruler\\edit.js\n",
      "[I 16:33:11 InstallContribNbextensionsApp] Up to date: C:\\Users\\Mike\\AppData\\Roaming\\jupyter\\nbextensions\\ruler\\icon.png\n",
      "[I 16:33:11 InstallContribNbextensionsApp] Up to date: C:\\Users\\Mike\\AppData\\Roaming\\jupyter\\nbextensions\\ruler\\main.js\n",
      "[I 16:33:11 InstallContribNbextensionsApp] Up to date: C:\\Users\\Mike\\AppData\\Roaming\\jupyter\\nbextensions\\ruler\\readme.md\n",
      "[I 16:33:11 InstallContribNbextensionsApp] Up to date: C:\\Users\\Mike\\AppData\\Roaming\\jupyter\\nbextensions\\ruler\\ruler.yaml\n",
      "[I 16:33:11 InstallContribNbextensionsApp] Up to date: C:\\Users\\Mike\\AppData\\Roaming\\jupyter\\nbextensions\\ruler\\ruler_editor.yaml\n",
      "[I 16:33:11 InstallContribNbextensionsApp] - Validating: ok\n",
      "[I 16:33:11 InstallContribNbextensionsApp] Installing C:\\Users\\Mike\\anaconda3\\lib\\site-packages\\jupyter_contrib_nbextensions\\nbextensions\\ruler -> ruler\n",
      "[I 16:33:11 InstallContribNbextensionsApp] Up to date: C:\\Users\\Mike\\AppData\\Roaming\\jupyter\\nbextensions\\ruler\\edit.js\n",
      "[I 16:33:11 InstallContribNbextensionsApp] Up to date: C:\\Users\\Mike\\AppData\\Roaming\\jupyter\\nbextensions\\ruler\\icon.png\n",
      "[I 16:33:11 InstallContribNbextensionsApp] Up to date: C:\\Users\\Mike\\AppData\\Roaming\\jupyter\\nbextensions\\ruler\\main.js\n",
      "[I 16:33:11 InstallContribNbextensionsApp] Up to date: C:\\Users\\Mike\\AppData\\Roaming\\jupyter\\nbextensions\\ruler\\readme.md\n",
      "[I 16:33:11 InstallContribNbextensionsApp] Up to date: C:\\Users\\Mike\\AppData\\Roaming\\jupyter\\nbextensions\\ruler\\ruler.yaml\n",
      "[I 16:33:11 InstallContribNbextensionsApp] Up to date: C:\\Users\\Mike\\AppData\\Roaming\\jupyter\\nbextensions\\ruler\\ruler_editor.yaml\n",
      "[I 16:33:11 InstallContribNbextensionsApp] - Validating: ok\n",
      "[I 16:33:11 InstallContribNbextensionsApp] Installing C:\\Users\\Mike\\anaconda3\\lib\\site-packages\\jupyter_contrib_nbextensions\\nbextensions\\runtools -> runtools\n",
      "[I 16:33:11 InstallContribNbextensionsApp] Up to date: C:\\Users\\Mike\\AppData\\Roaming\\jupyter\\nbextensions\\runtools\\annotations.odg\n",
      "[I 16:33:11 InstallContribNbextensionsApp] Up to date: C:\\Users\\Mike\\AppData\\Roaming\\jupyter\\nbextensions\\runtools\\cellstate.js\n",
      "[I 16:33:11 InstallContribNbextensionsApp] Up to date: C:\\Users\\Mike\\AppData\\Roaming\\jupyter\\nbextensions\\runtools\\demo.gif\n",
      "[I 16:33:11 InstallContribNbextensionsApp] Up to date: C:\\Users\\Mike\\AppData\\Roaming\\jupyter\\nbextensions\\runtools\\gutter.css\n",
      "[I 16:33:11 InstallContribNbextensionsApp] Up to date: C:\\Users\\Mike\\AppData\\Roaming\\jupyter\\nbextensions\\runtools\\icon.png\n",
      "[I 16:33:11 InstallContribNbextensionsApp] Up to date: C:\\Users\\Mike\\AppData\\Roaming\\jupyter\\nbextensions\\runtools\\main.css\n",
      "[I 16:33:11 InstallContribNbextensionsApp] Up to date: C:\\Users\\Mike\\AppData\\Roaming\\jupyter\\nbextensions\\runtools\\main.js\n",
      "[I 16:33:11 InstallContribNbextensionsApp] Up to date: C:\\Users\\Mike\\AppData\\Roaming\\jupyter\\nbextensions\\runtools\\readme.md\n",
      "[I 16:33:11 InstallContribNbextensionsApp] Up to date: C:\\Users\\Mike\\AppData\\Roaming\\jupyter\\nbextensions\\runtools\\runtools.yaml\n",
      "[I 16:33:11 InstallContribNbextensionsApp] Up to date: C:\\Users\\Mike\\AppData\\Roaming\\jupyter\\nbextensions\\runtools\\runtools_execute.png\n",
      "[I 16:33:11 InstallContribNbextensionsApp] Up to date: C:\\Users\\Mike\\AppData\\Roaming\\jupyter\\nbextensions\\runtools\\runtools_lock.png\n",
      "[I 16:33:11 InstallContribNbextensionsApp] Up to date: C:\\Users\\Mike\\AppData\\Roaming\\jupyter\\nbextensions\\runtools\\runtools_marker.png\n",
      "[I 16:33:11 InstallContribNbextensionsApp] Up to date: C:\\Users\\Mike\\AppData\\Roaming\\jupyter\\nbextensions\\runtools\\runtools_nb.png\n",
      "[I 16:33:11 InstallContribNbextensionsApp] Up to date: C:\\Users\\Mike\\AppData\\Roaming\\jupyter\\nbextensions\\runtools\\runtools_show_hide.png\n",
      "[I 16:33:11 InstallContribNbextensionsApp] - Validating: ok\n",
      "[I 16:33:11 InstallContribNbextensionsApp] Installing C:\\Users\\Mike\\anaconda3\\lib\\site-packages\\jupyter_contrib_nbextensions\\nbextensions\\scratchpad -> scratchpad\n",
      "[I 16:33:11 InstallContribNbextensionsApp] Up to date: C:\\Users\\Mike\\AppData\\Roaming\\jupyter\\nbextensions\\scratchpad\\demo.gif\n",
      "[I 16:33:11 InstallContribNbextensionsApp] Up to date: C:\\Users\\Mike\\AppData\\Roaming\\jupyter\\nbextensions\\scratchpad\\LICENSE\n",
      "[I 16:33:11 InstallContribNbextensionsApp] Up to date: C:\\Users\\Mike\\AppData\\Roaming\\jupyter\\nbextensions\\scratchpad\\main.js\n",
      "[I 16:33:11 InstallContribNbextensionsApp] Up to date: C:\\Users\\Mike\\AppData\\Roaming\\jupyter\\nbextensions\\scratchpad\\README.md\n",
      "[I 16:33:11 InstallContribNbextensionsApp] Up to date: C:\\Users\\Mike\\AppData\\Roaming\\jupyter\\nbextensions\\scratchpad\\scratchpad.css\n",
      "[I 16:33:11 InstallContribNbextensionsApp] Up to date: C:\\Users\\Mike\\AppData\\Roaming\\jupyter\\nbextensions\\scratchpad\\scratchpad.yaml\n",
      "[I 16:33:11 InstallContribNbextensionsApp] - Validating: ok\n",
      "[I 16:33:11 InstallContribNbextensionsApp] Installing C:\\Users\\Mike\\anaconda3\\lib\\site-packages\\jupyter_contrib_nbextensions\\nbextensions\\scroll_down -> scroll_down\n",
      "[I 16:33:11 InstallContribNbextensionsApp] Up to date: C:\\Users\\Mike\\AppData\\Roaming\\jupyter\\nbextensions\\scroll_down\\config.yaml\n",
      "[I 16:33:11 InstallContribNbextensionsApp] Up to date: C:\\Users\\Mike\\AppData\\Roaming\\jupyter\\nbextensions\\scroll_down\\icon.png\n",
      "[I 16:33:11 InstallContribNbextensionsApp] Up to date: C:\\Users\\Mike\\AppData\\Roaming\\jupyter\\nbextensions\\scroll_down\\main.js\n",
      "[I 16:33:11 InstallContribNbextensionsApp] Up to date: C:\\Users\\Mike\\AppData\\Roaming\\jupyter\\nbextensions\\scroll_down\\readme.md\n",
      "[I 16:33:11 InstallContribNbextensionsApp] - Validating: ok\n",
      "[I 16:33:11 InstallContribNbextensionsApp] Installing C:\\Users\\Mike\\anaconda3\\lib\\site-packages\\jupyter_contrib_nbextensions\\nbextensions\\select_keymap -> select_keymap\n",
      "[I 16:33:11 InstallContribNbextensionsApp] Up to date: C:\\Users\\Mike\\AppData\\Roaming\\jupyter\\nbextensions\\select_keymap\\main.js\n",
      "[I 16:33:11 InstallContribNbextensionsApp] Up to date: C:\\Users\\Mike\\AppData\\Roaming\\jupyter\\nbextensions\\select_keymap\\README.md\n",
      "[I 16:33:11 InstallContribNbextensionsApp] Up to date: C:\\Users\\Mike\\AppData\\Roaming\\jupyter\\nbextensions\\select_keymap\\select_keymap.png\n",
      "[I 16:33:11 InstallContribNbextensionsApp] Up to date: C:\\Users\\Mike\\AppData\\Roaming\\jupyter\\nbextensions\\select_keymap\\select_keymap.yaml\n",
      "[I 16:33:11 InstallContribNbextensionsApp] - Validating: ok\n",
      "[I 16:33:11 InstallContribNbextensionsApp] Installing C:\\Users\\Mike\\anaconda3\\lib\\site-packages\\jupyter_contrib_nbextensions\\nbextensions\\skill -> skill\n",
      "[I 16:33:11 InstallContribNbextensionsApp] Up to date: C:\\Users\\Mike\\AppData\\Roaming\\jupyter\\nbextensions\\skill\\main.js\n",
      "[I 16:33:11 InstallContribNbextensionsApp] Up to date: C:\\Users\\Mike\\AppData\\Roaming\\jupyter\\nbextensions\\skill\\README.md\n",
      "[I 16:33:11 InstallContribNbextensionsApp] Up to date: C:\\Users\\Mike\\AppData\\Roaming\\jupyter\\nbextensions\\skill\\skill.js\n",
      "[I 16:33:11 InstallContribNbextensionsApp] Up to date: C:\\Users\\Mike\\AppData\\Roaming\\jupyter\\nbextensions\\skill\\skill.yaml\n",
      "[I 16:33:11 InstallContribNbextensionsApp] - Validating: ok\n",
      "[I 16:33:11 InstallContribNbextensionsApp] Installing C:\\Users\\Mike\\anaconda3\\lib\\site-packages\\jupyter_contrib_nbextensions\\nbextensions\\skip-traceback -> skip-traceback\n",
      "[I 16:33:11 InstallContribNbextensionsApp] Up to date: C:\\Users\\Mike\\AppData\\Roaming\\jupyter\\nbextensions\\skip-traceback\\icon.png\n",
      "[I 16:33:11 InstallContribNbextensionsApp] Up to date: C:\\Users\\Mike\\AppData\\Roaming\\jupyter\\nbextensions\\skip-traceback\\main.js\n",
      "[I 16:33:11 InstallContribNbextensionsApp] Up to date: C:\\Users\\Mike\\AppData\\Roaming\\jupyter\\nbextensions\\skip-traceback\\readme.md\n",
      "[I 16:33:11 InstallContribNbextensionsApp] Up to date: C:\\Users\\Mike\\AppData\\Roaming\\jupyter\\nbextensions\\skip-traceback\\skip-traceback.png\n",
      "[I 16:33:11 InstallContribNbextensionsApp] Up to date: C:\\Users\\Mike\\AppData\\Roaming\\jupyter\\nbextensions\\skip-traceback\\skip-traceback.yaml\n",
      "[I 16:33:11 InstallContribNbextensionsApp] Up to date: C:\\Users\\Mike\\AppData\\Roaming\\jupyter\\nbextensions\\skip-traceback\\traceback.png\n",
      "[I 16:33:11 InstallContribNbextensionsApp] - Validating: ok\n",
      "[I 16:33:11 InstallContribNbextensionsApp] Installing C:\\Users\\Mike\\anaconda3\\lib\\site-packages\\jupyter_contrib_nbextensions\\nbextensions\\snippets -> snippets\n",
      "[I 16:33:11 InstallContribNbextensionsApp] Up to date: C:\\Users\\Mike\\AppData\\Roaming\\jupyter\\nbextensions\\snippets\\main.js\n",
      "[I 16:33:11 InstallContribNbextensionsApp] Up to date: C:\\Users\\Mike\\AppData\\Roaming\\jupyter\\nbextensions\\snippets\\README.md\n",
      "[I 16:33:11 InstallContribNbextensionsApp] Up to date: C:\\Users\\Mike\\AppData\\Roaming\\jupyter\\nbextensions\\snippets\\snippets-demo.gif\n",
      "[I 16:33:11 InstallContribNbextensionsApp] Up to date: C:\\Users\\Mike\\AppData\\Roaming\\jupyter\\nbextensions\\snippets\\snippets.json\n",
      "[I 16:33:11 InstallContribNbextensionsApp] Up to date: C:\\Users\\Mike\\AppData\\Roaming\\jupyter\\nbextensions\\snippets\\snippets.yaml\n",
      "[I 16:33:11 InstallContribNbextensionsApp] - Validating: ok\n",
      "[I 16:33:11 InstallContribNbextensionsApp] Installing C:\\Users\\Mike\\anaconda3\\lib\\site-packages\\jupyter_contrib_nbextensions\\nbextensions\\snippets_menu -> snippets_menu\n",
      "[I 16:33:11 InstallContribNbextensionsApp] Up to date: C:\\Users\\Mike\\AppData\\Roaming\\jupyter\\nbextensions\\snippets_menu\\config.yaml\n",
      "[I 16:33:11 InstallContribNbextensionsApp] Up to date: C:\\Users\\Mike\\AppData\\Roaming\\jupyter\\nbextensions\\snippets_menu\\examples_for_custom.js\n",
      "[I 16:33:11 InstallContribNbextensionsApp] Up to date: C:\\Users\\Mike\\AppData\\Roaming\\jupyter\\nbextensions\\snippets_menu\\main.js\n",
      "[I 16:33:11 InstallContribNbextensionsApp] Up to date: C:\\Users\\Mike\\AppData\\Roaming\\jupyter\\nbextensions\\snippets_menu\\readme.md\n",
      "[I 16:33:11 InstallContribNbextensionsApp] Up to date: C:\\Users\\Mike\\AppData\\Roaming\\jupyter\\nbextensions\\snippets_menu\\screenshot1.png\n",
      "[I 16:33:11 InstallContribNbextensionsApp] Up to date: C:\\Users\\Mike\\AppData\\Roaming\\jupyter\\nbextensions\\snippets_menu\\screenshot2.png\n",
      "[I 16:33:11 InstallContribNbextensionsApp] Up to date: C:\\Users\\Mike\\AppData\\Roaming\\jupyter\\nbextensions\\snippets_menu\\screenshot3.png\n",
      "[I 16:33:11 InstallContribNbextensionsApp] Up to date: C:\\Users\\Mike\\AppData\\Roaming\\jupyter\\nbextensions\\snippets_menu\\snippets_menu.css\n",
      "[I 16:33:11 InstallContribNbextensionsApp] Up to date: C:\\Users\\Mike\\AppData\\Roaming\\jupyter\\nbextensions\\snippets_menu\\snippets_submenu_markdown.js\n",
      "[I 16:33:11 InstallContribNbextensionsApp] Up to date: C:\\Users\\Mike\\AppData\\Roaming\\jupyter\\nbextensions\\snippets_menu\\snippets_submenu_python.js\n",
      "[I 16:33:11 InstallContribNbextensionsApp] Up to date: C:\\Users\\Mike\\AppData\\Roaming\\jupyter\\nbextensions\\snippets_menu\\thumbnail.png\n",
      "[I 16:33:11 InstallContribNbextensionsApp] Up to date: C:\\Users\\Mike\\AppData\\Roaming\\jupyter\\nbextensions\\snippets_menu\\snippets_submenus_python\\astropy.js\n",
      "[I 16:33:11 InstallContribNbextensionsApp] Up to date: C:\\Users\\Mike\\AppData\\Roaming\\jupyter\\nbextensions\\snippets_menu\\snippets_submenus_python\\h5py.js\n",
      "[I 16:33:11 InstallContribNbextensionsApp] Up to date: C:\\Users\\Mike\\AppData\\Roaming\\jupyter\\nbextensions\\snippets_menu\\snippets_submenus_python\\matplotlib.js\n",
      "[I 16:33:11 InstallContribNbextensionsApp] Up to date: C:\\Users\\Mike\\AppData\\Roaming\\jupyter\\nbextensions\\snippets_menu\\snippets_submenus_python\\numba.js\n",
      "[I 16:33:11 InstallContribNbextensionsApp] Up to date: C:\\Users\\Mike\\AppData\\Roaming\\jupyter\\nbextensions\\snippets_menu\\snippets_submenus_python\\numpy.js\n",
      "[I 16:33:11 InstallContribNbextensionsApp] Up to date: C:\\Users\\Mike\\AppData\\Roaming\\jupyter\\nbextensions\\snippets_menu\\snippets_submenus_python\\numpy_polynomial.js\n",
      "[I 16:33:11 InstallContribNbextensionsApp] Up to date: C:\\Users\\Mike\\AppData\\Roaming\\jupyter\\nbextensions\\snippets_menu\\snippets_submenus_python\\numpy_ufuncs.js\n",
      "[I 16:33:11 InstallContribNbextensionsApp] Up to date: C:\\Users\\Mike\\AppData\\Roaming\\jupyter\\nbextensions\\snippets_menu\\snippets_submenus_python\\pandas.js\n",
      "[I 16:33:11 InstallContribNbextensionsApp] Up to date: C:\\Users\\Mike\\AppData\\Roaming\\jupyter\\nbextensions\\snippets_menu\\snippets_submenus_python\\python.js\n",
      "[I 16:33:11 InstallContribNbextensionsApp] Up to date: C:\\Users\\Mike\\AppData\\Roaming\\jupyter\\nbextensions\\snippets_menu\\snippets_submenus_python\\python_regex.js\n",
      "[I 16:33:11 InstallContribNbextensionsApp] Up to date: C:\\Users\\Mike\\AppData\\Roaming\\jupyter\\nbextensions\\snippets_menu\\snippets_submenus_python\\scipy.js\n",
      "[I 16:33:11 InstallContribNbextensionsApp] Up to date: C:\\Users\\Mike\\AppData\\Roaming\\jupyter\\nbextensions\\snippets_menu\\snippets_submenus_python\\scipy_constants.js\n",
      "[I 16:33:11 InstallContribNbextensionsApp] Up to date: C:\\Users\\Mike\\AppData\\Roaming\\jupyter\\nbextensions\\snippets_menu\\snippets_submenus_python\\scipy_special.js\n",
      "[I 16:33:11 InstallContribNbextensionsApp] Up to date: C:\\Users\\Mike\\AppData\\Roaming\\jupyter\\nbextensions\\snippets_menu\\snippets_submenus_python\\sympy.js\n",
      "[I 16:33:11 InstallContribNbextensionsApp] Up to date: C:\\Users\\Mike\\AppData\\Roaming\\jupyter\\nbextensions\\snippets_menu\\snippets_submenus_python\\sympy_assumptions.js\n",
      "[I 16:33:11 InstallContribNbextensionsApp] Up to date: C:\\Users\\Mike\\AppData\\Roaming\\jupyter\\nbextensions\\snippets_menu\\snippets_submenus_python\\sympy_functions.js\n",
      "[I 16:33:11 InstallContribNbextensionsApp] - Validating: ok\n",
      "[I 16:33:11 InstallContribNbextensionsApp] Installing C:\\Users\\Mike\\anaconda3\\lib\\site-packages\\jupyter_contrib_nbextensions\\nbextensions\\spellchecker -> spellchecker\n",
      "[I 16:33:11 InstallContribNbextensionsApp] Up to date: C:\\Users\\Mike\\AppData\\Roaming\\jupyter\\nbextensions\\spellchecker\\config.yaml\n",
      "[I 16:33:11 InstallContribNbextensionsApp] Up to date: C:\\Users\\Mike\\AppData\\Roaming\\jupyter\\nbextensions\\spellchecker\\download_new_dict.py\n",
      "[I 16:33:11 InstallContribNbextensionsApp] Up to date: C:\\Users\\Mike\\AppData\\Roaming\\jupyter\\nbextensions\\spellchecker\\main.css\n",
      "[I 16:33:11 InstallContribNbextensionsApp] Up to date: C:\\Users\\Mike\\AppData\\Roaming\\jupyter\\nbextensions\\spellchecker\\main.js\n",
      "[I 16:33:11 InstallContribNbextensionsApp] Up to date: C:\\Users\\Mike\\AppData\\Roaming\\jupyter\\nbextensions\\spellchecker\\README.md\n",
      "[I 16:33:11 InstallContribNbextensionsApp] Up to date: C:\\Users\\Mike\\AppData\\Roaming\\jupyter\\nbextensions\\spellchecker\\screenshot.png\n",
      "[I 16:33:11 InstallContribNbextensionsApp] Up to date: C:\\Users\\Mike\\AppData\\Roaming\\jupyter\\nbextensions\\spellchecker\\typo\\LICENSE.txt\n",
      "[I 16:33:11 InstallContribNbextensionsApp] Up to date: C:\\Users\\Mike\\AppData\\Roaming\\jupyter\\nbextensions\\spellchecker\\typo\\typo.js\n",
      "[I 16:33:11 InstallContribNbextensionsApp] Up to date: C:\\Users\\Mike\\AppData\\Roaming\\jupyter\\nbextensions\\spellchecker\\__pycache__\\download_new_dict.cpython-39.pyc\n",
      "[I 16:33:11 InstallContribNbextensionsApp] - Validating: ok\n",
      "[I 16:33:11 InstallContribNbextensionsApp] Installing C:\\Users\\Mike\\anaconda3\\lib\\site-packages\\jupyter_contrib_nbextensions\\nbextensions\\splitcell -> splitcell\n",
      "[I 16:33:11 InstallContribNbextensionsApp] Up to date: C:\\Users\\Mike\\AppData\\Roaming\\jupyter\\nbextensions\\splitcell\\icon.png\n",
      "[I 16:33:11 InstallContribNbextensionsApp] Up to date: C:\\Users\\Mike\\AppData\\Roaming\\jupyter\\nbextensions\\splitcell\\readme.md\n",
      "[I 16:33:11 InstallContribNbextensionsApp] Up to date: C:\\Users\\Mike\\AppData\\Roaming\\jupyter\\nbextensions\\splitcell\\splitcell.js\n",
      "[I 16:33:11 InstallContribNbextensionsApp] Up to date: C:\\Users\\Mike\\AppData\\Roaming\\jupyter\\nbextensions\\splitcell\\splitcell.yaml\n",
      "[I 16:33:11 InstallContribNbextensionsApp] - Validating: ok\n",
      "[I 16:33:11 InstallContribNbextensionsApp] Installing C:\\Users\\Mike\\anaconda3\\lib\\site-packages\\jupyter_contrib_nbextensions\\nbextensions\\table_beautifier -> table_beautifier\n",
      "[I 16:33:11 InstallContribNbextensionsApp] Up to date: C:\\Users\\Mike\\AppData\\Roaming\\jupyter\\nbextensions\\table_beautifier\\main.css\n",
      "[I 16:33:11 InstallContribNbextensionsApp] Up to date: C:\\Users\\Mike\\AppData\\Roaming\\jupyter\\nbextensions\\table_beautifier\\main.js\n",
      "[I 16:33:11 InstallContribNbextensionsApp] Up to date: C:\\Users\\Mike\\AppData\\Roaming\\jupyter\\nbextensions\\table_beautifier\\README.md\n",
      "[I 16:33:11 InstallContribNbextensionsApp] Up to date: C:\\Users\\Mike\\AppData\\Roaming\\jupyter\\nbextensions\\table_beautifier\\table_beautifier.yaml\n",
      "[I 16:33:11 InstallContribNbextensionsApp] - Validating: ok\n",
      "[I 16:33:11 InstallContribNbextensionsApp] Installing C:\\Users\\Mike\\anaconda3\\lib\\site-packages\\jupyter_contrib_nbextensions\\nbextensions\\toc2 -> toc2\n",
      "[I 16:33:11 InstallContribNbextensionsApp] Up to date: C:\\Users\\Mike\\AppData\\Roaming\\jupyter\\nbextensions\\toc2\\demo.gif\n",
      "[I 16:33:11 InstallContribNbextensionsApp] Up to date: C:\\Users\\Mike\\AppData\\Roaming\\jupyter\\nbextensions\\toc2\\demo2.gif\n",
      "[I 16:33:11 InstallContribNbextensionsApp] Up to date: C:\\Users\\Mike\\AppData\\Roaming\\jupyter\\nbextensions\\toc2\\demo3.gif\n",
      "[I 16:33:11 InstallContribNbextensionsApp] Up to date: C:\\Users\\Mike\\AppData\\Roaming\\jupyter\\nbextensions\\toc2\\demo_dark.png\n",
      "[I 16:33:11 InstallContribNbextensionsApp] Up to date: C:\\Users\\Mike\\AppData\\Roaming\\jupyter\\nbextensions\\toc2\\icon.png\n",
      "[I 16:33:11 InstallContribNbextensionsApp] Up to date: C:\\Users\\Mike\\AppData\\Roaming\\jupyter\\nbextensions\\toc2\\image.png\n",
      "[I 16:33:11 InstallContribNbextensionsApp] Up to date: C:\\Users\\Mike\\AppData\\Roaming\\jupyter\\nbextensions\\toc2\\main.css\n",
      "[I 16:33:11 InstallContribNbextensionsApp] Up to date: C:\\Users\\Mike\\AppData\\Roaming\\jupyter\\nbextensions\\toc2\\main.js\n",
      "[I 16:33:11 InstallContribNbextensionsApp] Up to date: C:\\Users\\Mike\\AppData\\Roaming\\jupyter\\nbextensions\\toc2\\README.md\n",
      "[I 16:33:11 InstallContribNbextensionsApp] Up to date: C:\\Users\\Mike\\AppData\\Roaming\\jupyter\\nbextensions\\toc2\\toc2.js\n",
      "[I 16:33:11 InstallContribNbextensionsApp] Up to date: C:\\Users\\Mike\\AppData\\Roaming\\jupyter\\nbextensions\\toc2\\toc2.yaml\n",
      "[I 16:33:11 InstallContribNbextensionsApp] - Validating: ok\n",
      "[I 16:33:11 InstallContribNbextensionsApp] Installing C:\\Users\\Mike\\anaconda3\\lib\\site-packages\\jupyter_contrib_nbextensions\\nbextensions\\toggle_all_line_numbers -> toggle_all_line_numbers\n",
      "[I 16:33:11 InstallContribNbextensionsApp] Up to date: C:\\Users\\Mike\\AppData\\Roaming\\jupyter\\nbextensions\\toggle_all_line_numbers\\icon.png\n",
      "[I 16:33:11 InstallContribNbextensionsApp] Up to date: C:\\Users\\Mike\\AppData\\Roaming\\jupyter\\nbextensions\\toggle_all_line_numbers\\main.js\n",
      "[I 16:33:11 InstallContribNbextensionsApp] Up to date: C:\\Users\\Mike\\AppData\\Roaming\\jupyter\\nbextensions\\toggle_all_line_numbers\\main.yaml\n",
      "[I 16:33:11 InstallContribNbextensionsApp] Up to date: C:\\Users\\Mike\\AppData\\Roaming\\jupyter\\nbextensions\\toggle_all_line_numbers\\readme.md\n",
      "[I 16:33:11 InstallContribNbextensionsApp] - Validating: ok\n",
      "[I 16:33:11 InstallContribNbextensionsApp] Installing C:\\Users\\Mike\\anaconda3\\lib\\site-packages\\jupyter_contrib_nbextensions\\nbextensions\\tree-filter -> tree-filter\n",
      "[I 16:33:11 InstallContribNbextensionsApp] Up to date: C:\\Users\\Mike\\AppData\\Roaming\\jupyter\\nbextensions\\tree-filter\\demo.gif\n",
      "[I 16:33:11 InstallContribNbextensionsApp] Up to date: C:\\Users\\Mike\\AppData\\Roaming\\jupyter\\nbextensions\\tree-filter\\index.js\n",
      "[I 16:33:11 InstallContribNbextensionsApp] Up to date: C:\\Users\\Mike\\AppData\\Roaming\\jupyter\\nbextensions\\tree-filter\\readme.md\n",
      "[I 16:33:11 InstallContribNbextensionsApp] Up to date: C:\\Users\\Mike\\AppData\\Roaming\\jupyter\\nbextensions\\tree-filter\\tree-filter.yaml\n",
      "[I 16:33:11 InstallContribNbextensionsApp] - Validating: ok\n",
      "[I 16:33:11 InstallContribNbextensionsApp] Installing C:\\Users\\Mike\\anaconda3\\lib\\site-packages\\jupyter_contrib_nbextensions\\nbextensions\\varInspector -> varInspector\n",
      "[I 16:33:11 InstallContribNbextensionsApp] Up to date: C:\\Users\\Mike\\AppData\\Roaming\\jupyter\\nbextensions\\varInspector\\demo.gif\n",
      "[I 16:33:11 InstallContribNbextensionsApp] Up to date: C:\\Users\\Mike\\AppData\\Roaming\\jupyter\\nbextensions\\varInspector\\icon.png\n",
      "[I 16:33:11 InstallContribNbextensionsApp] Up to date: C:\\Users\\Mike\\AppData\\Roaming\\jupyter\\nbextensions\\varInspector\\jquery.tablesorter.min.js\n",
      "[I 16:33:11 InstallContribNbextensionsApp] Up to date: C:\\Users\\Mike\\AppData\\Roaming\\jupyter\\nbextensions\\varInspector\\main.css\n",
      "[I 16:33:11 InstallContribNbextensionsApp] Up to date: C:\\Users\\Mike\\AppData\\Roaming\\jupyter\\nbextensions\\varInspector\\main.js\n",
      "[I 16:33:11 InstallContribNbextensionsApp] Up to date: C:\\Users\\Mike\\AppData\\Roaming\\jupyter\\nbextensions\\varInspector\\README.md\n",
      "[I 16:33:11 InstallContribNbextensionsApp] Up to date: C:\\Users\\Mike\\AppData\\Roaming\\jupyter\\nbextensions\\varInspector\\tablesorter_LICENSE.txt\n",
      "[I 16:33:11 InstallContribNbextensionsApp] Up to date: C:\\Users\\Mike\\AppData\\Roaming\\jupyter\\nbextensions\\varInspector\\varInspector.yaml\n",
      "[I 16:33:11 InstallContribNbextensionsApp] Up to date: C:\\Users\\Mike\\AppData\\Roaming\\jupyter\\nbextensions\\varInspector\\var_list.py\n",
      "[I 16:33:11 InstallContribNbextensionsApp] Up to date: C:\\Users\\Mike\\AppData\\Roaming\\jupyter\\nbextensions\\varInspector\\var_list.r\n",
      "[I 16:33:11 InstallContribNbextensionsApp] Up to date: C:\\Users\\Mike\\AppData\\Roaming\\jupyter\\nbextensions\\varInspector\\__pycache__\\var_list.cpython-39.pyc\n",
      "[I 16:33:11 InstallContribNbextensionsApp] - Validating: ok\n",
      "[I 16:33:11 InstallContribNbextensionsApp] Installing C:\\Users\\Mike\\anaconda3\\lib\\site-packages\\jupyter_contrib_nbextensions\\nbextensions\\zenmode -> zenmode\n",
      "[I 16:33:11 InstallContribNbextensionsApp] Up to date: C:\\Users\\Mike\\AppData\\Roaming\\jupyter\\nbextensions\\zenmode\\main.css\n",
      "[I 16:33:11 InstallContribNbextensionsApp] Up to date: C:\\Users\\Mike\\AppData\\Roaming\\jupyter\\nbextensions\\zenmode\\main.js\n",
      "[I 16:33:11 InstallContribNbextensionsApp] Up to date: C:\\Users\\Mike\\AppData\\Roaming\\jupyter\\nbextensions\\zenmode\\README.md\n",
      "[I 16:33:11 InstallContribNbextensionsApp] Up to date: C:\\Users\\Mike\\AppData\\Roaming\\jupyter\\nbextensions\\zenmode\\zenmode.yaml\n",
      "[I 16:33:11 InstallContribNbextensionsApp] Up to date: C:\\Users\\Mike\\AppData\\Roaming\\jupyter\\nbextensions\\zenmode\\images\\back1.jpg\n",
      "[I 16:33:11 InstallContribNbextensionsApp] Up to date: C:\\Users\\Mike\\AppData\\Roaming\\jupyter\\nbextensions\\zenmode\\images\\back11.jpg\n",
      "[I 16:33:11 InstallContribNbextensionsApp] Up to date: C:\\Users\\Mike\\AppData\\Roaming\\jupyter\\nbextensions\\zenmode\\images\\back12.jpg\n",
      "[I 16:33:11 InstallContribNbextensionsApp] Up to date: C:\\Users\\Mike\\AppData\\Roaming\\jupyter\\nbextensions\\zenmode\\images\\back2.jpg\n",
      "[I 16:33:11 InstallContribNbextensionsApp] Up to date: C:\\Users\\Mike\\AppData\\Roaming\\jupyter\\nbextensions\\zenmode\\images\\back21.jpg\n",
      "[I 16:33:11 InstallContribNbextensionsApp] Up to date: C:\\Users\\Mike\\AppData\\Roaming\\jupyter\\nbextensions\\zenmode\\images\\back22.jpg\n",
      "[I 16:33:11 InstallContribNbextensionsApp] Up to date: C:\\Users\\Mike\\AppData\\Roaming\\jupyter\\nbextensions\\zenmode\\images\\back3.jpg\n",
      "[I 16:33:11 InstallContribNbextensionsApp] Up to date: C:\\Users\\Mike\\AppData\\Roaming\\jupyter\\nbextensions\\zenmode\\images\\ipynblogo0.png\n",
      "[I 16:33:11 InstallContribNbextensionsApp] Up to date: C:\\Users\\Mike\\AppData\\Roaming\\jupyter\\nbextensions\\zenmode\\images\\ipynblogo1.png\n",
      "[I 16:33:11 InstallContribNbextensionsApp] - Validating: ok\n",
      "[I 16:33:11 InstallContribNbextensionsApp] Installing C:\\Users\\Mike\\anaconda3\\lib\\site-packages\\jupyter_highlight_selected_word\\static\\highlight_selected_word -> highlight_selected_word\n",
      "[I 16:33:11 InstallContribNbextensionsApp] Up to date: C:\\Users\\Mike\\AppData\\Roaming\\jupyter\\nbextensions\\highlight_selected_word\\configurator.yaml\n",
      "[I 16:33:11 InstallContribNbextensionsApp] Up to date: C:\\Users\\Mike\\AppData\\Roaming\\jupyter\\nbextensions\\highlight_selected_word\\main.js\n",
      "[I 16:33:11 InstallContribNbextensionsApp] Up to date: C:\\Users\\Mike\\AppData\\Roaming\\jupyter\\nbextensions\\highlight_selected_word\\README.md\n",
      "[I 16:33:11 InstallContribNbextensionsApp] - Validating: ok\n",
      "[I 16:33:11 InstallContribNbextensionsApp] Installing jupyter_contrib_nbextensions items to config in C:\\Users\\Mike\\.jupyter\n",
      "Enabling: jupyter_nbextensions_configurator\n",
      "- Writing config: C:\\Users\\Mike\\.jupyter\n",
      "    - Validating...\n",
      "      jupyter_nbextensions_configurator 0.6.3 ok\n",
      "Enabling notebook nbextension nbextensions_configurator/config_menu/main...\n",
      "Enabling tree nbextension nbextensions_configurator/tree_tab/main...\n",
      "[I 16:33:11 InstallContribNbextensionsApp] Enabling notebook extension contrib_nbextensions_help_item/main...\n",
      "[I 16:33:11 InstallContribNbextensionsApp]       - Validating: ok\n",
      "[I 16:33:11 InstallContribNbextensionsApp] - Editing config: C:\\Users\\Mike\\.jupyter\\jupyter_nbconvert_config.json\n",
      "[I 16:33:11 InstallContribNbextensionsApp] --  Configuring nbconvert template path\n",
      "[I 16:33:11 InstallContribNbextensionsApp] --  Configuring nbconvert preprocessors\n",
      "[I 16:33:11 InstallContribNbextensionsApp] - Writing config: C:\\Users\\Mike\\.jupyter\\jupyter_nbconvert_config.json\n",
      "[I 16:33:11 InstallContribNbextensionsApp] --  Writing updated config file C:\\Users\\Mike\\.jupyter\\jupyter_nbconvert_config.json\n"
     ]
    },
    {
     "name": "stderr",
     "output_type": "stream",
     "text": [
      "Enabling: jupyter_nbextensions_configurator\n",
      "- Writing config: C:\\Users\\Mike\\.jupyter\n",
      "    - Validating...\n",
      "      jupyter_nbextensions_configurator 0.6.3 ok\n",
      "Enabling notebook nbextension nbextensions_configurator/config_menu/main...\n",
      "Enabling tree nbextension nbextensions_configurator/tree_tab/main...\n",
      "Enabling notebook extension hide_input_all/main...\n",
      "      - Validating: ok\n"
     ]
    },
    {
     "name": "stdout",
     "output_type": "stream",
     "text": [
      "Requirement already satisfied: ipywidgets in c:\\users\\mike\\anaconda3\\lib\\site-packages (7.6.5)\n",
      "Requirement already satisfied: traitlets>=4.3.1 in c:\\users\\mike\\anaconda3\\lib\\site-packages (from ipywidgets) (5.1.1)\n",
      "Requirement already satisfied: nbformat>=4.2.0 in c:\\users\\mike\\anaconda3\\lib\\site-packages (from ipywidgets) (5.5.0)\n",
      "Requirement already satisfied: widgetsnbextension~=3.5.0 in c:\\users\\mike\\anaconda3\\lib\\site-packages (from ipywidgets) (3.5.2)\n",
      "Requirement already satisfied: jupyterlab-widgets>=1.0.0 in c:\\users\\mike\\anaconda3\\lib\\site-packages (from ipywidgets) (1.0.0)\n",
      "Requirement already satisfied: ipykernel>=4.5.1 in c:\\users\\mike\\anaconda3\\lib\\site-packages (from ipywidgets) (6.15.2)\n",
      "Requirement already satisfied: ipython>=4.0.0 in c:\\users\\mike\\anaconda3\\lib\\site-packages (from ipywidgets) (7.31.1)\n",
      "Requirement already satisfied: ipython-genutils~=0.2.0 in c:\\users\\mike\\anaconda3\\lib\\site-packages (from ipywidgets) (0.2.0)\n",
      "Requirement already satisfied: nest-asyncio in c:\\users\\mike\\anaconda3\\lib\\site-packages (from ipykernel>=4.5.1->ipywidgets) (1.5.5)\n",
      "Requirement already satisfied: debugpy>=1.0 in c:\\users\\mike\\anaconda3\\lib\\site-packages (from ipykernel>=4.5.1->ipywidgets) (1.5.1)\n",
      "Requirement already satisfied: packaging in c:\\users\\mike\\anaconda3\\lib\\site-packages (from ipykernel>=4.5.1->ipywidgets) (21.3)\n",
      "Requirement already satisfied: pyzmq>=17 in c:\\users\\mike\\anaconda3\\lib\\site-packages (from ipykernel>=4.5.1->ipywidgets) (23.2.0)\n",
      "Requirement already satisfied: jupyter-client>=6.1.12 in c:\\users\\mike\\anaconda3\\lib\\site-packages (from ipykernel>=4.5.1->ipywidgets) (7.3.4)\n",
      "Requirement already satisfied: tornado>=6.1 in c:\\users\\mike\\anaconda3\\lib\\site-packages (from ipykernel>=4.5.1->ipywidgets) (6.1)\n",
      "Requirement already satisfied: psutil in c:\\users\\mike\\anaconda3\\lib\\site-packages (from ipykernel>=4.5.1->ipywidgets) (5.9.0)\n",
      "Requirement already satisfied: matplotlib-inline>=0.1 in c:\\users\\mike\\anaconda3\\lib\\site-packages (from ipykernel>=4.5.1->ipywidgets) (0.1.6)\n",
      "Requirement already satisfied: jedi>=0.16 in c:\\users\\mike\\anaconda3\\lib\\site-packages (from ipython>=4.0.0->ipywidgets) (0.18.1)\n",
      "Requirement already satisfied: backcall in c:\\users\\mike\\anaconda3\\lib\\site-packages (from ipython>=4.0.0->ipywidgets) (0.2.0)\n",
      "Requirement already satisfied: setuptools>=18.5 in c:\\users\\mike\\anaconda3\\lib\\site-packages (from ipython>=4.0.0->ipywidgets) (63.4.1)\n",
      "Requirement already satisfied: decorator in c:\\users\\mike\\anaconda3\\lib\\site-packages (from ipython>=4.0.0->ipywidgets) (5.1.1)\n",
      "Requirement already satisfied: prompt-toolkit!=3.0.0,!=3.0.1,<3.1.0,>=2.0.0 in c:\\users\\mike\\anaconda3\\lib\\site-packages (from ipython>=4.0.0->ipywidgets) (3.0.20)\n",
      "Requirement already satisfied: pickleshare in c:\\users\\mike\\anaconda3\\lib\\site-packages (from ipython>=4.0.0->ipywidgets) (0.7.5)\n",
      "Requirement already satisfied: pygments in c:\\users\\mike\\anaconda3\\lib\\site-packages (from ipython>=4.0.0->ipywidgets) (2.11.2)\n",
      "Requirement already satisfied: colorama in c:\\users\\mike\\anaconda3\\lib\\site-packages (from ipython>=4.0.0->ipywidgets) (0.4.5)\n",
      "Requirement already satisfied: jupyter_core in c:\\users\\mike\\anaconda3\\lib\\site-packages (from nbformat>=4.2.0->ipywidgets) (4.11.1)\n",
      "Requirement already satisfied: fastjsonschema in c:\\users\\mike\\anaconda3\\lib\\site-packages (from nbformat>=4.2.0->ipywidgets) (2.16.2)\n",
      "Requirement already satisfied: jsonschema>=2.6 in c:\\users\\mike\\anaconda3\\lib\\site-packages (from nbformat>=4.2.0->ipywidgets) (4.16.0)\n",
      "Requirement already satisfied: notebook>=4.4.1 in c:\\users\\mike\\anaconda3\\lib\\site-packages (from widgetsnbextension~=3.5.0->ipywidgets) (6.4.12)\n",
      "Requirement already satisfied: parso<0.9.0,>=0.8.0 in c:\\users\\mike\\anaconda3\\lib\\site-packages (from jedi>=0.16->ipython>=4.0.0->ipywidgets) (0.8.3)\n",
      "Requirement already satisfied: attrs>=17.4.0 in c:\\users\\mike\\anaconda3\\lib\\site-packages (from jsonschema>=2.6->nbformat>=4.2.0->ipywidgets) (21.4.0)\n",
      "Requirement already satisfied: pyrsistent!=0.17.0,!=0.17.1,!=0.17.2,>=0.14.0 in c:\\users\\mike\\anaconda3\\lib\\site-packages (from jsonschema>=2.6->nbformat>=4.2.0->ipywidgets) (0.18.0)\n",
      "Requirement already satisfied: python-dateutil>=2.8.2 in c:\\users\\mike\\anaconda3\\lib\\site-packages (from jupyter-client>=6.1.12->ipykernel>=4.5.1->ipywidgets) (2.8.2)\n",
      "Requirement already satisfied: entrypoints in c:\\users\\mike\\anaconda3\\lib\\site-packages (from jupyter-client>=6.1.12->ipykernel>=4.5.1->ipywidgets) (0.4)\n",
      "Requirement already satisfied: pywin32>=1.0 in c:\\users\\mike\\anaconda3\\lib\\site-packages (from jupyter_core->nbformat>=4.2.0->ipywidgets) (302)\n",
      "Requirement already satisfied: argon2-cffi in c:\\users\\mike\\anaconda3\\lib\\site-packages (from notebook>=4.4.1->widgetsnbextension~=3.5.0->ipywidgets) (21.3.0)\n",
      "Requirement already satisfied: nbconvert>=5 in c:\\users\\mike\\anaconda3\\lib\\site-packages (from notebook>=4.4.1->widgetsnbextension~=3.5.0->ipywidgets) (6.4.4)\n",
      "Requirement already satisfied: jinja2 in c:\\users\\mike\\anaconda3\\lib\\site-packages (from notebook>=4.4.1->widgetsnbextension~=3.5.0->ipywidgets) (2.11.3)\n",
      "Requirement already satisfied: terminado>=0.8.3 in c:\\users\\mike\\anaconda3\\lib\\site-packages (from notebook>=4.4.1->widgetsnbextension~=3.5.0->ipywidgets) (0.13.1)\n",
      "Requirement already satisfied: prometheus-client in c:\\users\\mike\\anaconda3\\lib\\site-packages (from notebook>=4.4.1->widgetsnbextension~=3.5.0->ipywidgets) (0.14.1)\n",
      "Requirement already satisfied: Send2Trash>=1.8.0 in c:\\users\\mike\\anaconda3\\lib\\site-packages (from notebook>=4.4.1->widgetsnbextension~=3.5.0->ipywidgets) (1.8.0)\n",
      "Requirement already satisfied: wcwidth in c:\\users\\mike\\anaconda3\\lib\\site-packages (from prompt-toolkit!=3.0.0,!=3.0.1,<3.1.0,>=2.0.0->ipython>=4.0.0->ipywidgets) (0.2.5)\n",
      "Requirement already satisfied: pyparsing!=3.0.5,>=2.0.2 in c:\\users\\mike\\anaconda3\\lib\\site-packages (from packaging->ipykernel>=4.5.1->ipywidgets) (3.0.9)\n",
      "Requirement already satisfied: testpath in c:\\users\\mike\\anaconda3\\lib\\site-packages (from nbconvert>=5->notebook>=4.4.1->widgetsnbextension~=3.5.0->ipywidgets) (0.6.0)\n",
      "Requirement already satisfied: pandocfilters>=1.4.1 in c:\\users\\mike\\anaconda3\\lib\\site-packages (from nbconvert>=5->notebook>=4.4.1->widgetsnbextension~=3.5.0->ipywidgets) (1.5.0)\n",
      "Requirement already satisfied: bleach in c:\\users\\mike\\anaconda3\\lib\\site-packages (from nbconvert>=5->notebook>=4.4.1->widgetsnbextension~=3.5.0->ipywidgets) (4.1.0)\n",
      "Requirement already satisfied: jupyterlab-pygments in c:\\users\\mike\\anaconda3\\lib\\site-packages (from nbconvert>=5->notebook>=4.4.1->widgetsnbextension~=3.5.0->ipywidgets) (0.1.2)\n",
      "Requirement already satisfied: beautifulsoup4 in c:\\users\\mike\\anaconda3\\lib\\site-packages (from nbconvert>=5->notebook>=4.4.1->widgetsnbextension~=3.5.0->ipywidgets) (4.11.1)\n",
      "Requirement already satisfied: defusedxml in c:\\users\\mike\\anaconda3\\lib\\site-packages (from nbconvert>=5->notebook>=4.4.1->widgetsnbextension~=3.5.0->ipywidgets) (0.7.1)\n",
      "Requirement already satisfied: mistune<2,>=0.8.1 in c:\\users\\mike\\anaconda3\\lib\\site-packages (from nbconvert>=5->notebook>=4.4.1->widgetsnbextension~=3.5.0->ipywidgets) (0.8.4)\n",
      "Requirement already satisfied: nbclient<0.6.0,>=0.5.0 in c:\\users\\mike\\anaconda3\\lib\\site-packages (from nbconvert>=5->notebook>=4.4.1->widgetsnbextension~=3.5.0->ipywidgets) (0.5.13)\n",
      "Requirement already satisfied: MarkupSafe>=0.23 in c:\\users\\mike\\anaconda3\\lib\\site-packages (from jinja2->notebook>=4.4.1->widgetsnbextension~=3.5.0->ipywidgets) (2.0.1)\n",
      "Requirement already satisfied: six>=1.5 in c:\\users\\mike\\anaconda3\\lib\\site-packages (from python-dateutil>=2.8.2->jupyter-client>=6.1.12->ipykernel>=4.5.1->ipywidgets) (1.16.0)\n",
      "Requirement already satisfied: pywinpty>=1.1.0 in c:\\users\\mike\\anaconda3\\lib\\site-packages (from terminado>=0.8.3->notebook>=4.4.1->widgetsnbextension~=3.5.0->ipywidgets) (2.0.2)\n",
      "Requirement already satisfied: argon2-cffi-bindings in c:\\users\\mike\\anaconda3\\lib\\site-packages (from argon2-cffi->notebook>=4.4.1->widgetsnbextension~=3.5.0->ipywidgets) (21.2.0)\n",
      "Requirement already satisfied: cffi>=1.0.1 in c:\\users\\mike\\anaconda3\\lib\\site-packages (from argon2-cffi-bindings->argon2-cffi->notebook>=4.4.1->widgetsnbextension~=3.5.0->ipywidgets) (1.15.1)\n",
      "Requirement already satisfied: soupsieve>1.2 in c:\\users\\mike\\anaconda3\\lib\\site-packages (from beautifulsoup4->nbconvert>=5->notebook>=4.4.1->widgetsnbextension~=3.5.0->ipywidgets) (2.3.1)\n",
      "Requirement already satisfied: webencodings in c:\\users\\mike\\anaconda3\\lib\\site-packages (from bleach->nbconvert>=5->notebook>=4.4.1->widgetsnbextension~=3.5.0->ipywidgets) (0.5.1)\n",
      "Requirement already satisfied: pycparser in c:\\users\\mike\\anaconda3\\lib\\site-packages (from cffi>=1.0.1->argon2-cffi-bindings->argon2-cffi->notebook>=4.4.1->widgetsnbextension~=3.5.0->ipywidgets) (2.21)\n"
     ]
    },
    {
     "name": "stderr",
     "output_type": "stream",
     "text": [
      "Enabling notebook extension jupyter-js-widgets/extension...\n",
      "      - Validating: ok\n"
     ]
    }
   ],
   "source": [
    "!pip install jupyter_contrib_nbextensions jupyter_nbextensions_configurator\n",
    "\n",
    "!jupyter contrib nbextension install --user\n",
    "!jupyter nbextensions_configurator enable --user\n",
    "!jupyter nbextension enable hide_input_all/main\n",
    "!pip install ipywidgets\n",
    "!jupyter nbextension enable --py widgetsnbextension"
   ]
  },
  {
   "cell_type": "code",
   "execution_count": 46,
   "id": "1f2d5742",
   "metadata": {
    "slideshow": {
     "slide_type": "-"
    }
   },
   "outputs": [
    {
     "ename": "ValueError",
     "evalue": "Invalid property specified for object of type plotly.graph_objs.Scatter: 'with'\n\nDid you mean \"fill\"?\n\n    Valid properties:\n        cliponaxis\n            Determines whether or not markers and text nodes are\n            clipped about the subplot axes. To show markers and\n            text nodes above axis lines and tick labels, make sure\n            to set `xaxis.layer` and `yaxis.layer` to *below\n            traces*.\n        connectgaps\n            Determines whether or not gaps (i.e. {nan} or missing\n            values) in the provided data arrays are connected.\n        customdata\n            Assigns extra data each datum. This may be useful when\n            listening to hover, click and selection events. Note\n            that, \"scatter\" traces also appends customdata items in\n            the markers DOM elements\n        customdatasrc\n            Sets the source reference on Chart Studio Cloud for\n            `customdata`.\n        dx\n            Sets the x coordinate step. See `x0` for more info.\n        dy\n            Sets the y coordinate step. See `y0` for more info.\n        error_x\n            :class:`plotly.graph_objects.scatter.ErrorX` instance\n            or dict with compatible properties\n        error_y\n            :class:`plotly.graph_objects.scatter.ErrorY` instance\n            or dict with compatible properties\n        fill\n            Sets the area to fill with a solid color. Defaults to\n            \"none\" unless this trace is stacked, then it gets\n            \"tonexty\" (\"tonextx\") if `orientation` is \"v\" (\"h\") Use\n            with `fillcolor` if not \"none\". \"tozerox\" and \"tozeroy\"\n            fill to x=0 and y=0 respectively. \"tonextx\" and\n            \"tonexty\" fill between the endpoints of this trace and\n            the endpoints of the trace before it, connecting those\n            endpoints with straight lines (to make a stacked area\n            graph); if there is no trace before it, they behave\n            like \"tozerox\" and \"tozeroy\". \"toself\" connects the\n            endpoints of the trace (or each segment of the trace if\n            it has gaps) into a closed shape. \"tonext\" fills the\n            space between two traces if one completely encloses the\n            other (eg consecutive contour lines), and behaves like\n            \"toself\" if there is no trace before it. \"tonext\"\n            should not be used if one trace does not enclose the\n            other. Traces in a `stackgroup` will only fill to (or\n            be filled to) other traces in the same group. With\n            multiple `stackgroup`s or some traces stacked and some\n            not, if fill-linked traces are not already consecutive,\n            the later ones will be pushed down in the drawing\n            order.\n        fillcolor\n            Sets the fill color. Defaults to a half-transparent\n            variant of the line color, marker color, or marker line\n            color, whichever is available.\n        fillpattern\n            Sets the pattern within the marker.\n        groupnorm\n            Only relevant when `stackgroup` is used, and only the\n            first `groupnorm` found in the `stackgroup` will be\n            used - including if `visible` is \"legendonly\" but not\n            if it is `false`. Sets the normalization for the sum of\n            this `stackgroup`. With \"fraction\", the value of each\n            trace at each location is divided by the sum of all\n            trace values at that location. \"percent\" is the same\n            but multiplied by 100 to show percentages. If there are\n            multiple subplots, or multiple `stackgroup`s on one\n            subplot, each will be normalized within its own set.\n        hoverinfo\n            Determines which trace information appear on hover. If\n            `none` or `skip` are set, no information is displayed\n            upon hovering. But, if `none` is set, click and hover\n            events are still fired.\n        hoverinfosrc\n            Sets the source reference on Chart Studio Cloud for\n            `hoverinfo`.\n        hoverlabel\n            :class:`plotly.graph_objects.scatter.Hoverlabel`\n            instance or dict with compatible properties\n        hoveron\n            Do the hover effects highlight individual points\n            (markers or line points) or do they highlight filled\n            regions? If the fill is \"toself\" or \"tonext\" and there\n            are no markers or text, then the default is \"fills\",\n            otherwise it is \"points\".\n        hovertemplate\n            Template string used for rendering the information that\n            appear on hover box. Note that this will override\n            `hoverinfo`. Variables are inserted using %{variable},\n            for example \"y: %{y}\" as well as %{xother}, {%_xother},\n            {%_xother_}, {%xother_}. When showing info for several\n            points, \"xother\" will be added to those with different\n            x positions from the first point. An underscore before\n            or after \"(x|y)other\" will add a space on that side,\n            only when this field is shown. Numbers are formatted\n            using d3-format's syntax %{variable:d3-format}, for\n            example \"Price: %{y:$.2f}\".\n            https://github.com/d3/d3-format/tree/v1.4.5#d3-format\n            for details on the formatting syntax. Dates are\n            formatted using d3-time-format's syntax\n            %{variable|d3-time-format}, for example \"Day:\n            %{2019-01-01|%A}\". https://github.com/d3/d3-time-\n            format/tree/v2.2.3#locale_format for details on the\n            date formatting syntax. The variables available in\n            `hovertemplate` are the ones emitted as event data\n            described at this link\n            https://plotly.com/javascript/plotlyjs-events/#event-\n            data. Additionally, every attributes that can be\n            specified per-point (the ones that are `arrayOk: true`)\n            are available.  Anything contained in tag `<extra>` is\n            displayed in the secondary box, for example\n            \"<extra>{fullData.name}</extra>\". To hide the secondary\n            box completely, use an empty tag `<extra></extra>`.\n        hovertemplatesrc\n            Sets the source reference on Chart Studio Cloud for\n            `hovertemplate`.\n        hovertext\n            Sets hover text elements associated with each (x,y)\n            pair. If a single string, the same string appears over\n            all the data points. If an array of string, the items\n            are mapped in order to the this trace's (x,y)\n            coordinates. To be seen, trace `hoverinfo` must contain\n            a \"text\" flag.\n        hovertextsrc\n            Sets the source reference on Chart Studio Cloud for\n            `hovertext`.\n        ids\n            Assigns id labels to each datum. These ids for object\n            constancy of data points during animation. Should be an\n            array of strings, not numbers or any other type.\n        idssrc\n            Sets the source reference on Chart Studio Cloud for\n            `ids`.\n        legendgroup\n            Sets the legend group for this trace. Traces part of\n            the same legend group hide/show at the same time when\n            toggling legend items.\n        legendgrouptitle\n            :class:`plotly.graph_objects.scatter.Legendgrouptitle`\n            instance or dict with compatible properties\n        legendrank\n            Sets the legend rank for this trace. Items and groups\n            with smaller ranks are presented on top/left side while\n            with `*reversed* `legend.traceorder` they are on\n            bottom/right side. The default legendrank is 1000, so\n            that you can use ranks less than 1000 to place certain\n            items before all unranked items, and ranks greater than\n            1000 to go after all unranked items.\n        line\n            :class:`plotly.graph_objects.scatter.Line` instance or\n            dict with compatible properties\n        marker\n            :class:`plotly.graph_objects.scatter.Marker` instance\n            or dict with compatible properties\n        meta\n            Assigns extra meta information associated with this\n            trace that can be used in various text attributes.\n            Attributes such as trace `name`, graph, axis and\n            colorbar `title.text`, annotation `text`\n            `rangeselector`, `updatemenues` and `sliders` `label`\n            text all support `meta`. To access the trace `meta`\n            values in an attribute in the same trace, simply use\n            `%{meta[i]}` where `i` is the index or key of the\n            `meta` item in question. To access trace `meta` in\n            layout attributes, use `%{data[n[.meta[i]}` where `i`\n            is the index or key of the `meta` and `n` is the trace\n            index.\n        metasrc\n            Sets the source reference on Chart Studio Cloud for\n            `meta`.\n        mode\n            Determines the drawing mode for this scatter trace. If\n            the provided `mode` includes \"text\" then the `text`\n            elements appear at the coordinates. Otherwise, the\n            `text` elements appear on hover. If there are less than\n            20 points and the trace is not stacked then the default\n            is \"lines+markers\". Otherwise, \"lines\".\n        name\n            Sets the trace name. The trace name appear as the\n            legend item and on hover.\n        opacity\n            Sets the opacity of the trace.\n        orientation\n            Only relevant when `stackgroup` is used, and only the\n            first `orientation` found in the `stackgroup` will be\n            used - including if `visible` is \"legendonly\" but not\n            if it is `false`. Sets the stacking direction. With \"v\"\n            (\"h\"), the y (x) values of subsequent traces are added.\n            Also affects the default value of `fill`.\n        selected\n            :class:`plotly.graph_objects.scatter.Selected` instance\n            or dict with compatible properties\n        selectedpoints\n            Array containing integer indices of selected points.\n            Has an effect only for traces that support selections.\n            Note that an empty array means an empty selection where\n            the `unselected` are turned on for all points, whereas,\n            any other non-array values means no selection all where\n            the `selected` and `unselected` styles have no effect.\n        showlegend\n            Determines whether or not an item corresponding to this\n            trace is shown in the legend.\n        stackgaps\n            Only relevant when `stackgroup` is used, and only the\n            first `stackgaps` found in the `stackgroup` will be\n            used - including if `visible` is \"legendonly\" but not\n            if it is `false`. Determines how we handle locations at\n            which other traces in this group have data but this one\n            does not. With *infer zero* we insert a zero at these\n            locations. With \"interpolate\" we linearly interpolate\n            between existing values, and extrapolate a constant\n            beyond the existing values.\n        stackgroup\n            Set several scatter traces (on the same subplot) to the\n            same stackgroup in order to add their y values (or\n            their x values if `orientation` is \"h\"). If blank or\n            omitted this trace will not be stacked. Stacking also\n            turns `fill` on by default, using \"tonexty\" (\"tonextx\")\n            if `orientation` is \"h\" (\"v\") and sets the default\n            `mode` to \"lines\" irrespective of point count. You can\n            only stack on a numeric (linear or log) axis. Traces in\n            a `stackgroup` will only fill to (or be filled to)\n            other traces in the same group. With multiple\n            `stackgroup`s or some traces stacked and some not, if\n            fill-linked traces are not already consecutive, the\n            later ones will be pushed down in the drawing order.\n        stream\n            :class:`plotly.graph_objects.scatter.Stream` instance\n            or dict with compatible properties\n        text\n            Sets text elements associated with each (x,y) pair. If\n            a single string, the same string appears over all the\n            data points. If an array of string, the items are\n            mapped in order to the this trace's (x,y) coordinates.\n            If trace `hoverinfo` contains a \"text\" flag and\n            \"hovertext\" is not set, these elements will be seen in\n            the hover labels.\n        textfont\n            Sets the text font.\n        textposition\n            Sets the positions of the `text` elements with respects\n            to the (x,y) coordinates.\n        textpositionsrc\n            Sets the source reference on Chart Studio Cloud for\n            `textposition`.\n        textsrc\n            Sets the source reference on Chart Studio Cloud for\n            `text`.\n        texttemplate\n            Template string used for rendering the information text\n            that appear on points. Note that this will override\n            `textinfo`. Variables are inserted using %{variable},\n            for example \"y: %{y}\". Numbers are formatted using\n            d3-format's syntax %{variable:d3-format}, for example\n            \"Price: %{y:$.2f}\".\n            https://github.com/d3/d3-format/tree/v1.4.5#d3-format\n            for details on the formatting syntax. Dates are\n            formatted using d3-time-format's syntax\n            %{variable|d3-time-format}, for example \"Day:\n            %{2019-01-01|%A}\". https://github.com/d3/d3-time-\n            format/tree/v2.2.3#locale_format for details on the\n            date formatting syntax. Every attributes that can be\n            specified per-point (the ones that are `arrayOk: true`)\n            are available.\n        texttemplatesrc\n            Sets the source reference on Chart Studio Cloud for\n            `texttemplate`.\n        uid\n            Assign an id to this trace, Use this to provide object\n            constancy between traces during animations and\n            transitions.\n        uirevision\n            Controls persistence of some user-driven changes to the\n            trace: `constraintrange` in `parcoords` traces, as well\n            as some `editable: true` modifications such as `name`\n            and `colorbar.title`. Defaults to `layout.uirevision`.\n            Note that other user-driven trace attribute changes are\n            controlled by `layout` attributes: `trace.visible` is\n            controlled by `layout.legend.uirevision`,\n            `selectedpoints` is controlled by\n            `layout.selectionrevision`, and `colorbar.(x|y)`\n            (accessible with `config: {editable: true}`) is\n            controlled by `layout.editrevision`. Trace changes are\n            tracked by `uid`, which only falls back on trace index\n            if no `uid` is provided. So if your app can add/remove\n            traces before the end of the `data` array, such that\n            the same trace has a different index, you can still\n            preserve user-driven changes if you give each trace a\n            `uid` that stays with it as it moves.\n        unselected\n            :class:`plotly.graph_objects.scatter.Unselected`\n            instance or dict with compatible properties\n        visible\n            Determines whether or not this trace is visible. If\n            \"legendonly\", the trace is not drawn, but can appear as\n            a legend item (provided that the legend itself is\n            visible).\n        x\n            Sets the x coordinates.\n        x0\n            Alternate to `x`. Builds a linear space of x\n            coordinates. Use with `dx` where `x0` is the starting\n            coordinate and `dx` the step.\n        xaxis\n            Sets a reference between this trace's x coordinates and\n            a 2D cartesian x axis. If \"x\" (the default value), the\n            x coordinates refer to `layout.xaxis`. If \"x2\", the x\n            coordinates refer to `layout.xaxis2`, and so on.\n        xcalendar\n            Sets the calendar system to use with `x` date data.\n        xhoverformat\n            Sets the hover text formatting rulefor `x`  using d3\n            formatting mini-languages which are very similar to\n            those in Python. For numbers, see:\n            https://github.com/d3/d3-format/tree/v1.4.5#d3-format.\n            And for dates see: https://github.com/d3/d3-time-\n            format/tree/v2.2.3#locale_format. We add two items to\n            d3's date formatter: \"%h\" for half of the year as a\n            decimal number as well as \"%{n}f\" for fractional\n            seconds with n digits. For example, *2016-10-13\n            09:15:23.456* with tickformat \"%H~%M~%S.%2f\" would\n            display *09~15~23.46*By default the values are\n            formatted using `xaxis.hoverformat`.\n        xperiod\n            Only relevant when the axis `type` is \"date\". Sets the\n            period positioning in milliseconds or \"M<n>\" on the x\n            axis. Special values in the form of \"M<n>\" could be\n            used to declare the number of months. In this case `n`\n            must be a positive integer.\n        xperiod0\n            Only relevant when the axis `type` is \"date\". Sets the\n            base for period positioning in milliseconds or date\n            string on the x0 axis. When `x0period` is round number\n            of weeks, the `x0period0` by default would be on a\n            Sunday i.e. 2000-01-02, otherwise it would be at\n            2000-01-01.\n        xperiodalignment\n            Only relevant when the axis `type` is \"date\". Sets the\n            alignment of data points on the x axis.\n        xsrc\n            Sets the source reference on Chart Studio Cloud for\n            `x`.\n        y\n            Sets the y coordinates.\n        y0\n            Alternate to `y`. Builds a linear space of y\n            coordinates. Use with `dy` where `y0` is the starting\n            coordinate and `dy` the step.\n        yaxis\n            Sets a reference between this trace's y coordinates and\n            a 2D cartesian y axis. If \"y\" (the default value), the\n            y coordinates refer to `layout.yaxis`. If \"y2\", the y\n            coordinates refer to `layout.yaxis2`, and so on.\n        ycalendar\n            Sets the calendar system to use with `y` date data.\n        yhoverformat\n            Sets the hover text formatting rulefor `y`  using d3\n            formatting mini-languages which are very similar to\n            those in Python. For numbers, see:\n            https://github.com/d3/d3-format/tree/v1.4.5#d3-format.\n            And for dates see: https://github.com/d3/d3-time-\n            format/tree/v2.2.3#locale_format. We add two items to\n            d3's date formatter: \"%h\" for half of the year as a\n            decimal number as well as \"%{n}f\" for fractional\n            seconds with n digits. For example, *2016-10-13\n            09:15:23.456* with tickformat \"%H~%M~%S.%2f\" would\n            display *09~15~23.46*By default the values are\n            formatted using `yaxis.hoverformat`.\n        yperiod\n            Only relevant when the axis `type` is \"date\". Sets the\n            period positioning in milliseconds or \"M<n>\" on the y\n            axis. Special values in the form of \"M<n>\" could be\n            used to declare the number of months. In this case `n`\n            must be a positive integer.\n        yperiod0\n            Only relevant when the axis `type` is \"date\". Sets the\n            base for period positioning in milliseconds or date\n            string on the y0 axis. When `y0period` is round number\n            of weeks, the `y0period0` by default would be on a\n            Sunday i.e. 2000-01-02, otherwise it would be at\n            2000-01-01.\n        yperiodalignment\n            Only relevant when the axis `type` is \"date\". Sets the\n            alignment of data points on the y axis.\n        ysrc\n            Sets the source reference on Chart Studio Cloud for\n            `y`.\n        \nDid you mean \"fill\"?\n\nBad property path:\nwith_labels\n^^^^",
     "output_type": "error",
     "traceback": [
      "\u001b[1;31m---------------------------------------------------------------------------\u001b[0m",
      "\u001b[1;31mValueError\u001b[0m                                Traceback (most recent call last)",
      "\u001b[1;32m~\\AppData\\Local\\Temp\\ipykernel_38648\\856114264.py\u001b[0m in \u001b[0;36m<module>\u001b[1;34m\u001b[0m\n\u001b[0;32m    278\u001b[0m \u001b[0mcountry_data_iceland\u001b[0m \u001b[1;33m=\u001b[0m \u001b[0mdf\u001b[0m\u001b[1;33m[\u001b[0m\u001b[0mdf\u001b[0m\u001b[1;33m[\u001b[0m\u001b[1;34m'Country'\u001b[0m\u001b[1;33m]\u001b[0m \u001b[1;33m==\u001b[0m \u001b[1;34m'Iceland'\u001b[0m\u001b[1;33m]\u001b[0m\u001b[1;33m.\u001b[0m\u001b[0mcopy\u001b[0m\u001b[1;33m(\u001b[0m\u001b[1;33m)\u001b[0m\u001b[1;33m\u001b[0m\u001b[1;33m\u001b[0m\u001b[0m\n\u001b[0;32m    279\u001b[0m \u001b[0mcountry_data_iceland\u001b[0m \u001b[1;33m=\u001b[0m \u001b[0mcountry_data_iceland\u001b[0m\u001b[1;33m.\u001b[0m\u001b[0mrename\u001b[0m\u001b[1;33m(\u001b[0m\u001b[0mcolumns\u001b[0m\u001b[1;33m=\u001b[0m\u001b[1;33m{\u001b[0m\u001b[1;34m'Index'\u001b[0m\u001b[1;33m:\u001b[0m \u001b[1;34m'Happiness index'\u001b[0m\u001b[1;33m}\u001b[0m\u001b[1;33m)\u001b[0m\u001b[1;33m\u001b[0m\u001b[1;33m\u001b[0m\u001b[0m\n\u001b[1;32m--> 280\u001b[1;33m fig_iceland = go.Scatter(\n\u001b[0m\u001b[0;32m    281\u001b[0m     \u001b[0mx\u001b[0m\u001b[1;33m=\u001b[0m\u001b[0mcountry_data_iceland\u001b[0m\u001b[1;33m[\u001b[0m\u001b[1;34m'Year'\u001b[0m\u001b[1;33m]\u001b[0m\u001b[1;33m,\u001b[0m\u001b[1;33m\u001b[0m\u001b[1;33m\u001b[0m\u001b[0m\n\u001b[0;32m    282\u001b[0m     \u001b[0my\u001b[0m\u001b[1;33m=\u001b[0m\u001b[0mcountry_data_iceland\u001b[0m\u001b[1;33m[\u001b[0m\u001b[1;34m'Happiness index'\u001b[0m\u001b[1;33m]\u001b[0m\u001b[1;33m,\u001b[0m\u001b[1;33m\u001b[0m\u001b[1;33m\u001b[0m\u001b[0m\n",
      "\u001b[1;32m~\\anaconda3\\lib\\site-packages\\plotly\\graph_objs\\_scatter.py\u001b[0m in \u001b[0;36m__init__\u001b[1;34m(self, arg, cliponaxis, connectgaps, customdata, customdatasrc, dx, dy, error_x, error_y, fill, fillcolor, fillpattern, groupnorm, hoverinfo, hoverinfosrc, hoverlabel, hoveron, hovertemplate, hovertemplatesrc, hovertext, hovertextsrc, ids, idssrc, legendgroup, legendgrouptitle, legendrank, line, marker, meta, metasrc, mode, name, opacity, orientation, selected, selectedpoints, showlegend, stackgaps, stackgroup, stream, text, textfont, textposition, textpositionsrc, textsrc, texttemplate, texttemplatesrc, uid, uirevision, unselected, visible, x, x0, xaxis, xcalendar, xhoverformat, xperiod, xperiod0, xperiodalignment, xsrc, y, y0, yaxis, ycalendar, yhoverformat, yperiod, yperiod0, yperiodalignment, ysrc, **kwargs)\u001b[0m\n\u001b[0;32m   3368\u001b[0m         \u001b[1;31m# Process unknown kwargs\u001b[0m\u001b[1;33m\u001b[0m\u001b[1;33m\u001b[0m\u001b[0m\n\u001b[0;32m   3369\u001b[0m         \u001b[1;31m# ----------------------\u001b[0m\u001b[1;33m\u001b[0m\u001b[1;33m\u001b[0m\u001b[0m\n\u001b[1;32m-> 3370\u001b[1;33m         \u001b[0mself\u001b[0m\u001b[1;33m.\u001b[0m\u001b[0m_process_kwargs\u001b[0m\u001b[1;33m(\u001b[0m\u001b[1;33m**\u001b[0m\u001b[0mdict\u001b[0m\u001b[1;33m(\u001b[0m\u001b[0marg\u001b[0m\u001b[1;33m,\u001b[0m \u001b[1;33m**\u001b[0m\u001b[0mkwargs\u001b[0m\u001b[1;33m)\u001b[0m\u001b[1;33m)\u001b[0m\u001b[1;33m\u001b[0m\u001b[1;33m\u001b[0m\u001b[0m\n\u001b[0m\u001b[0;32m   3371\u001b[0m \u001b[1;33m\u001b[0m\u001b[0m\n\u001b[0;32m   3372\u001b[0m         \u001b[1;31m# Reset skip_invalid\u001b[0m\u001b[1;33m\u001b[0m\u001b[1;33m\u001b[0m\u001b[0m\n",
      "\u001b[1;32m~\\anaconda3\\lib\\site-packages\\plotly\\basedatatypes.py\u001b[0m in \u001b[0;36m_process_kwargs\u001b[1;34m(self, **kwargs)\u001b[0m\n\u001b[0;32m   4375\u001b[0m                 \u001b[0mself\u001b[0m\u001b[1;33m[\u001b[0m\u001b[0mk\u001b[0m\u001b[1;33m]\u001b[0m \u001b[1;33m=\u001b[0m \u001b[0mv\u001b[0m\u001b[1;33m\u001b[0m\u001b[1;33m\u001b[0m\u001b[0m\n\u001b[0;32m   4376\u001b[0m             \u001b[1;32melif\u001b[0m \u001b[1;32mnot\u001b[0m \u001b[0mself\u001b[0m\u001b[1;33m.\u001b[0m\u001b[0m_skip_invalid\u001b[0m\u001b[1;33m:\u001b[0m\u001b[1;33m\u001b[0m\u001b[1;33m\u001b[0m\u001b[0m\n\u001b[1;32m-> 4377\u001b[1;33m                 \u001b[1;32mraise\u001b[0m \u001b[0merr\u001b[0m\u001b[1;33m\u001b[0m\u001b[1;33m\u001b[0m\u001b[0m\n\u001b[0m\u001b[0;32m   4378\u001b[0m         \u001b[1;31m# No need to call _raise_on_invalid_property_error here,\u001b[0m\u001b[1;33m\u001b[0m\u001b[1;33m\u001b[0m\u001b[0m\n\u001b[0;32m   4379\u001b[0m         \u001b[1;31m# because we have it set up so that the singular case of calling\u001b[0m\u001b[1;33m\u001b[0m\u001b[1;33m\u001b[0m\u001b[0m\n",
      "\u001b[1;31mValueError\u001b[0m: Invalid property specified for object of type plotly.graph_objs.Scatter: 'with'\n\nDid you mean \"fill\"?\n\n    Valid properties:\n        cliponaxis\n            Determines whether or not markers and text nodes are\n            clipped about the subplot axes. To show markers and\n            text nodes above axis lines and tick labels, make sure\n            to set `xaxis.layer` and `yaxis.layer` to *below\n            traces*.\n        connectgaps\n            Determines whether or not gaps (i.e. {nan} or missing\n            values) in the provided data arrays are connected.\n        customdata\n            Assigns extra data each datum. This may be useful when\n            listening to hover, click and selection events. Note\n            that, \"scatter\" traces also appends customdata items in\n            the markers DOM elements\n        customdatasrc\n            Sets the source reference on Chart Studio Cloud for\n            `customdata`.\n        dx\n            Sets the x coordinate step. See `x0` for more info.\n        dy\n            Sets the y coordinate step. See `y0` for more info.\n        error_x\n            :class:`plotly.graph_objects.scatter.ErrorX` instance\n            or dict with compatible properties\n        error_y\n            :class:`plotly.graph_objects.scatter.ErrorY` instance\n            or dict with compatible properties\n        fill\n            Sets the area to fill with a solid color. Defaults to\n            \"none\" unless this trace is stacked, then it gets\n            \"tonexty\" (\"tonextx\") if `orientation` is \"v\" (\"h\") Use\n            with `fillcolor` if not \"none\". \"tozerox\" and \"tozeroy\"\n            fill to x=0 and y=0 respectively. \"tonextx\" and\n            \"tonexty\" fill between the endpoints of this trace and\n            the endpoints of the trace before it, connecting those\n            endpoints with straight lines (to make a stacked area\n            graph); if there is no trace before it, they behave\n            like \"tozerox\" and \"tozeroy\". \"toself\" connects the\n            endpoints of the trace (or each segment of the trace if\n            it has gaps) into a closed shape. \"tonext\" fills the\n            space between two traces if one completely encloses the\n            other (eg consecutive contour lines), and behaves like\n            \"toself\" if there is no trace before it. \"tonext\"\n            should not be used if one trace does not enclose the\n            other. Traces in a `stackgroup` will only fill to (or\n            be filled to) other traces in the same group. With\n            multiple `stackgroup`s or some traces stacked and some\n            not, if fill-linked traces are not already consecutive,\n            the later ones will be pushed down in the drawing\n            order.\n        fillcolor\n            Sets the fill color. Defaults to a half-transparent\n            variant of the line color, marker color, or marker line\n            color, whichever is available.\n        fillpattern\n            Sets the pattern within the marker.\n        groupnorm\n            Only relevant when `stackgroup` is used, and only the\n            first `groupnorm` found in the `stackgroup` will be\n            used - including if `visible` is \"legendonly\" but not\n            if it is `false`. Sets the normalization for the sum of\n            this `stackgroup`. With \"fraction\", the value of each\n            trace at each location is divided by the sum of all\n            trace values at that location. \"percent\" is the same\n            but multiplied by 100 to show percentages. If there are\n            multiple subplots, or multiple `stackgroup`s on one\n            subplot, each will be normalized within its own set.\n        hoverinfo\n            Determines which trace information appear on hover. If\n            `none` or `skip` are set, no information is displayed\n            upon hovering. But, if `none` is set, click and hover\n            events are still fired.\n        hoverinfosrc\n            Sets the source reference on Chart Studio Cloud for\n            `hoverinfo`.\n        hoverlabel\n            :class:`plotly.graph_objects.scatter.Hoverlabel`\n            instance or dict with compatible properties\n        hoveron\n            Do the hover effects highlight individual points\n            (markers or line points) or do they highlight filled\n            regions? If the fill is \"toself\" or \"tonext\" and there\n            are no markers or text, then the default is \"fills\",\n            otherwise it is \"points\".\n        hovertemplate\n            Template string used for rendering the information that\n            appear on hover box. Note that this will override\n            `hoverinfo`. Variables are inserted using %{variable},\n            for example \"y: %{y}\" as well as %{xother}, {%_xother},\n            {%_xother_}, {%xother_}. When showing info for several\n            points, \"xother\" will be added to those with different\n            x positions from the first point. An underscore before\n            or after \"(x|y)other\" will add a space on that side,\n            only when this field is shown. Numbers are formatted\n            using d3-format's syntax %{variable:d3-format}, for\n            example \"Price: %{y:$.2f}\".\n            https://github.com/d3/d3-format/tree/v1.4.5#d3-format\n            for details on the formatting syntax. Dates are\n            formatted using d3-time-format's syntax\n            %{variable|d3-time-format}, for example \"Day:\n            %{2019-01-01|%A}\". https://github.com/d3/d3-time-\n            format/tree/v2.2.3#locale_format for details on the\n            date formatting syntax. The variables available in\n            `hovertemplate` are the ones emitted as event data\n            described at this link\n            https://plotly.com/javascript/plotlyjs-events/#event-\n            data. Additionally, every attributes that can be\n            specified per-point (the ones that are `arrayOk: true`)\n            are available.  Anything contained in tag `<extra>` is\n            displayed in the secondary box, for example\n            \"<extra>{fullData.name}</extra>\". To hide the secondary\n            box completely, use an empty tag `<extra></extra>`.\n        hovertemplatesrc\n            Sets the source reference on Chart Studio Cloud for\n            `hovertemplate`.\n        hovertext\n            Sets hover text elements associated with each (x,y)\n            pair. If a single string, the same string appears over\n            all the data points. If an array of string, the items\n            are mapped in order to the this trace's (x,y)\n            coordinates. To be seen, trace `hoverinfo` must contain\n            a \"text\" flag.\n        hovertextsrc\n            Sets the source reference on Chart Studio Cloud for\n            `hovertext`.\n        ids\n            Assigns id labels to each datum. These ids for object\n            constancy of data points during animation. Should be an\n            array of strings, not numbers or any other type.\n        idssrc\n            Sets the source reference on Chart Studio Cloud for\n            `ids`.\n        legendgroup\n            Sets the legend group for this trace. Traces part of\n            the same legend group hide/show at the same time when\n            toggling legend items.\n        legendgrouptitle\n            :class:`plotly.graph_objects.scatter.Legendgrouptitle`\n            instance or dict with compatible properties\n        legendrank\n            Sets the legend rank for this trace. Items and groups\n            with smaller ranks are presented on top/left side while\n            with `*reversed* `legend.traceorder` they are on\n            bottom/right side. The default legendrank is 1000, so\n            that you can use ranks less than 1000 to place certain\n            items before all unranked items, and ranks greater than\n            1000 to go after all unranked items.\n        line\n            :class:`plotly.graph_objects.scatter.Line` instance or\n            dict with compatible properties\n        marker\n            :class:`plotly.graph_objects.scatter.Marker` instance\n            or dict with compatible properties\n        meta\n            Assigns extra meta information associated with this\n            trace that can be used in various text attributes.\n            Attributes such as trace `name`, graph, axis and\n            colorbar `title.text`, annotation `text`\n            `rangeselector`, `updatemenues` and `sliders` `label`\n            text all support `meta`. To access the trace `meta`\n            values in an attribute in the same trace, simply use\n            `%{meta[i]}` where `i` is the index or key of the\n            `meta` item in question. To access trace `meta` in\n            layout attributes, use `%{data[n[.meta[i]}` where `i`\n            is the index or key of the `meta` and `n` is the trace\n            index.\n        metasrc\n            Sets the source reference on Chart Studio Cloud for\n            `meta`.\n        mode\n            Determines the drawing mode for this scatter trace. If\n            the provided `mode` includes \"text\" then the `text`\n            elements appear at the coordinates. Otherwise, the\n            `text` elements appear on hover. If there are less than\n            20 points and the trace is not stacked then the default\n            is \"lines+markers\". Otherwise, \"lines\".\n        name\n            Sets the trace name. The trace name appear as the\n            legend item and on hover.\n        opacity\n            Sets the opacity of the trace.\n        orientation\n            Only relevant when `stackgroup` is used, and only the\n            first `orientation` found in the `stackgroup` will be\n            used - including if `visible` is \"legendonly\" but not\n            if it is `false`. Sets the stacking direction. With \"v\"\n            (\"h\"), the y (x) values of subsequent traces are added.\n            Also affects the default value of `fill`.\n        selected\n            :class:`plotly.graph_objects.scatter.Selected` instance\n            or dict with compatible properties\n        selectedpoints\n            Array containing integer indices of selected points.\n            Has an effect only for traces that support selections.\n            Note that an empty array means an empty selection where\n            the `unselected` are turned on for all points, whereas,\n            any other non-array values means no selection all where\n            the `selected` and `unselected` styles have no effect.\n        showlegend\n            Determines whether or not an item corresponding to this\n            trace is shown in the legend.\n        stackgaps\n            Only relevant when `stackgroup` is used, and only the\n            first `stackgaps` found in the `stackgroup` will be\n            used - including if `visible` is \"legendonly\" but not\n            if it is `false`. Determines how we handle locations at\n            which other traces in this group have data but this one\n            does not. With *infer zero* we insert a zero at these\n            locations. With \"interpolate\" we linearly interpolate\n            between existing values, and extrapolate a constant\n            beyond the existing values.\n        stackgroup\n            Set several scatter traces (on the same subplot) to the\n            same stackgroup in order to add their y values (or\n            their x values if `orientation` is \"h\"). If blank or\n            omitted this trace will not be stacked. Stacking also\n            turns `fill` on by default, using \"tonexty\" (\"tonextx\")\n            if `orientation` is \"h\" (\"v\") and sets the default\n            `mode` to \"lines\" irrespective of point count. You can\n            only stack on a numeric (linear or log) axis. Traces in\n            a `stackgroup` will only fill to (or be filled to)\n            other traces in the same group. With multiple\n            `stackgroup`s or some traces stacked and some not, if\n            fill-linked traces are not already consecutive, the\n            later ones will be pushed down in the drawing order.\n        stream\n            :class:`plotly.graph_objects.scatter.Stream` instance\n            or dict with compatible properties\n        text\n            Sets text elements associated with each (x,y) pair. If\n            a single string, the same string appears over all the\n            data points. If an array of string, the items are\n            mapped in order to the this trace's (x,y) coordinates.\n            If trace `hoverinfo` contains a \"text\" flag and\n            \"hovertext\" is not set, these elements will be seen in\n            the hover labels.\n        textfont\n            Sets the text font.\n        textposition\n            Sets the positions of the `text` elements with respects\n            to the (x,y) coordinates.\n        textpositionsrc\n            Sets the source reference on Chart Studio Cloud for\n            `textposition`.\n        textsrc\n            Sets the source reference on Chart Studio Cloud for\n            `text`.\n        texttemplate\n            Template string used for rendering the information text\n            that appear on points. Note that this will override\n            `textinfo`. Variables are inserted using %{variable},\n            for example \"y: %{y}\". Numbers are formatted using\n            d3-format's syntax %{variable:d3-format}, for example\n            \"Price: %{y:$.2f}\".\n            https://github.com/d3/d3-format/tree/v1.4.5#d3-format\n            for details on the formatting syntax. Dates are\n            formatted using d3-time-format's syntax\n            %{variable|d3-time-format}, for example \"Day:\n            %{2019-01-01|%A}\". https://github.com/d3/d3-time-\n            format/tree/v2.2.3#locale_format for details on the\n            date formatting syntax. Every attributes that can be\n            specified per-point (the ones that are `arrayOk: true`)\n            are available.\n        texttemplatesrc\n            Sets the source reference on Chart Studio Cloud for\n            `texttemplate`.\n        uid\n            Assign an id to this trace, Use this to provide object\n            constancy between traces during animations and\n            transitions.\n        uirevision\n            Controls persistence of some user-driven changes to the\n            trace: `constraintrange` in `parcoords` traces, as well\n            as some `editable: true` modifications such as `name`\n            and `colorbar.title`. Defaults to `layout.uirevision`.\n            Note that other user-driven trace attribute changes are\n            controlled by `layout` attributes: `trace.visible` is\n            controlled by `layout.legend.uirevision`,\n            `selectedpoints` is controlled by\n            `layout.selectionrevision`, and `colorbar.(x|y)`\n            (accessible with `config: {editable: true}`) is\n            controlled by `layout.editrevision`. Trace changes are\n            tracked by `uid`, which only falls back on trace index\n            if no `uid` is provided. So if your app can add/remove\n            traces before the end of the `data` array, such that\n            the same trace has a different index, you can still\n            preserve user-driven changes if you give each trace a\n            `uid` that stays with it as it moves.\n        unselected\n            :class:`plotly.graph_objects.scatter.Unselected`\n            instance or dict with compatible properties\n        visible\n            Determines whether or not this trace is visible. If\n            \"legendonly\", the trace is not drawn, but can appear as\n            a legend item (provided that the legend itself is\n            visible).\n        x\n            Sets the x coordinates.\n        x0\n            Alternate to `x`. Builds a linear space of x\n            coordinates. Use with `dx` where `x0` is the starting\n            coordinate and `dx` the step.\n        xaxis\n            Sets a reference between this trace's x coordinates and\n            a 2D cartesian x axis. If \"x\" (the default value), the\n            x coordinates refer to `layout.xaxis`. If \"x2\", the x\n            coordinates refer to `layout.xaxis2`, and so on.\n        xcalendar\n            Sets the calendar system to use with `x` date data.\n        xhoverformat\n            Sets the hover text formatting rulefor `x`  using d3\n            formatting mini-languages which are very similar to\n            those in Python. For numbers, see:\n            https://github.com/d3/d3-format/tree/v1.4.5#d3-format.\n            And for dates see: https://github.com/d3/d3-time-\n            format/tree/v2.2.3#locale_format. We add two items to\n            d3's date formatter: \"%h\" for half of the year as a\n            decimal number as well as \"%{n}f\" for fractional\n            seconds with n digits. For example, *2016-10-13\n            09:15:23.456* with tickformat \"%H~%M~%S.%2f\" would\n            display *09~15~23.46*By default the values are\n            formatted using `xaxis.hoverformat`.\n        xperiod\n            Only relevant when the axis `type` is \"date\". Sets the\n            period positioning in milliseconds or \"M<n>\" on the x\n            axis. Special values in the form of \"M<n>\" could be\n            used to declare the number of months. In this case `n`\n            must be a positive integer.\n        xperiod0\n            Only relevant when the axis `type` is \"date\". Sets the\n            base for period positioning in milliseconds or date\n            string on the x0 axis. When `x0period` is round number\n            of weeks, the `x0period0` by default would be on a\n            Sunday i.e. 2000-01-02, otherwise it would be at\n            2000-01-01.\n        xperiodalignment\n            Only relevant when the axis `type` is \"date\". Sets the\n            alignment of data points on the x axis.\n        xsrc\n            Sets the source reference on Chart Studio Cloud for\n            `x`.\n        y\n            Sets the y coordinates.\n        y0\n            Alternate to `y`. Builds a linear space of y\n            coordinates. Use with `dy` where `y0` is the starting\n            coordinate and `dy` the step.\n        yaxis\n            Sets a reference between this trace's y coordinates and\n            a 2D cartesian y axis. If \"y\" (the default value), the\n            y coordinates refer to `layout.yaxis`. If \"y2\", the y\n            coordinates refer to `layout.yaxis2`, and so on.\n        ycalendar\n            Sets the calendar system to use with `y` date data.\n        yhoverformat\n            Sets the hover text formatting rulefor `y`  using d3\n            formatting mini-languages which are very similar to\n            those in Python. For numbers, see:\n            https://github.com/d3/d3-format/tree/v1.4.5#d3-format.\n            And for dates see: https://github.com/d3/d3-time-\n            format/tree/v2.2.3#locale_format. We add two items to\n            d3's date formatter: \"%h\" for half of the year as a\n            decimal number as well as \"%{n}f\" for fractional\n            seconds with n digits. For example, *2016-10-13\n            09:15:23.456* with tickformat \"%H~%M~%S.%2f\" would\n            display *09~15~23.46*By default the values are\n            formatted using `yaxis.hoverformat`.\n        yperiod\n            Only relevant when the axis `type` is \"date\". Sets the\n            period positioning in milliseconds or \"M<n>\" on the y\n            axis. Special values in the form of \"M<n>\" could be\n            used to declare the number of months. In this case `n`\n            must be a positive integer.\n        yperiod0\n            Only relevant when the axis `type` is \"date\". Sets the\n            base for period positioning in milliseconds or date\n            string on the y0 axis. When `y0period` is round number\n            of weeks, the `y0period0` by default would be on a\n            Sunday i.e. 2000-01-02, otherwise it would be at\n            2000-01-01.\n        yperiodalignment\n            Only relevant when the axis `type` is \"date\". Sets the\n            alignment of data points on the y axis.\n        ysrc\n            Sets the source reference on Chart Studio Cloud for\n            `y`.\n        \nDid you mean \"fill\"?\n\nBad property path:\nwith_labels\n^^^^"
     ]
    }
   ],
   "source": [
    "import plotly.graph_objs as go\n",
    "import plotly.express as px\n",
    "import pandas as pd\n",
    "import datetime\n",
    "import plotly.graph_objects as go\n",
    "import plotly.express as px\n",
    "from ipywidgets import widgets\n",
    "\n",
    "democracy = pd.read_csv('https://raw.githubusercontent.com/DanielStuiver/DEZEWERKT/master/vrijheid.csv', low_memory=False)\n",
    "happiness = pd.read_csv('https://raw.githubusercontent.com/DanielStuiver/DEZEWERKT/master/blijheid.csv', low_memory=False)\n",
    "\n",
    "minus_jaar_vrijheid = democracy[(democracy['ID_year'] >= 2013) & (democracy['ID_year'] <= 2020) & (democracy['ID_year'] != 2014)]\n",
    "\n",
    "minus_jaar_blijheid = happiness[(happiness['Year'] >= 2013) & (happiness['Year'] <= 2020)]\n",
    "\n",
    "merged_data = pd.merge(minus_jaar_blijheid, minus_jaar_vrijheid, left_on=['Year', 'Country'], right_on=['ID_year', 'ID_country_name'])\n",
    "\n",
    "df = merged_data.drop('ID_year', axis=1)\n",
    "df = merged_data.drop('ID_country_name', axis=1)\n",
    "\n",
    "#######################################################################################################################\n",
    "\n",
    "landcodes_df = pd.read_csv('https://raw.githubusercontent.com/lukes/ISO-3166-Countries-with-Regional-Codes/master/all/all.csv')\n",
    "gegevens_2020 = df[df['Year'] == 2020]\n",
    "gegevens_2013 = df[df['Year']== 2013]\n",
    "landcodes_df['name'] = landcodes_df['name'].replace({'United States of America' : 'United States',\n",
    "                                                   'Iran (Islamic Republic of)': 'Iran',\n",
    "                                                   'Moldova, Republic of':'Moldova',\n",
    "                                                    'Russian Federation': 'Russia',\n",
    "                                                    'Taiwan, Province of China': 'Taiwan',\n",
    "                                                    'Tanzania, United Republic of': 'Tanzania',\n",
    "                                                    'United Kingdom of Great Britain and Northern Ireland': 'United Kingdom',\n",
    "                                                    'Venezuela (Bolivarian Republic of)': 'Venezuela'})\n",
    "\n",
    "gegevens_2020_mix = pd.merge(gegevens_2020, landcodes_df, left_on='Country', right_on='name', how='left',indicator=True)\n",
    "gegevens_2013_mix = pd.merge(gegevens_2013, landcodes_df, left_on='Country', right_on='name', how='left',indicator=True)\n",
    "\n",
    "different_countries = gegevens_2020_mix[gegevens_2020_mix['_merge'] != 'both']\n",
    "\n",
    "#######################################################################################################################\n",
    "\n",
    "fig1 = go.Figure(data=go.Choropleth(\n",
    "    locations = gegevens_2020_mix['alpha-3'],\n",
    "    z = gegevens_2020_mix['Index'],\n",
    "    text = gegevens_2020_mix['Country'],\n",
    "    colorscale = 'Inferno',\n",
    "    autocolorscale=False,\n",
    "    reversescale=False,\n",
    "    marker_line_color='darkgray',\n",
    "    marker_line_width=0.5,\n",
    "    colorbar_title = 'Happiness'))\n",
    "\n",
    "fig2 = go.Figure(data=go.Choropleth(\n",
    "    locations = gegevens_2013_mix['alpha-3'],\n",
    "    z = gegevens_2013_mix['Index'],\n",
    "    text = gegevens_2013_mix['Country'],\n",
    "    colorscale = 'Inferno',\n",
    "    autocolorscale=False,\n",
    "    reversescale=False,\n",
    "    marker_line_color='darkgray',\n",
    "    marker_line_width=0.5,\n",
    "    colorbar_title = 'Happiness'))\n",
    "\n",
    "fig1.update_layout(title = 'Happiness-score landen 2020',\n",
    "                   annotations = [dict(xref='paper',\n",
    "                   yref='paper',\n",
    "                   x=0.5, y=-0.25,\n",
    "                   showarrow=False,\n",
    "                   text ='Deze kaart weergeeft de happiness index-score van de landen opgenomen in het onderzoek van de VN in 2020')])\n",
    "fig2.update_layout(title = 'Happiness-score landen 2013',\n",
    "                   annotations = [dict(xref='paper',\n",
    "                   yref='paper',\n",
    "                   x=0.5, y=-0.25,\n",
    "                   showarrow=False,\n",
    "                   text ='Deze kaart weergeeft de happiness index-score van de landen opgenomen in het onderzoek van de VN in 2013')])\n",
    "\n",
    "#######################################################################################################################\n",
    "\n",
    "data = {\n",
    "    'Years': ['2013', '2015', '2016', '2017', '2018', '2019', '2020'],\n",
    "    'Mid-range performing democracy': [54, 52, 49, 51, 55, 56, 52],\n",
    "    'Authoritarian Regime': [26, 28, 30, 31, 35, 34, 30],\n",
    "    'Weak democracy': [22, 23, 22, 21, 20, 19, 21],\n",
    "    'Hybrid Regime': [23, 21, 21, 22, 17, 18, 20],\n",
    "    'High performing democracy': [17, 18, 19, 18, 17, 16, 17]\n",
    "}\n",
    "\n",
    "df2 = pd.DataFrame(data)\n",
    "\n",
    "barplot = go.Figure()\n",
    "barplot.add_trace(go.Bar(x=df2['Years'], y=df2['High performing democracy'], name='High performing democracy', marker = dict(color = 'rgb(255, 255, 0)')))\n",
    "barplot.add_trace(go.Bar(x=df2['Years'], y=df2['Mid-range performing democracy'], name='Mid-range performing democracy', marker = dict(color='rgb(102,194,165)') )) \n",
    "barplot.add_trace(go.Bar(x=df2['Years'], y=df2['Weak democracy'], name='Weak democracy', marker = dict(color = 'rgb(141,160,203)')))\n",
    "barplot.add_trace(go.Bar(x=df2['Years'], y=df2['Hybrid Regime'], name='Hybrid Regime', marker = dict(color = 'rgb(255, 192, 203)')))\n",
    "barplot.add_trace(go.Bar(x=df2['Years'], y=df2['Authoritarian Regime'], name='Authoritarian Regime', marker = dict(color = 'rgb(252,141,98)')))\n",
    "\n",
    "layout = go.Layout(title='Verschillende voorkomende vormen van democratie in de wereld', \n",
    "                   xaxis_title = 'Jaren', \n",
    "                   yaxis_title = 'Aantal landen',\n",
    "                   annotations = [dict(xref='paper',\n",
    "                   yref='paper',\n",
    "                   x=0.5, y=-0.25,\n",
    "                   showarrow=False,\n",
    "                   text ='Deze grafiek visualiseert hoeveel landen deel uit maken van elke categorie van democratie')])\n",
    "\n",
    "# barplot.update_layout(layout)\n",
    "\n",
    "#######################################################################################################################\n",
    "\n",
    "countries = ['Iceland', 'Venezuela', 'Romania']\n",
    "\n",
    "country_dropdown = widgets.Dropdown(\n",
    "    description='Land:',\n",
    "    options=countries,\n",
    "    value=\"Iceland\")\n",
    "\n",
    "container = widgets.VBox(children=[country_dropdown])\n",
    "\n",
    "def update_plots(change):\n",
    "    selected_country = change.new\n",
    "    \n",
    "    fig_widget.data = []\n",
    "    \n",
    "    if selected_country == 'Iceland':\n",
    "        country_data = df[df['Country'] == 'Iceland'].copy()\n",
    "        country_data.loc[:, 'v_41_01'] = country_data['v_41_01'] * 10\n",
    "        country_data = country_data.rename(columns={'Index': 'Happiness index', 'v_41_01': 'Score stelling'})\n",
    "        fig = px.line(country_data, x='Year', y=['Happiness index', 'Score stelling'], markers=True)\n",
    "        for trace in fig.data:\n",
    "            fig_widget.add_trace(trace)\n",
    "    elif selected_country == 'Venezuela':\n",
    "        country_data = df[df['Country'] == 'Venezuela'].copy()\n",
    "        country_data.loc[:, 'v_41_01'] = country_data['v_41_01'] * 10\n",
    "        country_data = country_data.rename(columns={'Index': 'Happiness index', 'v_41_01': 'Score stelling'})\n",
    "        fig = px.line(country_data, x='Year', y=['Happiness index', 'Score stelling'], markers=True)\n",
    "        for trace in fig.data:\n",
    "            fig_widget.add_trace(trace)\n",
    "    elif selected_country == 'Romania':\n",
    "        country_data = df[df['Country'] == 'Romania'].copy()\n",
    "        country_data.loc[:, 'v_41_01'] = (country_data['v_41_01'] * 10)\n",
    "        country_data = country_data.rename(columns={'Index': 'Happiness index', 'v_41_01': 'Score stelling'})\n",
    "        fig = px.line(country_data, x='Year', y=['Happiness index', 'Score stelling'], markers=True)\n",
    "        for trace in fig.data:\n",
    "            fig_widget.add_trace(trace)\n",
    "\n",
    "country_dropdown.observe(update_plots, names='value')\n",
    "\n",
    "fig_widget = go.FigureWidget()\n",
    "\n",
    "fig_widget.update_layout(title = 'Hoe vaak verlenen werknemers in de publieke sector gunsten in ruil voor omkopingen of andere materiële wensen?',\n",
    "                          title_font_size=13,\n",
    "                          xaxis_title='Jaar',\n",
    "                          yaxis_title='Score',\n",
    "                          annotations = [dict(xref='paper',\n",
    "                                        yref='paper',\n",
    "                                        x=0.5, y=-0.25,\n",
    "                                        showarrow=False,\n",
    "                                        text ='Deze Grafiek toont de relatie aan tussen de happiness index en de algemene mate van corruptie in een land')])\n",
    "\n",
    "\n",
    "# display(container, fig_widget)\n",
    "\n",
    "#######################################################################################################################\n",
    "\n",
    "countries = ['Iceland', 'Venezuela', 'Romania']\n",
    "\n",
    "country_dropdown = widgets.Dropdown(\n",
    "    description='Land:',\n",
    "    options=countries)\n",
    "\n",
    "container2 = widgets.VBox(children=[country_dropdown])\n",
    "\n",
    "def update_plots(change):\n",
    "    selected_country = change.new\n",
    "    \n",
    "    fig_widget2.data = []\n",
    "    \n",
    "    if selected_country == 'Iceland':\n",
    "        country_data = df[df['Country'] == 'Iceland'].copy()\n",
    "        country_data.loc[:, 'v_23_01'] = country_data['v_23_01'] * 10\n",
    "        country_data = country_data.rename(columns={'Index': 'Happiness index', 'v_23_01': 'Score stelling'})\n",
    "        fig = px.line(country_data, x='Year', y=['Happiness index', 'Score stelling'], markers=True)\n",
    "        for trace in fig.data:\n",
    "            fig_widget2.add_trace(trace)\n",
    "    elif selected_country == 'Venezuela':\n",
    "        country_data = df[df['Country'] == 'Venezuela'].copy()\n",
    "        country_data.loc[:, 'v_23_01'] = country_data['v_23_01'] * 10\n",
    "        country_data = country_data.rename(columns={'Index': 'Happiness index', 'v_23_01': 'Score stelling'})\n",
    "        fig = px.line(country_data, x='Year', y=['Happiness index', 'Score stelling'], markers=True)\n",
    "        for trace in fig.data:\n",
    "            fig_widget2.add_trace(trace)\n",
    "    elif selected_country == 'Romania':\n",
    "        country_data = df[df['Country'] == 'Romania'].copy()\n",
    "        country_data.loc[:, 'v_23_01'] = (country_data['v_23_01'] * 10)\n",
    "        country_data = country_data.rename(columns={'Index': 'Happiness index', 'v_23_01': 'Score stelling'})\n",
    "        fig = px.line(country_data, x='Year', y=['Happiness index', 'Score stelling'], markers=True)\n",
    "        for trace in fig.data:\n",
    "            fig_widget2.add_trace(trace)\n",
    "\n",
    "country_dropdown.observe(update_plots, names='value')\n",
    "\n",
    "fig_widget2 = go.FigureWidget()\n",
    "\n",
    "fig_widget2.update_layout(title='Genieten arme mensen evenveel van burgerlijke vrijheden als rijke mensen?',\n",
    "                          title_font_size=13,\n",
    "                          xaxis_title='Jaar',\n",
    "                          yaxis_title='Score',\n",
    "                          annotations = [dict(xref='paper',\n",
    "                                        yref='paper',\n",
    "                                        x=0.5, y=-0.25,\n",
    "                                        showarrow=False,\n",
    "                                        text ='Deze Grafiek toont de relatie aan tussen de happiness index en de algemene mate van gelijkheid in een land')])\n",
    "\n",
    "# display(container2, fig_widget2)\n",
    "\n",
    "#######################################################################################################################\n",
    "\n",
    "countries = ['Iceland', 'Venezuela', 'Romania']\n",
    "\n",
    "country_dropdown = widgets.Dropdown(\n",
    "    description='Land:',\n",
    "    options=countries)\n",
    "\n",
    "container3 = widgets.VBox(children=[country_dropdown])\n",
    "\n",
    "def update_plots(change):\n",
    "    selected_country = change.new\n",
    "    \n",
    "    fig_widget3.data = []\n",
    "    \n",
    "    if selected_country == 'Iceland':\n",
    "        country_data = df[df['Country'] == 'Iceland'].copy()\n",
    "        country_data.loc[:, 'v_22_01'] = country_data['v_22_01'] * 10\n",
    "        country_data = country_data.rename(columns={'Index': 'Happiness index', 'v_22_01': 'Score stelling'})\n",
    "        fig = px.line(country_data, x='Year', y=['Happiness index', 'Score stelling'], markers=True)\n",
    "        for trace in fig.data:\n",
    "            fig_widget3.add_trace(trace)\n",
    "    elif selected_country == 'Venezuela':\n",
    "        country_data = df[df['Country'] == 'Venezuela'].copy()\n",
    "        country_data.loc[:, 'v_22_01'] = country_data['v_22_01'] * 10\n",
    "        country_data = country_data.rename(columns={'Index': 'Happiness index', 'v_22_01': 'Score stelling'})\n",
    "        fig = px.line(country_data, x='Year', y=['Happiness index', 'Score stelling'], markers=True)\n",
    "        for trace in fig.data:\n",
    "            fig_widget3.add_trace(trace)\n",
    "    elif selected_country == 'Romania':\n",
    "        country_data = df[df['Country'] == 'Romania'].copy()\n",
    "        country_data.loc[:, 'v_22_01'] = (country_data['v_22_01'] * 10)\n",
    "        country_data = country_data.rename(columns={'Index': 'Happiness index', 'v_22_01': 'Score stelling'})\n",
    "        fig = px.line(country_data, x='Year', y=['Happiness index', 'Score stelling'], markers=True)\n",
    "        for trace in fig.data:\n",
    "            fig_widget3.add_trace(trace)\n",
    "\n",
    "country_dropdown.observe(update_plots, names='value')\n",
    "\n",
    "fig_widget3 = go.FigureWidget()\n",
    "\n",
    "fig_widget3.update_layout(title='Probeert de regering op directe of indirecte wijze de gedrukte of uitzendmedia te censureren?',\n",
    "                          title_font_size=13,\n",
    "                          xaxis_title='Jaar',\n",
    "                          yaxis_title='Score',\n",
    "                          annotations = [dict(xref='paper',\n",
    "                                        yref='paper',\n",
    "                                        x=0.5, y=-0.25,\n",
    "                                        showarrow=False,\n",
    "                                        text ='Deze Grafiek toont de relatie aan tussen de happiness index en de algemene mate van censuur in een land')])\n",
    "\n",
    "#######################################################################################################################\n",
    "\n",
    "\n",
    "countries = ['Iceland', 'Venezuela', 'Romania']\n",
    "colors = ['rgb(100,40,255)', 'rgb(102,194,165)', 'rgb(252,141,98)']\n",
    "\n",
    "fig_widget4 = go.Figure()\n",
    "\n",
    "# Line for Iceland\n",
    "country_data_iceland = df[df['Country'] == 'Iceland'].copy()\n",
    "country_data_iceland = country_data_iceland.rename(columns={'Index': 'Happiness index'})\n",
    "fig_iceland = go.Scatter(\n",
    "    x=country_data_iceland['Year'],\n",
    "    y=country_data_iceland['Happiness index'],\n",
    "    mode='lines',\n",
    "    marker=dict(color=colors[0]),\n",
    "    name=countries[0]\n",
    ")\n",
    "fig_widget4.add_trace(fig_iceland)\n",
    "\n",
    "# Line for Venezuela\n",
    "country_data_venezuela = df[df['Country'] == 'Venezuela'].copy()\n",
    "country_data_venezuela = country_data_venezuela.rename(columns={'Index': 'Happiness index'})\n",
    "fig_venezuela = go.Scatter(\n",
    "    x=country_data_venezuela['Year'],\n",
    "    y=country_data_venezuela['Happiness index'],\n",
    "    mode='lines',\n",
    "    marker=dict(color=colors[1]),\n",
    "    name=countries[1]\n",
    ")\n",
    "fig_widget4.add_trace(fig_venezuela)\n",
    "\n",
    "# Line for Romania\n",
    "country_data_romania = df[df['Country'] == 'Romania'].copy()\n",
    "country_data_romania = country_data_romania.rename(columns={'Index': 'Happiness index'})\n",
    "fig_romania = go.Scatter(\n",
    "    x=country_data_romania['Year'],\n",
    "    y=country_data_romania['Happiness index'],\n",
    "    mode='lines',\n",
    "    marker=dict(color=colors[2]),\n",
    "    name=countries[2]\n",
    ")\n",
    "fig_widget4.add_trace(fig_romania)\n",
    "\n",
    "fig_widget4.update_layout(\n",
    "    title='Happiness index voor Ijsland, Venezuela en Roemenië',\n",
    "    title_font_size=13,\n",
    "    xaxis_title='Jaar',\n",
    "    yaxis_title='Happiness Index',\n",
    "    annotations=[dict(\n",
    "        xref='paper',\n",
    "        yref='paper',\n",
    "        x=0.5,\n",
    "        y=-0.25,\n",
    "        showarrow=False,\n",
    "        text='Deze Grafiek toont de happiness index aan voor de drie gekozen landen'\n",
    "    )]\n",
    ")\n",
    "\n",
    "print()\n",
    "# display(container3, fig_widget3)"
   ]
  },
  {
   "attachments": {},
   "cell_type": "markdown",
   "id": "8ca01090",
   "metadata": {},
   "source": [
    "# Inleiding \n",
    "\n",
    "\n",
    "In een wereld waarin democratie en geluk beide belangrijke maatschappelijke doelen vertegenwoordigen, is het interessant om te onderzoeken hoe deze twee concepten met elkaar verbonden zijn. Democratie wordt vaak gezien als een middel om het welzijn en de vrijheid van mensen te bevorderen, terwijl geluk wordt beschouwd als een ultieme indicator van persoonlijk welzijn en tevredenheid. Deze datastory, heeft als doel de democracy index en de happiness index te visualiseren, om zo inzicht te bieden in de mogelijke relatie tussen democratie en geluk.\n",
    "\n",
    "Het voornaamste doel van dit project is het creëren van visuele representaties van de democracy index en de happiness index. De democracy index is een bekende maatstaf voor de staat van de democratie in landen over de hele wereld, terwijl de happiness index meet hoe tevreden en gelukkig mensen zich voelen in verschillende landen. Door deze twee indexen te combineren en te visualiseren, hopen we een beter begrip te krijgen van de mogelijke verbanden en patronen tussen democratie en geluk. De vraag die we stellen is dan ook: bevordert democratie voor geluk?\n",
    "\n",
    "Deze vraag zal beantwoord worden door de datasets samen te voegen en op een verkennende manier te onderzoeken. Wellicht wordt er een link gevonden tussen de vrijheid van een land en de tevredenheid van haar burgers, maar het tegendeel zou ook ondervonden kunnen worden, waaruit blijkt dat mensen gelukkig of ongelukkig kunnen zijn onafhankelijk van de staat waarin hun overheid zich verkeert."
   ]
  },
  {
   "attachments": {},
   "cell_type": "markdown",
   "id": "5905fa64",
   "metadata": {},
   "source": [
    "## Datasets and preprocessing - Happiness index\n",
    "\n",
    "De happiness index is een maatstaf die bedacht is voor de World Happiness Report, een rapportage die vanaf 2012 regelmatig door de Sustainable Development Solutions Network, een initiatief van de Verenigde Naties, wordt geschreven. Het initiële doel van het rapportage was om het perspectief van mensen over hun eigen geluk te meten, sindsdien wordt het rapportage elk jaar opnieuw uitgebracht. De happiness index is een vrij eenvoudige maatstaf die bepaald wordt door een gemiddelde van antwoorden geworven van mensen middels het onderzoeksbureau Gallup. Mensen worden gevraagd om een ladder voor te stellen, waarin een 0 het slechtst mogelijke leven voorstelt, en een 10 het best mogelijke leven, daarna worden de mensen gevraagd waar ze zichzelf op deze ladder zetten.\n",
    "\n",
    "De dataset die gebruikt zal worden voor dit onderzoek is als volgt:\n",
    "\n",
    "https://www.kaggle.com/datasets/simonaasm/world-happiness-index-by-reports-2013-2023\n",
    "\n",
    "Deze dataset bevat de happiness index voor 167 landen voor de periode van 2013 tot en met 2023. Het eerste rapportage uit 2012 is niet opgenomen in deze dataset, ook ontbreken er waardes voor 2014, aangezien er geen rapportage werd opgesteld in dat jaar. Naast de naam van elk land en het jaar van het datapunt zijn er in de dataset nog twee variabelen; dit zijn de happiness index met maximaal 3 decimalen na de punt, en de rang van het land in dat jaar vergeleken met de andere landen."
   ]
  },
  {
   "cell_type": "code",
   "execution_count": 16,
   "id": "a86bcb54",
   "metadata": {
    "scrolled": true
   },
   "outputs": [
    {
     "data": {
      "application/vnd.plotly.v1+json": {
       "config": {
        "plotlyServerURL": "https://plot.ly"
       },
       "data": [
        {
         "autocolorscale": false,
         "colorbar": {
          "title": {
           "text": "Happiness"
          }
         },
         "colorscale": [
          [
           0,
           "#000004"
          ],
          [
           0.1111111111111111,
           "#1b0c41"
          ],
          [
           0.2222222222222222,
           "#4a0c6b"
          ],
          [
           0.3333333333333333,
           "#781c6d"
          ],
          [
           0.4444444444444444,
           "#a52c60"
          ],
          [
           0.5555555555555556,
           "#cf4446"
          ],
          [
           0.6666666666666666,
           "#ed6925"
          ],
          [
           0.7777777777777778,
           "#fb9b06"
          ],
          [
           0.8888888888888888,
           "#f7d13d"
          ],
          [
           1,
           "#fcffa4"
          ]
         ],
         "locations": [
          "AFG",
          "ALB",
          "DZA",
          "AGO",
          "ARG",
          "ARM",
          "AUS",
          "AUT",
          "AZE",
          "BHR",
          "BGD",
          "BLR",
          "BEL",
          "BEN",
          null,
          "BIH",
          "BWA",
          "BRA",
          "BGR",
          "BFA",
          "BDI",
          "KHM",
          "CMR",
          "CAN",
          "CAF",
          "TCD",
          "CHL",
          "CHN",
          "COL",
          "CRI",
          "HRV",
          "CYP",
          "CZE",
          "DNK",
          "DOM",
          "ECU",
          "EGY",
          "SLV",
          "EST",
          "SWZ",
          "ETH",
          "FIN",
          "FRA",
          "GAB",
          "GMB",
          "GEO",
          "DEU",
          "GHA",
          "GRC",
          "GTM",
          "GIN",
          "HTI",
          "HND",
          "HUN",
          "ISL",
          "IND",
          "IDN",
          "IRN",
          "IRQ",
          "IRL",
          "ISR",
          "ITA",
          "JAM",
          "JPN",
          "JOR",
          "KAZ",
          "KEN",
          null,
          "KWT",
          "KGZ",
          null,
          "LVA",
          "LBN",
          "LSO",
          "LBR",
          "LBY",
          "LTU",
          "LUX",
          "MDG",
          "MWI",
          "MYS",
          "MLI",
          "MRT",
          "MUS",
          "MEX",
          "MDA",
          "MNG",
          "MNE",
          "MAR",
          "MOZ",
          "MMR",
          "NAM",
          "NPL",
          "NLD",
          "NZL",
          "NIC",
          "NER",
          "NGA",
          "MKD",
          "NOR",
          "OMN",
          "PAK",
          "PAN",
          "PRY",
          "PER",
          "PHL",
          "POL",
          "PRT",
          "QAT",
          "ROU",
          "RUS",
          "RWA",
          "SAU",
          "SEN",
          "SRB",
          "SLE",
          "SGP",
          "SVK",
          "SVN",
          "SOM",
          "ZAF",
          "SSD",
          "ESP",
          "LKA",
          "SDN",
          "SWE",
          "CHE",
          null,
          "TWN",
          "TJK",
          "TZA",
          "THA",
          "TGO",
          "TTO",
          "TUN",
          "TKM",
          "UGA",
          "UKR",
          "ARE",
          "GBR",
          "USA",
          "URY",
          "UZB",
          "VEN",
          "YEM",
          "ZMB",
          "ZWE"
         ],
         "marker": {
          "line": {
           "color": "darkgray",
           "width": 0.5
          }
         },
         "reversescale": false,
         "text": [
          "Afghanistan",
          "Albania",
          "Algeria",
          "Angola",
          "Argentina",
          "Armenia",
          "Australia",
          "Austria",
          "Azerbaijan",
          "Bahrain",
          "Bangladesh",
          "Belarus",
          "Belgium",
          "Benin",
          "Bolivia",
          "Bosnia and Herzegovina",
          "Botswana",
          "Brazil",
          "Bulgaria",
          "Burkina Faso",
          "Burundi",
          "Cambodia",
          "Cameroon",
          "Canada",
          "Central African Republic",
          "Chad",
          "Chile",
          "China",
          "Colombia",
          "Costa Rica",
          "Croatia",
          "Cyprus",
          "Czechia",
          "Denmark",
          "Dominican Republic",
          "Ecuador",
          "Egypt",
          "El Salvador",
          "Estonia",
          "Eswatini",
          "Ethiopia",
          "Finland",
          "France",
          "Gabon",
          "Gambia",
          "Georgia",
          "Germany",
          "Ghana",
          "Greece",
          "Guatemala",
          "Guinea",
          "Haiti",
          "Honduras",
          "Hungary",
          "Iceland",
          "India",
          "Indonesia",
          "Iran",
          "Iraq",
          "Ireland",
          "Israel",
          "Italy",
          "Jamaica",
          "Japan",
          "Jordan",
          "Kazakhstan",
          "Kenya",
          "Kosovo",
          "Kuwait",
          "Kyrgyzstan",
          "Laos",
          "Latvia",
          "Lebanon",
          "Lesotho",
          "Liberia",
          "Libya",
          "Lithuania",
          "Luxembourg",
          "Madagascar",
          "Malawi",
          "Malaysia",
          "Mali",
          "Mauritania",
          "Mauritius",
          "Mexico",
          "Moldova",
          "Mongolia",
          "Montenegro",
          "Morocco",
          "Mozambique",
          "Myanmar",
          "Namibia",
          "Nepal",
          "Netherlands",
          "New Zealand",
          "Nicaragua",
          "Niger",
          "Nigeria",
          "North Macedonia",
          "Norway",
          "Oman",
          "Pakistan",
          "Panama",
          "Paraguay",
          "Peru",
          "Philippines",
          "Poland",
          "Portugal",
          "Qatar",
          "Romania",
          "Russia",
          "Rwanda",
          "Saudi Arabia",
          "Senegal",
          "Serbia",
          "Sierra Leone",
          "Singapore",
          "Slovakia",
          "Slovenia",
          "Somalia",
          "South Africa",
          "South Sudan",
          "Spain",
          "Sri Lanka",
          "Sudan",
          "Sweden",
          "Switzerland",
          "Syria",
          "Taiwan",
          "Tajikistan",
          "Tanzania",
          "Thailand",
          "Togo",
          "Trinidad and Tobago",
          "Tunisia",
          "Turkmenistan",
          "Uganda",
          "Ukraine",
          "United Arab Emirates",
          "United Kingdom",
          "United States",
          "Uruguay",
          "Uzbekistan",
          "Venezuela",
          "Yemen",
          "Zambia",
          "Zimbabwe"
         ],
         "type": "choropleth",
         "z": [
          4.04,
          5.55,
          5.422,
          5.589,
          6.562,
          4.316,
          7.35,
          7.369,
          4.604,
          5.312,
          4.804,
          5.504,
          6.967,
          3.528,
          5.857,
          4.813,
          3.97,
          6.849,
          3.981,
          4.259,
          3.706,
          4.067,
          4.42,
          7.477,
          3.623,
          4.056,
          6.587,
          4.978,
          6.416,
          7.257,
          5.661,
          6.466,
          6.29,
          7.693,
          4.963,
          5.865,
          4.273,
          5.809,
          5.426,
          null,
          4.561,
          7.389,
          6.764,
          4.114,
          null,
          4.187,
          6.672,
          5.091,
          5.435,
          5.965,
          3.847,
          4.341,
          5.142,
          4.775,
          7.355,
          4.772,
          5.348,
          4.643,
          4.817,
          7.076,
          7.301,
          6.021,
          5.374,
          6.064,
          5.414,
          5.671,
          4.403,
          5.222,
          6.515,
          5.042,
          4.787,
          5.046,
          4.931,
          4.898,
          4.196,
          5.34,
          5.426,
          7.054,
          3.966,
          4.113,
          5.76,
          4.247,
          4.758,
          5.477,
          7.088,
          5.791,
          4.834,
          5.299,
          4.885,
          4.971,
          4.439,
          null,
          4.156,
          7.512,
          7.221,
          5.507,
          4.152,
          5.248,
          4.574,
          7.655,
          6.853,
          5.292,
          7.143,
          5.779,
          5.776,
          4.985,
          5.822,
          5.101,
          6.666,
          5.033,
          5.464,
          3.715,
          6.48,
          3.959,
          4.813,
          4.318,
          6.546,
          5.969,
          6.06,
          null,
          4.963,
          null,
          6.322,
          4.151,
          4.401,
          7.48,
          7.65,
          3.892,
          6.221,
          4.38,
          3.77,
          6.371,
          2.936,
          6.519,
          4.826,
          5.628,
          4.443,
          5.057,
          7.144,
          6.883,
          7.082,
          6.355,
          5.623,
          7.039,
          4.054,
          5.006,
          4.827
         ]
        }
       ],
       "layout": {
        "annotations": [
         {
          "showarrow": false,
          "text": "Deze kaart weergeeft de happiness index-score van de landen opgenomen in het onderzoek van de VN in 2013",
          "x": 0.5,
          "xref": "paper",
          "y": -0.25,
          "yref": "paper"
         }
        ],
        "template": {
         "data": {
          "bar": [
           {
            "error_x": {
             "color": "#2a3f5f"
            },
            "error_y": {
             "color": "#2a3f5f"
            },
            "marker": {
             "line": {
              "color": "#E5ECF6",
              "width": 0.5
             },
             "pattern": {
              "fillmode": "overlay",
              "size": 10,
              "solidity": 0.2
             }
            },
            "type": "bar"
           }
          ],
          "barpolar": [
           {
            "marker": {
             "line": {
              "color": "#E5ECF6",
              "width": 0.5
             },
             "pattern": {
              "fillmode": "overlay",
              "size": 10,
              "solidity": 0.2
             }
            },
            "type": "barpolar"
           }
          ],
          "carpet": [
           {
            "aaxis": {
             "endlinecolor": "#2a3f5f",
             "gridcolor": "white",
             "linecolor": "white",
             "minorgridcolor": "white",
             "startlinecolor": "#2a3f5f"
            },
            "baxis": {
             "endlinecolor": "#2a3f5f",
             "gridcolor": "white",
             "linecolor": "white",
             "minorgridcolor": "white",
             "startlinecolor": "#2a3f5f"
            },
            "type": "carpet"
           }
          ],
          "choropleth": [
           {
            "colorbar": {
             "outlinewidth": 0,
             "ticks": ""
            },
            "type": "choropleth"
           }
          ],
          "contour": [
           {
            "colorbar": {
             "outlinewidth": 0,
             "ticks": ""
            },
            "colorscale": [
             [
              0,
              "#0d0887"
             ],
             [
              0.1111111111111111,
              "#46039f"
             ],
             [
              0.2222222222222222,
              "#7201a8"
             ],
             [
              0.3333333333333333,
              "#9c179e"
             ],
             [
              0.4444444444444444,
              "#bd3786"
             ],
             [
              0.5555555555555556,
              "#d8576b"
             ],
             [
              0.6666666666666666,
              "#ed7953"
             ],
             [
              0.7777777777777778,
              "#fb9f3a"
             ],
             [
              0.8888888888888888,
              "#fdca26"
             ],
             [
              1,
              "#f0f921"
             ]
            ],
            "type": "contour"
           }
          ],
          "contourcarpet": [
           {
            "colorbar": {
             "outlinewidth": 0,
             "ticks": ""
            },
            "type": "contourcarpet"
           }
          ],
          "heatmap": [
           {
            "colorbar": {
             "outlinewidth": 0,
             "ticks": ""
            },
            "colorscale": [
             [
              0,
              "#0d0887"
             ],
             [
              0.1111111111111111,
              "#46039f"
             ],
             [
              0.2222222222222222,
              "#7201a8"
             ],
             [
              0.3333333333333333,
              "#9c179e"
             ],
             [
              0.4444444444444444,
              "#bd3786"
             ],
             [
              0.5555555555555556,
              "#d8576b"
             ],
             [
              0.6666666666666666,
              "#ed7953"
             ],
             [
              0.7777777777777778,
              "#fb9f3a"
             ],
             [
              0.8888888888888888,
              "#fdca26"
             ],
             [
              1,
              "#f0f921"
             ]
            ],
            "type": "heatmap"
           }
          ],
          "heatmapgl": [
           {
            "colorbar": {
             "outlinewidth": 0,
             "ticks": ""
            },
            "colorscale": [
             [
              0,
              "#0d0887"
             ],
             [
              0.1111111111111111,
              "#46039f"
             ],
             [
              0.2222222222222222,
              "#7201a8"
             ],
             [
              0.3333333333333333,
              "#9c179e"
             ],
             [
              0.4444444444444444,
              "#bd3786"
             ],
             [
              0.5555555555555556,
              "#d8576b"
             ],
             [
              0.6666666666666666,
              "#ed7953"
             ],
             [
              0.7777777777777778,
              "#fb9f3a"
             ],
             [
              0.8888888888888888,
              "#fdca26"
             ],
             [
              1,
              "#f0f921"
             ]
            ],
            "type": "heatmapgl"
           }
          ],
          "histogram": [
           {
            "marker": {
             "pattern": {
              "fillmode": "overlay",
              "size": 10,
              "solidity": 0.2
             }
            },
            "type": "histogram"
           }
          ],
          "histogram2d": [
           {
            "colorbar": {
             "outlinewidth": 0,
             "ticks": ""
            },
            "colorscale": [
             [
              0,
              "#0d0887"
             ],
             [
              0.1111111111111111,
              "#46039f"
             ],
             [
              0.2222222222222222,
              "#7201a8"
             ],
             [
              0.3333333333333333,
              "#9c179e"
             ],
             [
              0.4444444444444444,
              "#bd3786"
             ],
             [
              0.5555555555555556,
              "#d8576b"
             ],
             [
              0.6666666666666666,
              "#ed7953"
             ],
             [
              0.7777777777777778,
              "#fb9f3a"
             ],
             [
              0.8888888888888888,
              "#fdca26"
             ],
             [
              1,
              "#f0f921"
             ]
            ],
            "type": "histogram2d"
           }
          ],
          "histogram2dcontour": [
           {
            "colorbar": {
             "outlinewidth": 0,
             "ticks": ""
            },
            "colorscale": [
             [
              0,
              "#0d0887"
             ],
             [
              0.1111111111111111,
              "#46039f"
             ],
             [
              0.2222222222222222,
              "#7201a8"
             ],
             [
              0.3333333333333333,
              "#9c179e"
             ],
             [
              0.4444444444444444,
              "#bd3786"
             ],
             [
              0.5555555555555556,
              "#d8576b"
             ],
             [
              0.6666666666666666,
              "#ed7953"
             ],
             [
              0.7777777777777778,
              "#fb9f3a"
             ],
             [
              0.8888888888888888,
              "#fdca26"
             ],
             [
              1,
              "#f0f921"
             ]
            ],
            "type": "histogram2dcontour"
           }
          ],
          "mesh3d": [
           {
            "colorbar": {
             "outlinewidth": 0,
             "ticks": ""
            },
            "type": "mesh3d"
           }
          ],
          "parcoords": [
           {
            "line": {
             "colorbar": {
              "outlinewidth": 0,
              "ticks": ""
             }
            },
            "type": "parcoords"
           }
          ],
          "pie": [
           {
            "automargin": true,
            "type": "pie"
           }
          ],
          "scatter": [
           {
            "fillpattern": {
             "fillmode": "overlay",
             "size": 10,
             "solidity": 0.2
            },
            "type": "scatter"
           }
          ],
          "scatter3d": [
           {
            "line": {
             "colorbar": {
              "outlinewidth": 0,
              "ticks": ""
             }
            },
            "marker": {
             "colorbar": {
              "outlinewidth": 0,
              "ticks": ""
             }
            },
            "type": "scatter3d"
           }
          ],
          "scattercarpet": [
           {
            "marker": {
             "colorbar": {
              "outlinewidth": 0,
              "ticks": ""
             }
            },
            "type": "scattercarpet"
           }
          ],
          "scattergeo": [
           {
            "marker": {
             "colorbar": {
              "outlinewidth": 0,
              "ticks": ""
             }
            },
            "type": "scattergeo"
           }
          ],
          "scattergl": [
           {
            "marker": {
             "colorbar": {
              "outlinewidth": 0,
              "ticks": ""
             }
            },
            "type": "scattergl"
           }
          ],
          "scattermapbox": [
           {
            "marker": {
             "colorbar": {
              "outlinewidth": 0,
              "ticks": ""
             }
            },
            "type": "scattermapbox"
           }
          ],
          "scatterpolar": [
           {
            "marker": {
             "colorbar": {
              "outlinewidth": 0,
              "ticks": ""
             }
            },
            "type": "scatterpolar"
           }
          ],
          "scatterpolargl": [
           {
            "marker": {
             "colorbar": {
              "outlinewidth": 0,
              "ticks": ""
             }
            },
            "type": "scatterpolargl"
           }
          ],
          "scatterternary": [
           {
            "marker": {
             "colorbar": {
              "outlinewidth": 0,
              "ticks": ""
             }
            },
            "type": "scatterternary"
           }
          ],
          "surface": [
           {
            "colorbar": {
             "outlinewidth": 0,
             "ticks": ""
            },
            "colorscale": [
             [
              0,
              "#0d0887"
             ],
             [
              0.1111111111111111,
              "#46039f"
             ],
             [
              0.2222222222222222,
              "#7201a8"
             ],
             [
              0.3333333333333333,
              "#9c179e"
             ],
             [
              0.4444444444444444,
              "#bd3786"
             ],
             [
              0.5555555555555556,
              "#d8576b"
             ],
             [
              0.6666666666666666,
              "#ed7953"
             ],
             [
              0.7777777777777778,
              "#fb9f3a"
             ],
             [
              0.8888888888888888,
              "#fdca26"
             ],
             [
              1,
              "#f0f921"
             ]
            ],
            "type": "surface"
           }
          ],
          "table": [
           {
            "cells": {
             "fill": {
              "color": "#EBF0F8"
             },
             "line": {
              "color": "white"
             }
            },
            "header": {
             "fill": {
              "color": "#C8D4E3"
             },
             "line": {
              "color": "white"
             }
            },
            "type": "table"
           }
          ]
         },
         "layout": {
          "annotationdefaults": {
           "arrowcolor": "#2a3f5f",
           "arrowhead": 0,
           "arrowwidth": 1
          },
          "autotypenumbers": "strict",
          "coloraxis": {
           "colorbar": {
            "outlinewidth": 0,
            "ticks": ""
           }
          },
          "colorscale": {
           "diverging": [
            [
             0,
             "#8e0152"
            ],
            [
             0.1,
             "#c51b7d"
            ],
            [
             0.2,
             "#de77ae"
            ],
            [
             0.3,
             "#f1b6da"
            ],
            [
             0.4,
             "#fde0ef"
            ],
            [
             0.5,
             "#f7f7f7"
            ],
            [
             0.6,
             "#e6f5d0"
            ],
            [
             0.7,
             "#b8e186"
            ],
            [
             0.8,
             "#7fbc41"
            ],
            [
             0.9,
             "#4d9221"
            ],
            [
             1,
             "#276419"
            ]
           ],
           "sequential": [
            [
             0,
             "#0d0887"
            ],
            [
             0.1111111111111111,
             "#46039f"
            ],
            [
             0.2222222222222222,
             "#7201a8"
            ],
            [
             0.3333333333333333,
             "#9c179e"
            ],
            [
             0.4444444444444444,
             "#bd3786"
            ],
            [
             0.5555555555555556,
             "#d8576b"
            ],
            [
             0.6666666666666666,
             "#ed7953"
            ],
            [
             0.7777777777777778,
             "#fb9f3a"
            ],
            [
             0.8888888888888888,
             "#fdca26"
            ],
            [
             1,
             "#f0f921"
            ]
           ],
           "sequentialminus": [
            [
             0,
             "#0d0887"
            ],
            [
             0.1111111111111111,
             "#46039f"
            ],
            [
             0.2222222222222222,
             "#7201a8"
            ],
            [
             0.3333333333333333,
             "#9c179e"
            ],
            [
             0.4444444444444444,
             "#bd3786"
            ],
            [
             0.5555555555555556,
             "#d8576b"
            ],
            [
             0.6666666666666666,
             "#ed7953"
            ],
            [
             0.7777777777777778,
             "#fb9f3a"
            ],
            [
             0.8888888888888888,
             "#fdca26"
            ],
            [
             1,
             "#f0f921"
            ]
           ]
          },
          "colorway": [
           "#636efa",
           "#EF553B",
           "#00cc96",
           "#ab63fa",
           "#FFA15A",
           "#19d3f3",
           "#FF6692",
           "#B6E880",
           "#FF97FF",
           "#FECB52"
          ],
          "font": {
           "color": "#2a3f5f"
          },
          "geo": {
           "bgcolor": "white",
           "lakecolor": "white",
           "landcolor": "#E5ECF6",
           "showlakes": true,
           "showland": true,
           "subunitcolor": "white"
          },
          "hoverlabel": {
           "align": "left"
          },
          "hovermode": "closest",
          "mapbox": {
           "style": "light"
          },
          "paper_bgcolor": "white",
          "plot_bgcolor": "#E5ECF6",
          "polar": {
           "angularaxis": {
            "gridcolor": "white",
            "linecolor": "white",
            "ticks": ""
           },
           "bgcolor": "#E5ECF6",
           "radialaxis": {
            "gridcolor": "white",
            "linecolor": "white",
            "ticks": ""
           }
          },
          "scene": {
           "xaxis": {
            "backgroundcolor": "#E5ECF6",
            "gridcolor": "white",
            "gridwidth": 2,
            "linecolor": "white",
            "showbackground": true,
            "ticks": "",
            "zerolinecolor": "white"
           },
           "yaxis": {
            "backgroundcolor": "#E5ECF6",
            "gridcolor": "white",
            "gridwidth": 2,
            "linecolor": "white",
            "showbackground": true,
            "ticks": "",
            "zerolinecolor": "white"
           },
           "zaxis": {
            "backgroundcolor": "#E5ECF6",
            "gridcolor": "white",
            "gridwidth": 2,
            "linecolor": "white",
            "showbackground": true,
            "ticks": "",
            "zerolinecolor": "white"
           }
          },
          "shapedefaults": {
           "line": {
            "color": "#2a3f5f"
           }
          },
          "ternary": {
           "aaxis": {
            "gridcolor": "white",
            "linecolor": "white",
            "ticks": ""
           },
           "baxis": {
            "gridcolor": "white",
            "linecolor": "white",
            "ticks": ""
           },
           "bgcolor": "#E5ECF6",
           "caxis": {
            "gridcolor": "white",
            "linecolor": "white",
            "ticks": ""
           }
          },
          "title": {
           "x": 0.05
          },
          "xaxis": {
           "automargin": true,
           "gridcolor": "white",
           "linecolor": "white",
           "ticks": "",
           "title": {
            "standoff": 15
           },
           "zerolinecolor": "white",
           "zerolinewidth": 2
          },
          "yaxis": {
           "automargin": true,
           "gridcolor": "white",
           "linecolor": "white",
           "ticks": "",
           "title": {
            "standoff": 15
           },
           "zerolinecolor": "white",
           "zerolinewidth": 2
          }
         }
        },
        "title": {
         "text": "Happiness-score landen 2013"
        }
       }
      },
      "text/html": [
       "<div>                            <div id=\"664055b5-c4aa-4859-9bf1-2d7fc383e053\" class=\"plotly-graph-div\" style=\"height:525px; width:100%;\"></div>            <script type=\"text/javascript\">                require([\"plotly\"], function(Plotly) {                    window.PLOTLYENV=window.PLOTLYENV || {};                                    if (document.getElementById(\"664055b5-c4aa-4859-9bf1-2d7fc383e053\")) {                    Plotly.newPlot(                        \"664055b5-c4aa-4859-9bf1-2d7fc383e053\",                        [{\"autocolorscale\":false,\"colorbar\":{\"title\":{\"text\":\"Happiness\"}},\"colorscale\":[[0.0,\"#000004\"],[0.1111111111111111,\"#1b0c41\"],[0.2222222222222222,\"#4a0c6b\"],[0.3333333333333333,\"#781c6d\"],[0.4444444444444444,\"#a52c60\"],[0.5555555555555556,\"#cf4446\"],[0.6666666666666666,\"#ed6925\"],[0.7777777777777778,\"#fb9b06\"],[0.8888888888888888,\"#f7d13d\"],[1.0,\"#fcffa4\"]],\"locations\":[\"AFG\",\"ALB\",\"DZA\",\"AGO\",\"ARG\",\"ARM\",\"AUS\",\"AUT\",\"AZE\",\"BHR\",\"BGD\",\"BLR\",\"BEL\",\"BEN\",null,\"BIH\",\"BWA\",\"BRA\",\"BGR\",\"BFA\",\"BDI\",\"KHM\",\"CMR\",\"CAN\",\"CAF\",\"TCD\",\"CHL\",\"CHN\",\"COL\",\"CRI\",\"HRV\",\"CYP\",\"CZE\",\"DNK\",\"DOM\",\"ECU\",\"EGY\",\"SLV\",\"EST\",\"SWZ\",\"ETH\",\"FIN\",\"FRA\",\"GAB\",\"GMB\",\"GEO\",\"DEU\",\"GHA\",\"GRC\",\"GTM\",\"GIN\",\"HTI\",\"HND\",\"HUN\",\"ISL\",\"IND\",\"IDN\",\"IRN\",\"IRQ\",\"IRL\",\"ISR\",\"ITA\",\"JAM\",\"JPN\",\"JOR\",\"KAZ\",\"KEN\",null,\"KWT\",\"KGZ\",null,\"LVA\",\"LBN\",\"LSO\",\"LBR\",\"LBY\",\"LTU\",\"LUX\",\"MDG\",\"MWI\",\"MYS\",\"MLI\",\"MRT\",\"MUS\",\"MEX\",\"MDA\",\"MNG\",\"MNE\",\"MAR\",\"MOZ\",\"MMR\",\"NAM\",\"NPL\",\"NLD\",\"NZL\",\"NIC\",\"NER\",\"NGA\",\"MKD\",\"NOR\",\"OMN\",\"PAK\",\"PAN\",\"PRY\",\"PER\",\"PHL\",\"POL\",\"PRT\",\"QAT\",\"ROU\",\"RUS\",\"RWA\",\"SAU\",\"SEN\",\"SRB\",\"SLE\",\"SGP\",\"SVK\",\"SVN\",\"SOM\",\"ZAF\",\"SSD\",\"ESP\",\"LKA\",\"SDN\",\"SWE\",\"CHE\",null,\"TWN\",\"TJK\",\"TZA\",\"THA\",\"TGO\",\"TTO\",\"TUN\",\"TKM\",\"UGA\",\"UKR\",\"ARE\",\"GBR\",\"USA\",\"URY\",\"UZB\",\"VEN\",\"YEM\",\"ZMB\",\"ZWE\"],\"marker\":{\"line\":{\"color\":\"darkgray\",\"width\":0.5}},\"reversescale\":false,\"text\":[\"Afghanistan\",\"Albania\",\"Algeria\",\"Angola\",\"Argentina\",\"Armenia\",\"Australia\",\"Austria\",\"Azerbaijan\",\"Bahrain\",\"Bangladesh\",\"Belarus\",\"Belgium\",\"Benin\",\"Bolivia\",\"Bosnia and Herzegovina\",\"Botswana\",\"Brazil\",\"Bulgaria\",\"Burkina Faso\",\"Burundi\",\"Cambodia\",\"Cameroon\",\"Canada\",\"Central African Republic\",\"Chad\",\"Chile\",\"China\",\"Colombia\",\"Costa Rica\",\"Croatia\",\"Cyprus\",\"Czechia\",\"Denmark\",\"Dominican Republic\",\"Ecuador\",\"Egypt\",\"El Salvador\",\"Estonia\",\"Eswatini\",\"Ethiopia\",\"Finland\",\"France\",\"Gabon\",\"Gambia\",\"Georgia\",\"Germany\",\"Ghana\",\"Greece\",\"Guatemala\",\"Guinea\",\"Haiti\",\"Honduras\",\"Hungary\",\"Iceland\",\"India\",\"Indonesia\",\"Iran\",\"Iraq\",\"Ireland\",\"Israel\",\"Italy\",\"Jamaica\",\"Japan\",\"Jordan\",\"Kazakhstan\",\"Kenya\",\"Kosovo\",\"Kuwait\",\"Kyrgyzstan\",\"Laos\",\"Latvia\",\"Lebanon\",\"Lesotho\",\"Liberia\",\"Libya\",\"Lithuania\",\"Luxembourg\",\"Madagascar\",\"Malawi\",\"Malaysia\",\"Mali\",\"Mauritania\",\"Mauritius\",\"Mexico\",\"Moldova\",\"Mongolia\",\"Montenegro\",\"Morocco\",\"Mozambique\",\"Myanmar\",\"Namibia\",\"Nepal\",\"Netherlands\",\"New Zealand\",\"Nicaragua\",\"Niger\",\"Nigeria\",\"North Macedonia\",\"Norway\",\"Oman\",\"Pakistan\",\"Panama\",\"Paraguay\",\"Peru\",\"Philippines\",\"Poland\",\"Portugal\",\"Qatar\",\"Romania\",\"Russia\",\"Rwanda\",\"Saudi Arabia\",\"Senegal\",\"Serbia\",\"Sierra Leone\",\"Singapore\",\"Slovakia\",\"Slovenia\",\"Somalia\",\"South Africa\",\"South Sudan\",\"Spain\",\"Sri Lanka\",\"Sudan\",\"Sweden\",\"Switzerland\",\"Syria\",\"Taiwan\",\"Tajikistan\",\"Tanzania\",\"Thailand\",\"Togo\",\"Trinidad and Tobago\",\"Tunisia\",\"Turkmenistan\",\"Uganda\",\"Ukraine\",\"United Arab Emirates\",\"United Kingdom\",\"United States\",\"Uruguay\",\"Uzbekistan\",\"Venezuela\",\"Yemen\",\"Zambia\",\"Zimbabwe\"],\"z\":[4.04,5.55,5.422,5.589,6.562,4.316,7.35,7.369,4.604,5.312,4.804,5.504,6.967,3.528,5.857,4.813,3.97,6.849,3.981,4.259,3.706,4.067,4.42,7.477,3.623,4.056,6.587,4.978,6.416,7.257,5.661,6.466,6.29,7.693,4.963,5.865,4.273,5.809,5.426,null,4.561,7.389,6.764,4.114,null,4.187,6.672,5.091,5.435,5.965,3.847,4.341,5.142,4.775,7.355,4.772,5.348,4.643,4.817,7.076,7.301,6.021,5.374,6.064,5.414,5.671,4.403,5.222,6.515,5.042,4.787,5.046,4.931,4.898,4.196,5.34,5.426,7.054,3.966,4.113,5.76,4.247,4.758,5.477,7.088,5.791,4.834,5.299,4.885,4.971,4.439,null,4.156,7.512,7.221,5.507,4.152,5.248,4.574,7.655,6.853,5.292,7.143,5.779,5.776,4.985,5.822,5.101,6.666,5.033,5.464,3.715,6.48,3.959,4.813,4.318,6.546,5.969,6.06,null,4.963,null,6.322,4.151,4.401,7.48,7.65,3.892,6.221,4.38,3.77,6.371,2.936,6.519,4.826,5.628,4.443,5.057,7.144,6.883,7.082,6.355,5.623,7.039,4.054,5.006,4.827],\"type\":\"choropleth\"}],                        {\"template\":{\"data\":{\"histogram2dcontour\":[{\"type\":\"histogram2dcontour\",\"colorbar\":{\"outlinewidth\":0,\"ticks\":\"\"},\"colorscale\":[[0.0,\"#0d0887\"],[0.1111111111111111,\"#46039f\"],[0.2222222222222222,\"#7201a8\"],[0.3333333333333333,\"#9c179e\"],[0.4444444444444444,\"#bd3786\"],[0.5555555555555556,\"#d8576b\"],[0.6666666666666666,\"#ed7953\"],[0.7777777777777778,\"#fb9f3a\"],[0.8888888888888888,\"#fdca26\"],[1.0,\"#f0f921\"]]}],\"choropleth\":[{\"type\":\"choropleth\",\"colorbar\":{\"outlinewidth\":0,\"ticks\":\"\"}}],\"histogram2d\":[{\"type\":\"histogram2d\",\"colorbar\":{\"outlinewidth\":0,\"ticks\":\"\"},\"colorscale\":[[0.0,\"#0d0887\"],[0.1111111111111111,\"#46039f\"],[0.2222222222222222,\"#7201a8\"],[0.3333333333333333,\"#9c179e\"],[0.4444444444444444,\"#bd3786\"],[0.5555555555555556,\"#d8576b\"],[0.6666666666666666,\"#ed7953\"],[0.7777777777777778,\"#fb9f3a\"],[0.8888888888888888,\"#fdca26\"],[1.0,\"#f0f921\"]]}],\"heatmap\":[{\"type\":\"heatmap\",\"colorbar\":{\"outlinewidth\":0,\"ticks\":\"\"},\"colorscale\":[[0.0,\"#0d0887\"],[0.1111111111111111,\"#46039f\"],[0.2222222222222222,\"#7201a8\"],[0.3333333333333333,\"#9c179e\"],[0.4444444444444444,\"#bd3786\"],[0.5555555555555556,\"#d8576b\"],[0.6666666666666666,\"#ed7953\"],[0.7777777777777778,\"#fb9f3a\"],[0.8888888888888888,\"#fdca26\"],[1.0,\"#f0f921\"]]}],\"heatmapgl\":[{\"type\":\"heatmapgl\",\"colorbar\":{\"outlinewidth\":0,\"ticks\":\"\"},\"colorscale\":[[0.0,\"#0d0887\"],[0.1111111111111111,\"#46039f\"],[0.2222222222222222,\"#7201a8\"],[0.3333333333333333,\"#9c179e\"],[0.4444444444444444,\"#bd3786\"],[0.5555555555555556,\"#d8576b\"],[0.6666666666666666,\"#ed7953\"],[0.7777777777777778,\"#fb9f3a\"],[0.8888888888888888,\"#fdca26\"],[1.0,\"#f0f921\"]]}],\"contourcarpet\":[{\"type\":\"contourcarpet\",\"colorbar\":{\"outlinewidth\":0,\"ticks\":\"\"}}],\"contour\":[{\"type\":\"contour\",\"colorbar\":{\"outlinewidth\":0,\"ticks\":\"\"},\"colorscale\":[[0.0,\"#0d0887\"],[0.1111111111111111,\"#46039f\"],[0.2222222222222222,\"#7201a8\"],[0.3333333333333333,\"#9c179e\"],[0.4444444444444444,\"#bd3786\"],[0.5555555555555556,\"#d8576b\"],[0.6666666666666666,\"#ed7953\"],[0.7777777777777778,\"#fb9f3a\"],[0.8888888888888888,\"#fdca26\"],[1.0,\"#f0f921\"]]}],\"surface\":[{\"type\":\"surface\",\"colorbar\":{\"outlinewidth\":0,\"ticks\":\"\"},\"colorscale\":[[0.0,\"#0d0887\"],[0.1111111111111111,\"#46039f\"],[0.2222222222222222,\"#7201a8\"],[0.3333333333333333,\"#9c179e\"],[0.4444444444444444,\"#bd3786\"],[0.5555555555555556,\"#d8576b\"],[0.6666666666666666,\"#ed7953\"],[0.7777777777777778,\"#fb9f3a\"],[0.8888888888888888,\"#fdca26\"],[1.0,\"#f0f921\"]]}],\"mesh3d\":[{\"type\":\"mesh3d\",\"colorbar\":{\"outlinewidth\":0,\"ticks\":\"\"}}],\"scatter\":[{\"fillpattern\":{\"fillmode\":\"overlay\",\"size\":10,\"solidity\":0.2},\"type\":\"scatter\"}],\"parcoords\":[{\"type\":\"parcoords\",\"line\":{\"colorbar\":{\"outlinewidth\":0,\"ticks\":\"\"}}}],\"scatterpolargl\":[{\"type\":\"scatterpolargl\",\"marker\":{\"colorbar\":{\"outlinewidth\":0,\"ticks\":\"\"}}}],\"bar\":[{\"error_x\":{\"color\":\"#2a3f5f\"},\"error_y\":{\"color\":\"#2a3f5f\"},\"marker\":{\"line\":{\"color\":\"#E5ECF6\",\"width\":0.5},\"pattern\":{\"fillmode\":\"overlay\",\"size\":10,\"solidity\":0.2}},\"type\":\"bar\"}],\"scattergeo\":[{\"type\":\"scattergeo\",\"marker\":{\"colorbar\":{\"outlinewidth\":0,\"ticks\":\"\"}}}],\"scatterpolar\":[{\"type\":\"scatterpolar\",\"marker\":{\"colorbar\":{\"outlinewidth\":0,\"ticks\":\"\"}}}],\"histogram\":[{\"marker\":{\"pattern\":{\"fillmode\":\"overlay\",\"size\":10,\"solidity\":0.2}},\"type\":\"histogram\"}],\"scattergl\":[{\"type\":\"scattergl\",\"marker\":{\"colorbar\":{\"outlinewidth\":0,\"ticks\":\"\"}}}],\"scatter3d\":[{\"type\":\"scatter3d\",\"line\":{\"colorbar\":{\"outlinewidth\":0,\"ticks\":\"\"}},\"marker\":{\"colorbar\":{\"outlinewidth\":0,\"ticks\":\"\"}}}],\"scattermapbox\":[{\"type\":\"scattermapbox\",\"marker\":{\"colorbar\":{\"outlinewidth\":0,\"ticks\":\"\"}}}],\"scatterternary\":[{\"type\":\"scatterternary\",\"marker\":{\"colorbar\":{\"outlinewidth\":0,\"ticks\":\"\"}}}],\"scattercarpet\":[{\"type\":\"scattercarpet\",\"marker\":{\"colorbar\":{\"outlinewidth\":0,\"ticks\":\"\"}}}],\"carpet\":[{\"aaxis\":{\"endlinecolor\":\"#2a3f5f\",\"gridcolor\":\"white\",\"linecolor\":\"white\",\"minorgridcolor\":\"white\",\"startlinecolor\":\"#2a3f5f\"},\"baxis\":{\"endlinecolor\":\"#2a3f5f\",\"gridcolor\":\"white\",\"linecolor\":\"white\",\"minorgridcolor\":\"white\",\"startlinecolor\":\"#2a3f5f\"},\"type\":\"carpet\"}],\"table\":[{\"cells\":{\"fill\":{\"color\":\"#EBF0F8\"},\"line\":{\"color\":\"white\"}},\"header\":{\"fill\":{\"color\":\"#C8D4E3\"},\"line\":{\"color\":\"white\"}},\"type\":\"table\"}],\"barpolar\":[{\"marker\":{\"line\":{\"color\":\"#E5ECF6\",\"width\":0.5},\"pattern\":{\"fillmode\":\"overlay\",\"size\":10,\"solidity\":0.2}},\"type\":\"barpolar\"}],\"pie\":[{\"automargin\":true,\"type\":\"pie\"}]},\"layout\":{\"autotypenumbers\":\"strict\",\"colorway\":[\"#636efa\",\"#EF553B\",\"#00cc96\",\"#ab63fa\",\"#FFA15A\",\"#19d3f3\",\"#FF6692\",\"#B6E880\",\"#FF97FF\",\"#FECB52\"],\"font\":{\"color\":\"#2a3f5f\"},\"hovermode\":\"closest\",\"hoverlabel\":{\"align\":\"left\"},\"paper_bgcolor\":\"white\",\"plot_bgcolor\":\"#E5ECF6\",\"polar\":{\"bgcolor\":\"#E5ECF6\",\"angularaxis\":{\"gridcolor\":\"white\",\"linecolor\":\"white\",\"ticks\":\"\"},\"radialaxis\":{\"gridcolor\":\"white\",\"linecolor\":\"white\",\"ticks\":\"\"}},\"ternary\":{\"bgcolor\":\"#E5ECF6\",\"aaxis\":{\"gridcolor\":\"white\",\"linecolor\":\"white\",\"ticks\":\"\"},\"baxis\":{\"gridcolor\":\"white\",\"linecolor\":\"white\",\"ticks\":\"\"},\"caxis\":{\"gridcolor\":\"white\",\"linecolor\":\"white\",\"ticks\":\"\"}},\"coloraxis\":{\"colorbar\":{\"outlinewidth\":0,\"ticks\":\"\"}},\"colorscale\":{\"sequential\":[[0.0,\"#0d0887\"],[0.1111111111111111,\"#46039f\"],[0.2222222222222222,\"#7201a8\"],[0.3333333333333333,\"#9c179e\"],[0.4444444444444444,\"#bd3786\"],[0.5555555555555556,\"#d8576b\"],[0.6666666666666666,\"#ed7953\"],[0.7777777777777778,\"#fb9f3a\"],[0.8888888888888888,\"#fdca26\"],[1.0,\"#f0f921\"]],\"sequentialminus\":[[0.0,\"#0d0887\"],[0.1111111111111111,\"#46039f\"],[0.2222222222222222,\"#7201a8\"],[0.3333333333333333,\"#9c179e\"],[0.4444444444444444,\"#bd3786\"],[0.5555555555555556,\"#d8576b\"],[0.6666666666666666,\"#ed7953\"],[0.7777777777777778,\"#fb9f3a\"],[0.8888888888888888,\"#fdca26\"],[1.0,\"#f0f921\"]],\"diverging\":[[0,\"#8e0152\"],[0.1,\"#c51b7d\"],[0.2,\"#de77ae\"],[0.3,\"#f1b6da\"],[0.4,\"#fde0ef\"],[0.5,\"#f7f7f7\"],[0.6,\"#e6f5d0\"],[0.7,\"#b8e186\"],[0.8,\"#7fbc41\"],[0.9,\"#4d9221\"],[1,\"#276419\"]]},\"xaxis\":{\"gridcolor\":\"white\",\"linecolor\":\"white\",\"ticks\":\"\",\"title\":{\"standoff\":15},\"zerolinecolor\":\"white\",\"automargin\":true,\"zerolinewidth\":2},\"yaxis\":{\"gridcolor\":\"white\",\"linecolor\":\"white\",\"ticks\":\"\",\"title\":{\"standoff\":15},\"zerolinecolor\":\"white\",\"automargin\":true,\"zerolinewidth\":2},\"scene\":{\"xaxis\":{\"backgroundcolor\":\"#E5ECF6\",\"gridcolor\":\"white\",\"linecolor\":\"white\",\"showbackground\":true,\"ticks\":\"\",\"zerolinecolor\":\"white\",\"gridwidth\":2},\"yaxis\":{\"backgroundcolor\":\"#E5ECF6\",\"gridcolor\":\"white\",\"linecolor\":\"white\",\"showbackground\":true,\"ticks\":\"\",\"zerolinecolor\":\"white\",\"gridwidth\":2},\"zaxis\":{\"backgroundcolor\":\"#E5ECF6\",\"gridcolor\":\"white\",\"linecolor\":\"white\",\"showbackground\":true,\"ticks\":\"\",\"zerolinecolor\":\"white\",\"gridwidth\":2}},\"shapedefaults\":{\"line\":{\"color\":\"#2a3f5f\"}},\"annotationdefaults\":{\"arrowcolor\":\"#2a3f5f\",\"arrowhead\":0,\"arrowwidth\":1},\"geo\":{\"bgcolor\":\"white\",\"landcolor\":\"#E5ECF6\",\"subunitcolor\":\"white\",\"showland\":true,\"showlakes\":true,\"lakecolor\":\"white\"},\"title\":{\"x\":0.05},\"mapbox\":{\"style\":\"light\"}}},\"title\":{\"text\":\"Happiness-score landen 2013\"},\"annotations\":[{\"showarrow\":false,\"text\":\"Deze kaart weergeeft de happiness index-score van de landen opgenomen in het onderzoek van de VN in 2013\",\"x\":0.5,\"xref\":\"paper\",\"y\":-0.25,\"yref\":\"paper\"}]},                        {\"responsive\": true}                    ).then(function(){\n",
       "                            \n",
       "var gd = document.getElementById('664055b5-c4aa-4859-9bf1-2d7fc383e053');\n",
       "var x = new MutationObserver(function (mutations, observer) {{\n",
       "        var display = window.getComputedStyle(gd).display;\n",
       "        if (!display || display === 'none') {{\n",
       "            console.log([gd, 'removed!']);\n",
       "            Plotly.purge(gd);\n",
       "            observer.disconnect();\n",
       "        }}\n",
       "}});\n",
       "\n",
       "// Listen for the removal of the full notebook cells\n",
       "var notebookContainer = gd.closest('#notebook-container');\n",
       "if (notebookContainer) {{\n",
       "    x.observe(notebookContainer, {childList: true});\n",
       "}}\n",
       "\n",
       "// Listen for the clearing of the current output cell\n",
       "var outputEl = gd.closest('.output');\n",
       "if (outputEl) {{\n",
       "    x.observe(outputEl, {childList: true});\n",
       "}}\n",
       "\n",
       "                        })                };                });            </script>        </div>"
      ]
     },
     "metadata": {},
     "output_type": "display_data"
    }
   ],
   "source": [
    "fig2.show()\n",
    "#In de onderstaande afbeelding is per land te zien wat de gemiddelde happiness score is in 2013."
   ]
  },
  {
   "cell_type": "code",
   "execution_count": 17,
   "id": "539c4ab2",
   "metadata": {},
   "outputs": [
    {
     "data": {
      "application/vnd.plotly.v1+json": {
       "config": {
        "plotlyServerURL": "https://plot.ly"
       },
       "data": [
        {
         "autocolorscale": false,
         "colorbar": {
          "title": {
           "text": "Happiness"
          }
         },
         "colorscale": [
          [
           0,
           "#000004"
          ],
          [
           0.1111111111111111,
           "#1b0c41"
          ],
          [
           0.2222222222222222,
           "#4a0c6b"
          ],
          [
           0.3333333333333333,
           "#781c6d"
          ],
          [
           0.4444444444444444,
           "#a52c60"
          ],
          [
           0.5555555555555556,
           "#cf4446"
          ],
          [
           0.6666666666666666,
           "#ed6925"
          ],
          [
           0.7777777777777778,
           "#fb9b06"
          ],
          [
           0.8888888888888888,
           "#f7d13d"
          ],
          [
           1,
           "#fcffa4"
          ]
         ],
         "locations": [
          "AFG",
          "ALB",
          "DZA",
          "AGO",
          "ARG",
          "ARM",
          "AUS",
          "AUT",
          "AZE",
          "BHR",
          "BGD",
          "BLR",
          "BEL",
          "BEN",
          null,
          "BIH",
          "BWA",
          "BRA",
          "BGR",
          "BFA",
          "BDI",
          "KHM",
          "CMR",
          "CAN",
          "CAF",
          "TCD",
          "CHL",
          "CHN",
          "COL",
          "CRI",
          "HRV",
          "CYP",
          "CZE",
          "DNK",
          "DOM",
          "ECU",
          "EGY",
          "SLV",
          "EST",
          "SWZ",
          "ETH",
          "FIN",
          "FRA",
          "GAB",
          "GMB",
          "GEO",
          "DEU",
          "GHA",
          "GRC",
          "GTM",
          "GIN",
          "HTI",
          "HND",
          "HUN",
          "ISL",
          "IND",
          "IDN",
          "IRN",
          "IRQ",
          "IRL",
          "ISR",
          "ITA",
          "JAM",
          "JPN",
          "JOR",
          "KAZ",
          "KEN",
          null,
          "KWT",
          "KGZ",
          null,
          "LVA",
          "LBN",
          "LSO",
          "LBR",
          "LBY",
          "LTU",
          "LUX",
          "MDG",
          "MWI",
          "MYS",
          "MLI",
          "MRT",
          "MUS",
          "MEX",
          "MDA",
          "MNG",
          "MNE",
          "MAR",
          "MOZ",
          "MMR",
          "NAM",
          "NPL",
          "NLD",
          "NZL",
          "NIC",
          "NER",
          "NGA",
          "MKD",
          "NOR",
          "OMN",
          "PAK",
          "PAN",
          "PRY",
          "PER",
          "PHL",
          "POL",
          "PRT",
          "QAT",
          "ROU",
          "RUS",
          "RWA",
          "SAU",
          "SEN",
          "SRB",
          "SLE",
          "SGP",
          "SVK",
          "SVN",
          "SOM",
          "ZAF",
          "SSD",
          "ESP",
          "LKA",
          "SDN",
          "SWE",
          "CHE",
          null,
          "TWN",
          "TJK",
          "TZA",
          "THA",
          "TGO",
          "TTO",
          "TUN",
          "TKM",
          "UGA",
          "UKR",
          "ARE",
          "GBR",
          "USA",
          "URY",
          "UZB",
          "VEN",
          "YEM",
          "ZMB",
          "ZWE"
         ],
         "marker": {
          "line": {
           "color": "darkgray",
           "width": 0.5
          }
         },
         "reversescale": false,
         "text": [
          "Afghanistan",
          "Albania",
          "Algeria",
          "Angola",
          "Argentina",
          "Armenia",
          "Australia",
          "Austria",
          "Azerbaijan",
          "Bahrain",
          "Bangladesh",
          "Belarus",
          "Belgium",
          "Benin",
          "Bolivia",
          "Bosnia and Herzegovina",
          "Botswana",
          "Brazil",
          "Bulgaria",
          "Burkina Faso",
          "Burundi",
          "Cambodia",
          "Cameroon",
          "Canada",
          "Central African Republic",
          "Chad",
          "Chile",
          "China",
          "Colombia",
          "Costa Rica",
          "Croatia",
          "Cyprus",
          "Czechia",
          "Denmark",
          "Dominican Republic",
          "Ecuador",
          "Egypt",
          "El Salvador",
          "Estonia",
          "Eswatini",
          "Ethiopia",
          "Finland",
          "France",
          "Gabon",
          "Gambia",
          "Georgia",
          "Germany",
          "Ghana",
          "Greece",
          "Guatemala",
          "Guinea",
          "Haiti",
          "Honduras",
          "Hungary",
          "Iceland",
          "India",
          "Indonesia",
          "Iran",
          "Iraq",
          "Ireland",
          "Israel",
          "Italy",
          "Jamaica",
          "Japan",
          "Jordan",
          "Kazakhstan",
          "Kenya",
          "Kosovo",
          "Kuwait",
          "Kyrgyzstan",
          "Laos",
          "Latvia",
          "Lebanon",
          "Lesotho",
          "Liberia",
          "Libya",
          "Lithuania",
          "Luxembourg",
          "Madagascar",
          "Malawi",
          "Malaysia",
          "Mali",
          "Mauritania",
          "Mauritius",
          "Mexico",
          "Moldova",
          "Mongolia",
          "Montenegro",
          "Morocco",
          "Mozambique",
          "Myanmar",
          "Namibia",
          "Nepal",
          "Netherlands",
          "New Zealand",
          "Nicaragua",
          "Niger",
          "Nigeria",
          "North Macedonia",
          "Norway",
          "Oman",
          "Pakistan",
          "Panama",
          "Paraguay",
          "Peru",
          "Philippines",
          "Poland",
          "Portugal",
          "Qatar",
          "Romania",
          "Russia",
          "Rwanda",
          "Saudi Arabia",
          "Senegal",
          "Serbia",
          "Sierra Leone",
          "Singapore",
          "Slovakia",
          "Slovenia",
          "Somalia",
          "South Africa",
          "South Sudan",
          "Spain",
          "Sri Lanka",
          "Sudan",
          "Sweden",
          "Switzerland",
          "Syria",
          "Taiwan",
          "Tajikistan",
          "Tanzania",
          "Thailand",
          "Togo",
          "Trinidad and Tobago",
          "Tunisia",
          "Turkmenistan",
          "Uganda",
          "Ukraine",
          "United Arab Emirates",
          "United Kingdom",
          "United States",
          "Uruguay",
          "Uzbekistan",
          "Venezuela",
          "Yemen",
          "Zambia",
          "Zimbabwe"
         ],
         "type": "choropleth",
         "z": [
          2.567,
          4.883,
          5.005,
          null,
          5.975,
          4.677,
          7.223,
          7.294,
          5.165,
          6.227,
          4.833,
          5.54,
          6.864,
          5.216,
          5.747,
          5.674,
          3.479,
          6.376,
          5.102,
          4.769,
          3.775,
          4.848,
          5.085,
          7.232,
          3.476,
          4.423,
          6.228,
          5.124,
          6.163,
          7.121,
          5.505,
          6.159,
          6.911,
          7.646,
          5.689,
          5.925,
          4.151,
          6.348,
          6.022,
          null,
          4.186,
          7.809,
          6.664,
          4.829,
          4.751,
          4.673,
          7.076,
          5.148,
          5.515,
          6.399,
          4.949,
          3.721,
          5.953,
          6,
          7.504,
          3.573,
          5.286,
          4.672,
          4.785,
          7.094,
          7.129,
          6.387,
          5.89,
          5.871,
          4.633,
          6.058,
          4.583,
          6.325,
          6.102,
          5.542,
          4.889,
          5.95,
          4.772,
          3.653,
          4.558,
          5.489,
          6.215,
          7.238,
          4.166,
          3.538,
          5.384,
          4.729,
          4.375,
          6.101,
          6.465,
          5.608,
          5.456,
          5.546,
          5.095,
          4.624,
          4.308,
          4.571,
          5.137,
          7.449,
          7.3,
          6.137,
          4.91,
          4.724,
          5.16,
          7.488,
          null,
          5.693,
          6.305,
          5.692,
          5.797,
          6.006,
          6.186,
          5.911,
          null,
          6.124,
          5.546,
          3.312,
          6.406,
          4.981,
          5.778,
          3.926,
          6.377,
          6.281,
          6.363,
          null,
          4.814,
          2.817,
          6.401,
          4.327,
          null,
          7.353,
          7.56,
          null,
          6.455,
          5.556,
          3.476,
          5.999,
          4.187,
          6.192,
          4.392,
          5.119,
          4.432,
          4.561,
          6.791,
          7.165,
          6.94,
          6.44,
          6.258,
          5.053,
          3.527,
          3.759,
          3.299
         ]
        }
       ],
       "layout": {
        "annotations": [
         {
          "showarrow": false,
          "text": "Deze kaart weergeeft de happiness index-score van de landen opgenomen in het onderzoek van de VN in 2020",
          "x": 0.5,
          "xref": "paper",
          "y": -0.25,
          "yref": "paper"
         }
        ],
        "template": {
         "data": {
          "bar": [
           {
            "error_x": {
             "color": "#2a3f5f"
            },
            "error_y": {
             "color": "#2a3f5f"
            },
            "marker": {
             "line": {
              "color": "#E5ECF6",
              "width": 0.5
             },
             "pattern": {
              "fillmode": "overlay",
              "size": 10,
              "solidity": 0.2
             }
            },
            "type": "bar"
           }
          ],
          "barpolar": [
           {
            "marker": {
             "line": {
              "color": "#E5ECF6",
              "width": 0.5
             },
             "pattern": {
              "fillmode": "overlay",
              "size": 10,
              "solidity": 0.2
             }
            },
            "type": "barpolar"
           }
          ],
          "carpet": [
           {
            "aaxis": {
             "endlinecolor": "#2a3f5f",
             "gridcolor": "white",
             "linecolor": "white",
             "minorgridcolor": "white",
             "startlinecolor": "#2a3f5f"
            },
            "baxis": {
             "endlinecolor": "#2a3f5f",
             "gridcolor": "white",
             "linecolor": "white",
             "minorgridcolor": "white",
             "startlinecolor": "#2a3f5f"
            },
            "type": "carpet"
           }
          ],
          "choropleth": [
           {
            "colorbar": {
             "outlinewidth": 0,
             "ticks": ""
            },
            "type": "choropleth"
           }
          ],
          "contour": [
           {
            "colorbar": {
             "outlinewidth": 0,
             "ticks": ""
            },
            "colorscale": [
             [
              0,
              "#0d0887"
             ],
             [
              0.1111111111111111,
              "#46039f"
             ],
             [
              0.2222222222222222,
              "#7201a8"
             ],
             [
              0.3333333333333333,
              "#9c179e"
             ],
             [
              0.4444444444444444,
              "#bd3786"
             ],
             [
              0.5555555555555556,
              "#d8576b"
             ],
             [
              0.6666666666666666,
              "#ed7953"
             ],
             [
              0.7777777777777778,
              "#fb9f3a"
             ],
             [
              0.8888888888888888,
              "#fdca26"
             ],
             [
              1,
              "#f0f921"
             ]
            ],
            "type": "contour"
           }
          ],
          "contourcarpet": [
           {
            "colorbar": {
             "outlinewidth": 0,
             "ticks": ""
            },
            "type": "contourcarpet"
           }
          ],
          "heatmap": [
           {
            "colorbar": {
             "outlinewidth": 0,
             "ticks": ""
            },
            "colorscale": [
             [
              0,
              "#0d0887"
             ],
             [
              0.1111111111111111,
              "#46039f"
             ],
             [
              0.2222222222222222,
              "#7201a8"
             ],
             [
              0.3333333333333333,
              "#9c179e"
             ],
             [
              0.4444444444444444,
              "#bd3786"
             ],
             [
              0.5555555555555556,
              "#d8576b"
             ],
             [
              0.6666666666666666,
              "#ed7953"
             ],
             [
              0.7777777777777778,
              "#fb9f3a"
             ],
             [
              0.8888888888888888,
              "#fdca26"
             ],
             [
              1,
              "#f0f921"
             ]
            ],
            "type": "heatmap"
           }
          ],
          "heatmapgl": [
           {
            "colorbar": {
             "outlinewidth": 0,
             "ticks": ""
            },
            "colorscale": [
             [
              0,
              "#0d0887"
             ],
             [
              0.1111111111111111,
              "#46039f"
             ],
             [
              0.2222222222222222,
              "#7201a8"
             ],
             [
              0.3333333333333333,
              "#9c179e"
             ],
             [
              0.4444444444444444,
              "#bd3786"
             ],
             [
              0.5555555555555556,
              "#d8576b"
             ],
             [
              0.6666666666666666,
              "#ed7953"
             ],
             [
              0.7777777777777778,
              "#fb9f3a"
             ],
             [
              0.8888888888888888,
              "#fdca26"
             ],
             [
              1,
              "#f0f921"
             ]
            ],
            "type": "heatmapgl"
           }
          ],
          "histogram": [
           {
            "marker": {
             "pattern": {
              "fillmode": "overlay",
              "size": 10,
              "solidity": 0.2
             }
            },
            "type": "histogram"
           }
          ],
          "histogram2d": [
           {
            "colorbar": {
             "outlinewidth": 0,
             "ticks": ""
            },
            "colorscale": [
             [
              0,
              "#0d0887"
             ],
             [
              0.1111111111111111,
              "#46039f"
             ],
             [
              0.2222222222222222,
              "#7201a8"
             ],
             [
              0.3333333333333333,
              "#9c179e"
             ],
             [
              0.4444444444444444,
              "#bd3786"
             ],
             [
              0.5555555555555556,
              "#d8576b"
             ],
             [
              0.6666666666666666,
              "#ed7953"
             ],
             [
              0.7777777777777778,
              "#fb9f3a"
             ],
             [
              0.8888888888888888,
              "#fdca26"
             ],
             [
              1,
              "#f0f921"
             ]
            ],
            "type": "histogram2d"
           }
          ],
          "histogram2dcontour": [
           {
            "colorbar": {
             "outlinewidth": 0,
             "ticks": ""
            },
            "colorscale": [
             [
              0,
              "#0d0887"
             ],
             [
              0.1111111111111111,
              "#46039f"
             ],
             [
              0.2222222222222222,
              "#7201a8"
             ],
             [
              0.3333333333333333,
              "#9c179e"
             ],
             [
              0.4444444444444444,
              "#bd3786"
             ],
             [
              0.5555555555555556,
              "#d8576b"
             ],
             [
              0.6666666666666666,
              "#ed7953"
             ],
             [
              0.7777777777777778,
              "#fb9f3a"
             ],
             [
              0.8888888888888888,
              "#fdca26"
             ],
             [
              1,
              "#f0f921"
             ]
            ],
            "type": "histogram2dcontour"
           }
          ],
          "mesh3d": [
           {
            "colorbar": {
             "outlinewidth": 0,
             "ticks": ""
            },
            "type": "mesh3d"
           }
          ],
          "parcoords": [
           {
            "line": {
             "colorbar": {
              "outlinewidth": 0,
              "ticks": ""
             }
            },
            "type": "parcoords"
           }
          ],
          "pie": [
           {
            "automargin": true,
            "type": "pie"
           }
          ],
          "scatter": [
           {
            "fillpattern": {
             "fillmode": "overlay",
             "size": 10,
             "solidity": 0.2
            },
            "type": "scatter"
           }
          ],
          "scatter3d": [
           {
            "line": {
             "colorbar": {
              "outlinewidth": 0,
              "ticks": ""
             }
            },
            "marker": {
             "colorbar": {
              "outlinewidth": 0,
              "ticks": ""
             }
            },
            "type": "scatter3d"
           }
          ],
          "scattercarpet": [
           {
            "marker": {
             "colorbar": {
              "outlinewidth": 0,
              "ticks": ""
             }
            },
            "type": "scattercarpet"
           }
          ],
          "scattergeo": [
           {
            "marker": {
             "colorbar": {
              "outlinewidth": 0,
              "ticks": ""
             }
            },
            "type": "scattergeo"
           }
          ],
          "scattergl": [
           {
            "marker": {
             "colorbar": {
              "outlinewidth": 0,
              "ticks": ""
             }
            },
            "type": "scattergl"
           }
          ],
          "scattermapbox": [
           {
            "marker": {
             "colorbar": {
              "outlinewidth": 0,
              "ticks": ""
             }
            },
            "type": "scattermapbox"
           }
          ],
          "scatterpolar": [
           {
            "marker": {
             "colorbar": {
              "outlinewidth": 0,
              "ticks": ""
             }
            },
            "type": "scatterpolar"
           }
          ],
          "scatterpolargl": [
           {
            "marker": {
             "colorbar": {
              "outlinewidth": 0,
              "ticks": ""
             }
            },
            "type": "scatterpolargl"
           }
          ],
          "scatterternary": [
           {
            "marker": {
             "colorbar": {
              "outlinewidth": 0,
              "ticks": ""
             }
            },
            "type": "scatterternary"
           }
          ],
          "surface": [
           {
            "colorbar": {
             "outlinewidth": 0,
             "ticks": ""
            },
            "colorscale": [
             [
              0,
              "#0d0887"
             ],
             [
              0.1111111111111111,
              "#46039f"
             ],
             [
              0.2222222222222222,
              "#7201a8"
             ],
             [
              0.3333333333333333,
              "#9c179e"
             ],
             [
              0.4444444444444444,
              "#bd3786"
             ],
             [
              0.5555555555555556,
              "#d8576b"
             ],
             [
              0.6666666666666666,
              "#ed7953"
             ],
             [
              0.7777777777777778,
              "#fb9f3a"
             ],
             [
              0.8888888888888888,
              "#fdca26"
             ],
             [
              1,
              "#f0f921"
             ]
            ],
            "type": "surface"
           }
          ],
          "table": [
           {
            "cells": {
             "fill": {
              "color": "#EBF0F8"
             },
             "line": {
              "color": "white"
             }
            },
            "header": {
             "fill": {
              "color": "#C8D4E3"
             },
             "line": {
              "color": "white"
             }
            },
            "type": "table"
           }
          ]
         },
         "layout": {
          "annotationdefaults": {
           "arrowcolor": "#2a3f5f",
           "arrowhead": 0,
           "arrowwidth": 1
          },
          "autotypenumbers": "strict",
          "coloraxis": {
           "colorbar": {
            "outlinewidth": 0,
            "ticks": ""
           }
          },
          "colorscale": {
           "diverging": [
            [
             0,
             "#8e0152"
            ],
            [
             0.1,
             "#c51b7d"
            ],
            [
             0.2,
             "#de77ae"
            ],
            [
             0.3,
             "#f1b6da"
            ],
            [
             0.4,
             "#fde0ef"
            ],
            [
             0.5,
             "#f7f7f7"
            ],
            [
             0.6,
             "#e6f5d0"
            ],
            [
             0.7,
             "#b8e186"
            ],
            [
             0.8,
             "#7fbc41"
            ],
            [
             0.9,
             "#4d9221"
            ],
            [
             1,
             "#276419"
            ]
           ],
           "sequential": [
            [
             0,
             "#0d0887"
            ],
            [
             0.1111111111111111,
             "#46039f"
            ],
            [
             0.2222222222222222,
             "#7201a8"
            ],
            [
             0.3333333333333333,
             "#9c179e"
            ],
            [
             0.4444444444444444,
             "#bd3786"
            ],
            [
             0.5555555555555556,
             "#d8576b"
            ],
            [
             0.6666666666666666,
             "#ed7953"
            ],
            [
             0.7777777777777778,
             "#fb9f3a"
            ],
            [
             0.8888888888888888,
             "#fdca26"
            ],
            [
             1,
             "#f0f921"
            ]
           ],
           "sequentialminus": [
            [
             0,
             "#0d0887"
            ],
            [
             0.1111111111111111,
             "#46039f"
            ],
            [
             0.2222222222222222,
             "#7201a8"
            ],
            [
             0.3333333333333333,
             "#9c179e"
            ],
            [
             0.4444444444444444,
             "#bd3786"
            ],
            [
             0.5555555555555556,
             "#d8576b"
            ],
            [
             0.6666666666666666,
             "#ed7953"
            ],
            [
             0.7777777777777778,
             "#fb9f3a"
            ],
            [
             0.8888888888888888,
             "#fdca26"
            ],
            [
             1,
             "#f0f921"
            ]
           ]
          },
          "colorway": [
           "#636efa",
           "#EF553B",
           "#00cc96",
           "#ab63fa",
           "#FFA15A",
           "#19d3f3",
           "#FF6692",
           "#B6E880",
           "#FF97FF",
           "#FECB52"
          ],
          "font": {
           "color": "#2a3f5f"
          },
          "geo": {
           "bgcolor": "white",
           "lakecolor": "white",
           "landcolor": "#E5ECF6",
           "showlakes": true,
           "showland": true,
           "subunitcolor": "white"
          },
          "hoverlabel": {
           "align": "left"
          },
          "hovermode": "closest",
          "mapbox": {
           "style": "light"
          },
          "paper_bgcolor": "white",
          "plot_bgcolor": "#E5ECF6",
          "polar": {
           "angularaxis": {
            "gridcolor": "white",
            "linecolor": "white",
            "ticks": ""
           },
           "bgcolor": "#E5ECF6",
           "radialaxis": {
            "gridcolor": "white",
            "linecolor": "white",
            "ticks": ""
           }
          },
          "scene": {
           "xaxis": {
            "backgroundcolor": "#E5ECF6",
            "gridcolor": "white",
            "gridwidth": 2,
            "linecolor": "white",
            "showbackground": true,
            "ticks": "",
            "zerolinecolor": "white"
           },
           "yaxis": {
            "backgroundcolor": "#E5ECF6",
            "gridcolor": "white",
            "gridwidth": 2,
            "linecolor": "white",
            "showbackground": true,
            "ticks": "",
            "zerolinecolor": "white"
           },
           "zaxis": {
            "backgroundcolor": "#E5ECF6",
            "gridcolor": "white",
            "gridwidth": 2,
            "linecolor": "white",
            "showbackground": true,
            "ticks": "",
            "zerolinecolor": "white"
           }
          },
          "shapedefaults": {
           "line": {
            "color": "#2a3f5f"
           }
          },
          "ternary": {
           "aaxis": {
            "gridcolor": "white",
            "linecolor": "white",
            "ticks": ""
           },
           "baxis": {
            "gridcolor": "white",
            "linecolor": "white",
            "ticks": ""
           },
           "bgcolor": "#E5ECF6",
           "caxis": {
            "gridcolor": "white",
            "linecolor": "white",
            "ticks": ""
           }
          },
          "title": {
           "x": 0.05
          },
          "xaxis": {
           "automargin": true,
           "gridcolor": "white",
           "linecolor": "white",
           "ticks": "",
           "title": {
            "standoff": 15
           },
           "zerolinecolor": "white",
           "zerolinewidth": 2
          },
          "yaxis": {
           "automargin": true,
           "gridcolor": "white",
           "linecolor": "white",
           "ticks": "",
           "title": {
            "standoff": 15
           },
           "zerolinecolor": "white",
           "zerolinewidth": 2
          }
         }
        },
        "title": {
         "text": "Happiness-score landen 2020"
        }
       }
      },
      "text/html": [
       "<div>                            <div id=\"1268f433-b1b7-478a-b4fb-3b77874feeee\" class=\"plotly-graph-div\" style=\"height:525px; width:100%;\"></div>            <script type=\"text/javascript\">                require([\"plotly\"], function(Plotly) {                    window.PLOTLYENV=window.PLOTLYENV || {};                                    if (document.getElementById(\"1268f433-b1b7-478a-b4fb-3b77874feeee\")) {                    Plotly.newPlot(                        \"1268f433-b1b7-478a-b4fb-3b77874feeee\",                        [{\"autocolorscale\":false,\"colorbar\":{\"title\":{\"text\":\"Happiness\"}},\"colorscale\":[[0.0,\"#000004\"],[0.1111111111111111,\"#1b0c41\"],[0.2222222222222222,\"#4a0c6b\"],[0.3333333333333333,\"#781c6d\"],[0.4444444444444444,\"#a52c60\"],[0.5555555555555556,\"#cf4446\"],[0.6666666666666666,\"#ed6925\"],[0.7777777777777778,\"#fb9b06\"],[0.8888888888888888,\"#f7d13d\"],[1.0,\"#fcffa4\"]],\"locations\":[\"AFG\",\"ALB\",\"DZA\",\"AGO\",\"ARG\",\"ARM\",\"AUS\",\"AUT\",\"AZE\",\"BHR\",\"BGD\",\"BLR\",\"BEL\",\"BEN\",null,\"BIH\",\"BWA\",\"BRA\",\"BGR\",\"BFA\",\"BDI\",\"KHM\",\"CMR\",\"CAN\",\"CAF\",\"TCD\",\"CHL\",\"CHN\",\"COL\",\"CRI\",\"HRV\",\"CYP\",\"CZE\",\"DNK\",\"DOM\",\"ECU\",\"EGY\",\"SLV\",\"EST\",\"SWZ\",\"ETH\",\"FIN\",\"FRA\",\"GAB\",\"GMB\",\"GEO\",\"DEU\",\"GHA\",\"GRC\",\"GTM\",\"GIN\",\"HTI\",\"HND\",\"HUN\",\"ISL\",\"IND\",\"IDN\",\"IRN\",\"IRQ\",\"IRL\",\"ISR\",\"ITA\",\"JAM\",\"JPN\",\"JOR\",\"KAZ\",\"KEN\",null,\"KWT\",\"KGZ\",null,\"LVA\",\"LBN\",\"LSO\",\"LBR\",\"LBY\",\"LTU\",\"LUX\",\"MDG\",\"MWI\",\"MYS\",\"MLI\",\"MRT\",\"MUS\",\"MEX\",\"MDA\",\"MNG\",\"MNE\",\"MAR\",\"MOZ\",\"MMR\",\"NAM\",\"NPL\",\"NLD\",\"NZL\",\"NIC\",\"NER\",\"NGA\",\"MKD\",\"NOR\",\"OMN\",\"PAK\",\"PAN\",\"PRY\",\"PER\",\"PHL\",\"POL\",\"PRT\",\"QAT\",\"ROU\",\"RUS\",\"RWA\",\"SAU\",\"SEN\",\"SRB\",\"SLE\",\"SGP\",\"SVK\",\"SVN\",\"SOM\",\"ZAF\",\"SSD\",\"ESP\",\"LKA\",\"SDN\",\"SWE\",\"CHE\",null,\"TWN\",\"TJK\",\"TZA\",\"THA\",\"TGO\",\"TTO\",\"TUN\",\"TKM\",\"UGA\",\"UKR\",\"ARE\",\"GBR\",\"USA\",\"URY\",\"UZB\",\"VEN\",\"YEM\",\"ZMB\",\"ZWE\"],\"marker\":{\"line\":{\"color\":\"darkgray\",\"width\":0.5}},\"reversescale\":false,\"text\":[\"Afghanistan\",\"Albania\",\"Algeria\",\"Angola\",\"Argentina\",\"Armenia\",\"Australia\",\"Austria\",\"Azerbaijan\",\"Bahrain\",\"Bangladesh\",\"Belarus\",\"Belgium\",\"Benin\",\"Bolivia\",\"Bosnia and Herzegovina\",\"Botswana\",\"Brazil\",\"Bulgaria\",\"Burkina Faso\",\"Burundi\",\"Cambodia\",\"Cameroon\",\"Canada\",\"Central African Republic\",\"Chad\",\"Chile\",\"China\",\"Colombia\",\"Costa Rica\",\"Croatia\",\"Cyprus\",\"Czechia\",\"Denmark\",\"Dominican Republic\",\"Ecuador\",\"Egypt\",\"El Salvador\",\"Estonia\",\"Eswatini\",\"Ethiopia\",\"Finland\",\"France\",\"Gabon\",\"Gambia\",\"Georgia\",\"Germany\",\"Ghana\",\"Greece\",\"Guatemala\",\"Guinea\",\"Haiti\",\"Honduras\",\"Hungary\",\"Iceland\",\"India\",\"Indonesia\",\"Iran\",\"Iraq\",\"Ireland\",\"Israel\",\"Italy\",\"Jamaica\",\"Japan\",\"Jordan\",\"Kazakhstan\",\"Kenya\",\"Kosovo\",\"Kuwait\",\"Kyrgyzstan\",\"Laos\",\"Latvia\",\"Lebanon\",\"Lesotho\",\"Liberia\",\"Libya\",\"Lithuania\",\"Luxembourg\",\"Madagascar\",\"Malawi\",\"Malaysia\",\"Mali\",\"Mauritania\",\"Mauritius\",\"Mexico\",\"Moldova\",\"Mongolia\",\"Montenegro\",\"Morocco\",\"Mozambique\",\"Myanmar\",\"Namibia\",\"Nepal\",\"Netherlands\",\"New Zealand\",\"Nicaragua\",\"Niger\",\"Nigeria\",\"North Macedonia\",\"Norway\",\"Oman\",\"Pakistan\",\"Panama\",\"Paraguay\",\"Peru\",\"Philippines\",\"Poland\",\"Portugal\",\"Qatar\",\"Romania\",\"Russia\",\"Rwanda\",\"Saudi Arabia\",\"Senegal\",\"Serbia\",\"Sierra Leone\",\"Singapore\",\"Slovakia\",\"Slovenia\",\"Somalia\",\"South Africa\",\"South Sudan\",\"Spain\",\"Sri Lanka\",\"Sudan\",\"Sweden\",\"Switzerland\",\"Syria\",\"Taiwan\",\"Tajikistan\",\"Tanzania\",\"Thailand\",\"Togo\",\"Trinidad and Tobago\",\"Tunisia\",\"Turkmenistan\",\"Uganda\",\"Ukraine\",\"United Arab Emirates\",\"United Kingdom\",\"United States\",\"Uruguay\",\"Uzbekistan\",\"Venezuela\",\"Yemen\",\"Zambia\",\"Zimbabwe\"],\"z\":[2.567,4.883,5.005,null,5.975,4.677,7.223,7.294,5.165,6.227,4.833,5.54,6.864,5.216,5.747,5.674,3.479,6.376,5.102,4.769,3.775,4.848,5.085,7.232,3.476,4.423,6.228,5.124,6.163,7.121,5.505,6.159,6.911,7.646,5.689,5.925,4.151,6.348,6.022,null,4.186,7.809,6.664,4.829,4.751,4.673,7.076,5.148,5.515,6.399,4.949,3.721,5.953,6.0,7.504,3.573,5.286,4.672,4.785,7.094,7.129,6.387,5.89,5.871,4.633,6.058,4.583,6.325,6.102,5.542,4.889,5.95,4.772,3.653,4.558,5.489,6.215,7.238,4.166,3.538,5.384,4.729,4.375,6.101,6.465,5.608,5.456,5.546,5.095,4.624,4.308,4.571,5.137,7.449,7.3,6.137,4.91,4.724,5.16,7.488,null,5.693,6.305,5.692,5.797,6.006,6.186,5.911,null,6.124,5.546,3.312,6.406,4.981,5.778,3.926,6.377,6.281,6.363,null,4.814,2.817,6.401,4.327,null,7.353,7.56,null,6.455,5.556,3.476,5.999,4.187,6.192,4.392,5.119,4.432,4.561,6.791,7.165,6.94,6.44,6.258,5.053,3.527,3.759,3.299],\"type\":\"choropleth\"}],                        {\"template\":{\"data\":{\"histogram2dcontour\":[{\"type\":\"histogram2dcontour\",\"colorbar\":{\"outlinewidth\":0,\"ticks\":\"\"},\"colorscale\":[[0.0,\"#0d0887\"],[0.1111111111111111,\"#46039f\"],[0.2222222222222222,\"#7201a8\"],[0.3333333333333333,\"#9c179e\"],[0.4444444444444444,\"#bd3786\"],[0.5555555555555556,\"#d8576b\"],[0.6666666666666666,\"#ed7953\"],[0.7777777777777778,\"#fb9f3a\"],[0.8888888888888888,\"#fdca26\"],[1.0,\"#f0f921\"]]}],\"choropleth\":[{\"type\":\"choropleth\",\"colorbar\":{\"outlinewidth\":0,\"ticks\":\"\"}}],\"histogram2d\":[{\"type\":\"histogram2d\",\"colorbar\":{\"outlinewidth\":0,\"ticks\":\"\"},\"colorscale\":[[0.0,\"#0d0887\"],[0.1111111111111111,\"#46039f\"],[0.2222222222222222,\"#7201a8\"],[0.3333333333333333,\"#9c179e\"],[0.4444444444444444,\"#bd3786\"],[0.5555555555555556,\"#d8576b\"],[0.6666666666666666,\"#ed7953\"],[0.7777777777777778,\"#fb9f3a\"],[0.8888888888888888,\"#fdca26\"],[1.0,\"#f0f921\"]]}],\"heatmap\":[{\"type\":\"heatmap\",\"colorbar\":{\"outlinewidth\":0,\"ticks\":\"\"},\"colorscale\":[[0.0,\"#0d0887\"],[0.1111111111111111,\"#46039f\"],[0.2222222222222222,\"#7201a8\"],[0.3333333333333333,\"#9c179e\"],[0.4444444444444444,\"#bd3786\"],[0.5555555555555556,\"#d8576b\"],[0.6666666666666666,\"#ed7953\"],[0.7777777777777778,\"#fb9f3a\"],[0.8888888888888888,\"#fdca26\"],[1.0,\"#f0f921\"]]}],\"heatmapgl\":[{\"type\":\"heatmapgl\",\"colorbar\":{\"outlinewidth\":0,\"ticks\":\"\"},\"colorscale\":[[0.0,\"#0d0887\"],[0.1111111111111111,\"#46039f\"],[0.2222222222222222,\"#7201a8\"],[0.3333333333333333,\"#9c179e\"],[0.4444444444444444,\"#bd3786\"],[0.5555555555555556,\"#d8576b\"],[0.6666666666666666,\"#ed7953\"],[0.7777777777777778,\"#fb9f3a\"],[0.8888888888888888,\"#fdca26\"],[1.0,\"#f0f921\"]]}],\"contourcarpet\":[{\"type\":\"contourcarpet\",\"colorbar\":{\"outlinewidth\":0,\"ticks\":\"\"}}],\"contour\":[{\"type\":\"contour\",\"colorbar\":{\"outlinewidth\":0,\"ticks\":\"\"},\"colorscale\":[[0.0,\"#0d0887\"],[0.1111111111111111,\"#46039f\"],[0.2222222222222222,\"#7201a8\"],[0.3333333333333333,\"#9c179e\"],[0.4444444444444444,\"#bd3786\"],[0.5555555555555556,\"#d8576b\"],[0.6666666666666666,\"#ed7953\"],[0.7777777777777778,\"#fb9f3a\"],[0.8888888888888888,\"#fdca26\"],[1.0,\"#f0f921\"]]}],\"surface\":[{\"type\":\"surface\",\"colorbar\":{\"outlinewidth\":0,\"ticks\":\"\"},\"colorscale\":[[0.0,\"#0d0887\"],[0.1111111111111111,\"#46039f\"],[0.2222222222222222,\"#7201a8\"],[0.3333333333333333,\"#9c179e\"],[0.4444444444444444,\"#bd3786\"],[0.5555555555555556,\"#d8576b\"],[0.6666666666666666,\"#ed7953\"],[0.7777777777777778,\"#fb9f3a\"],[0.8888888888888888,\"#fdca26\"],[1.0,\"#f0f921\"]]}],\"mesh3d\":[{\"type\":\"mesh3d\",\"colorbar\":{\"outlinewidth\":0,\"ticks\":\"\"}}],\"scatter\":[{\"fillpattern\":{\"fillmode\":\"overlay\",\"size\":10,\"solidity\":0.2},\"type\":\"scatter\"}],\"parcoords\":[{\"type\":\"parcoords\",\"line\":{\"colorbar\":{\"outlinewidth\":0,\"ticks\":\"\"}}}],\"scatterpolargl\":[{\"type\":\"scatterpolargl\",\"marker\":{\"colorbar\":{\"outlinewidth\":0,\"ticks\":\"\"}}}],\"bar\":[{\"error_x\":{\"color\":\"#2a3f5f\"},\"error_y\":{\"color\":\"#2a3f5f\"},\"marker\":{\"line\":{\"color\":\"#E5ECF6\",\"width\":0.5},\"pattern\":{\"fillmode\":\"overlay\",\"size\":10,\"solidity\":0.2}},\"type\":\"bar\"}],\"scattergeo\":[{\"type\":\"scattergeo\",\"marker\":{\"colorbar\":{\"outlinewidth\":0,\"ticks\":\"\"}}}],\"scatterpolar\":[{\"type\":\"scatterpolar\",\"marker\":{\"colorbar\":{\"outlinewidth\":0,\"ticks\":\"\"}}}],\"histogram\":[{\"marker\":{\"pattern\":{\"fillmode\":\"overlay\",\"size\":10,\"solidity\":0.2}},\"type\":\"histogram\"}],\"scattergl\":[{\"type\":\"scattergl\",\"marker\":{\"colorbar\":{\"outlinewidth\":0,\"ticks\":\"\"}}}],\"scatter3d\":[{\"type\":\"scatter3d\",\"line\":{\"colorbar\":{\"outlinewidth\":0,\"ticks\":\"\"}},\"marker\":{\"colorbar\":{\"outlinewidth\":0,\"ticks\":\"\"}}}],\"scattermapbox\":[{\"type\":\"scattermapbox\",\"marker\":{\"colorbar\":{\"outlinewidth\":0,\"ticks\":\"\"}}}],\"scatterternary\":[{\"type\":\"scatterternary\",\"marker\":{\"colorbar\":{\"outlinewidth\":0,\"ticks\":\"\"}}}],\"scattercarpet\":[{\"type\":\"scattercarpet\",\"marker\":{\"colorbar\":{\"outlinewidth\":0,\"ticks\":\"\"}}}],\"carpet\":[{\"aaxis\":{\"endlinecolor\":\"#2a3f5f\",\"gridcolor\":\"white\",\"linecolor\":\"white\",\"minorgridcolor\":\"white\",\"startlinecolor\":\"#2a3f5f\"},\"baxis\":{\"endlinecolor\":\"#2a3f5f\",\"gridcolor\":\"white\",\"linecolor\":\"white\",\"minorgridcolor\":\"white\",\"startlinecolor\":\"#2a3f5f\"},\"type\":\"carpet\"}],\"table\":[{\"cells\":{\"fill\":{\"color\":\"#EBF0F8\"},\"line\":{\"color\":\"white\"}},\"header\":{\"fill\":{\"color\":\"#C8D4E3\"},\"line\":{\"color\":\"white\"}},\"type\":\"table\"}],\"barpolar\":[{\"marker\":{\"line\":{\"color\":\"#E5ECF6\",\"width\":0.5},\"pattern\":{\"fillmode\":\"overlay\",\"size\":10,\"solidity\":0.2}},\"type\":\"barpolar\"}],\"pie\":[{\"automargin\":true,\"type\":\"pie\"}]},\"layout\":{\"autotypenumbers\":\"strict\",\"colorway\":[\"#636efa\",\"#EF553B\",\"#00cc96\",\"#ab63fa\",\"#FFA15A\",\"#19d3f3\",\"#FF6692\",\"#B6E880\",\"#FF97FF\",\"#FECB52\"],\"font\":{\"color\":\"#2a3f5f\"},\"hovermode\":\"closest\",\"hoverlabel\":{\"align\":\"left\"},\"paper_bgcolor\":\"white\",\"plot_bgcolor\":\"#E5ECF6\",\"polar\":{\"bgcolor\":\"#E5ECF6\",\"angularaxis\":{\"gridcolor\":\"white\",\"linecolor\":\"white\",\"ticks\":\"\"},\"radialaxis\":{\"gridcolor\":\"white\",\"linecolor\":\"white\",\"ticks\":\"\"}},\"ternary\":{\"bgcolor\":\"#E5ECF6\",\"aaxis\":{\"gridcolor\":\"white\",\"linecolor\":\"white\",\"ticks\":\"\"},\"baxis\":{\"gridcolor\":\"white\",\"linecolor\":\"white\",\"ticks\":\"\"},\"caxis\":{\"gridcolor\":\"white\",\"linecolor\":\"white\",\"ticks\":\"\"}},\"coloraxis\":{\"colorbar\":{\"outlinewidth\":0,\"ticks\":\"\"}},\"colorscale\":{\"sequential\":[[0.0,\"#0d0887\"],[0.1111111111111111,\"#46039f\"],[0.2222222222222222,\"#7201a8\"],[0.3333333333333333,\"#9c179e\"],[0.4444444444444444,\"#bd3786\"],[0.5555555555555556,\"#d8576b\"],[0.6666666666666666,\"#ed7953\"],[0.7777777777777778,\"#fb9f3a\"],[0.8888888888888888,\"#fdca26\"],[1.0,\"#f0f921\"]],\"sequentialminus\":[[0.0,\"#0d0887\"],[0.1111111111111111,\"#46039f\"],[0.2222222222222222,\"#7201a8\"],[0.3333333333333333,\"#9c179e\"],[0.4444444444444444,\"#bd3786\"],[0.5555555555555556,\"#d8576b\"],[0.6666666666666666,\"#ed7953\"],[0.7777777777777778,\"#fb9f3a\"],[0.8888888888888888,\"#fdca26\"],[1.0,\"#f0f921\"]],\"diverging\":[[0,\"#8e0152\"],[0.1,\"#c51b7d\"],[0.2,\"#de77ae\"],[0.3,\"#f1b6da\"],[0.4,\"#fde0ef\"],[0.5,\"#f7f7f7\"],[0.6,\"#e6f5d0\"],[0.7,\"#b8e186\"],[0.8,\"#7fbc41\"],[0.9,\"#4d9221\"],[1,\"#276419\"]]},\"xaxis\":{\"gridcolor\":\"white\",\"linecolor\":\"white\",\"ticks\":\"\",\"title\":{\"standoff\":15},\"zerolinecolor\":\"white\",\"automargin\":true,\"zerolinewidth\":2},\"yaxis\":{\"gridcolor\":\"white\",\"linecolor\":\"white\",\"ticks\":\"\",\"title\":{\"standoff\":15},\"zerolinecolor\":\"white\",\"automargin\":true,\"zerolinewidth\":2},\"scene\":{\"xaxis\":{\"backgroundcolor\":\"#E5ECF6\",\"gridcolor\":\"white\",\"linecolor\":\"white\",\"showbackground\":true,\"ticks\":\"\",\"zerolinecolor\":\"white\",\"gridwidth\":2},\"yaxis\":{\"backgroundcolor\":\"#E5ECF6\",\"gridcolor\":\"white\",\"linecolor\":\"white\",\"showbackground\":true,\"ticks\":\"\",\"zerolinecolor\":\"white\",\"gridwidth\":2},\"zaxis\":{\"backgroundcolor\":\"#E5ECF6\",\"gridcolor\":\"white\",\"linecolor\":\"white\",\"showbackground\":true,\"ticks\":\"\",\"zerolinecolor\":\"white\",\"gridwidth\":2}},\"shapedefaults\":{\"line\":{\"color\":\"#2a3f5f\"}},\"annotationdefaults\":{\"arrowcolor\":\"#2a3f5f\",\"arrowhead\":0,\"arrowwidth\":1},\"geo\":{\"bgcolor\":\"white\",\"landcolor\":\"#E5ECF6\",\"subunitcolor\":\"white\",\"showland\":true,\"showlakes\":true,\"lakecolor\":\"white\"},\"title\":{\"x\":0.05},\"mapbox\":{\"style\":\"light\"}}},\"title\":{\"text\":\"Happiness-score landen 2020\"},\"annotations\":[{\"showarrow\":false,\"text\":\"Deze kaart weergeeft de happiness index-score van de landen opgenomen in het onderzoek van de VN in 2020\",\"x\":0.5,\"xref\":\"paper\",\"y\":-0.25,\"yref\":\"paper\"}]},                        {\"responsive\": true}                    ).then(function(){\n",
       "                            \n",
       "var gd = document.getElementById('1268f433-b1b7-478a-b4fb-3b77874feeee');\n",
       "var x = new MutationObserver(function (mutations, observer) {{\n",
       "        var display = window.getComputedStyle(gd).display;\n",
       "        if (!display || display === 'none') {{\n",
       "            console.log([gd, 'removed!']);\n",
       "            Plotly.purge(gd);\n",
       "            observer.disconnect();\n",
       "        }}\n",
       "}});\n",
       "\n",
       "// Listen for the removal of the full notebook cells\n",
       "var notebookContainer = gd.closest('#notebook-container');\n",
       "if (notebookContainer) {{\n",
       "    x.observe(notebookContainer, {childList: true});\n",
       "}}\n",
       "\n",
       "// Listen for the clearing of the current output cell\n",
       "var outputEl = gd.closest('.output');\n",
       "if (outputEl) {{\n",
       "    x.observe(outputEl, {childList: true});\n",
       "}}\n",
       "\n",
       "                        })                };                });            </script>        </div>"
      ]
     },
     "metadata": {},
     "output_type": "display_data"
    }
   ],
   "source": [
    "fig1.show()\n",
    "#In de onderstaande afbeelding is per land te zien wat de gemiddelde happiness score is in 2020."
   ]
  },
  {
   "attachments": {},
   "cell_type": "markdown",
   "id": "b2361e45",
   "metadata": {},
   "source": [
    "## Datasets and Preprocessing - The Global State of Democracy Indices\n",
    "\n",
    "\n",
    "The Global State of Democracy Indices is een uitgebreide evaluatie van verschillende factoren die de mate van democratie in een land proberen te meten, opgesteld door het International Institute for Democracy and Electoral Assistance. Doordat een definitie van democratie niet universeel en ook niet gemakkelijk te bepalen is, bestaat het rapportage uit veel verschillende onderwerpen, waarbij de 174 gemeten landen een score krijgen voor elk van deze onderwerpen tussen 0 en 1, met 0 het meest negatief, en 1 het meest positief. Deze scores worden gemeten aan de hand van onderzoek, de ervaringen van burgers en de meningen van journalisten.\n",
    "\n",
    "De dataset die gebruikt zal worden voor ons onderzoek is als volgt:\n",
    "\n",
    "https://www.kaggle.com/datasets/aliaamiri/the-global-state-of-democracy-indices\n",
    "\n",
    "Deze dataset geeft de scores voor elk land in elk van de 157 kwesties tussen 1975 en 2020, deze kwesties zijn de observeerbare variabelen in deze dataset. De namen van de variabelen worden gebruikt om elke kwestie te categoriseren, de uitleg voor elke kwestie staat in een pdf bestand dat meegeleverd werd met de dataset. Elke kwestie beslaat een vraag of stelling die een indicator kan zijn van de mate van democratie in een land. Kwesties kunnen onderwerpen aanslaan als gelijke rechten, persvrijheid, en censuur."
   ]
  },
  {
   "cell_type": "code",
   "execution_count": 12,
   "id": "412d26c5",
   "metadata": {},
   "outputs": [
    {
     "data": {
      "application/vnd.plotly.v1+json": {
       "config": {
        "plotlyServerURL": "https://plot.ly"
       },
       "data": [
        {
         "marker": {
          "color": "rgb(255, 255, 0)"
         },
         "name": "High performing democracy",
         "type": "bar",
         "x": [
          "2013",
          "2015",
          "2016",
          "2017",
          "2018",
          "2019",
          "2020"
         ],
         "y": [
          17,
          18,
          19,
          18,
          17,
          16,
          17
         ]
        },
        {
         "marker": {
          "color": "rgb(102,194,165)"
         },
         "name": "Mid-range performing democracy",
         "type": "bar",
         "x": [
          "2013",
          "2015",
          "2016",
          "2017",
          "2018",
          "2019",
          "2020"
         ],
         "y": [
          54,
          52,
          49,
          51,
          55,
          56,
          52
         ]
        },
        {
         "marker": {
          "color": "rgb(141,160,203)"
         },
         "name": "Weak democracy",
         "type": "bar",
         "x": [
          "2013",
          "2015",
          "2016",
          "2017",
          "2018",
          "2019",
          "2020"
         ],
         "y": [
          22,
          23,
          22,
          21,
          20,
          19,
          21
         ]
        },
        {
         "marker": {
          "color": "rgb(255, 192, 203)"
         },
         "name": "Hybrid Regime",
         "type": "bar",
         "x": [
          "2013",
          "2015",
          "2016",
          "2017",
          "2018",
          "2019",
          "2020"
         ],
         "y": [
          23,
          21,
          21,
          22,
          17,
          18,
          20
         ]
        },
        {
         "marker": {
          "color": "rgb(252,141,98)"
         },
         "name": "Authoritarian Regime",
         "type": "bar",
         "x": [
          "2013",
          "2015",
          "2016",
          "2017",
          "2018",
          "2019",
          "2020"
         ],
         "y": [
          26,
          28,
          30,
          31,
          35,
          34,
          30
         ]
        }
       ],
       "layout": {
        "annotations": [
         {
          "showarrow": false,
          "text": "Deze grafiek visualiseert hoeveel landen deel uit maken van elke categorie van democratie",
          "x": 0.5,
          "xref": "paper",
          "y": -0.25,
          "yref": "paper"
         }
        ],
        "template": {
         "data": {
          "bar": [
           {
            "error_x": {
             "color": "#2a3f5f"
            },
            "error_y": {
             "color": "#2a3f5f"
            },
            "marker": {
             "line": {
              "color": "#E5ECF6",
              "width": 0.5
             },
             "pattern": {
              "fillmode": "overlay",
              "size": 10,
              "solidity": 0.2
             }
            },
            "type": "bar"
           }
          ],
          "barpolar": [
           {
            "marker": {
             "line": {
              "color": "#E5ECF6",
              "width": 0.5
             },
             "pattern": {
              "fillmode": "overlay",
              "size": 10,
              "solidity": 0.2
             }
            },
            "type": "barpolar"
           }
          ],
          "carpet": [
           {
            "aaxis": {
             "endlinecolor": "#2a3f5f",
             "gridcolor": "white",
             "linecolor": "white",
             "minorgridcolor": "white",
             "startlinecolor": "#2a3f5f"
            },
            "baxis": {
             "endlinecolor": "#2a3f5f",
             "gridcolor": "white",
             "linecolor": "white",
             "minorgridcolor": "white",
             "startlinecolor": "#2a3f5f"
            },
            "type": "carpet"
           }
          ],
          "choropleth": [
           {
            "colorbar": {
             "outlinewidth": 0,
             "ticks": ""
            },
            "type": "choropleth"
           }
          ],
          "contour": [
           {
            "colorbar": {
             "outlinewidth": 0,
             "ticks": ""
            },
            "colorscale": [
             [
              0,
              "#0d0887"
             ],
             [
              0.1111111111111111,
              "#46039f"
             ],
             [
              0.2222222222222222,
              "#7201a8"
             ],
             [
              0.3333333333333333,
              "#9c179e"
             ],
             [
              0.4444444444444444,
              "#bd3786"
             ],
             [
              0.5555555555555556,
              "#d8576b"
             ],
             [
              0.6666666666666666,
              "#ed7953"
             ],
             [
              0.7777777777777778,
              "#fb9f3a"
             ],
             [
              0.8888888888888888,
              "#fdca26"
             ],
             [
              1,
              "#f0f921"
             ]
            ],
            "type": "contour"
           }
          ],
          "contourcarpet": [
           {
            "colorbar": {
             "outlinewidth": 0,
             "ticks": ""
            },
            "type": "contourcarpet"
           }
          ],
          "heatmap": [
           {
            "colorbar": {
             "outlinewidth": 0,
             "ticks": ""
            },
            "colorscale": [
             [
              0,
              "#0d0887"
             ],
             [
              0.1111111111111111,
              "#46039f"
             ],
             [
              0.2222222222222222,
              "#7201a8"
             ],
             [
              0.3333333333333333,
              "#9c179e"
             ],
             [
              0.4444444444444444,
              "#bd3786"
             ],
             [
              0.5555555555555556,
              "#d8576b"
             ],
             [
              0.6666666666666666,
              "#ed7953"
             ],
             [
              0.7777777777777778,
              "#fb9f3a"
             ],
             [
              0.8888888888888888,
              "#fdca26"
             ],
             [
              1,
              "#f0f921"
             ]
            ],
            "type": "heatmap"
           }
          ],
          "heatmapgl": [
           {
            "colorbar": {
             "outlinewidth": 0,
             "ticks": ""
            },
            "colorscale": [
             [
              0,
              "#0d0887"
             ],
             [
              0.1111111111111111,
              "#46039f"
             ],
             [
              0.2222222222222222,
              "#7201a8"
             ],
             [
              0.3333333333333333,
              "#9c179e"
             ],
             [
              0.4444444444444444,
              "#bd3786"
             ],
             [
              0.5555555555555556,
              "#d8576b"
             ],
             [
              0.6666666666666666,
              "#ed7953"
             ],
             [
              0.7777777777777778,
              "#fb9f3a"
             ],
             [
              0.8888888888888888,
              "#fdca26"
             ],
             [
              1,
              "#f0f921"
             ]
            ],
            "type": "heatmapgl"
           }
          ],
          "histogram": [
           {
            "marker": {
             "pattern": {
              "fillmode": "overlay",
              "size": 10,
              "solidity": 0.2
             }
            },
            "type": "histogram"
           }
          ],
          "histogram2d": [
           {
            "colorbar": {
             "outlinewidth": 0,
             "ticks": ""
            },
            "colorscale": [
             [
              0,
              "#0d0887"
             ],
             [
              0.1111111111111111,
              "#46039f"
             ],
             [
              0.2222222222222222,
              "#7201a8"
             ],
             [
              0.3333333333333333,
              "#9c179e"
             ],
             [
              0.4444444444444444,
              "#bd3786"
             ],
             [
              0.5555555555555556,
              "#d8576b"
             ],
             [
              0.6666666666666666,
              "#ed7953"
             ],
             [
              0.7777777777777778,
              "#fb9f3a"
             ],
             [
              0.8888888888888888,
              "#fdca26"
             ],
             [
              1,
              "#f0f921"
             ]
            ],
            "type": "histogram2d"
           }
          ],
          "histogram2dcontour": [
           {
            "colorbar": {
             "outlinewidth": 0,
             "ticks": ""
            },
            "colorscale": [
             [
              0,
              "#0d0887"
             ],
             [
              0.1111111111111111,
              "#46039f"
             ],
             [
              0.2222222222222222,
              "#7201a8"
             ],
             [
              0.3333333333333333,
              "#9c179e"
             ],
             [
              0.4444444444444444,
              "#bd3786"
             ],
             [
              0.5555555555555556,
              "#d8576b"
             ],
             [
              0.6666666666666666,
              "#ed7953"
             ],
             [
              0.7777777777777778,
              "#fb9f3a"
             ],
             [
              0.8888888888888888,
              "#fdca26"
             ],
             [
              1,
              "#f0f921"
             ]
            ],
            "type": "histogram2dcontour"
           }
          ],
          "mesh3d": [
           {
            "colorbar": {
             "outlinewidth": 0,
             "ticks": ""
            },
            "type": "mesh3d"
           }
          ],
          "parcoords": [
           {
            "line": {
             "colorbar": {
              "outlinewidth": 0,
              "ticks": ""
             }
            },
            "type": "parcoords"
           }
          ],
          "pie": [
           {
            "automargin": true,
            "type": "pie"
           }
          ],
          "scatter": [
           {
            "fillpattern": {
             "fillmode": "overlay",
             "size": 10,
             "solidity": 0.2
            },
            "type": "scatter"
           }
          ],
          "scatter3d": [
           {
            "line": {
             "colorbar": {
              "outlinewidth": 0,
              "ticks": ""
             }
            },
            "marker": {
             "colorbar": {
              "outlinewidth": 0,
              "ticks": ""
             }
            },
            "type": "scatter3d"
           }
          ],
          "scattercarpet": [
           {
            "marker": {
             "colorbar": {
              "outlinewidth": 0,
              "ticks": ""
             }
            },
            "type": "scattercarpet"
           }
          ],
          "scattergeo": [
           {
            "marker": {
             "colorbar": {
              "outlinewidth": 0,
              "ticks": ""
             }
            },
            "type": "scattergeo"
           }
          ],
          "scattergl": [
           {
            "marker": {
             "colorbar": {
              "outlinewidth": 0,
              "ticks": ""
             }
            },
            "type": "scattergl"
           }
          ],
          "scattermapbox": [
           {
            "marker": {
             "colorbar": {
              "outlinewidth": 0,
              "ticks": ""
             }
            },
            "type": "scattermapbox"
           }
          ],
          "scatterpolar": [
           {
            "marker": {
             "colorbar": {
              "outlinewidth": 0,
              "ticks": ""
             }
            },
            "type": "scatterpolar"
           }
          ],
          "scatterpolargl": [
           {
            "marker": {
             "colorbar": {
              "outlinewidth": 0,
              "ticks": ""
             }
            },
            "type": "scatterpolargl"
           }
          ],
          "scatterternary": [
           {
            "marker": {
             "colorbar": {
              "outlinewidth": 0,
              "ticks": ""
             }
            },
            "type": "scatterternary"
           }
          ],
          "surface": [
           {
            "colorbar": {
             "outlinewidth": 0,
             "ticks": ""
            },
            "colorscale": [
             [
              0,
              "#0d0887"
             ],
             [
              0.1111111111111111,
              "#46039f"
             ],
             [
              0.2222222222222222,
              "#7201a8"
             ],
             [
              0.3333333333333333,
              "#9c179e"
             ],
             [
              0.4444444444444444,
              "#bd3786"
             ],
             [
              0.5555555555555556,
              "#d8576b"
             ],
             [
              0.6666666666666666,
              "#ed7953"
             ],
             [
              0.7777777777777778,
              "#fb9f3a"
             ],
             [
              0.8888888888888888,
              "#fdca26"
             ],
             [
              1,
              "#f0f921"
             ]
            ],
            "type": "surface"
           }
          ],
          "table": [
           {
            "cells": {
             "fill": {
              "color": "#EBF0F8"
             },
             "line": {
              "color": "white"
             }
            },
            "header": {
             "fill": {
              "color": "#C8D4E3"
             },
             "line": {
              "color": "white"
             }
            },
            "type": "table"
           }
          ]
         },
         "layout": {
          "annotationdefaults": {
           "arrowcolor": "#2a3f5f",
           "arrowhead": 0,
           "arrowwidth": 1
          },
          "autotypenumbers": "strict",
          "coloraxis": {
           "colorbar": {
            "outlinewidth": 0,
            "ticks": ""
           }
          },
          "colorscale": {
           "diverging": [
            [
             0,
             "#8e0152"
            ],
            [
             0.1,
             "#c51b7d"
            ],
            [
             0.2,
             "#de77ae"
            ],
            [
             0.3,
             "#f1b6da"
            ],
            [
             0.4,
             "#fde0ef"
            ],
            [
             0.5,
             "#f7f7f7"
            ],
            [
             0.6,
             "#e6f5d0"
            ],
            [
             0.7,
             "#b8e186"
            ],
            [
             0.8,
             "#7fbc41"
            ],
            [
             0.9,
             "#4d9221"
            ],
            [
             1,
             "#276419"
            ]
           ],
           "sequential": [
            [
             0,
             "#0d0887"
            ],
            [
             0.1111111111111111,
             "#46039f"
            ],
            [
             0.2222222222222222,
             "#7201a8"
            ],
            [
             0.3333333333333333,
             "#9c179e"
            ],
            [
             0.4444444444444444,
             "#bd3786"
            ],
            [
             0.5555555555555556,
             "#d8576b"
            ],
            [
             0.6666666666666666,
             "#ed7953"
            ],
            [
             0.7777777777777778,
             "#fb9f3a"
            ],
            [
             0.8888888888888888,
             "#fdca26"
            ],
            [
             1,
             "#f0f921"
            ]
           ],
           "sequentialminus": [
            [
             0,
             "#0d0887"
            ],
            [
             0.1111111111111111,
             "#46039f"
            ],
            [
             0.2222222222222222,
             "#7201a8"
            ],
            [
             0.3333333333333333,
             "#9c179e"
            ],
            [
             0.4444444444444444,
             "#bd3786"
            ],
            [
             0.5555555555555556,
             "#d8576b"
            ],
            [
             0.6666666666666666,
             "#ed7953"
            ],
            [
             0.7777777777777778,
             "#fb9f3a"
            ],
            [
             0.8888888888888888,
             "#fdca26"
            ],
            [
             1,
             "#f0f921"
            ]
           ]
          },
          "colorway": [
           "#636efa",
           "#EF553B",
           "#00cc96",
           "#ab63fa",
           "#FFA15A",
           "#19d3f3",
           "#FF6692",
           "#B6E880",
           "#FF97FF",
           "#FECB52"
          ],
          "font": {
           "color": "#2a3f5f"
          },
          "geo": {
           "bgcolor": "white",
           "lakecolor": "white",
           "landcolor": "#E5ECF6",
           "showlakes": true,
           "showland": true,
           "subunitcolor": "white"
          },
          "hoverlabel": {
           "align": "left"
          },
          "hovermode": "closest",
          "mapbox": {
           "style": "light"
          },
          "paper_bgcolor": "white",
          "plot_bgcolor": "#E5ECF6",
          "polar": {
           "angularaxis": {
            "gridcolor": "white",
            "linecolor": "white",
            "ticks": ""
           },
           "bgcolor": "#E5ECF6",
           "radialaxis": {
            "gridcolor": "white",
            "linecolor": "white",
            "ticks": ""
           }
          },
          "scene": {
           "xaxis": {
            "backgroundcolor": "#E5ECF6",
            "gridcolor": "white",
            "gridwidth": 2,
            "linecolor": "white",
            "showbackground": true,
            "ticks": "",
            "zerolinecolor": "white"
           },
           "yaxis": {
            "backgroundcolor": "#E5ECF6",
            "gridcolor": "white",
            "gridwidth": 2,
            "linecolor": "white",
            "showbackground": true,
            "ticks": "",
            "zerolinecolor": "white"
           },
           "zaxis": {
            "backgroundcolor": "#E5ECF6",
            "gridcolor": "white",
            "gridwidth": 2,
            "linecolor": "white",
            "showbackground": true,
            "ticks": "",
            "zerolinecolor": "white"
           }
          },
          "shapedefaults": {
           "line": {
            "color": "#2a3f5f"
           }
          },
          "ternary": {
           "aaxis": {
            "gridcolor": "white",
            "linecolor": "white",
            "ticks": ""
           },
           "baxis": {
            "gridcolor": "white",
            "linecolor": "white",
            "ticks": ""
           },
           "bgcolor": "#E5ECF6",
           "caxis": {
            "gridcolor": "white",
            "linecolor": "white",
            "ticks": ""
           }
          },
          "title": {
           "x": 0.05
          },
          "xaxis": {
           "automargin": true,
           "gridcolor": "white",
           "linecolor": "white",
           "ticks": "",
           "title": {
            "standoff": 15
           },
           "zerolinecolor": "white",
           "zerolinewidth": 2
          },
          "yaxis": {
           "automargin": true,
           "gridcolor": "white",
           "linecolor": "white",
           "ticks": "",
           "title": {
            "standoff": 15
           },
           "zerolinecolor": "white",
           "zerolinewidth": 2
          }
         }
        },
        "title": {
         "text": "Verschillende voorkomende vormen van democratie in de wereld"
        },
        "xaxis": {
         "title": {
          "text": "Jaren"
         }
        },
        "yaxis": {
         "title": {
          "text": "Aantal landen"
         }
        }
       }
      },
      "text/html": [
       "<div>                            <div id=\"4b73d524-cb12-4a6b-9b58-7ebabb81cf1d\" class=\"plotly-graph-div\" style=\"height:525px; width:100%;\"></div>            <script type=\"text/javascript\">                require([\"plotly\"], function(Plotly) {                    window.PLOTLYENV=window.PLOTLYENV || {};                                    if (document.getElementById(\"4b73d524-cb12-4a6b-9b58-7ebabb81cf1d\")) {                    Plotly.newPlot(                        \"4b73d524-cb12-4a6b-9b58-7ebabb81cf1d\",                        [{\"marker\":{\"color\":\"rgb(255, 255, 0)\"},\"name\":\"High performing democracy\",\"x\":[\"2013\",\"2015\",\"2016\",\"2017\",\"2018\",\"2019\",\"2020\"],\"y\":[17,18,19,18,17,16,17],\"type\":\"bar\"},{\"marker\":{\"color\":\"rgb(102,194,165)\"},\"name\":\"Mid-range performing democracy\",\"x\":[\"2013\",\"2015\",\"2016\",\"2017\",\"2018\",\"2019\",\"2020\"],\"y\":[54,52,49,51,55,56,52],\"type\":\"bar\"},{\"marker\":{\"color\":\"rgb(141,160,203)\"},\"name\":\"Weak democracy\",\"x\":[\"2013\",\"2015\",\"2016\",\"2017\",\"2018\",\"2019\",\"2020\"],\"y\":[22,23,22,21,20,19,21],\"type\":\"bar\"},{\"marker\":{\"color\":\"rgb(255, 192, 203)\"},\"name\":\"Hybrid Regime\",\"x\":[\"2013\",\"2015\",\"2016\",\"2017\",\"2018\",\"2019\",\"2020\"],\"y\":[23,21,21,22,17,18,20],\"type\":\"bar\"},{\"marker\":{\"color\":\"rgb(252,141,98)\"},\"name\":\"Authoritarian Regime\",\"x\":[\"2013\",\"2015\",\"2016\",\"2017\",\"2018\",\"2019\",\"2020\"],\"y\":[26,28,30,31,35,34,30],\"type\":\"bar\"}],                        {\"template\":{\"data\":{\"histogram2dcontour\":[{\"type\":\"histogram2dcontour\",\"colorbar\":{\"outlinewidth\":0,\"ticks\":\"\"},\"colorscale\":[[0.0,\"#0d0887\"],[0.1111111111111111,\"#46039f\"],[0.2222222222222222,\"#7201a8\"],[0.3333333333333333,\"#9c179e\"],[0.4444444444444444,\"#bd3786\"],[0.5555555555555556,\"#d8576b\"],[0.6666666666666666,\"#ed7953\"],[0.7777777777777778,\"#fb9f3a\"],[0.8888888888888888,\"#fdca26\"],[1.0,\"#f0f921\"]]}],\"choropleth\":[{\"type\":\"choropleth\",\"colorbar\":{\"outlinewidth\":0,\"ticks\":\"\"}}],\"histogram2d\":[{\"type\":\"histogram2d\",\"colorbar\":{\"outlinewidth\":0,\"ticks\":\"\"},\"colorscale\":[[0.0,\"#0d0887\"],[0.1111111111111111,\"#46039f\"],[0.2222222222222222,\"#7201a8\"],[0.3333333333333333,\"#9c179e\"],[0.4444444444444444,\"#bd3786\"],[0.5555555555555556,\"#d8576b\"],[0.6666666666666666,\"#ed7953\"],[0.7777777777777778,\"#fb9f3a\"],[0.8888888888888888,\"#fdca26\"],[1.0,\"#f0f921\"]]}],\"heatmap\":[{\"type\":\"heatmap\",\"colorbar\":{\"outlinewidth\":0,\"ticks\":\"\"},\"colorscale\":[[0.0,\"#0d0887\"],[0.1111111111111111,\"#46039f\"],[0.2222222222222222,\"#7201a8\"],[0.3333333333333333,\"#9c179e\"],[0.4444444444444444,\"#bd3786\"],[0.5555555555555556,\"#d8576b\"],[0.6666666666666666,\"#ed7953\"],[0.7777777777777778,\"#fb9f3a\"],[0.8888888888888888,\"#fdca26\"],[1.0,\"#f0f921\"]]}],\"heatmapgl\":[{\"type\":\"heatmapgl\",\"colorbar\":{\"outlinewidth\":0,\"ticks\":\"\"},\"colorscale\":[[0.0,\"#0d0887\"],[0.1111111111111111,\"#46039f\"],[0.2222222222222222,\"#7201a8\"],[0.3333333333333333,\"#9c179e\"],[0.4444444444444444,\"#bd3786\"],[0.5555555555555556,\"#d8576b\"],[0.6666666666666666,\"#ed7953\"],[0.7777777777777778,\"#fb9f3a\"],[0.8888888888888888,\"#fdca26\"],[1.0,\"#f0f921\"]]}],\"contourcarpet\":[{\"type\":\"contourcarpet\",\"colorbar\":{\"outlinewidth\":0,\"ticks\":\"\"}}],\"contour\":[{\"type\":\"contour\",\"colorbar\":{\"outlinewidth\":0,\"ticks\":\"\"},\"colorscale\":[[0.0,\"#0d0887\"],[0.1111111111111111,\"#46039f\"],[0.2222222222222222,\"#7201a8\"],[0.3333333333333333,\"#9c179e\"],[0.4444444444444444,\"#bd3786\"],[0.5555555555555556,\"#d8576b\"],[0.6666666666666666,\"#ed7953\"],[0.7777777777777778,\"#fb9f3a\"],[0.8888888888888888,\"#fdca26\"],[1.0,\"#f0f921\"]]}],\"surface\":[{\"type\":\"surface\",\"colorbar\":{\"outlinewidth\":0,\"ticks\":\"\"},\"colorscale\":[[0.0,\"#0d0887\"],[0.1111111111111111,\"#46039f\"],[0.2222222222222222,\"#7201a8\"],[0.3333333333333333,\"#9c179e\"],[0.4444444444444444,\"#bd3786\"],[0.5555555555555556,\"#d8576b\"],[0.6666666666666666,\"#ed7953\"],[0.7777777777777778,\"#fb9f3a\"],[0.8888888888888888,\"#fdca26\"],[1.0,\"#f0f921\"]]}],\"mesh3d\":[{\"type\":\"mesh3d\",\"colorbar\":{\"outlinewidth\":0,\"ticks\":\"\"}}],\"scatter\":[{\"fillpattern\":{\"fillmode\":\"overlay\",\"size\":10,\"solidity\":0.2},\"type\":\"scatter\"}],\"parcoords\":[{\"type\":\"parcoords\",\"line\":{\"colorbar\":{\"outlinewidth\":0,\"ticks\":\"\"}}}],\"scatterpolargl\":[{\"type\":\"scatterpolargl\",\"marker\":{\"colorbar\":{\"outlinewidth\":0,\"ticks\":\"\"}}}],\"bar\":[{\"error_x\":{\"color\":\"#2a3f5f\"},\"error_y\":{\"color\":\"#2a3f5f\"},\"marker\":{\"line\":{\"color\":\"#E5ECF6\",\"width\":0.5},\"pattern\":{\"fillmode\":\"overlay\",\"size\":10,\"solidity\":0.2}},\"type\":\"bar\"}],\"scattergeo\":[{\"type\":\"scattergeo\",\"marker\":{\"colorbar\":{\"outlinewidth\":0,\"ticks\":\"\"}}}],\"scatterpolar\":[{\"type\":\"scatterpolar\",\"marker\":{\"colorbar\":{\"outlinewidth\":0,\"ticks\":\"\"}}}],\"histogram\":[{\"marker\":{\"pattern\":{\"fillmode\":\"overlay\",\"size\":10,\"solidity\":0.2}},\"type\":\"histogram\"}],\"scattergl\":[{\"type\":\"scattergl\",\"marker\":{\"colorbar\":{\"outlinewidth\":0,\"ticks\":\"\"}}}],\"scatter3d\":[{\"type\":\"scatter3d\",\"line\":{\"colorbar\":{\"outlinewidth\":0,\"ticks\":\"\"}},\"marker\":{\"colorbar\":{\"outlinewidth\":0,\"ticks\":\"\"}}}],\"scattermapbox\":[{\"type\":\"scattermapbox\",\"marker\":{\"colorbar\":{\"outlinewidth\":0,\"ticks\":\"\"}}}],\"scatterternary\":[{\"type\":\"scatterternary\",\"marker\":{\"colorbar\":{\"outlinewidth\":0,\"ticks\":\"\"}}}],\"scattercarpet\":[{\"type\":\"scattercarpet\",\"marker\":{\"colorbar\":{\"outlinewidth\":0,\"ticks\":\"\"}}}],\"carpet\":[{\"aaxis\":{\"endlinecolor\":\"#2a3f5f\",\"gridcolor\":\"white\",\"linecolor\":\"white\",\"minorgridcolor\":\"white\",\"startlinecolor\":\"#2a3f5f\"},\"baxis\":{\"endlinecolor\":\"#2a3f5f\",\"gridcolor\":\"white\",\"linecolor\":\"white\",\"minorgridcolor\":\"white\",\"startlinecolor\":\"#2a3f5f\"},\"type\":\"carpet\"}],\"table\":[{\"cells\":{\"fill\":{\"color\":\"#EBF0F8\"},\"line\":{\"color\":\"white\"}},\"header\":{\"fill\":{\"color\":\"#C8D4E3\"},\"line\":{\"color\":\"white\"}},\"type\":\"table\"}],\"barpolar\":[{\"marker\":{\"line\":{\"color\":\"#E5ECF6\",\"width\":0.5},\"pattern\":{\"fillmode\":\"overlay\",\"size\":10,\"solidity\":0.2}},\"type\":\"barpolar\"}],\"pie\":[{\"automargin\":true,\"type\":\"pie\"}]},\"layout\":{\"autotypenumbers\":\"strict\",\"colorway\":[\"#636efa\",\"#EF553B\",\"#00cc96\",\"#ab63fa\",\"#FFA15A\",\"#19d3f3\",\"#FF6692\",\"#B6E880\",\"#FF97FF\",\"#FECB52\"],\"font\":{\"color\":\"#2a3f5f\"},\"hovermode\":\"closest\",\"hoverlabel\":{\"align\":\"left\"},\"paper_bgcolor\":\"white\",\"plot_bgcolor\":\"#E5ECF6\",\"polar\":{\"bgcolor\":\"#E5ECF6\",\"angularaxis\":{\"gridcolor\":\"white\",\"linecolor\":\"white\",\"ticks\":\"\"},\"radialaxis\":{\"gridcolor\":\"white\",\"linecolor\":\"white\",\"ticks\":\"\"}},\"ternary\":{\"bgcolor\":\"#E5ECF6\",\"aaxis\":{\"gridcolor\":\"white\",\"linecolor\":\"white\",\"ticks\":\"\"},\"baxis\":{\"gridcolor\":\"white\",\"linecolor\":\"white\",\"ticks\":\"\"},\"caxis\":{\"gridcolor\":\"white\",\"linecolor\":\"white\",\"ticks\":\"\"}},\"coloraxis\":{\"colorbar\":{\"outlinewidth\":0,\"ticks\":\"\"}},\"colorscale\":{\"sequential\":[[0.0,\"#0d0887\"],[0.1111111111111111,\"#46039f\"],[0.2222222222222222,\"#7201a8\"],[0.3333333333333333,\"#9c179e\"],[0.4444444444444444,\"#bd3786\"],[0.5555555555555556,\"#d8576b\"],[0.6666666666666666,\"#ed7953\"],[0.7777777777777778,\"#fb9f3a\"],[0.8888888888888888,\"#fdca26\"],[1.0,\"#f0f921\"]],\"sequentialminus\":[[0.0,\"#0d0887\"],[0.1111111111111111,\"#46039f\"],[0.2222222222222222,\"#7201a8\"],[0.3333333333333333,\"#9c179e\"],[0.4444444444444444,\"#bd3786\"],[0.5555555555555556,\"#d8576b\"],[0.6666666666666666,\"#ed7953\"],[0.7777777777777778,\"#fb9f3a\"],[0.8888888888888888,\"#fdca26\"],[1.0,\"#f0f921\"]],\"diverging\":[[0,\"#8e0152\"],[0.1,\"#c51b7d\"],[0.2,\"#de77ae\"],[0.3,\"#f1b6da\"],[0.4,\"#fde0ef\"],[0.5,\"#f7f7f7\"],[0.6,\"#e6f5d0\"],[0.7,\"#b8e186\"],[0.8,\"#7fbc41\"],[0.9,\"#4d9221\"],[1,\"#276419\"]]},\"xaxis\":{\"gridcolor\":\"white\",\"linecolor\":\"white\",\"ticks\":\"\",\"title\":{\"standoff\":15},\"zerolinecolor\":\"white\",\"automargin\":true,\"zerolinewidth\":2},\"yaxis\":{\"gridcolor\":\"white\",\"linecolor\":\"white\",\"ticks\":\"\",\"title\":{\"standoff\":15},\"zerolinecolor\":\"white\",\"automargin\":true,\"zerolinewidth\":2},\"scene\":{\"xaxis\":{\"backgroundcolor\":\"#E5ECF6\",\"gridcolor\":\"white\",\"linecolor\":\"white\",\"showbackground\":true,\"ticks\":\"\",\"zerolinecolor\":\"white\",\"gridwidth\":2},\"yaxis\":{\"backgroundcolor\":\"#E5ECF6\",\"gridcolor\":\"white\",\"linecolor\":\"white\",\"showbackground\":true,\"ticks\":\"\",\"zerolinecolor\":\"white\",\"gridwidth\":2},\"zaxis\":{\"backgroundcolor\":\"#E5ECF6\",\"gridcolor\":\"white\",\"linecolor\":\"white\",\"showbackground\":true,\"ticks\":\"\",\"zerolinecolor\":\"white\",\"gridwidth\":2}},\"shapedefaults\":{\"line\":{\"color\":\"#2a3f5f\"}},\"annotationdefaults\":{\"arrowcolor\":\"#2a3f5f\",\"arrowhead\":0,\"arrowwidth\":1},\"geo\":{\"bgcolor\":\"white\",\"landcolor\":\"#E5ECF6\",\"subunitcolor\":\"white\",\"showland\":true,\"showlakes\":true,\"lakecolor\":\"white\"},\"title\":{\"x\":0.05},\"mapbox\":{\"style\":\"light\"}}},\"title\":{\"text\":\"Verschillende voorkomende vormen van democratie in de wereld\"},\"xaxis\":{\"title\":{\"text\":\"Jaren\"}},\"yaxis\":{\"title\":{\"text\":\"Aantal landen\"}},\"annotations\":[{\"showarrow\":false,\"text\":\"Deze grafiek visualiseert hoeveel landen deel uit maken van elke categorie van democratie\",\"x\":0.5,\"xref\":\"paper\",\"y\":-0.25,\"yref\":\"paper\"}]},                        {\"responsive\": true}                    ).then(function(){\n",
       "                            \n",
       "var gd = document.getElementById('4b73d524-cb12-4a6b-9b58-7ebabb81cf1d');\n",
       "var x = new MutationObserver(function (mutations, observer) {{\n",
       "        var display = window.getComputedStyle(gd).display;\n",
       "        if (!display || display === 'none') {{\n",
       "            console.log([gd, 'removed!']);\n",
       "            Plotly.purge(gd);\n",
       "            observer.disconnect();\n",
       "        }}\n",
       "}});\n",
       "\n",
       "// Listen for the removal of the full notebook cells\n",
       "var notebookContainer = gd.closest('#notebook-container');\n",
       "if (notebookContainer) {{\n",
       "    x.observe(notebookContainer, {childList: true});\n",
       "}}\n",
       "\n",
       "// Listen for the clearing of the current output cell\n",
       "var outputEl = gd.closest('.output');\n",
       "if (outputEl) {{\n",
       "    x.observe(outputEl, {childList: true});\n",
       "}}\n",
       "\n",
       "                        })                };                });            </script>        </div>"
      ]
     },
     "metadata": {},
     "output_type": "display_data"
    }
   ],
   "source": [
    "barplot.update_layout(layout)\n",
    "##In de onderstaande afbeelding zijn de voorkomnde vormen van democratie in de wereld weergeven in aantallen. "
   ]
  },
  {
   "attachments": {},
   "cell_type": "markdown",
   "id": "4652b062",
   "metadata": {},
   "source": [
    "### Creëren van de uiteindelijke dataset\n",
    "\n",
    "Om een dataset te krijgen die de gegevens van de twee gevonden datasets combineert, moesten de variabelen op elkaar aan kunnen sluiten, dit is gedaan middels de merge functie van Pandas. Eerst werd de gecombineerde dataset opgesteld door de twee datasets samen te voegen op jaartal, waardoor de uiteindelijke dataset gegevens zou hebben van 2013 tot en met 2020 (m.u.v 2014). Daarnaast werden de datasets gecombineerd op land, aangezien beide datasets niet evenveel landen bevatten. Hiervoor moesten tevens de namen van een aantal landen aangepast worden, zodat deze universeel waren."
   ]
  },
  {
   "attachments": {},
   "cell_type": "markdown",
   "id": "82ee2c89",
   "metadata": {},
   "source": [
    "# Perspectieven\n",
    "\n",
    "Voor dit onderzoek zal er vanuit twee tegenovergestelde perspectieven bekeken worden naar de kwestie of er een verband bestaat tussen de mate van democratie en het algemene niveau van geluk binnen een land.\n",
    "\n",
    "Het eerste perspectief zal beargumenteren dat een hogere mate van democratie, ook zal leiden tot een hogere ervaring van geluk, met als hoofdargument dat democratie vanzelfsprekend positief is, en daardoor haar burgers positieve gevoelens mee te brengen door middel van de mogelijkheid van bevolkingsparticipatie en het gevoel dat de overheid naar haar burgers luistert.\n",
    "\n",
    "Het andere perspectief zal beargumenteren dat, los van de discussie of democratie een positieve of negatieve kracht is, geen primaire bron van geluk is voor de inwoners van een land. Het voornaamste argument voor dit perspectief zal zijn dat er veel dingen zijn die mensen geluk bezorgen, maar de mate van democratie niet één van de grootste is, en daardoor weinig overeen zal komen met metingen van geluk."
   ]
  },
  {
   "attachments": {},
   "cell_type": "markdown",
   "id": "a69d6373",
   "metadata": {},
   "source": [
    "# Observaties\n",
    "\n",
    "Om te ondervinden of er een correlatie bestaat tussen de mate van democratie en de mate van geluk in een land, is het belangrijk om te weten wat er geobserveerd moet worden. Om het onderzoek een schaal te geven die behandelbaar was, is er voor gekozen 3 metingen van democratie te selecteren. Voor elk van deze drie metingen wordt er gekeken naar drie landen. \n",
    "\n",
    "De Global State of Democracy Indices dataset bevat meer dan 160 verschillende metingen van democratie, deze metingen spannen over meerdere onderwerpen die bij elkaar een basis vormen die toe staat te monitoren hoe het met de democratie gesteld is in een land. Elke meting in de dataset is één voor één bekeken, en de bredere metingen met potentie werden genoteerd. Uiteindelijk zijn er drie geselecteerd die de hoofdonderwerpen goed vertegenwoordigen:\n",
    "\n",
    "<b>Origineel</b>: How routinely do public sector employees grant favours in exchange for bribes or other material inducements?\n",
    "<br><b>Nederlands</b>: Hoe vaak verlenen werknemers in de publieke sector gunsten in ruil voor omkopingen of andere materiële wensen?\n",
    "<br><b>Variabele</b>: V_41_01\n",
    "<br><b>Hoofdonderwerp</b>: Corruptie\n",
    "\n",
    "<b>Origineel</b>: Do poor people enjoy the same level of civil liberties as rich people do?\n",
    "<br><b>Nederlands</b>: Genieten arme mensen evenveel van burgerlijke vrijheden als rijke mensen?\n",
    "<br><b>Variabele</b>: V_23_01\n",
    "<br><b>Hoofdonderwerp</b>: Gelijkheid\n",
    "\n",
    "<b>Origineel</b>: Does the government directly or indirectly attempt to censor the print or broadcast media?\n",
    "<br><b>Nederlands</b>: Probeert de regering op directe of indirecte wijze de gedrukte of uitzendmedia te censureren?\n",
    "<br><b>Variabele</b>:V_22_01\n",
    "<br><b>Hoofdonderwerp</b>: Censuur\n",
    "\n",
    "De drie gekozen landen zijn gekozen om ieders twee verschillende variabelen te representeren; de mate van welvaart en de verandering van de happiness index. \n",
    "\n",
    "Ijsland is gekozen als centrumland met een stabiele happiness index\n",
    "\n",
    "Roemenië is gekozen als semi-periferisch land met een stijgende happiness index\n",
    "\n",
    "Venezuela is gekozen als periferisch land met een dalende happiness index"
   ]
  },
  {
   "cell_type": "code",
   "execution_count": 39,
   "id": "7455d8fa",
   "metadata": {},
   "outputs": [
    {
     "data": {
      "application/vnd.plotly.v1+json": {
       "config": {
        "plotlyServerURL": "https://plot.ly"
       },
       "data": [
        {
         "marker": {
          "color": "rgb(100,40,255)"
         },
         "mode": "lines",
         "name": "Iceland",
         "type": "scatter",
         "x": [
          2013,
          2015,
          2016,
          2017,
          2018,
          2019,
          2020
         ],
         "y": [
          7.355,
          7.561,
          7.501,
          7.504,
          7.494,
          7.554,
          7.504
         ]
        },
        {
         "marker": {
          "color": "rgb(102,194,165)"
         },
         "mode": "lines",
         "name": "Venezuela",
         "type": "scatter",
         "x": [
          2013,
          2015,
          2016,
          2017,
          2018,
          2019,
          2020
         ],
         "y": [
          7.039,
          6.81,
          6.084,
          5.25,
          4.806,
          4.707,
          5.053
         ]
        },
        {
         "marker": {
          "color": "rgb(252,141,98)"
         },
         "mode": "lines",
         "name": "Romania",
         "type": "scatter",
         "x": [
          2013,
          2015,
          2016,
          2017,
          2018,
          2019,
          2020
         ],
         "y": [
          5.033,
          5.124,
          5.528,
          5.825,
          5.945,
          6.07,
          6.124
         ]
        }
       ],
       "layout": {
        "annotations": [
         {
          "showarrow": false,
          "text": "Deze Grafiek toont de happiness index aan voor de drie gekozen landen",
          "x": 0.5,
          "xref": "paper",
          "y": -0.25,
          "yref": "paper"
         }
        ],
        "template": {
         "data": {
          "bar": [
           {
            "error_x": {
             "color": "#2a3f5f"
            },
            "error_y": {
             "color": "#2a3f5f"
            },
            "marker": {
             "line": {
              "color": "#E5ECF6",
              "width": 0.5
             },
             "pattern": {
              "fillmode": "overlay",
              "size": 10,
              "solidity": 0.2
             }
            },
            "type": "bar"
           }
          ],
          "barpolar": [
           {
            "marker": {
             "line": {
              "color": "#E5ECF6",
              "width": 0.5
             },
             "pattern": {
              "fillmode": "overlay",
              "size": 10,
              "solidity": 0.2
             }
            },
            "type": "barpolar"
           }
          ],
          "carpet": [
           {
            "aaxis": {
             "endlinecolor": "#2a3f5f",
             "gridcolor": "white",
             "linecolor": "white",
             "minorgridcolor": "white",
             "startlinecolor": "#2a3f5f"
            },
            "baxis": {
             "endlinecolor": "#2a3f5f",
             "gridcolor": "white",
             "linecolor": "white",
             "minorgridcolor": "white",
             "startlinecolor": "#2a3f5f"
            },
            "type": "carpet"
           }
          ],
          "choropleth": [
           {
            "colorbar": {
             "outlinewidth": 0,
             "ticks": ""
            },
            "type": "choropleth"
           }
          ],
          "contour": [
           {
            "colorbar": {
             "outlinewidth": 0,
             "ticks": ""
            },
            "colorscale": [
             [
              0,
              "#0d0887"
             ],
             [
              0.1111111111111111,
              "#46039f"
             ],
             [
              0.2222222222222222,
              "#7201a8"
             ],
             [
              0.3333333333333333,
              "#9c179e"
             ],
             [
              0.4444444444444444,
              "#bd3786"
             ],
             [
              0.5555555555555556,
              "#d8576b"
             ],
             [
              0.6666666666666666,
              "#ed7953"
             ],
             [
              0.7777777777777778,
              "#fb9f3a"
             ],
             [
              0.8888888888888888,
              "#fdca26"
             ],
             [
              1,
              "#f0f921"
             ]
            ],
            "type": "contour"
           }
          ],
          "contourcarpet": [
           {
            "colorbar": {
             "outlinewidth": 0,
             "ticks": ""
            },
            "type": "contourcarpet"
           }
          ],
          "heatmap": [
           {
            "colorbar": {
             "outlinewidth": 0,
             "ticks": ""
            },
            "colorscale": [
             [
              0,
              "#0d0887"
             ],
             [
              0.1111111111111111,
              "#46039f"
             ],
             [
              0.2222222222222222,
              "#7201a8"
             ],
             [
              0.3333333333333333,
              "#9c179e"
             ],
             [
              0.4444444444444444,
              "#bd3786"
             ],
             [
              0.5555555555555556,
              "#d8576b"
             ],
             [
              0.6666666666666666,
              "#ed7953"
             ],
             [
              0.7777777777777778,
              "#fb9f3a"
             ],
             [
              0.8888888888888888,
              "#fdca26"
             ],
             [
              1,
              "#f0f921"
             ]
            ],
            "type": "heatmap"
           }
          ],
          "heatmapgl": [
           {
            "colorbar": {
             "outlinewidth": 0,
             "ticks": ""
            },
            "colorscale": [
             [
              0,
              "#0d0887"
             ],
             [
              0.1111111111111111,
              "#46039f"
             ],
             [
              0.2222222222222222,
              "#7201a8"
             ],
             [
              0.3333333333333333,
              "#9c179e"
             ],
             [
              0.4444444444444444,
              "#bd3786"
             ],
             [
              0.5555555555555556,
              "#d8576b"
             ],
             [
              0.6666666666666666,
              "#ed7953"
             ],
             [
              0.7777777777777778,
              "#fb9f3a"
             ],
             [
              0.8888888888888888,
              "#fdca26"
             ],
             [
              1,
              "#f0f921"
             ]
            ],
            "type": "heatmapgl"
           }
          ],
          "histogram": [
           {
            "marker": {
             "pattern": {
              "fillmode": "overlay",
              "size": 10,
              "solidity": 0.2
             }
            },
            "type": "histogram"
           }
          ],
          "histogram2d": [
           {
            "colorbar": {
             "outlinewidth": 0,
             "ticks": ""
            },
            "colorscale": [
             [
              0,
              "#0d0887"
             ],
             [
              0.1111111111111111,
              "#46039f"
             ],
             [
              0.2222222222222222,
              "#7201a8"
             ],
             [
              0.3333333333333333,
              "#9c179e"
             ],
             [
              0.4444444444444444,
              "#bd3786"
             ],
             [
              0.5555555555555556,
              "#d8576b"
             ],
             [
              0.6666666666666666,
              "#ed7953"
             ],
             [
              0.7777777777777778,
              "#fb9f3a"
             ],
             [
              0.8888888888888888,
              "#fdca26"
             ],
             [
              1,
              "#f0f921"
             ]
            ],
            "type": "histogram2d"
           }
          ],
          "histogram2dcontour": [
           {
            "colorbar": {
             "outlinewidth": 0,
             "ticks": ""
            },
            "colorscale": [
             [
              0,
              "#0d0887"
             ],
             [
              0.1111111111111111,
              "#46039f"
             ],
             [
              0.2222222222222222,
              "#7201a8"
             ],
             [
              0.3333333333333333,
              "#9c179e"
             ],
             [
              0.4444444444444444,
              "#bd3786"
             ],
             [
              0.5555555555555556,
              "#d8576b"
             ],
             [
              0.6666666666666666,
              "#ed7953"
             ],
             [
              0.7777777777777778,
              "#fb9f3a"
             ],
             [
              0.8888888888888888,
              "#fdca26"
             ],
             [
              1,
              "#f0f921"
             ]
            ],
            "type": "histogram2dcontour"
           }
          ],
          "mesh3d": [
           {
            "colorbar": {
             "outlinewidth": 0,
             "ticks": ""
            },
            "type": "mesh3d"
           }
          ],
          "parcoords": [
           {
            "line": {
             "colorbar": {
              "outlinewidth": 0,
              "ticks": ""
             }
            },
            "type": "parcoords"
           }
          ],
          "pie": [
           {
            "automargin": true,
            "type": "pie"
           }
          ],
          "scatter": [
           {
            "fillpattern": {
             "fillmode": "overlay",
             "size": 10,
             "solidity": 0.2
            },
            "type": "scatter"
           }
          ],
          "scatter3d": [
           {
            "line": {
             "colorbar": {
              "outlinewidth": 0,
              "ticks": ""
             }
            },
            "marker": {
             "colorbar": {
              "outlinewidth": 0,
              "ticks": ""
             }
            },
            "type": "scatter3d"
           }
          ],
          "scattercarpet": [
           {
            "marker": {
             "colorbar": {
              "outlinewidth": 0,
              "ticks": ""
             }
            },
            "type": "scattercarpet"
           }
          ],
          "scattergeo": [
           {
            "marker": {
             "colorbar": {
              "outlinewidth": 0,
              "ticks": ""
             }
            },
            "type": "scattergeo"
           }
          ],
          "scattergl": [
           {
            "marker": {
             "colorbar": {
              "outlinewidth": 0,
              "ticks": ""
             }
            },
            "type": "scattergl"
           }
          ],
          "scattermapbox": [
           {
            "marker": {
             "colorbar": {
              "outlinewidth": 0,
              "ticks": ""
             }
            },
            "type": "scattermapbox"
           }
          ],
          "scatterpolar": [
           {
            "marker": {
             "colorbar": {
              "outlinewidth": 0,
              "ticks": ""
             }
            },
            "type": "scatterpolar"
           }
          ],
          "scatterpolargl": [
           {
            "marker": {
             "colorbar": {
              "outlinewidth": 0,
              "ticks": ""
             }
            },
            "type": "scatterpolargl"
           }
          ],
          "scatterternary": [
           {
            "marker": {
             "colorbar": {
              "outlinewidth": 0,
              "ticks": ""
             }
            },
            "type": "scatterternary"
           }
          ],
          "surface": [
           {
            "colorbar": {
             "outlinewidth": 0,
             "ticks": ""
            },
            "colorscale": [
             [
              0,
              "#0d0887"
             ],
             [
              0.1111111111111111,
              "#46039f"
             ],
             [
              0.2222222222222222,
              "#7201a8"
             ],
             [
              0.3333333333333333,
              "#9c179e"
             ],
             [
              0.4444444444444444,
              "#bd3786"
             ],
             [
              0.5555555555555556,
              "#d8576b"
             ],
             [
              0.6666666666666666,
              "#ed7953"
             ],
             [
              0.7777777777777778,
              "#fb9f3a"
             ],
             [
              0.8888888888888888,
              "#fdca26"
             ],
             [
              1,
              "#f0f921"
             ]
            ],
            "type": "surface"
           }
          ],
          "table": [
           {
            "cells": {
             "fill": {
              "color": "#EBF0F8"
             },
             "line": {
              "color": "white"
             }
            },
            "header": {
             "fill": {
              "color": "#C8D4E3"
             },
             "line": {
              "color": "white"
             }
            },
            "type": "table"
           }
          ]
         },
         "layout": {
          "annotationdefaults": {
           "arrowcolor": "#2a3f5f",
           "arrowhead": 0,
           "arrowwidth": 1
          },
          "autotypenumbers": "strict",
          "coloraxis": {
           "colorbar": {
            "outlinewidth": 0,
            "ticks": ""
           }
          },
          "colorscale": {
           "diverging": [
            [
             0,
             "#8e0152"
            ],
            [
             0.1,
             "#c51b7d"
            ],
            [
             0.2,
             "#de77ae"
            ],
            [
             0.3,
             "#f1b6da"
            ],
            [
             0.4,
             "#fde0ef"
            ],
            [
             0.5,
             "#f7f7f7"
            ],
            [
             0.6,
             "#e6f5d0"
            ],
            [
             0.7,
             "#b8e186"
            ],
            [
             0.8,
             "#7fbc41"
            ],
            [
             0.9,
             "#4d9221"
            ],
            [
             1,
             "#276419"
            ]
           ],
           "sequential": [
            [
             0,
             "#0d0887"
            ],
            [
             0.1111111111111111,
             "#46039f"
            ],
            [
             0.2222222222222222,
             "#7201a8"
            ],
            [
             0.3333333333333333,
             "#9c179e"
            ],
            [
             0.4444444444444444,
             "#bd3786"
            ],
            [
             0.5555555555555556,
             "#d8576b"
            ],
            [
             0.6666666666666666,
             "#ed7953"
            ],
            [
             0.7777777777777778,
             "#fb9f3a"
            ],
            [
             0.8888888888888888,
             "#fdca26"
            ],
            [
             1,
             "#f0f921"
            ]
           ],
           "sequentialminus": [
            [
             0,
             "#0d0887"
            ],
            [
             0.1111111111111111,
             "#46039f"
            ],
            [
             0.2222222222222222,
             "#7201a8"
            ],
            [
             0.3333333333333333,
             "#9c179e"
            ],
            [
             0.4444444444444444,
             "#bd3786"
            ],
            [
             0.5555555555555556,
             "#d8576b"
            ],
            [
             0.6666666666666666,
             "#ed7953"
            ],
            [
             0.7777777777777778,
             "#fb9f3a"
            ],
            [
             0.8888888888888888,
             "#fdca26"
            ],
            [
             1,
             "#f0f921"
            ]
           ]
          },
          "colorway": [
           "#636efa",
           "#EF553B",
           "#00cc96",
           "#ab63fa",
           "#FFA15A",
           "#19d3f3",
           "#FF6692",
           "#B6E880",
           "#FF97FF",
           "#FECB52"
          ],
          "font": {
           "color": "#2a3f5f"
          },
          "geo": {
           "bgcolor": "white",
           "lakecolor": "white",
           "landcolor": "#E5ECF6",
           "showlakes": true,
           "showland": true,
           "subunitcolor": "white"
          },
          "hoverlabel": {
           "align": "left"
          },
          "hovermode": "closest",
          "mapbox": {
           "style": "light"
          },
          "paper_bgcolor": "white",
          "plot_bgcolor": "#E5ECF6",
          "polar": {
           "angularaxis": {
            "gridcolor": "white",
            "linecolor": "white",
            "ticks": ""
           },
           "bgcolor": "#E5ECF6",
           "radialaxis": {
            "gridcolor": "white",
            "linecolor": "white",
            "ticks": ""
           }
          },
          "scene": {
           "xaxis": {
            "backgroundcolor": "#E5ECF6",
            "gridcolor": "white",
            "gridwidth": 2,
            "linecolor": "white",
            "showbackground": true,
            "ticks": "",
            "zerolinecolor": "white"
           },
           "yaxis": {
            "backgroundcolor": "#E5ECF6",
            "gridcolor": "white",
            "gridwidth": 2,
            "linecolor": "white",
            "showbackground": true,
            "ticks": "",
            "zerolinecolor": "white"
           },
           "zaxis": {
            "backgroundcolor": "#E5ECF6",
            "gridcolor": "white",
            "gridwidth": 2,
            "linecolor": "white",
            "showbackground": true,
            "ticks": "",
            "zerolinecolor": "white"
           }
          },
          "shapedefaults": {
           "line": {
            "color": "#2a3f5f"
           }
          },
          "ternary": {
           "aaxis": {
            "gridcolor": "white",
            "linecolor": "white",
            "ticks": ""
           },
           "baxis": {
            "gridcolor": "white",
            "linecolor": "white",
            "ticks": ""
           },
           "bgcolor": "#E5ECF6",
           "caxis": {
            "gridcolor": "white",
            "linecolor": "white",
            "ticks": ""
           }
          },
          "title": {
           "x": 0.05
          },
          "xaxis": {
           "automargin": true,
           "gridcolor": "white",
           "linecolor": "white",
           "ticks": "",
           "title": {
            "standoff": 15
           },
           "zerolinecolor": "white",
           "zerolinewidth": 2
          },
          "yaxis": {
           "automargin": true,
           "gridcolor": "white",
           "linecolor": "white",
           "ticks": "",
           "title": {
            "standoff": 15
           },
           "zerolinecolor": "white",
           "zerolinewidth": 2
          }
         }
        },
        "title": {
         "font": {
          "size": 13
         },
         "text": "Happiness index voor Ijsland, Venezuela en Roemenië"
        },
        "xaxis": {
         "title": {
          "text": "Jaar"
         }
        },
        "yaxis": {
         "title": {
          "text": "Happiness Index"
         }
        }
       }
      },
      "text/html": [
       "<div>                            <div id=\"bd47115f-5f73-4650-a145-c18ef254987d\" class=\"plotly-graph-div\" style=\"height:525px; width:100%;\"></div>            <script type=\"text/javascript\">                require([\"plotly\"], function(Plotly) {                    window.PLOTLYENV=window.PLOTLYENV || {};                                    if (document.getElementById(\"bd47115f-5f73-4650-a145-c18ef254987d\")) {                    Plotly.newPlot(                        \"bd47115f-5f73-4650-a145-c18ef254987d\",                        [{\"marker\":{\"color\":\"rgb(100,40,255)\"},\"mode\":\"lines\",\"name\":\"Iceland\",\"x\":[2013,2015,2016,2017,2018,2019,2020],\"y\":[7.355,7.561,7.501,7.504,7.494,7.554,7.504],\"type\":\"scatter\"},{\"marker\":{\"color\":\"rgb(102,194,165)\"},\"mode\":\"lines\",\"name\":\"Venezuela\",\"x\":[2013,2015,2016,2017,2018,2019,2020],\"y\":[7.039,6.81,6.084,5.25,4.806,4.707,5.053],\"type\":\"scatter\"},{\"marker\":{\"color\":\"rgb(252,141,98)\"},\"mode\":\"lines\",\"name\":\"Romania\",\"x\":[2013,2015,2016,2017,2018,2019,2020],\"y\":[5.033,5.124,5.528,5.825,5.945,6.07,6.124],\"type\":\"scatter\"}],                        {\"template\":{\"data\":{\"histogram2dcontour\":[{\"type\":\"histogram2dcontour\",\"colorbar\":{\"outlinewidth\":0,\"ticks\":\"\"},\"colorscale\":[[0.0,\"#0d0887\"],[0.1111111111111111,\"#46039f\"],[0.2222222222222222,\"#7201a8\"],[0.3333333333333333,\"#9c179e\"],[0.4444444444444444,\"#bd3786\"],[0.5555555555555556,\"#d8576b\"],[0.6666666666666666,\"#ed7953\"],[0.7777777777777778,\"#fb9f3a\"],[0.8888888888888888,\"#fdca26\"],[1.0,\"#f0f921\"]]}],\"choropleth\":[{\"type\":\"choropleth\",\"colorbar\":{\"outlinewidth\":0,\"ticks\":\"\"}}],\"histogram2d\":[{\"type\":\"histogram2d\",\"colorbar\":{\"outlinewidth\":0,\"ticks\":\"\"},\"colorscale\":[[0.0,\"#0d0887\"],[0.1111111111111111,\"#46039f\"],[0.2222222222222222,\"#7201a8\"],[0.3333333333333333,\"#9c179e\"],[0.4444444444444444,\"#bd3786\"],[0.5555555555555556,\"#d8576b\"],[0.6666666666666666,\"#ed7953\"],[0.7777777777777778,\"#fb9f3a\"],[0.8888888888888888,\"#fdca26\"],[1.0,\"#f0f921\"]]}],\"heatmap\":[{\"type\":\"heatmap\",\"colorbar\":{\"outlinewidth\":0,\"ticks\":\"\"},\"colorscale\":[[0.0,\"#0d0887\"],[0.1111111111111111,\"#46039f\"],[0.2222222222222222,\"#7201a8\"],[0.3333333333333333,\"#9c179e\"],[0.4444444444444444,\"#bd3786\"],[0.5555555555555556,\"#d8576b\"],[0.6666666666666666,\"#ed7953\"],[0.7777777777777778,\"#fb9f3a\"],[0.8888888888888888,\"#fdca26\"],[1.0,\"#f0f921\"]]}],\"heatmapgl\":[{\"type\":\"heatmapgl\",\"colorbar\":{\"outlinewidth\":0,\"ticks\":\"\"},\"colorscale\":[[0.0,\"#0d0887\"],[0.1111111111111111,\"#46039f\"],[0.2222222222222222,\"#7201a8\"],[0.3333333333333333,\"#9c179e\"],[0.4444444444444444,\"#bd3786\"],[0.5555555555555556,\"#d8576b\"],[0.6666666666666666,\"#ed7953\"],[0.7777777777777778,\"#fb9f3a\"],[0.8888888888888888,\"#fdca26\"],[1.0,\"#f0f921\"]]}],\"contourcarpet\":[{\"type\":\"contourcarpet\",\"colorbar\":{\"outlinewidth\":0,\"ticks\":\"\"}}],\"contour\":[{\"type\":\"contour\",\"colorbar\":{\"outlinewidth\":0,\"ticks\":\"\"},\"colorscale\":[[0.0,\"#0d0887\"],[0.1111111111111111,\"#46039f\"],[0.2222222222222222,\"#7201a8\"],[0.3333333333333333,\"#9c179e\"],[0.4444444444444444,\"#bd3786\"],[0.5555555555555556,\"#d8576b\"],[0.6666666666666666,\"#ed7953\"],[0.7777777777777778,\"#fb9f3a\"],[0.8888888888888888,\"#fdca26\"],[1.0,\"#f0f921\"]]}],\"surface\":[{\"type\":\"surface\",\"colorbar\":{\"outlinewidth\":0,\"ticks\":\"\"},\"colorscale\":[[0.0,\"#0d0887\"],[0.1111111111111111,\"#46039f\"],[0.2222222222222222,\"#7201a8\"],[0.3333333333333333,\"#9c179e\"],[0.4444444444444444,\"#bd3786\"],[0.5555555555555556,\"#d8576b\"],[0.6666666666666666,\"#ed7953\"],[0.7777777777777778,\"#fb9f3a\"],[0.8888888888888888,\"#fdca26\"],[1.0,\"#f0f921\"]]}],\"mesh3d\":[{\"type\":\"mesh3d\",\"colorbar\":{\"outlinewidth\":0,\"ticks\":\"\"}}],\"scatter\":[{\"fillpattern\":{\"fillmode\":\"overlay\",\"size\":10,\"solidity\":0.2},\"type\":\"scatter\"}],\"parcoords\":[{\"type\":\"parcoords\",\"line\":{\"colorbar\":{\"outlinewidth\":0,\"ticks\":\"\"}}}],\"scatterpolargl\":[{\"type\":\"scatterpolargl\",\"marker\":{\"colorbar\":{\"outlinewidth\":0,\"ticks\":\"\"}}}],\"bar\":[{\"error_x\":{\"color\":\"#2a3f5f\"},\"error_y\":{\"color\":\"#2a3f5f\"},\"marker\":{\"line\":{\"color\":\"#E5ECF6\",\"width\":0.5},\"pattern\":{\"fillmode\":\"overlay\",\"size\":10,\"solidity\":0.2}},\"type\":\"bar\"}],\"scattergeo\":[{\"type\":\"scattergeo\",\"marker\":{\"colorbar\":{\"outlinewidth\":0,\"ticks\":\"\"}}}],\"scatterpolar\":[{\"type\":\"scatterpolar\",\"marker\":{\"colorbar\":{\"outlinewidth\":0,\"ticks\":\"\"}}}],\"histogram\":[{\"marker\":{\"pattern\":{\"fillmode\":\"overlay\",\"size\":10,\"solidity\":0.2}},\"type\":\"histogram\"}],\"scattergl\":[{\"type\":\"scattergl\",\"marker\":{\"colorbar\":{\"outlinewidth\":0,\"ticks\":\"\"}}}],\"scatter3d\":[{\"type\":\"scatter3d\",\"line\":{\"colorbar\":{\"outlinewidth\":0,\"ticks\":\"\"}},\"marker\":{\"colorbar\":{\"outlinewidth\":0,\"ticks\":\"\"}}}],\"scattermapbox\":[{\"type\":\"scattermapbox\",\"marker\":{\"colorbar\":{\"outlinewidth\":0,\"ticks\":\"\"}}}],\"scatterternary\":[{\"type\":\"scatterternary\",\"marker\":{\"colorbar\":{\"outlinewidth\":0,\"ticks\":\"\"}}}],\"scattercarpet\":[{\"type\":\"scattercarpet\",\"marker\":{\"colorbar\":{\"outlinewidth\":0,\"ticks\":\"\"}}}],\"carpet\":[{\"aaxis\":{\"endlinecolor\":\"#2a3f5f\",\"gridcolor\":\"white\",\"linecolor\":\"white\",\"minorgridcolor\":\"white\",\"startlinecolor\":\"#2a3f5f\"},\"baxis\":{\"endlinecolor\":\"#2a3f5f\",\"gridcolor\":\"white\",\"linecolor\":\"white\",\"minorgridcolor\":\"white\",\"startlinecolor\":\"#2a3f5f\"},\"type\":\"carpet\"}],\"table\":[{\"cells\":{\"fill\":{\"color\":\"#EBF0F8\"},\"line\":{\"color\":\"white\"}},\"header\":{\"fill\":{\"color\":\"#C8D4E3\"},\"line\":{\"color\":\"white\"}},\"type\":\"table\"}],\"barpolar\":[{\"marker\":{\"line\":{\"color\":\"#E5ECF6\",\"width\":0.5},\"pattern\":{\"fillmode\":\"overlay\",\"size\":10,\"solidity\":0.2}},\"type\":\"barpolar\"}],\"pie\":[{\"automargin\":true,\"type\":\"pie\"}]},\"layout\":{\"autotypenumbers\":\"strict\",\"colorway\":[\"#636efa\",\"#EF553B\",\"#00cc96\",\"#ab63fa\",\"#FFA15A\",\"#19d3f3\",\"#FF6692\",\"#B6E880\",\"#FF97FF\",\"#FECB52\"],\"font\":{\"color\":\"#2a3f5f\"},\"hovermode\":\"closest\",\"hoverlabel\":{\"align\":\"left\"},\"paper_bgcolor\":\"white\",\"plot_bgcolor\":\"#E5ECF6\",\"polar\":{\"bgcolor\":\"#E5ECF6\",\"angularaxis\":{\"gridcolor\":\"white\",\"linecolor\":\"white\",\"ticks\":\"\"},\"radialaxis\":{\"gridcolor\":\"white\",\"linecolor\":\"white\",\"ticks\":\"\"}},\"ternary\":{\"bgcolor\":\"#E5ECF6\",\"aaxis\":{\"gridcolor\":\"white\",\"linecolor\":\"white\",\"ticks\":\"\"},\"baxis\":{\"gridcolor\":\"white\",\"linecolor\":\"white\",\"ticks\":\"\"},\"caxis\":{\"gridcolor\":\"white\",\"linecolor\":\"white\",\"ticks\":\"\"}},\"coloraxis\":{\"colorbar\":{\"outlinewidth\":0,\"ticks\":\"\"}},\"colorscale\":{\"sequential\":[[0.0,\"#0d0887\"],[0.1111111111111111,\"#46039f\"],[0.2222222222222222,\"#7201a8\"],[0.3333333333333333,\"#9c179e\"],[0.4444444444444444,\"#bd3786\"],[0.5555555555555556,\"#d8576b\"],[0.6666666666666666,\"#ed7953\"],[0.7777777777777778,\"#fb9f3a\"],[0.8888888888888888,\"#fdca26\"],[1.0,\"#f0f921\"]],\"sequentialminus\":[[0.0,\"#0d0887\"],[0.1111111111111111,\"#46039f\"],[0.2222222222222222,\"#7201a8\"],[0.3333333333333333,\"#9c179e\"],[0.4444444444444444,\"#bd3786\"],[0.5555555555555556,\"#d8576b\"],[0.6666666666666666,\"#ed7953\"],[0.7777777777777778,\"#fb9f3a\"],[0.8888888888888888,\"#fdca26\"],[1.0,\"#f0f921\"]],\"diverging\":[[0,\"#8e0152\"],[0.1,\"#c51b7d\"],[0.2,\"#de77ae\"],[0.3,\"#f1b6da\"],[0.4,\"#fde0ef\"],[0.5,\"#f7f7f7\"],[0.6,\"#e6f5d0\"],[0.7,\"#b8e186\"],[0.8,\"#7fbc41\"],[0.9,\"#4d9221\"],[1,\"#276419\"]]},\"xaxis\":{\"gridcolor\":\"white\",\"linecolor\":\"white\",\"ticks\":\"\",\"title\":{\"standoff\":15},\"zerolinecolor\":\"white\",\"automargin\":true,\"zerolinewidth\":2},\"yaxis\":{\"gridcolor\":\"white\",\"linecolor\":\"white\",\"ticks\":\"\",\"title\":{\"standoff\":15},\"zerolinecolor\":\"white\",\"automargin\":true,\"zerolinewidth\":2},\"scene\":{\"xaxis\":{\"backgroundcolor\":\"#E5ECF6\",\"gridcolor\":\"white\",\"linecolor\":\"white\",\"showbackground\":true,\"ticks\":\"\",\"zerolinecolor\":\"white\",\"gridwidth\":2},\"yaxis\":{\"backgroundcolor\":\"#E5ECF6\",\"gridcolor\":\"white\",\"linecolor\":\"white\",\"showbackground\":true,\"ticks\":\"\",\"zerolinecolor\":\"white\",\"gridwidth\":2},\"zaxis\":{\"backgroundcolor\":\"#E5ECF6\",\"gridcolor\":\"white\",\"linecolor\":\"white\",\"showbackground\":true,\"ticks\":\"\",\"zerolinecolor\":\"white\",\"gridwidth\":2}},\"shapedefaults\":{\"line\":{\"color\":\"#2a3f5f\"}},\"annotationdefaults\":{\"arrowcolor\":\"#2a3f5f\",\"arrowhead\":0,\"arrowwidth\":1},\"geo\":{\"bgcolor\":\"white\",\"landcolor\":\"#E5ECF6\",\"subunitcolor\":\"white\",\"showland\":true,\"showlakes\":true,\"lakecolor\":\"white\"},\"title\":{\"x\":0.05},\"mapbox\":{\"style\":\"light\"}}},\"title\":{\"text\":\"Happiness index voor Ijsland, Venezuela en Roemeni\\u00eb\",\"font\":{\"size\":13}},\"xaxis\":{\"title\":{\"text\":\"Jaar\"}},\"yaxis\":{\"title\":{\"text\":\"Happiness Index\"}},\"annotations\":[{\"showarrow\":false,\"text\":\"Deze Grafiek toont de happiness index aan voor de drie gekozen landen\",\"x\":0.5,\"xref\":\"paper\",\"y\":-0.25,\"yref\":\"paper\"}]},                        {\"responsive\": true}                    ).then(function(){\n",
       "                            \n",
       "var gd = document.getElementById('bd47115f-5f73-4650-a145-c18ef254987d');\n",
       "var x = new MutationObserver(function (mutations, observer) {{\n",
       "        var display = window.getComputedStyle(gd).display;\n",
       "        if (!display || display === 'none') {{\n",
       "            console.log([gd, 'removed!']);\n",
       "            Plotly.purge(gd);\n",
       "            observer.disconnect();\n",
       "        }}\n",
       "}});\n",
       "\n",
       "// Listen for the removal of the full notebook cells\n",
       "var notebookContainer = gd.closest('#notebook-container');\n",
       "if (notebookContainer) {{\n",
       "    x.observe(notebookContainer, {childList: true});\n",
       "}}\n",
       "\n",
       "// Listen for the clearing of the current output cell\n",
       "var outputEl = gd.closest('.output');\n",
       "if (outputEl) {{\n",
       "    x.observe(outputEl, {childList: true});\n",
       "}}\n",
       "\n",
       "                        })                };                });            </script>        </div>"
      ]
     },
     "metadata": {},
     "output_type": "display_data"
    }
   ],
   "source": [
    "fig_widget4.show()"
   ]
  },
  {
   "attachments": {},
   "cell_type": "markdown",
   "id": "5300333e",
   "metadata": {},
   "source": [
    "### Belangrijke opmerkingen met betrekking tot de verwerkte data\n",
    "\n",
    "Er is geen data voor het jaar 2014, dit is vanwege het feit dat er in dat jaar geen World Happiness Report is geschreven door de VN. \n",
    "\n",
    "De score voor de Democracy Indices is op een schaal van 0 tot 1, met 0 als slechtst mogelijke situatie, en 1 de best mogelijke situatie. De score van de happiness index staan op een schaal van 0 tot 10, met 0 als slechtst mogelijke situatie en 10 als best mogelijke situatie. Om de scores makkelijk te kunnen vergelijken zijn de waardes van de democracy indices vermedigvuldigt met een factor van 10."
   ]
  },
  {
   "cell_type": "code",
   "execution_count": 40,
   "id": "61085e0d",
   "metadata": {},
   "outputs": [
    {
     "data": {
      "application/vnd.jupyter.widget-view+json": {
       "model_id": "00855d7ab8ce4d6184e601f801ba537c",
       "version_major": 2,
       "version_minor": 0
      },
      "text/plain": [
       "VBox(children=(Dropdown(description='Land:', options=('Iceland', 'Venezuela', 'Romania'), value='Iceland'),))"
      ]
     },
     "metadata": {},
     "output_type": "display_data"
    },
    {
     "data": {
      "application/vnd.jupyter.widget-view+json": {
       "model_id": "69b0f36544d249cbb0f10b242e2742c7",
       "version_major": 2,
       "version_minor": 0
      },
      "text/plain": [
       "FigureWidget({\n",
       "    'data': [],\n",
       "    'layout': {'annotations': [{'showarrow': False,\n",
       "                           …"
      ]
     },
     "metadata": {},
     "output_type": "display_data"
    }
   ],
   "source": [
    "display(container, fig_widget)\n"
   ]
  },
  {
   "attachments": {},
   "cell_type": "markdown",
   "id": "11e41de2",
   "metadata": {},
   "source": [
    "## Analyse van stelling: Corruptie\n",
    "\n",
    "Bovenstaande grafiek visualiseert de happiness index met de stelling: 'Hoe vaak verlenen werknemers in de publieke sector gunsten in ruil voor omkopingen of andere materiële wensen?'. IJsland scoort relatief erg hoog met betrekking tot de stelling. Werknemers worden dus relatief weinig omgekocht, dit heeft een positieve invloed op de democracy index. Ook is te zien dat de score van IJsland niet fluctueert, waaruit ook blijkt dat het land een sterke democratie is. De happiness index van IJsland is ook relatief sterk, deze schommelt rond de 7.5. \n",
    "\n",
    "Venezuela toont een geheel andere grafiek. De score m.b.t. de stelling is extreem laag. In 2013 scoort het land nog rond de 1, maar dit zakt al snel af richting 0.2. Dit gebeurt in 2015. In datzelfde jaar neemt ook de happiness index af. De Pearson Correlation Coefficient (PCC) tussen de twee scores is 0.788. Er is dus een correlatie. \n",
    "\n",
    "Roemenië heeft een stijgende happiness index. Het land wordt gedurende de jaren blijer. Van 2016-2017 is er een flinke daling te zien in de score m.b.t. de stelling. De lage PCC van 0.180 zegt echter dat er geen verband is tussen de twee."
   ]
  },
  {
   "cell_type": "code",
   "execution_count": 41,
   "id": "68a651f6",
   "metadata": {},
   "outputs": [
    {
     "data": {
      "application/vnd.jupyter.widget-view+json": {
       "model_id": "2984c8d3fde94337a8bc6b7149247e06",
       "version_major": 2,
       "version_minor": 0
      },
      "text/plain": [
       "VBox(children=(Dropdown(description='Land:', options=('Iceland', 'Venezuela', 'Romania'), value='Iceland'),))"
      ]
     },
     "metadata": {},
     "output_type": "display_data"
    },
    {
     "data": {
      "application/vnd.jupyter.widget-view+json": {
       "model_id": "f0debdef30f3463e9ab1829f143fda91",
       "version_major": 2,
       "version_minor": 0
      },
      "text/plain": [
       "FigureWidget({\n",
       "    'data': [],\n",
       "    'layout': {'annotations': [{'showarrow': False,\n",
       "                           …"
      ]
     },
     "metadata": {},
     "output_type": "display_data"
    }
   ],
   "source": [
    "display(container2, fig_widget2)\n"
   ]
  },
  {
   "attachments": {},
   "cell_type": "markdown",
   "id": "7aab7a6b",
   "metadata": {},
   "source": [
    "## Analyse van stelling: Gelijkheid\n",
    "\n",
    "De tweede stelling luidt: 'Genieten arme mensen evenveel van burgerlijke vrijheden als rijke mensen?'. IJsland weergeeft direct een interessante visualisatie. De score m.b.t. tot de stelling daalt aanzienlijk. Dit heeft dan weer geen gevolg op de happiness index. Dit blijkt echter niet uit de PCC van -0.77. \n",
    "\n",
    "De score m.b.t. de stelling van Venezuela fluctueert lichtelijk. De lichte daling loopt relatief gelijk met de sterkere daling van de happiness index van een 7 naar een 5. Dit blijkt ook uit de PCC van 0.83. \n",
    "\n",
    "Roemenië scoort relatief hoog m.b.t. de stelling, rond de 7.6. Vanaf 2017 gaat deze echter fluctueren. Er vindt een daling plaats, waarna deze weer redelijk wordt gecorrigeerd. De happiness index stijgt vanaf 2015."
   ]
  },
  {
   "cell_type": "code",
   "execution_count": 42,
   "id": "09b6ed4f",
   "metadata": {},
   "outputs": [
    {
     "data": {
      "application/vnd.jupyter.widget-view+json": {
       "model_id": "720fdf8830ed40728207d81d795e7998",
       "version_major": 2,
       "version_minor": 0
      },
      "text/plain": [
       "VBox(children=(Dropdown(description='Land:', options=('Iceland', 'Venezuela', 'Romania'), value='Iceland'),))"
      ]
     },
     "metadata": {},
     "output_type": "display_data"
    },
    {
     "data": {
      "application/vnd.jupyter.widget-view+json": {
       "model_id": "75ebaffdf44e49a7acfcd1fabaa77644",
       "version_major": 2,
       "version_minor": 0
      },
      "text/plain": [
       "FigureWidget({\n",
       "    'data': [],\n",
       "    'layout': {'annotations': [{'showarrow': False,\n",
       "                           …"
      ]
     },
     "metadata": {},
     "output_type": "display_data"
    }
   ],
   "source": [
    "display(container3, fig_widget3)\n"
   ]
  },
  {
   "attachments": {},
   "cell_type": "markdown",
   "id": "1acf7631",
   "metadata": {},
   "source": [
    "## Analyse van stelling: Censuur\n",
    "\n",
    "De derde stelling luidt: 'Probeert de regering op directe of indirecte wijze de gedrukte of uitzendmedia te censureren?' In IJsland zien we een forse stijging in 2016-2017, los van deze stijging blijft de score stabiel. De happiness index wordt hier vrijwel niet door beinvloedt, wat ook blijkt uit de lage PCC van 0.33. \n",
    "\n",
    "Venezuela scoort relatief laag m.b.t. de stelling. Media in het land wordt dus veel gecensureerd. De score daalt gedurende de jaren, net als de happiness index. De PCC is dan ook 0.83. \n",
    "\n",
    "De score van Romenië fluctueert het meest. De scores wijken uit van 8.2 tot 5.5. De happiness index wordt hierdoor niet beïnvloed. Deze toont een gelijdelijke stijging."
   ]
  },
  {
   "attachments": {},
   "cell_type": "markdown",
   "id": "8cd98d93",
   "metadata": {},
   "source": [
    "# Conclusies\n",
    "\n",
    "### Verband Aanwezig\n",
    "\n",
    "Als we kijken naar de data over Venezuela, zouden we kunnen zeggen dat er zeker een verband is tussen de mate van democratie en ervaring van geluk. Als de happiness index afneemt, nemen de scores voor de drie stellingen onder de streep ook af. Soms vindt er nog een lichte stijging plaats, maar uiteindelijk eindigt deze altijd lager. De drie PCC’s m.b.t. Venezuela zeggen hetzelfde. Deze liggen alledrie rond de 0.80, wat zegt dat er een grote correlatie is tussen de twee datasets. In Venezuela gebeurt in het land de afgelopen tijd veel. Er is veel corruptie en inflatie. Dit heeft natuurlijk ook invloed op zowel de mate van democratie als de ervaring van geluk. Hierdoor wordt de conclusie dus nog meer bevestigd en hierdoor is deze data het meest waardevol voor dit perspectief.\n",
    "\n",
    "\n",
    "### Verband Afwezig\n",
    "\n",
    "Toch zou je ook kunnen stellen dat er geen verband is tussen de democracy index en de happiness index. Geluk en democratie zijn beide ingewikkelde, subjectieve maatstaven die lastig te meten zijn. Daarnaast kunnen er andere variabelen en invloeden zijn die van invloed zijn op geluk en democratie, maar niet in de gebruikte data zijn weergegeven. Sociale, economische, culturele en historische factoren kunnen allemaal een rol spelen bij het bepalen van het niveau van geluk en de staat van democratie in een land."
   ]
  },
  {
   "attachments": {},
   "cell_type": "markdown",
   "id": "d0b0a63d",
   "metadata": {},
   "source": [
    "## Reflectie  \n",
    "\n",
    "De feedback die we hebben ontvangen was een beetje verwarrend, voornamelijk omdat we op dat moment nog niet klaar waren met onze Draft. Daarom kon het groepje dat ons feedback gaf, ook geen volledig nauwkeurige feedback geven. Echter kregen we wel een aantal positieve aspecten over onze conceptversie te horen van zowel het groepje als de TA. De TA adviseerde ons verder om minder algemene visualisaties te gebruiken en meer onderbouwende visualisaties te presenteren (omtrent de voor en tegen argumenten). We hebben geprobeerd dit advies te reflecteren in de grafieken die hierboven staan."
   ]
  },
  {
   "attachments": {},
   "cell_type": "markdown",
   "id": "a3d26173",
   "metadata": {},
   "source": [
    "## Werkverdeling\n",
    "\n",
    "Bryan: Meeste van het coderen gedaan om dingen werkend te krijgen, heeft het fundament van de uiteindelijke code grotendeels geschreven. Kwam met het idee voor een wereldkaart als visualisatie en heeft deze zelf werkend gekregen, Schreef ook de reflectie.\n",
    "\n",
    "Mike: Verantwoordelijk geweest voor het vinden van de uiteindelijk datasets, heeft de Democracy Indices dataset zelfstandig geanalyseerd en de stellingen gevonden voor analyse. Verantwoordelijk geweest voor het samenvoegen van de uiteindelijke onderdelen tot de ingeleverde Notebook. Schreef “Datasets and preprocessing”, “Creëren van de uiteindelijke dataset”, “Perspectieven” en “Observaties”.\n",
    "\n",
    "Daniel: Mijn bijdrage aan onze data story is het helpen met vinden van onze datasets, het schrijven van de inleiding, het schrijven van de omschrijvingen van de figuren van de stellingen, en het schrijven van de conclusie. Ook hebben we met z’n drieeën veel gespard over onze datasets, observaties, en conclusies. In een werkcollege heb ik met behulp van een TA onze GitHub link werkend gekregen."
   ]
  }
 ],
 "metadata": {
  "celltoolbar": "Raw-celnotatie",
  "hide_input": false,
  "kernelspec": {
   "display_name": "Python 3 (ipykernel)",
   "language": "python",
   "name": "python3"
  },
  "language_info": {
   "codemirror_mode": {
    "name": "ipython",
    "version": 3
   },
   "file_extension": ".py",
   "mimetype": "text/x-python",
   "name": "python",
   "nbconvert_exporter": "python",
   "pygments_lexer": "ipython3",
   "version": "3.9.13"
  }
 },
 "nbformat": 4,
 "nbformat_minor": 5
}
